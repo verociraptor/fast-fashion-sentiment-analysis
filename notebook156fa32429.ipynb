{
 "cells": [
  {
   "cell_type": "code",
   "execution_count": 1,
   "metadata": {
    "execution": {
     "iopub.execute_input": "2022-04-20T20:55:37.485354Z",
     "iopub.status.busy": "2022-04-20T20:55:37.485014Z",
     "iopub.status.idle": "2022-04-20T20:55:39.892369Z",
     "shell.execute_reply": "2022-04-20T20:55:39.891458Z",
     "shell.execute_reply.started": "2022-04-20T20:55:37.485268Z"
    }
   },
   "outputs": [
    {
     "name": "stderr",
     "output_type": "stream",
     "text": [
      "[nltk_data] Downloading package vader_lexicon to\n",
      "[nltk_data]     C:\\Users\\eurydice\\AppData\\Roaming\\nltk_data...\n",
      "[nltk_data]   Package vader_lexicon is already up-to-date!\n",
      "[nltk_data] Downloading package words to\n",
      "[nltk_data]     C:\\Users\\eurydice\\AppData\\Roaming\\nltk_data...\n",
      "[nltk_data]   Package words is already up-to-date!\n"
     ]
    }
   ],
   "source": [
    "import re\n",
    "import csv\n",
    "import nltk\n",
    "import numpy as np\n",
    "import pandas as pd\n",
    "from PIL import Image\n",
    "from dateutil import parser\n",
    "from bs4 import BeautifulSoup\n",
    "from datetime import datetime\n",
    "import plotly.graph_objs as go\n",
    "import matplotlib.pyplot as plt\n",
    "from nltk.stem import SnowballStemmer\n",
    "from wordcloud import WordCloud, STOPWORDS\n",
    "from nltk.sentiment.vader import SentimentIntensityAnalyzer\n",
    "from sklearn.feature_extraction.text import CountVectorizer\n",
    "nltk.download('vader_lexicon')\n",
    "nltk.download('words')\n",
    "words = set(nltk.corpus.words.words())\n",
    "\n",
    "sentimentAnalyzer = SentimentIntensityAnalyzer()"
   ]
  },
  {
   "cell_type": "code",
   "execution_count": 3,
   "metadata": {
    "execution": {
     "iopub.execute_input": "2022-04-20T21:24:26.313044Z",
     "iopub.status.busy": "2022-04-20T21:24:26.312671Z",
     "iopub.status.idle": "2022-04-20T21:24:26.920467Z",
     "shell.execute_reply": "2022-04-20T21:24:26.919036Z",
     "shell.execute_reply.started": "2022-04-20T21:24:26.313007Z"
    }
   },
   "outputs": [],
   "source": [
    "df = pd.read_csv('../input/hm-sentiment-jan-1-2021-march-31-2022/hm_jan1_2021_to_aug31_2021.csv')\n",
    "df2 = pd.read_csv('../input/hm-sentiment-jan-1-2021-march-31-2022/hm_sept1_2021_to_mar25_2022 2 copy.csv')\n",
    "df3 = pd.read_csv('../input/hm-sentiment-jan-1-2021-march-31-2022/hm_mar26_2022_to_mar31_2022.csv')\n",
    "final_df = df.append(df2, ignore_index=True).append(df3, ignore_index=True).sort_values(\"created_at\").drop_duplicates().reset_index()[['tweet_id', 'created_at', \"text\", \"author_id\"]][:-1]"
   ]
  },
  {
   "cell_type": "code",
   "execution_count": 4,
   "metadata": {
    "execution": {
     "iopub.execute_input": "2022-04-20T21:24:35.090663Z",
     "iopub.status.busy": "2022-04-20T21:24:35.090327Z",
     "iopub.status.idle": "2022-04-20T21:24:35.102970Z",
     "shell.execute_reply": "2022-04-20T21:24:35.102016Z",
     "shell.execute_reply.started": "2022-04-20T21:24:35.090627Z"
    }
   },
   "outputs": [],
   "source": [
    "def cleaner(tweet):\n",
    "    tweet = re.sub(\"@[A-Za-z0-9_]+\",\"\",tweet) #Remove @'s\n",
    "    tweet = re.sub(r\"(?:\\@|http?\\://|https?\\://|www)\\S+\", \"\", tweet) #Remove http links\n",
    "    tweet = \" \".join(tweet.split())\n",
    "    tweet = tweet.replace(\"#\", \"\").replace(\"_\", \" \") #Remove hashtag sign but keep the text\n",
    "    \n",
    "    #remove most emoticons and symbols\n",
    "    regex_pattern = re.compile(pattern = \"[\"\n",
    "        u\"\\U0001F600-\\U0001F64F\"  # emoticons\n",
    "        u\"\\U0001F300-\\U0001F5FF\"  # symbols & pictographs\n",
    "        u\"\\U0001F680-\\U0001F6FF\"  # transport & map symbols\n",
    "        u\"\\U0001F1E0-\\U0001F1FF\"  # flags (iOS)\n",
    "                           \"]+\", flags = re.UNICODE)\n",
    "    tweet = re.sub(regex_pattern,\"\",tweet)\n",
    "    \n",
    "    #convert html to text. removes html encoding, e.g. &amp, &quot, etc...\n",
    "    del_amp = BeautifulSoup(tweet, 'lxml')\n",
    "    tweet = del_amp.get_text()\n",
    "    \n",
    "\n",
    "    # remove contractions\n",
    "    tweet = re.sub(r\"don't\", \"do not\", tweet)\n",
    "    tweet = re.sub(r\"won't\", \"will not\", tweet)\n",
    "    tweet = re.sub(r\"would't\", \"would not\", tweet)\n",
    "    tweet = re.sub(r\"can't\", \"can not\", tweet)\n",
    "    \n",
    "    tweet = re.sub(r\"\\’d\", \" would\",tweet)\n",
    "    tweet = re.sub(r\"n\\’t\", \" not\", tweet)\n",
    "    tweet = re.sub(r\"\\’re\", \" are\", tweet)\n",
    "    tweet = re.sub(r\"\\’s\", \" is\",tweet)\n",
    "    tweet = re.sub(r\"\\’ll\", \" will\", tweet)\n",
    "    tweet = re.sub(r\"\\’t\", \" not\", tweet)\n",
    "    tweet = re.sub(r\"\\’ve\", \" have\", tweet)\n",
    "    tweet = re.sub(r\"\\’m\", \" am\", tweet)\n",
    "    tweet = \" \".join(w for w in nltk.wordpunct_tokenize(tweet)\n",
    "         if w.lower() in words or not w.isalpha())\n",
    "    return tweet"
   ]
  },
  {
   "cell_type": "code",
   "execution_count": 5,
   "metadata": {
    "execution": {
     "iopub.execute_input": "2022-04-20T21:24:38.515171Z",
     "iopub.status.busy": "2022-04-20T21:24:38.514838Z",
     "iopub.status.idle": "2022-04-20T21:24:55.851629Z",
     "shell.execute_reply": "2022-04-20T21:24:55.850724Z",
     "shell.execute_reply.started": "2022-04-20T21:24:38.515137Z"
    }
   },
   "outputs": [],
   "source": [
    "tweet_list, positive_list, neutral_list, negative_list = [], [], [], []\n",
    "final_df['clean_text'] = final_df['text'].apply(cleaner)"
   ]
  },
  {
   "cell_type": "code",
   "execution_count": 7,
   "metadata": {
    "execution": {
     "iopub.execute_input": "2022-04-20T21:24:55.864989Z",
     "iopub.status.busy": "2022-04-20T21:24:55.864091Z",
     "iopub.status.idle": "2022-04-20T21:24:55.882415Z",
     "shell.execute_reply": "2022-04-20T21:24:55.881377Z",
     "shell.execute_reply.started": "2022-04-20T21:24:55.864908Z"
    }
   },
   "outputs": [],
   "source": [
    "def sentiment_category_compound(sentiment):\n",
    "    label = ''\n",
    "    if(sentiment > 0):\n",
    "        label = 'positive'\n",
    "    elif(sentiment == 0):\n",
    "        label = 'neutral'\n",
    "    else:\n",
    "        label = 'negative'\n",
    "    return(label)\n",
    "\n",
    "def sentiment_category(sentiment_values):\n",
    "    label = ''\n",
    "    neg, neu, pos = sentiment_values['neg'], sentiment_values['neu'], sentiment_values['pos']\n",
    "    max_sentiment = max(max(neg, neu), pos)\n",
    "    \n",
    "    if(max_sentiment == pos):\n",
    "        if max_sentiment == neg: #in the case that pos = 0.5 and neg = 0.5 or all 3 0.33\n",
    "            label = \"neutral\"\n",
    "        else:\n",
    "            label = 'positive'\n",
    "    elif(max_sentiment == neu):\n",
    "        label = 'neutral'\n",
    "    else:\n",
    "        label = 'negative'\n",
    "    return(label)"
   ]
  },
  {
   "cell_type": "code",
   "execution_count": null,
   "metadata": {
    "execution": {
     "iopub.execute_input": "2022-04-20T17:11:00.698339Z",
     "iopub.status.busy": "2022-04-20T17:11:00.697761Z",
     "iopub.status.idle": "2022-04-20T17:11:00.705506Z",
     "shell.execute_reply": "2022-04-20T17:11:00.704288Z",
     "shell.execute_reply.started": "2022-04-20T17:11:00.698267Z"
    }
   },
   "outputs": [],
   "source": [
    "print(sentiment_category({'neg': 0.0, 'neu': 1.0, 'pos': 0.0, 'compound': 0.0}))\n",
    "print(sentiment_category_compound(0.0))"
   ]
  },
  {
   "cell_type": "code",
   "execution_count": null,
   "metadata": {
    "execution": {
     "iopub.execute_input": "2022-04-20T17:11:02.551334Z",
     "iopub.status.busy": "2022-04-20T17:11:02.550412Z",
     "iopub.status.idle": "2022-04-20T17:11:02.557564Z",
     "shell.execute_reply": "2022-04-20T17:11:02.556412Z",
     "shell.execute_reply.started": "2022-04-20T17:11:02.551268Z"
    }
   },
   "outputs": [],
   "source": [
    "\n",
    "print(sentiment_category({'neg': 0.0, 'neu': 0.292, 'pos': 0.708, 'compound': 0.9029}))\n",
    "print(sentiment_category_compound(0.9029))"
   ]
  },
  {
   "cell_type": "code",
   "execution_count": null,
   "metadata": {
    "execution": {
     "iopub.execute_input": "2022-04-20T17:12:02.661345Z",
     "iopub.status.busy": "2022-04-20T17:12:02.661003Z",
     "iopub.status.idle": "2022-04-20T17:12:02.668344Z",
     "shell.execute_reply": "2022-04-20T17:12:02.666977Z",
     "shell.execute_reply.started": "2022-04-20T17:12:02.661303Z"
    }
   },
   "outputs": [],
   "source": [
    "#Compound can denote a tweet to have positive or negative sentiment although the neutral sentiment value might be higher than either positive or negative sentiment. Both are worth testing\n",
    "print(sentiment_category({'neg': 0.121, 'neu': 0.804, 'pos': 0.075, 'compound': -0.1469}))\n",
    "print(sentiment_category_compound(-0.1469))"
   ]
  },
  {
   "cell_type": "code",
   "execution_count": 8,
   "metadata": {
    "execution": {
     "iopub.execute_input": "2022-04-20T21:24:55.885337Z",
     "iopub.status.busy": "2022-04-20T21:24:55.884646Z",
     "iopub.status.idle": "2022-04-20T21:25:08.905131Z",
     "shell.execute_reply": "2022-04-20T21:25:08.904169Z",
     "shell.execute_reply.started": "2022-04-20T21:24:55.885284Z"
    }
   },
   "outputs": [],
   "source": [
    "%%time\n",
    "list1, list2 = [], []\n",
    "for i in final_df['clean_text']:\n",
    "    sentiment_values = sentimentAnalyzer.polarity_scores(i)\n",
    "    list1.append(sentiment_category(sentiment_values))\n",
    "    list2.append(sentiment_category_compound(sentiment_values['compound']))\n",
    "\n",
    "        \n",
    "final_df['sentiment_category']  = list1\n",
    "final_df['sentiment_category_compound'] = list2"
   ]
  },
  {
   "cell_type": "code",
   "execution_count": 10,
   "metadata": {
    "execution": {
     "iopub.execute_input": "2022-04-20T21:25:09.658541Z",
     "iopub.status.busy": "2022-04-20T21:25:09.657917Z",
     "iopub.status.idle": "2022-04-20T21:25:10.376763Z",
     "shell.execute_reply": "2022-04-20T21:25:10.376109Z",
     "shell.execute_reply.started": "2022-04-20T21:25:09.658498Z"
    }
   },
   "outputs": [],
   "source": [
    "final_df['created_at2'] = final_df['created_at'].apply(lambda x: datetime.strptime(x[:10], \"%Y-%m-%d\"))\n",
    "neg = final_df[final_df['sentiment_category']=='negative']\n",
    "neg = neg.groupby(['created_at2'],as_index=False).count()\n",
    "\n",
    "pos = final_df[final_df['sentiment_category']=='positive']\n",
    "pos = pos.groupby(['created_at2'],as_index=False).count()\n",
    "\n",
    "pos = pos[['created_at2','tweet_id']]\n",
    "neg = neg[['created_at2','tweet_id']]"
   ]
  },
  {
   "cell_type": "code",
   "execution_count": 12,
   "metadata": {
    "execution": {
     "iopub.execute_input": "2022-04-20T21:48:45.137729Z",
     "iopub.status.busy": "2022-04-20T21:48:45.137417Z",
     "iopub.status.idle": "2022-04-20T21:48:45.183612Z",
     "shell.execute_reply": "2022-04-20T21:48:45.182243Z",
     "shell.execute_reply.started": "2022-04-20T21:48:45.137698Z"
    }
   },
   "outputs": [],
   "source": [
    "neg2 = final_df[final_df['sentiment_category_compound']=='negative']\n",
    "neg2 = neg.groupby(['created_at2'],as_index=False).count()\n",
    "\n",
    "pos2 = final_df[final_df['sentiment_category_compound']=='positive']\n",
    "pos2 = pos.groupby(['created_at2'],as_index=False).count()\n",
    "\n",
    "pos2 = pos2[['created_at2','tweet_id']]\n",
    "neg2 = neg2[['created_at2','tweet_id']]"
   ]
  },
  {
   "cell_type": "code",
   "execution_count": 19,
   "metadata": {
    "execution": {
     "iopub.execute_input": "2022-04-20T21:57:42.806582Z",
     "iopub.status.busy": "2022-04-20T21:57:42.806162Z",
     "iopub.status.idle": "2022-04-20T21:57:42.820131Z",
     "shell.execute_reply": "2022-04-20T21:57:42.819305Z",
     "shell.execute_reply.started": "2022-04-20T21:57:42.806545Z"
    }
   },
   "outputs": [],
   "source": [
    "neg2"
   ]
  },
  {
   "cell_type": "code",
   "execution_count": 11,
   "metadata": {
    "execution": {
     "iopub.execute_input": "2022-04-20T21:25:10.415863Z",
     "iopub.status.busy": "2022-04-20T21:25:10.415084Z",
     "iopub.status.idle": "2022-04-20T21:25:10.612069Z",
     "shell.execute_reply": "2022-04-20T21:25:10.611306Z",
     "shell.execute_reply.started": "2022-04-20T21:25:10.415820Z"
    }
   },
   "outputs": [],
   "source": [
    "fig = go.Figure()\n",
    "for col in pos.columns:\n",
    "    fig.add_trace(go.Scatter(x=pos['created_at2'], y=pos['tweet_id'],\n",
    "                             name = col,\n",
    "                             mode = 'markers+lines',\n",
    "                             line=dict(shape='linear'),\n",
    "                             connectgaps=True,\n",
    "                             line_color='green'\n",
    "                             )\n",
    "                 )\n",
    "for col in neg.columns:\n",
    "    fig.add_trace(go.Scatter(x=neg['created_at2'], y=neg['tweet_id'],\n",
    "                             name = col,\n",
    "                             mode = 'markers+lines',\n",
    "                             line=dict(shape='linear'),\n",
    "                             connectgaps=True,\n",
    "                             line_color='red'\n",
    "                             )\n",
    "                 )\n",
    "Afig.show()"
   ]
  },
  {
   "cell_type": "markdown",
   "metadata": {},
   "source": [
    "April 2021 Events\n",
    "\n",
    "https://www.bloomberg.com/news/articles/2021-04-04/h-m-s-troubles-in-asia-compound-over-problematic-map-of-region\n",
    "\n",
    "Nov 2021 Events\n",
    "\n",
    "\n",
    "March 2022 Events\n"
   ]
  },
  {
   "cell_type": "code",
   "execution_count": 16,
   "metadata": {
    "execution": {
     "iopub.execute_input": "2022-04-20T21:49:36.711987Z",
     "iopub.status.busy": "2022-04-20T21:49:36.711345Z",
     "iopub.status.idle": "2022-04-20T21:49:36.737296Z",
     "shell.execute_reply": "2022-04-20T21:49:36.736047Z",
     "shell.execute_reply.started": "2022-04-20T21:49:36.711924Z"
    }
   },
   "outputs": [],
   "source": [
    "pos2"
   ]
  },
  {
   "cell_type": "code",
   "execution_count": null,
   "metadata": {},
   "outputs": [],
   "source": []
  },
  {
   "cell_type": "code",
   "execution_count": 15,
   "metadata": {
    "execution": {
     "iopub.execute_input": "2022-04-20T21:49:26.856642Z",
     "iopub.status.busy": "2022-04-20T21:49:26.856124Z",
     "iopub.status.idle": "2022-04-20T21:49:26.926040Z",
     "shell.execute_reply": "2022-04-20T21:49:26.925037Z",
     "shell.execute_reply.started": "2022-04-20T21:49:26.856584Z"
    }
   },
   "outputs": [],
   "source": [
    "fig = go.Figure()\n",
    "for col in pos2.columns:\n",
    "    fig.add_trace(go.Scatter(x=pos2['created_at2'], y=pos2['tweet_id'],\n",
    "                             name = col,\n",
    "                             mode = 'markers+lines',\n",
    "                             line=dict(shape='linear'),\n",
    "                             connectgaps=True,\n",
    "                             line_color='green'\n",
    "                             )\n",
    "                 )\n",
    "for col in neg2.columns:\n",
    "    fig.add_trace(go.Scatter(x=neg2['created_at2'], y=neg2['tweet_id'],\n",
    "                             name = col,\n",
    "                             mode = 'markers+lines',\n",
    "                             line=dict(shape='linear'),\n",
    "                             connectgaps=True,\n",
    "                             line_color='red'\n",
    "                             )\n",
    "                 )\n",
    "fig.show()"
   ]
  },
  {
   "cell_type": "code",
   "execution_count": null,
   "metadata": {},
   "outputs": [],
   "source": []
  },
  {
   "cell_type": "code",
   "execution_count": null,
   "metadata": {},
   "outputs": [],
   "source": []
  },
  {
   "cell_type": "code",
   "execution_count": null,
   "metadata": {},
   "outputs": [],
   "source": []
  },
  {
   "cell_type": "code",
   "execution_count": null,
   "metadata": {},
   "outputs": [],
   "source": []
  },
  {
   "cell_type": "code",
   "execution_count": null,
   "metadata": {},
   "outputs": [],
   "source": []
  },
  {
   "cell_type": "code",
   "execution_count": null,
   "metadata": {},
   "outputs": [],
   "source": []
  },
  {
   "cell_type": "code",
   "execution_count": null,
   "metadata": {},
   "outputs": [],
   "source": []
  },
  {
   "cell_type": "code",
   "execution_count": null,
   "metadata": {},
   "outputs": [],
   "source": []
  },
  {
   "cell_type": "code",
   "execution_count": null,
   "metadata": {},
   "outputs": [],
   "source": []
  },
  {
   "cell_type": "code",
   "execution_count": null,
   "metadata": {},
   "outputs": [],
   "source": []
  },
  {
   "cell_type": "code",
   "execution_count": null,
   "metadata": {},
   "outputs": [],
   "source": []
  },
  {
   "cell_type": "code",
   "execution_count": null,
   "metadata": {},
   "outputs": [],
   "source": []
  },
  {
   "cell_type": "code",
   "execution_count": null,
   "metadata": {},
   "outputs": [],
   "source": []
  },
  {
   "cell_type": "code",
   "execution_count": null,
   "metadata": {},
   "outputs": [],
   "source": []
  },
  {
   "cell_type": "code",
   "execution_count": null,
   "metadata": {
    "execution": {
     "iopub.execute_input": "2022-04-20T16:55:41.676328Z",
     "iopub.status.busy": "2022-04-20T16:55:41.675013Z",
     "iopub.status.idle": "2022-04-20T16:55:41.716353Z",
     "shell.execute_reply": "2022-04-20T16:55:41.71493Z",
     "shell.execute_reply.started": "2022-04-20T16:55:41.676259Z"
    }
   },
   "outputs": [],
   "source": [
    "count = 0\n",
    "for i in final_df['clean_text']:\n",
    "    if count < 50:\n",
    "        print(i)\n",
    "        count += 1"
   ]
  },
  {
   "cell_type": "code",
   "execution_count": null,
   "metadata": {},
   "outputs": [],
   "source": []
  },
  {
   "cell_type": "code",
   "execution_count": null,
   "metadata": {},
   "outputs": [],
   "source": []
  }
 ],
 "metadata": {
  "kernelspec": {
   "display_name": "Python 3",
   "language": "python",
   "name": "python3"
  },
  "language_info": {
   "codemirror_mode": {
    "name": "ipython",
    "version": 3
   },
   "file_extension": ".py",
   "mimetype": "text/x-python",
   "name": "python",
   "nbconvert_exporter": "python",
   "pygments_lexer": "ipython3",
   "version": "3.8.8"
  }
 },
 "nbformat": 4,
 "nbformat_minor": 4
}
