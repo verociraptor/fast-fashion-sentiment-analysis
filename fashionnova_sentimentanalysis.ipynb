{
 "cells": [
  {
   "cell_type": "markdown",
   "id": "c7401d74",
   "metadata": {},
   "source": [
    "# Twitter Sentiment Analysis for Fashion Nova\n",
    "Author: Veronica Parra\n",
    "\n",
    "Resources used:\n",
    "- https://medium.com/codex/making-wordcloud-of-tweets-using-python-ca114b7a4ef4\n",
    "- https://medium.com/analytics-vidhya/sentiment-analysis-on-amazon-reviews-using-tf-idf-approach-c5ab4c36e7a1\n",
    "- https://levelup.gitconnected.com/visualization-in-python-creating-word-cloud-a3e1e73e7adb\n",
    "- https://towardsdatascience.com/tf-idf-a-visual-explainer-and-python-implementation-on-presidential-inauguration-speeches-2a7671168550\n",
    "- https://medium.datadriveninvestor.com/twitter-sentiment-analysis-with-python-1e2da8b94903\n",
    "## Tweets gathered from Jan 1, 2021 to Mar 31, 2022"
   ]
  },
  {
   "cell_type": "code",
   "execution_count": 55,
   "id": "09fb0bfe",
   "metadata": {},
   "outputs": [],
   "source": [
    "import pandas as pd\n",
    "from dateutil import parser\n",
    "from bs4 import BeautifulSoup"
   ]
  },
  {
   "cell_type": "markdown",
   "id": "ceec0757",
   "metadata": {},
   "source": [
    "## Explore sentiment analysis over time\n",
    "### Import, clean and analyze data\n",
    "#### Analysis done using VADER (https://ojs.aaai.org/index.php/ICWSM/article/view/14550/14399)"
   ]
  },
  {
   "cell_type": "code",
   "execution_count": 56,
   "id": "f785e24b",
   "metadata": {},
   "outputs": [],
   "source": [
    "df1 = pd.read_csv('fashionnova_jan1_2021_to_sept31_2021.csv') #1/1/21-8/31/21\n",
    "df2 = pd.read_csv('fashionnova_sept1_2021_to_mar25_2022.csv') #9/1/21-3/25/22\n",
    "df3 = pd.read_csv('fashionnova_mar26_2022_to_mar31_2022.csv') #3/26/22-3/31/22"
   ]
  },
  {
   "cell_type": "code",
   "execution_count": 57,
   "id": "d46c66f4",
   "metadata": {},
   "outputs": [
    {
     "data": {
      "text/plain": [
       "'@FashionNova shipping use to be great! Now the shit don’t even come when it say it’s suppose 🥵🥵🥵'"
      ]
     },
     "execution_count": 57,
     "metadata": {},
     "output_type": "execute_result"
    }
   ],
   "source": [
    "df = df1.append(df2, ignore_index=True)\n",
    "df = df.append(df3, ignore_index=True)\n",
    "df = df.sort_values('created_at')\n",
    "df['text'][4]"
   ]
  },
  {
   "cell_type": "code",
   "execution_count": 58,
   "id": "2d85267a",
   "metadata": {},
   "outputs": [
    {
     "data": {
      "text/html": [
       "<div>\n",
       "<style scoped>\n",
       "    .dataframe tbody tr th:only-of-type {\n",
       "        vertical-align: middle;\n",
       "    }\n",
       "\n",
       "    .dataframe tbody tr th {\n",
       "        vertical-align: top;\n",
       "    }\n",
       "\n",
       "    .dataframe thead th {\n",
       "        text-align: right;\n",
       "    }\n",
       "</style>\n",
       "<table border=\"1\" class=\"dataframe\">\n",
       "  <thead>\n",
       "    <tr style=\"text-align: right;\">\n",
       "      <th></th>\n",
       "      <th>tweet_id</th>\n",
       "      <th>created_at</th>\n",
       "      <th>text</th>\n",
       "      <th>author_id</th>\n",
       "    </tr>\n",
       "  </thead>\n",
       "  <tbody>\n",
       "    <tr>\n",
       "      <th>37173</th>\n",
       "      <td>1509654893736660994</td>\n",
       "      <td>2022-03-31</td>\n",
       "      <td>@celeste_brightt @FashionNova Wow absolutely g...</td>\n",
       "      <td>3066288553</td>\n",
       "    </tr>\n",
       "    <tr>\n",
       "      <th>37172</th>\n",
       "      <td>1509658000956481536</td>\n",
       "      <td>2022-03-31</td>\n",
       "      <td>@celeste_brightt @FashionNova Little bit of pa...</td>\n",
       "      <td>957283646880219136</td>\n",
       "    </tr>\n",
       "    <tr>\n",
       "      <th>37171</th>\n",
       "      <td>1509658706488737793</td>\n",
       "      <td>2022-03-31</td>\n",
       "      <td>@celeste_brightt @FashionNova You set off whit...</td>\n",
       "      <td>1332730515904995328</td>\n",
       "    </tr>\n",
       "    <tr>\n",
       "      <th>37170</th>\n",
       "      <td>1509658950609907717</td>\n",
       "      <td>2022-03-31</td>\n",
       "      <td>@celeste_brightt @FashionNova I love seeing yo...</td>\n",
       "      <td>1479191527691796481</td>\n",
       "    </tr>\n",
       "    <tr>\n",
       "      <th>37169</th>\n",
       "      <td>1509665439076569099</td>\n",
       "      <td>2022-03-31</td>\n",
       "      <td>@JovaeNicole @FashionNova ThickNBeautiful Queen</td>\n",
       "      <td>772319131</td>\n",
       "    </tr>\n",
       "  </tbody>\n",
       "</table>\n",
       "</div>"
      ],
      "text/plain": [
       "                  tweet_id  created_at  \\\n",
       "37173  1509654893736660994  2022-03-31   \n",
       "37172  1509658000956481536  2022-03-31   \n",
       "37171  1509658706488737793  2022-03-31   \n",
       "37170  1509658950609907717  2022-03-31   \n",
       "37169  1509665439076569099  2022-03-31   \n",
       "\n",
       "                                                    text            author_id  \n",
       "37173  @celeste_brightt @FashionNova Wow absolutely g...           3066288553  \n",
       "37172  @celeste_brightt @FashionNova Little bit of pa...   957283646880219136  \n",
       "37171  @celeste_brightt @FashionNova You set off whit...  1332730515904995328  \n",
       "37170  @celeste_brightt @FashionNova I love seeing yo...  1479191527691796481  \n",
       "37169    @JovaeNicole @FashionNova ThickNBeautiful Queen            772319131  "
      ]
     },
     "execution_count": 58,
     "metadata": {},
     "output_type": "execute_result"
    }
   ],
   "source": [
    "df\n",
    "df['created_at'] = pd.to_datetime(df['created_at']).dt.strftime('%Y-%m-%d')\n",
    "df.tail()"
   ]
  },
  {
   "cell_type": "code",
   "execution_count": 59,
   "id": "a2815580",
   "metadata": {},
   "outputs": [
    {
     "data": {
      "text/plain": [
       "'My dresses 👗 are here from @fashionnova , can’t wait til try them on 😩🙏🏾'"
      ]
     },
     "execution_count": 59,
     "metadata": {},
     "output_type": "execute_result"
    }
   ],
   "source": [
    "df.loc[1,:]['text']"
   ]
  },
  {
   "cell_type": "code",
   "execution_count": 60,
   "id": "e447137d",
   "metadata": {},
   "outputs": [
    {
     "name": "stderr",
     "output_type": "stream",
     "text": [
      "[nltk_data] Downloading package vader_lexicon to\n",
      "[nltk_data]     C:\\Users\\eurydice\\AppData\\Roaming\\nltk_data...\n",
      "[nltk_data]   Package vader_lexicon is already up-to-date!\n",
      "[nltk_data] Downloading package words to\n",
      "[nltk_data]     C:\\Users\\eurydice\\AppData\\Roaming\\nltk_data...\n",
      "[nltk_data]   Package words is already up-to-date!\n"
     ]
    }
   ],
   "source": [
    "import nltk\n",
    "nltk.download('vader_lexicon')\n",
    "from nltk.sentiment.vader import SentimentIntensityAnalyzer\n",
    "\n",
    "sid = SentimentIntensityAnalyzer()\n",
    "\n",
    "import re\n",
    "import nltk\n",
    "nltk.download('words')\n",
    "words = set(nltk.corpus.words.words())"
   ]
  },
  {
   "cell_type": "code",
   "execution_count": 61,
   "id": "9a693780",
   "metadata": {},
   "outputs": [
    {
     "name": "stdout",
     "output_type": "stream",
     "text": [
      "@OjaniMoncrieffe @FashionNova U mad stupid u talking all that shit YET back then there was different words u a pornstar so u getting wild 😂😂😂\n"
     ]
    },
    {
     "data": {
      "text/plain": [
       "-0.8807"
      ]
     },
     "execution_count": 61,
     "metadata": {},
     "output_type": "execute_result"
    }
   ],
   "source": [
    "sentence = df['text'][8]\n",
    "print(sentence)\n",
    "sid.polarity_scores(sentence)['compound']"
   ]
  },
  {
   "cell_type": "code",
   "execution_count": 62,
   "id": "7a676ee3",
   "metadata": {},
   "outputs": [],
   "source": [
    "def cleaner(tweet):\n",
    "    tweet = re.sub(\"@[A-Za-z0-9_]+\",\"\",tweet) #Remove @'s\n",
    "    tweet = re.sub(r\"(?:\\@|http?\\://|https?\\://|www)\\S+\", \"\", tweet) #Remove http links\n",
    "    tweet = \" \".join(tweet.split())\n",
    "    tweet = tweet.replace(\"#\", \"\").replace(\"_\", \" \") #Remove hashtag sign but keep the text\n",
    "    \n",
    "    #remove most emoticons and symbols\n",
    "    regex_pattern = re.compile(pattern = \"[\"\n",
    "        u\"\\U0001F600-\\U0001F64F\"  # emoticons\n",
    "        u\"\\U0001F300-\\U0001F5FF\"  # symbols & pictographs\n",
    "        u\"\\U0001F680-\\U0001F6FF\"  # transport & map symbols\n",
    "        u\"\\U0001F1E0-\\U0001F1FF\"  # flags (iOS)\n",
    "                           \"]+\", flags = re.UNICODE)\n",
    "    tweet = re.sub(regex_pattern,\"\",tweet)\n",
    "    \n",
    "    #convert html to text. removes html encoding, e.g. &amp, &quot, etc...\n",
    "    del_amp = BeautifulSoup(tweet, 'lxml')\n",
    "    tweet = del_amp.get_text()\n",
    "\n",
    "    # remove contractions\n",
    "    tweet = re.sub(r\"won’t\", \"will not\",tweet)\n",
    "    tweet = re.sub(r\"would’t\", \"would not\",tweet)\n",
    "    tweet = re.sub(r\"could’t\", \"could not\",tweet)\n",
    "    tweet = re.sub(r\"\\’d\", \" would\",tweet)\n",
    "    tweet = re.sub(r\"can\\’t\", \"can not\",tweet)\n",
    "    tweet = re.sub(r\"n\\’t\", \" not\", tweet)\n",
    "    tweet = re.sub(r\"\\’re\", \" are\", tweet)\n",
    "    tweet = re.sub(r\"\\’s\", \" is\",tweet)\n",
    "    tweet = re.sub(r\"\\’ll\", \" will\", tweet)\n",
    "    tweet = re.sub(r\"\\’t\", \" not\", tweet)\n",
    "    tweet = re.sub(r\"\\’ve\", \" have\", tweet)\n",
    "    tweet = re.sub(r\"\\’m\", \" am\", tweet)\n",
    "    tweet = \" \".join(w for w in nltk.wordpunct_tokenize(tweet)\n",
    "         if w.lower() in words or not w.isalpha())\n",
    "    return tweet"
   ]
  },
  {
   "cell_type": "code",
   "execution_count": 63,
   "id": "36f08cec",
   "metadata": {},
   "outputs": [],
   "source": [
    "df['tweet_clean'] = df['text'].apply(cleaner)"
   ]
  },
  {
   "cell_type": "code",
   "execution_count": 64,
   "id": "5fe0d206",
   "metadata": {},
   "outputs": [
    {
     "data": {
      "text/plain": [
       "'@FashionNova shipping use to be great! Now the shit don’t even come when it say it’s suppose 🥵🥵🥵'"
      ]
     },
     "execution_count": 64,
     "metadata": {},
     "output_type": "execute_result"
    }
   ],
   "source": [
    "df['text'][4]"
   ]
  },
  {
   "cell_type": "code",
   "execution_count": 65,
   "id": "7df6a597",
   "metadata": {},
   "outputs": [
    {
     "data": {
      "text/html": [
       "<div>\n",
       "<style scoped>\n",
       "    .dataframe tbody tr th:only-of-type {\n",
       "        vertical-align: middle;\n",
       "    }\n",
       "\n",
       "    .dataframe tbody tr th {\n",
       "        vertical-align: top;\n",
       "    }\n",
       "\n",
       "    .dataframe thead th {\n",
       "        text-align: right;\n",
       "    }\n",
       "</style>\n",
       "<table border=\"1\" class=\"dataframe\">\n",
       "  <thead>\n",
       "    <tr style=\"text-align: right;\">\n",
       "      <th></th>\n",
       "      <th>tweet_id</th>\n",
       "      <th>created_at</th>\n",
       "      <th>text</th>\n",
       "      <th>author_id</th>\n",
       "      <th>tweet_clean</th>\n",
       "    </tr>\n",
       "  </thead>\n",
       "  <tbody>\n",
       "    <tr>\n",
       "      <th>18869</th>\n",
       "      <td>1344795684529176577</td>\n",
       "      <td>2021-01-01</td>\n",
       "      <td>@caroline1hill @eBay @FashionNova Happy New Ye...</td>\n",
       "      <td>595107054</td>\n",
       "      <td>Happy New Year home ..</td>\n",
       "    </tr>\n",
       "    <tr>\n",
       "      <th>18868</th>\n",
       "      <td>1344797481272541184</td>\n",
       "      <td>2021-01-01</td>\n",
       "      <td>@caroline1hill @eBay @FashionNova You are fant...</td>\n",
       "      <td>43233118</td>\n",
       "      <td>You are fantastic</td>\n",
       "    </tr>\n",
       "    <tr>\n",
       "      <th>18867</th>\n",
       "      <td>1344801951989567488</td>\n",
       "      <td>2021-01-01</td>\n",
       "      <td>@caroline1hill @eBay @FashionNova Quiet one fo...</td>\n",
       "      <td>2435673836</td>\n",
       "      <td>Quiet one for me .</td>\n",
       "    </tr>\n",
       "    <tr>\n",
       "      <th>18866</th>\n",
       "      <td>1344810626892251136</td>\n",
       "      <td>2021-01-01</td>\n",
       "      <td>If I’m gonna enter 2021 I minus well do it rea...</td>\n",
       "      <td>23622012</td>\n",
       "      <td>If I am enter 2021 I minus well do it real Sua...</td>\n",
       "    </tr>\n",
       "    <tr>\n",
       "      <th>18865</th>\n",
       "      <td>1344812692624781312</td>\n",
       "      <td>2021-01-01</td>\n",
       "      <td>@Allie__W @caroline1hill @eBay @FashionNova If...</td>\n",
       "      <td>1038662662496890881</td>\n",
       "      <td>If did not get a gift card she will be home .</td>\n",
       "    </tr>\n",
       "    <tr>\n",
       "      <th>...</th>\n",
       "      <td>...</td>\n",
       "      <td>...</td>\n",
       "      <td>...</td>\n",
       "      <td>...</td>\n",
       "      <td>...</td>\n",
       "    </tr>\n",
       "    <tr>\n",
       "      <th>37173</th>\n",
       "      <td>1509654893736660994</td>\n",
       "      <td>2022-03-31</td>\n",
       "      <td>@celeste_brightt @FashionNova Wow absolutely g...</td>\n",
       "      <td>3066288553</td>\n",
       "      <td>Wow absolutely gorgeous 🤍🤍🤍🤍🤩🤩🤩🤩</td>\n",
       "    </tr>\n",
       "    <tr>\n",
       "      <th>37172</th>\n",
       "      <td>1509658000956481536</td>\n",
       "      <td>2022-03-31</td>\n",
       "      <td>@celeste_brightt @FashionNova Little bit of pa...</td>\n",
       "      <td>957283646880219136</td>\n",
       "      <td>Little bit of paradise ? a LOT of paradise the...</td>\n",
       "    </tr>\n",
       "    <tr>\n",
       "      <th>37171</th>\n",
       "      <td>1509658706488737793</td>\n",
       "      <td>2022-03-31</td>\n",
       "      <td>@celeste_brightt @FashionNova You set off whit...</td>\n",
       "      <td>1332730515904995328</td>\n",
       "      <td>You set off white like crazy . Wow !!</td>\n",
       "    </tr>\n",
       "    <tr>\n",
       "      <th>37170</th>\n",
       "      <td>1509658950609907717</td>\n",
       "      <td>2022-03-31</td>\n",
       "      <td>@celeste_brightt @FashionNova I love seeing yo...</td>\n",
       "      <td>1479191527691796481</td>\n",
       "      <td>I love seeing your Gorgeous</td>\n",
       "    </tr>\n",
       "    <tr>\n",
       "      <th>37169</th>\n",
       "      <td>1509665439076569099</td>\n",
       "      <td>2022-03-31</td>\n",
       "      <td>@JovaeNicole @FashionNova ThickNBeautiful Queen</td>\n",
       "      <td>772319131</td>\n",
       "      <td>Queen</td>\n",
       "    </tr>\n",
       "  </tbody>\n",
       "</table>\n",
       "<p>38391 rows × 5 columns</p>\n",
       "</div>"
      ],
      "text/plain": [
       "                  tweet_id  created_at  \\\n",
       "18869  1344795684529176577  2021-01-01   \n",
       "18868  1344797481272541184  2021-01-01   \n",
       "18867  1344801951989567488  2021-01-01   \n",
       "18866  1344810626892251136  2021-01-01   \n",
       "18865  1344812692624781312  2021-01-01   \n",
       "...                    ...         ...   \n",
       "37173  1509654893736660994  2022-03-31   \n",
       "37172  1509658000956481536  2022-03-31   \n",
       "37171  1509658706488737793  2022-03-31   \n",
       "37170  1509658950609907717  2022-03-31   \n",
       "37169  1509665439076569099  2022-03-31   \n",
       "\n",
       "                                                    text            author_id  \\\n",
       "18869  @caroline1hill @eBay @FashionNova Happy New Ye...            595107054   \n",
       "18868  @caroline1hill @eBay @FashionNova You are fant...             43233118   \n",
       "18867  @caroline1hill @eBay @FashionNova Quiet one fo...           2435673836   \n",
       "18866  If I’m gonna enter 2021 I minus well do it rea...             23622012   \n",
       "18865  @Allie__W @caroline1hill @eBay @FashionNova If...  1038662662496890881   \n",
       "...                                                  ...                  ...   \n",
       "37173  @celeste_brightt @FashionNova Wow absolutely g...           3066288553   \n",
       "37172  @celeste_brightt @FashionNova Little bit of pa...   957283646880219136   \n",
       "37171  @celeste_brightt @FashionNova You set off whit...  1332730515904995328   \n",
       "37170  @celeste_brightt @FashionNova I love seeing yo...  1479191527691796481   \n",
       "37169    @JovaeNicole @FashionNova ThickNBeautiful Queen            772319131   \n",
       "\n",
       "                                             tweet_clean  \n",
       "18869                             Happy New Year home ..  \n",
       "18868                                  You are fantastic  \n",
       "18867                                 Quiet one for me .  \n",
       "18866  If I am enter 2021 I minus well do it real Sua...  \n",
       "18865      If did not get a gift card she will be home .  \n",
       "...                                                  ...  \n",
       "37173                   Wow absolutely gorgeous 🤍🤍🤍🤍🤩🤩🤩🤩  \n",
       "37172  Little bit of paradise ? a LOT of paradise the...  \n",
       "37171              You set off white like crazy . Wow !!  \n",
       "37170                        I love seeing your Gorgeous  \n",
       "37169                                              Queen  \n",
       "\n",
       "[38391 rows x 5 columns]"
      ]
     },
     "execution_count": 65,
     "metadata": {},
     "output_type": "execute_result"
    }
   ],
   "source": [
    "# remove giveaway posts that can artificially inflate the positive posts\n",
    "df_withgiveaway = df[df['tweet_clean'].str.contains('giveaway') == False]\n",
    "df_withgiveaway"
   ]
  },
  {
   "cell_type": "code",
   "execution_count": 66,
   "id": "2bcd6a9d",
   "metadata": {},
   "outputs": [
    {
     "data": {
      "text/plain": [
       "[0.5719,\n",
       " 0.5574,\n",
       " 0.0,\n",
       " 0.6249,\n",
       " -0.3412,\n",
       " 0.5574,\n",
       " -0.4019,\n",
       " 0.6884,\n",
       " 0.0,\n",
       " 0.0,\n",
       " -0.7841,\n",
       " 0.0,\n",
       " 0.0,\n",
       " -0.6359,\n",
       " 0.0,\n",
       " 0.6633,\n",
       " -0.4767,\n",
       " 0.8341,\n",
       " 0.0,\n",
       " 0.5994,\n",
       " 0.5719,\n",
       " -0.7184,\n",
       " -0.4215,\n",
       " 0.9575,\n",
       " 0.0,\n",
       " 0.5719,\n",
       " 0.0,\n",
       " 0.0,\n",
       " 0.5719,\n",
       " 0.0,\n",
       " 0.8065,\n",
       " 0.4215,\n",
       " 0.0,\n",
       " 0.5095,\n",
       " 0.0,\n",
       " 0.5719,\n",
       " 0.5994,\n",
       " 0.7424,\n",
       " 0.6114,\n",
       " 0.7067,\n",
       " 0.7964,\n",
       " 0.6467,\n",
       " 0.5719,\n",
       " 0.0,\n",
       " 0.4019,\n",
       " 0.902,\n",
       " 0.3818,\n",
       " 0.784,\n",
       " 0.9136,\n",
       " 0.5719,\n",
       " 0.3875,\n",
       " 0.5719,\n",
       " 0.5709,\n",
       " 0.4404,\n",
       " 0.8225,\n",
       " 0.0,\n",
       " 0.9875,\n",
       " 0.4588,\n",
       " -0.6249,\n",
       " 0.0,\n",
       " 0.0,\n",
       " 0.9819,\n",
       " 0.6114,\n",
       " -0.296,\n",
       " -0.3724,\n",
       " 0.0567,\n",
       " 0.0,\n",
       " -0.2462,\n",
       " -0.7845,\n",
       " -0.6157,\n",
       " -0.7395,\n",
       " 0.0258,\n",
       " 0.0,\n",
       " -0.4939,\n",
       " 0.0,\n",
       " 0.5719,\n",
       " 0.5719,\n",
       " 0.0,\n",
       " 0.5187,\n",
       " 0.5709,\n",
       " 0.743,\n",
       " 0.8588,\n",
       " -0.4019,\n",
       " 0.4753,\n",
       " 0.6467,\n",
       " 0.0,\n",
       " 0.5719,\n",
       " 0.796,\n",
       " 0.7067,\n",
       " 0.4588,\n",
       " 0.6237,\n",
       " 0.8805,\n",
       " 0.397,\n",
       " 0.6289,\n",
       " 0.5719,\n",
       " 0.69,\n",
       " 0.0,\n",
       " 0.4404,\n",
       " -0.8079,\n",
       " 0.0,\n",
       " 0.0,\n",
       " 0.9173,\n",
       " 0.0,\n",
       " 0.0,\n",
       " -0.4215,\n",
       " 0.5562,\n",
       " 0.0772,\n",
       " 0.3612,\n",
       " 0.0,\n",
       " -0.2732,\n",
       " -0.5849,\n",
       " 0.6361,\n",
       " 0.6369,\n",
       " 0.3612,\n",
       " 0.0,\n",
       " 0.0,\n",
       " 0.0129,\n",
       " 0.6114,\n",
       " -0.2406,\n",
       " -0.8002,\n",
       " 0.0,\n",
       " 0.0,\n",
       " 0.9167,\n",
       " 0.0,\n",
       " 0.5267,\n",
       " 0.5719,\n",
       " 0.0,\n",
       " 0.0,\n",
       " 0.5719,\n",
       " -0.1027,\n",
       " 0.6361,\n",
       " 0.0,\n",
       " -0.4767,\n",
       " -0.7458,\n",
       " 0.3147,\n",
       " 0.2023,\n",
       " 0.6825,\n",
       " 0.4436,\n",
       " 0.8083,\n",
       " 0.0,\n",
       " 0.8083,\n",
       " -0.5216,\n",
       " -0.5216,\n",
       " 0.9169,\n",
       " 0.0772,\n",
       " -0.5951,\n",
       " 0.0,\n",
       " 0.0,\n",
       " 0.0,\n",
       " 0.3612,\n",
       " 0.4588,\n",
       " 0.0,\n",
       " 0.5859,\n",
       " -0.4019,\n",
       " 0.0,\n",
       " 0.0,\n",
       " 0.6633,\n",
       " 0.0,\n",
       " 0.7039,\n",
       " 0.0772,\n",
       " 0.0,\n",
       " -0.5216,\n",
       " 0.8217,\n",
       " 0.0,\n",
       " 0.6792,\n",
       " 0.3182,\n",
       " 0.0,\n",
       " 0.0,\n",
       " 0.6369,\n",
       " -0.6571,\n",
       " 0.0,\n",
       " 0.8555,\n",
       " 0.5719,\n",
       " -0.4344,\n",
       " 0.0,\n",
       " 0.6369,\n",
       " 0.0,\n",
       " 0.0,\n",
       " 0.0,\n",
       " 0.8225,\n",
       " 0.0,\n",
       " 0.8271,\n",
       " 0.2732,\n",
       " 0.0,\n",
       " 0.4939,\n",
       " 0.6369,\n",
       " 0.0,\n",
       " -0.4404,\n",
       " -0.7163,\n",
       " 0.1511,\n",
       " 0.0,\n",
       " 0.0,\n",
       " 0.3612,\n",
       " -0.6808,\n",
       " 0.7717,\n",
       " 0.4436,\n",
       " -0.296,\n",
       " 0.0772,\n",
       " 0.5267,\n",
       " -0.9153,\n",
       " 0.9081,\n",
       " 0.0,\n",
       " 0.3818,\n",
       " 0.0,\n",
       " 0.0,\n",
       " 0.2914,\n",
       " -0.5951,\n",
       " 0.0,\n",
       " 0.4404,\n",
       " 0.0,\n",
       " 0.3612,\n",
       " -0.6787,\n",
       " 0.0,\n",
       " -0.5859,\n",
       " -0.3182,\n",
       " 0.2718,\n",
       " 0.5994,\n",
       " 0.0,\n",
       " 0.0,\n",
       " 0.4404,\n",
       " -0.3924,\n",
       " 0.0,\n",
       " 0.0,\n",
       " 0.5023,\n",
       " 0.3612,\n",
       " -0.0572,\n",
       " 0.8655,\n",
       " 0.0,\n",
       " -0.128,\n",
       " 0.0,\n",
       " 0.0,\n",
       " 0.0772,\n",
       " 0.0,\n",
       " 0.7729,\n",
       " 0.5994,\n",
       " 0.0,\n",
       " 0.4648,\n",
       " 0.3612,\n",
       " 0.0,\n",
       " 0.0,\n",
       " 0.0,\n",
       " -0.4939,\n",
       " -0.0572,\n",
       " 0.0,\n",
       " 0.0,\n",
       " 0.0,\n",
       " 0.0,\n",
       " -0.4723,\n",
       " 0.9438,\n",
       " 0.0,\n",
       " 0.4404,\n",
       " 0.0,\n",
       " -0.2263,\n",
       " -0.5399,\n",
       " -0.3595,\n",
       " 0.0,\n",
       " 0.7901,\n",
       " 0.0,\n",
       " -0.3164,\n",
       " 0.6478,\n",
       " 0.0,\n",
       " 0.0,\n",
       " 0.0,\n",
       " 0.0,\n",
       " 0.0,\n",
       " 0.0,\n",
       " -0.7312,\n",
       " 0.296,\n",
       " 0.5951,\n",
       " 0.0,\n",
       " 0.4696,\n",
       " 0.4019,\n",
       " 0.0,\n",
       " 0.9161,\n",
       " -0.4019,\n",
       " 0.0,\n",
       " 0.9001,\n",
       " 0.2732,\n",
       " 0.8074,\n",
       " 0.0,\n",
       " 0.0,\n",
       " -0.5449,\n",
       " -0.4404,\n",
       " 0.6809,\n",
       " -0.9499,\n",
       " -0.7199,\n",
       " -0.3802,\n",
       " 0.0,\n",
       " 0.9391,\n",
       " 0.3182,\n",
       " -0.5423,\n",
       " 0.0,\n",
       " 0.4215,\n",
       " 0.4939,\n",
       " 0.0,\n",
       " 0.0,\n",
       " 0.4738,\n",
       " 0.0772,\n",
       " 0.5719,\n",
       " 0.0,\n",
       " 0.4215,\n",
       " 0.0,\n",
       " -0.296,\n",
       " -0.6359,\n",
       " 0.2023,\n",
       " 0.8395,\n",
       " 0.0,\n",
       " 0.0,\n",
       " 0.0,\n",
       " -0.4939,\n",
       " 0.0,\n",
       " 0.9197,\n",
       " -0.5667,\n",
       " 0.0,\n",
       " -0.3382,\n",
       " -0.34,\n",
       " 0.0,\n",
       " 0.0,\n",
       " -0.0516,\n",
       " -0.3252,\n",
       " 0.6543,\n",
       " 0.8788,\n",
       " 0.5648,\n",
       " 0.3089,\n",
       " -0.3612,\n",
       " 0.0,\n",
       " 0.0,\n",
       " 0.0,\n",
       " 0.0,\n",
       " -0.4238,\n",
       " 0.555,\n",
       " 0.6784,\n",
       " -0.1531,\n",
       " 0.0,\n",
       " 0.3818,\n",
       " -0.296,\n",
       " 0.4829,\n",
       " 0.605,\n",
       " 0.4767,\n",
       " -0.4209,\n",
       " 0.0,\n",
       " 0.4404,\n",
       " 0.4939,\n",
       " 0.0,\n",
       " 0.3695,\n",
       " 0.5425,\n",
       " -0.6046,\n",
       " 0.0,\n",
       " 0.8346,\n",
       " 0.8316,\n",
       " 0.636,\n",
       " 0.0,\n",
       " 0.2035,\n",
       " 0.5106,\n",
       " -0.8007,\n",
       " -0.7405,\n",
       " 0.0,\n",
       " -0.1531,\n",
       " 0.5095,\n",
       " -0.3753,\n",
       " 0.5463,\n",
       " 0.2263,\n",
       " -0.6766,\n",
       " 0.3612,\n",
       " -0.8793,\n",
       " 0.4019,\n",
       " 0.4926,\n",
       " -0.6245,\n",
       " 0.6478,\n",
       " 0.0,\n",
       " 0.0,\n",
       " 0.0,\n",
       " -0.8689,\n",
       " 0.0,\n",
       " -0.3612,\n",
       " -0.4867,\n",
       " 0.4588,\n",
       " -0.4019,\n",
       " 0.0,\n",
       " 0.7906,\n",
       " 0.0258,\n",
       " -0.6597,\n",
       " 0.7074,\n",
       " 0.0,\n",
       " -0.6249,\n",
       " 0.0,\n",
       " 0.0,\n",
       " 0.0,\n",
       " 0.0,\n",
       " 0.3724,\n",
       " 0.8201,\n",
       " 0.4215,\n",
       " 0.0,\n",
       " 0.0,\n",
       " 0.0,\n",
       " 0.0,\n",
       " 0.0,\n",
       " 0.0,\n",
       " 0.0,\n",
       " 0.3612,\n",
       " 0.5994,\n",
       " 0.5994,\n",
       " 0.3182,\n",
       " 0.0,\n",
       " 0.0,\n",
       " 0.0,\n",
       " 0.4857,\n",
       " -0.4153,\n",
       " -0.4949,\n",
       " 0.7964,\n",
       " 0.5081,\n",
       " 0.4588,\n",
       " 0.5423,\n",
       " 0.0,\n",
       " 0.4019,\n",
       " 0.0,\n",
       " 0.3612,\n",
       " 0.3903,\n",
       " 0.7177,\n",
       " 0.0,\n",
       " 0.0,\n",
       " -0.296,\n",
       " 0.0,\n",
       " 0.0,\n",
       " 0.0,\n",
       " 0.296,\n",
       " 0.0,\n",
       " 0.0,\n",
       " 0.0,\n",
       " -0.3666,\n",
       " 0.0,\n",
       " -0.5499,\n",
       " 0.0,\n",
       " 0.2144,\n",
       " 0.0,\n",
       " 0.0,\n",
       " 0.0,\n",
       " 0.3818,\n",
       " 0.0,\n",
       " 0.0,\n",
       " 0.6914,\n",
       " 0.0,\n",
       " 0.0,\n",
       " 0.4522,\n",
       " 0.0,\n",
       " 0.0,\n",
       " 0.7579,\n",
       " -0.8025,\n",
       " -0.34,\n",
       " 0.0,\n",
       " 0.5267,\n",
       " 0.0,\n",
       " 0.0,\n",
       " 0.0772,\n",
       " 0.4588,\n",
       " 0.4588,\n",
       " 0.0,\n",
       " 0.0,\n",
       " 0.4588,\n",
       " -0.2584,\n",
       " 0.0,\n",
       " 0.0,\n",
       " 0.6802,\n",
       " 0.2212,\n",
       " 0.2212,\n",
       " 0.2212,\n",
       " 0.2212,\n",
       " -0.5719,\n",
       " 0.6486,\n",
       " 0.0,\n",
       " 0.0,\n",
       " 0.0,\n",
       " 0.0,\n",
       " 0.8156,\n",
       " 0.3612,\n",
       " 0.0,\n",
       " 0.2716,\n",
       " 0.0,\n",
       " 0.6027,\n",
       " 0.5106,\n",
       " 0.0,\n",
       " 0.0,\n",
       " -0.5719,\n",
       " 0.792,\n",
       " 0.0,\n",
       " 0.4588,\n",
       " -0.2905,\n",
       " 0.8834,\n",
       " 0.0,\n",
       " 0.0783,\n",
       " 0.0,\n",
       " 0.6369,\n",
       " 0.0,\n",
       " 0.0,\n",
       " 0.6249,\n",
       " -0.8544,\n",
       " -0.5659,\n",
       " 0.3612,\n",
       " 0.6597,\n",
       " -0.68,\n",
       " 0.0,\n",
       " -0.69,\n",
       " 0.5827,\n",
       " -0.5526,\n",
       " 0.0,\n",
       " -0.471,\n",
       " -0.8007,\n",
       " 0.9416,\n",
       " -0.3595,\n",
       " 0.0,\n",
       " -0.5282,\n",
       " 0.4003,\n",
       " -0.8107,\n",
       " 0.3939,\n",
       " 0.6124,\n",
       " 0.0,\n",
       " 0.0,\n",
       " -0.8334,\n",
       " 0.0323,\n",
       " 0.0,\n",
       " 0.0,\n",
       " 0.0,\n",
       " 0.033,\n",
       " 0.4019,\n",
       " 0.3182,\n",
       " -0.7178,\n",
       " 0.9098,\n",
       " 0.5992,\n",
       " 0.0,\n",
       " 0.7574,\n",
       " 0.8417,\n",
       " 0.8772,\n",
       " 0.4404,\n",
       " 0.8356,\n",
       " 0.5385,\n",
       " 0.6114,\n",
       " 0.0,\n",
       " 0.0,\n",
       " 0.0,\n",
       " 0.3612,\n",
       " 0.0,\n",
       " 0.0,\n",
       " -0.1531,\n",
       " 0.3612,\n",
       " 0.0,\n",
       " 0.6369,\n",
       " 0.3182,\n",
       " 0.0,\n",
       " 0.4588,\n",
       " 0.0,\n",
       " 0.4588,\n",
       " 0.8674,\n",
       " 0.0,\n",
       " 0.0,\n",
       " -0.1531,\n",
       " 0.0,\n",
       " 0.0,\n",
       " 0.0,\n",
       " -0.4019,\n",
       " 0.0,\n",
       " 0.0,\n",
       " 0.0,\n",
       " 0.0,\n",
       " 0.0,\n",
       " 0.0,\n",
       " 0.0,\n",
       " 0.0,\n",
       " 0.0,\n",
       " 0.0,\n",
       " 0.0,\n",
       " 0.0,\n",
       " 0.0,\n",
       " 0.0,\n",
       " 0.836,\n",
       " 0.0,\n",
       " 0.0,\n",
       " 0.0,\n",
       " 0.0,\n",
       " -0.8402,\n",
       " 0.0,\n",
       " 0.0,\n",
       " -0.296,\n",
       " 0.0258,\n",
       " 0.5754,\n",
       " 0.0,\n",
       " 0.6239,\n",
       " 0.0,\n",
       " 0.0,\n",
       " 0.0772,\n",
       " 0.0,\n",
       " 0.2023,\n",
       " 0.0,\n",
       " 0.0,\n",
       " 0.3535,\n",
       " 0.6369,\n",
       " -0.6881,\n",
       " 0.5913,\n",
       " 0.0,\n",
       " 0.0,\n",
       " 0.6369,\n",
       " 0.2023,\n",
       " 0.2023,\n",
       " 0.0,\n",
       " 0.0,\n",
       " 0.0,\n",
       " 0.0,\n",
       " -0.7184,\n",
       " -0.7952,\n",
       " 0.4738,\n",
       " 0.7494,\n",
       " 0.0,\n",
       " 0.0,\n",
       " -0.2481,\n",
       " -0.4767,\n",
       " 0.0,\n",
       " 0.6784,\n",
       " 0.0752,\n",
       " 0.3182,\n",
       " 0.0,\n",
       " 0.4019,\n",
       " 0.4404,\n",
       " 0.0,\n",
       " 0.6369,\n",
       " 0.0,\n",
       " 0.7228,\n",
       " 0.0,\n",
       " -0.3875,\n",
       " 0.0,\n",
       " -0.6571,\n",
       " 0.0,\n",
       " 0.2644,\n",
       " 0.0,\n",
       " 0.0,\n",
       " -0.2023,\n",
       " 0.0,\n",
       " 0.0,\n",
       " 0.0,\n",
       " 0.0,\n",
       " -0.1371,\n",
       " 0.5859,\n",
       " 0.6696,\n",
       " 0.8867,\n",
       " -0.4767,\n",
       " -0.3612,\n",
       " -0.2343,\n",
       " 0.4404,\n",
       " 0.0,\n",
       " 0.6458,\n",
       " -0.1531,\n",
       " -0.5023,\n",
       " 0.0,\n",
       " -0.2626,\n",
       " 0.3612,\n",
       " 0.0,\n",
       " 0.457,\n",
       " 0.5399,\n",
       " -0.1027,\n",
       " 0.0,\n",
       " -0.7841,\n",
       " 0.0,\n",
       " 0.3802,\n",
       " 0.0,\n",
       " 0.0,\n",
       " 0.0,\n",
       " 0.6106,\n",
       " 0.8225,\n",
       " 0.0,\n",
       " 0.0,\n",
       " 0.0,\n",
       " 0.5514,\n",
       " 0.3962,\n",
       " 0.3612,\n",
       " 0.4404,\n",
       " 0.4588,\n",
       " 0.0,\n",
       " 0.802,\n",
       " 0.4215,\n",
       " 0.0,\n",
       " 0.6361,\n",
       " 0.6369,\n",
       " 0.2315,\n",
       " 0.0,\n",
       " 0.0,\n",
       " 0.0,\n",
       " 0.802,\n",
       " 0.702,\n",
       " 0.4588,\n",
       " 0.3612,\n",
       " 0.7569,\n",
       " 0.0,\n",
       " 0.6696,\n",
       " 0.0,\n",
       " 0.4404,\n",
       " 0.0,\n",
       " 0.5859,\n",
       " -0.4019,\n",
       " 0.0,\n",
       " 0.7525,\n",
       " -0.3818,\n",
       " 0.0,\n",
       " 0.6369,\n",
       " 0.4389,\n",
       " 0.0,\n",
       " -0.4019,\n",
       " 0.0,\n",
       " -0.5423,\n",
       " 0.0,\n",
       " 0.4995,\n",
       " 0.0,\n",
       " 0.0,\n",
       " -0.2779,\n",
       " 0.3612,\n",
       " 0.8232,\n",
       " 0.5994,\n",
       " 0.9348,\n",
       " -0.3818,\n",
       " 0.0,\n",
       " 0.0,\n",
       " 0.0,\n",
       " 0.3818,\n",
       " 0.0,\n",
       " -0.2732,\n",
       " 0.0,\n",
       " 0.3054,\n",
       " 0.8031,\n",
       " 0.6015,\n",
       " 0.0772,\n",
       " -0.2382,\n",
       " -0.2924,\n",
       " 0.5719,\n",
       " 0.0,\n",
       " 0.0,\n",
       " 0.3612,\n",
       " 0.8303,\n",
       " -0.5423,\n",
       " 0.4574,\n",
       " 0.4404,\n",
       " 0.0,\n",
       " 0.0,\n",
       " 0.0,\n",
       " 0.5175,\n",
       " 0.7469,\n",
       " 0.0,\n",
       " 0.0,\n",
       " 0.0,\n",
       " 0.7901,\n",
       " -0.0258,\n",
       " 0.6697,\n",
       " 0.0,\n",
       " 0.2732,\n",
       " 0.0,\n",
       " 0.4199,\n",
       " 0.6771,\n",
       " -0.4486,\n",
       " 0.0,\n",
       " 0.4404,\n",
       " 0.0,\n",
       " 0.0,\n",
       " 0.5093,\n",
       " 0.0,\n",
       " 0.7556,\n",
       " 0.7556,\n",
       " 0.7556,\n",
       " 0.7556,\n",
       " 0.4576,\n",
       " -0.357,\n",
       " 0.3612,\n",
       " 0.6369,\n",
       " 0.8428,\n",
       " 0.0,\n",
       " 0.0,\n",
       " 0.6369,\n",
       " 0.1531,\n",
       " 0.4084,\n",
       " -0.4215,\n",
       " 0.8471,\n",
       " 0.5719,\n",
       " 0.4588,\n",
       " 0.0,\n",
       " -0.8221,\n",
       " 0.2023,\n",
       " 0.0,\n",
       " 0.0,\n",
       " 0.1531,\n",
       " 0.0,\n",
       " 0.0,\n",
       " 0.5106,\n",
       " -0.4939,\n",
       " 0.6792,\n",
       " 0.0,\n",
       " 0.0,\n",
       " 0.0,\n",
       " 0.0,\n",
       " 0.7717,\n",
       " 0.4939,\n",
       " 0.6369,\n",
       " 0.0,\n",
       " 0.0,\n",
       " 0.0,\n",
       " 0.6369,\n",
       " -0.7579,\n",
       " 0.7184,\n",
       " -0.3089,\n",
       " 0.6801,\n",
       " 0.3612,\n",
       " 0.5688,\n",
       " 0.4404,\n",
       " 0.0,\n",
       " 0.4588,\n",
       " -0.627,\n",
       " 0.5859,\n",
       " 0.7208,\n",
       " 0.0,\n",
       " 0.6361,\n",
       " 0.0,\n",
       " 0.0,\n",
       " 0.4648,\n",
       " 0.3182,\n",
       " 0.0,\n",
       " 0.4404,\n",
       " -0.7717,\n",
       " 0.0,\n",
       " 0.0,\n",
       " 0.4404,\n",
       " 0.0,\n",
       " 0.5621,\n",
       " -0.7351,\n",
       " 0.0,\n",
       " 0.2732,\n",
       " 0.0,\n",
       " 0.5994,\n",
       " 0.7542,\n",
       " 0.4344,\n",
       " 0.3612,\n",
       " 0.0,\n",
       " 0.0,\n",
       " 0.0,\n",
       " 0.5267,\n",
       " 0.6124,\n",
       " 0.5672,\n",
       " -0.3595,\n",
       " 0.5423,\n",
       " 0.0,\n",
       " 0.0,\n",
       " -0.6249,\n",
       " 0.7318,\n",
       " 0.802,\n",
       " 0.6369,\n",
       " 0.3595,\n",
       " 0.3182,\n",
       " 0.8957,\n",
       " 0.0,\n",
       " 0.0,\n",
       " 0.9948,\n",
       " 0.0,\n",
       " 0.0,\n",
       " 0.6682,\n",
       " 0.0,\n",
       " -0.6571,\n",
       " 0.0,\n",
       " 0.6369,\n",
       " -0.4767,\n",
       " 0.4588,\n",
       " 0.0,\n",
       " 0.0,\n",
       " -0.2944,\n",
       " 0.4767,\n",
       " 0.4588,\n",
       " 0.69,\n",
       " 0.6908,\n",
       " 0.0,\n",
       " 0.0,\n",
       " 0.0,\n",
       " 0.0,\n",
       " 0.6369,\n",
       " -0.4215,\n",
       " 0.1759,\n",
       " 0.1901,\n",
       " 0.5824,\n",
       " -0.3164,\n",
       " 0.6369,\n",
       " 0.0,\n",
       " -0.128,\n",
       " 0.0,\n",
       " 0.0,\n",
       " 0.0,\n",
       " 0.4754,\n",
       " 0.0,\n",
       " -0.3291,\n",
       " 0.0,\n",
       " 0.0,\n",
       " 0.0,\n",
       " 0.5994,\n",
       " 0.4003,\n",
       " 0.2732,\n",
       " 0.0508,\n",
       " 0.6124,\n",
       " -0.5267,\n",
       " -0.2263,\n",
       " 0.5229,\n",
       " 0.0,\n",
       " -0.6249,\n",
       " 0.5659,\n",
       " 0.0,\n",
       " 0.0,\n",
       " 0.2023,\n",
       " 0.0,\n",
       " 0.296,\n",
       " 0.0,\n",
       " 0.5859,\n",
       " 0.0,\n",
       " -0.4588,\n",
       " -0.4588,\n",
       " -0.4588,\n",
       " -0.4588,\n",
       " -0.4588,\n",
       " -0.4588,\n",
       " -0.4588,\n",
       " -0.4588,\n",
       " -0.4588,\n",
       " -0.4588,\n",
       " 0.0,\n",
       " 0.0,\n",
       " 0.3182,\n",
       " -0.4215,\n",
       " 0.0,\n",
       " 0.7845,\n",
       " 0.3612,\n",
       " 0.9237,\n",
       " 0.4588,\n",
       " -0.6486,\n",
       " 0.0,\n",
       " 0.0772,\n",
       " 0.9738,\n",
       " 0.8555,\n",
       " 0.8555,\n",
       " 0.8555,\n",
       " 0.8555,\n",
       " 0.0,\n",
       " -0.296,\n",
       " 0.8391,\n",
       " 0.6996,\n",
       " 0.0258,\n",
       " 0.0258,\n",
       " -0.4822,\n",
       " 0.0,\n",
       " 0.34,\n",
       " -0.5204,\n",
       " 0.0,\n",
       " 0.0,\n",
       " 0.0,\n",
       " 0.0,\n",
       " 0.0,\n",
       " 0.2732,\n",
       " 0.0,\n",
       " -0.2023,\n",
       " 0.4404,\n",
       " 0.0,\n",
       " 0.0,\n",
       " 0.0,\n",
       " 0.0,\n",
       " 0.4404,\n",
       " -0.296,\n",
       " 0.6124,\n",
       " -0.1779,\n",
       " 0.0,\n",
       " 0.5994,\n",
       " -0.7281,\n",
       " -0.7345,\n",
       " 0.4926,\n",
       " 0.4019,\n",
       " 0.6249,\n",
       " -0.5267,\n",
       " 0.3182,\n",
       " 0.4926,\n",
       " 0.6486,\n",
       " 0.0,\n",
       " 0.0772,\n",
       " -0.2481,\n",
       " 0.0,\n",
       " 0.3818,\n",
       " 0.0,\n",
       " 0.4574,\n",
       " 0.296,\n",
       " 0.6369,\n",
       " 0.5994,\n",
       " 0.4574,\n",
       " 0.0,\n",
       " 0.926,\n",
       " 0.9274,\n",
       " 0.0,\n",
       " 0.6369,\n",
       " 0.0,\n",
       " -0.6166,\n",
       " -0.6166,\n",
       " 0.0,\n",
       " 0.0,\n",
       " -0.3595,\n",
       " 0.0,\n",
       " 0.0,\n",
       " ...]"
      ]
     },
     "execution_count": 66,
     "metadata": {},
     "output_type": "execute_result"
    }
   ],
   "source": [
    "word_dict = {'manipulate':-1,'manipulative':-1,'cancel':-1,'cancelled':-1,'cancel culture':0.4,'liar':-1}\n",
    "\n",
    "sid.lexicon.update(word_dict)\n",
    "list1 = []\n",
    "for i in df['tweet_clean']:\n",
    "    list1.append((sid.polarity_scores(str(i)))['compound'])\n",
    "    \n",
    "list1"
   ]
  },
  {
   "cell_type": "code",
   "execution_count": 67,
   "id": "3a96ea6c",
   "metadata": {},
   "outputs": [],
   "source": [
    "df['sentiment'] = pd.Series(list1)\n",
    "\n",
    "def sentiment_category(sentiment):\n",
    "    label = ''\n",
    "    if(sentiment>0):\n",
    "        label = 'positive'\n",
    "    elif(sentiment == 0):\n",
    "        label = 'neutral'\n",
    "    else:\n",
    "        label = 'negative'\n",
    "    return(label)\n",
    "\n",
    "df['sentiment_category'] = df['sentiment'].apply(sentiment_category)"
   ]
  },
  {
   "cell_type": "code",
   "execution_count": 68,
   "id": "d30bbed5",
   "metadata": {},
   "outputs": [
    {
     "data": {
      "text/html": [
       "<div>\n",
       "<style scoped>\n",
       "    .dataframe tbody tr th:only-of-type {\n",
       "        vertical-align: middle;\n",
       "    }\n",
       "\n",
       "    .dataframe tbody tr th {\n",
       "        vertical-align: top;\n",
       "    }\n",
       "\n",
       "    .dataframe thead th {\n",
       "        text-align: right;\n",
       "    }\n",
       "</style>\n",
       "<table border=\"1\" class=\"dataframe\">\n",
       "  <thead>\n",
       "    <tr style=\"text-align: right;\">\n",
       "      <th></th>\n",
       "      <th>tweet_clean</th>\n",
       "      <th>created_at</th>\n",
       "      <th>tweet_id</th>\n",
       "      <th>sentiment</th>\n",
       "      <th>sentiment_category</th>\n",
       "      <th>text</th>\n",
       "    </tr>\n",
       "  </thead>\n",
       "  <tbody>\n",
       "    <tr>\n",
       "      <th>18869</th>\n",
       "      <td>Happy New Year home ..</td>\n",
       "      <td>2021-01-01</td>\n",
       "      <td>1344795684529176577</td>\n",
       "      <td>0.4588</td>\n",
       "      <td>positive</td>\n",
       "      <td>@caroline1hill @eBay @FashionNova Happy New Ye...</td>\n",
       "    </tr>\n",
       "    <tr>\n",
       "      <th>18868</th>\n",
       "      <td>You are fantastic</td>\n",
       "      <td>2021-01-01</td>\n",
       "      <td>1344797481272541184</td>\n",
       "      <td>0.0000</td>\n",
       "      <td>neutral</td>\n",
       "      <td>@caroline1hill @eBay @FashionNova You are fant...</td>\n",
       "    </tr>\n",
       "    <tr>\n",
       "      <th>18867</th>\n",
       "      <td>Quiet one for me .</td>\n",
       "      <td>2021-01-01</td>\n",
       "      <td>1344801951989567488</td>\n",
       "      <td>0.0000</td>\n",
       "      <td>neutral</td>\n",
       "      <td>@caroline1hill @eBay @FashionNova Quiet one fo...</td>\n",
       "    </tr>\n",
       "    <tr>\n",
       "      <th>18866</th>\n",
       "      <td>If I am enter 2021 I minus well do it real Sua...</td>\n",
       "      <td>2021-01-01</td>\n",
       "      <td>1344810626892251136</td>\n",
       "      <td>0.2023</td>\n",
       "      <td>positive</td>\n",
       "      <td>If I’m gonna enter 2021 I minus well do it rea...</td>\n",
       "    </tr>\n",
       "    <tr>\n",
       "      <th>18865</th>\n",
       "      <td>If did not get a gift card she will be home .</td>\n",
       "      <td>2021-01-01</td>\n",
       "      <td>1344812692624781312</td>\n",
       "      <td>0.6588</td>\n",
       "      <td>positive</td>\n",
       "      <td>@Allie__W @caroline1hill @eBay @FashionNova If...</td>\n",
       "    </tr>\n",
       "  </tbody>\n",
       "</table>\n",
       "</div>"
      ],
      "text/plain": [
       "                                             tweet_clean  created_at  \\\n",
       "18869                             Happy New Year home ..  2021-01-01   \n",
       "18868                                  You are fantastic  2021-01-01   \n",
       "18867                                 Quiet one for me .  2021-01-01   \n",
       "18866  If I am enter 2021 I minus well do it real Sua...  2021-01-01   \n",
       "18865      If did not get a gift card she will be home .  2021-01-01   \n",
       "\n",
       "                  tweet_id  sentiment sentiment_category  \\\n",
       "18869  1344795684529176577     0.4588           positive   \n",
       "18868  1344797481272541184     0.0000            neutral   \n",
       "18867  1344801951989567488     0.0000            neutral   \n",
       "18866  1344810626892251136     0.2023           positive   \n",
       "18865  1344812692624781312     0.6588           positive   \n",
       "\n",
       "                                                    text  \n",
       "18869  @caroline1hill @eBay @FashionNova Happy New Ye...  \n",
       "18868  @caroline1hill @eBay @FashionNova You are fant...  \n",
       "18867  @caroline1hill @eBay @FashionNova Quiet one fo...  \n",
       "18866  If I’m gonna enter 2021 I minus well do it rea...  \n",
       "18865  @Allie__W @caroline1hill @eBay @FashionNova If...  "
      ]
     },
     "execution_count": 68,
     "metadata": {},
     "output_type": "execute_result"
    }
   ],
   "source": [
    "df = df[['tweet_clean','created_at','tweet_id','sentiment','sentiment_category', 'text']]\n",
    "df.head()"
   ]
  },
  {
   "cell_type": "markdown",
   "id": "905212f5",
   "metadata": {},
   "source": [
    "### Plot time series of the sentiment analysis: Jan 1, 2021 to Mar 31, 2022"
   ]
  },
  {
   "cell_type": "code",
   "execution_count": 69,
   "id": "019109f3",
   "metadata": {},
   "outputs": [],
   "source": [
    "neg = df[df['sentiment_category']=='negative']\n",
    "neg = neg.groupby(['created_at'],as_index=False).count()\n",
    "\n",
    "pos = df[df['sentiment_category']=='positive']\n",
    "pos = pos.groupby(['created_at'],as_index=False).count()\n",
    "\n",
    "pos = pos[['created_at','tweet_id']]\n",
    "neg = neg[['created_at','tweet_id']]"
   ]
  },
  {
   "cell_type": "code",
   "execution_count": 70,
   "id": "91260a2b",
   "metadata": {},
   "outputs": [
    {
     "data": {
      "application/vnd.plotly.v1+json": {
       "config": {
        "plotlyServerURL": "https://plot.ly"
       },
       "data": [
        {
         "connectgaps": true,
         "line": {
          "color": "green",
          "shape": "linear"
         },
         "mode": "markers+lines",
         "name": "created_at",
         "type": "scatter",
         "x": [
          "2021-01-01",
          "2021-01-02",
          "2021-01-03",
          "2021-01-04",
          "2021-01-05",
          "2021-01-06",
          "2021-01-07",
          "2021-01-08",
          "2021-01-09",
          "2021-01-10",
          "2021-01-11",
          "2021-01-12",
          "2021-01-13",
          "2021-01-14",
          "2021-01-15",
          "2021-01-16",
          "2021-01-17",
          "2021-01-18",
          "2021-01-19",
          "2021-01-20",
          "2021-01-21",
          "2021-01-22",
          "2021-01-23",
          "2021-01-24",
          "2021-01-25",
          "2021-01-26",
          "2021-01-27",
          "2021-01-28",
          "2021-01-29",
          "2021-01-30",
          "2021-01-31",
          "2021-02-01",
          "2021-02-02",
          "2021-02-03",
          "2021-02-04",
          "2021-02-05",
          "2021-02-06",
          "2021-02-07",
          "2021-02-08",
          "2021-02-09",
          "2021-02-10",
          "2021-02-11",
          "2021-02-12",
          "2021-02-13",
          "2021-02-14",
          "2021-02-15",
          "2021-02-16",
          "2021-02-17",
          "2021-02-18",
          "2021-02-19",
          "2021-02-20",
          "2021-02-21",
          "2021-02-22",
          "2021-02-23",
          "2021-02-24",
          "2021-02-25",
          "2021-02-26",
          "2021-02-27",
          "2021-02-28",
          "2021-03-01",
          "2021-03-02",
          "2021-03-03",
          "2021-03-04",
          "2021-03-05",
          "2021-03-06",
          "2021-03-07",
          "2021-03-08",
          "2021-03-09",
          "2021-03-10",
          "2021-03-11",
          "2021-03-12",
          "2021-03-13",
          "2021-03-14",
          "2021-03-15",
          "2021-03-16",
          "2021-03-17",
          "2021-03-18",
          "2021-03-19",
          "2021-03-20",
          "2021-03-21",
          "2021-03-22",
          "2021-03-23",
          "2021-03-24",
          "2021-03-25",
          "2021-03-26",
          "2021-03-27",
          "2021-03-28",
          "2021-03-29",
          "2021-03-30",
          "2021-03-31",
          "2021-04-01",
          "2021-04-02",
          "2021-04-03",
          "2021-04-04",
          "2021-04-05",
          "2021-04-06",
          "2021-04-07",
          "2021-04-08",
          "2021-04-09",
          "2021-04-10",
          "2021-04-11",
          "2021-04-12",
          "2021-04-13",
          "2021-04-14",
          "2021-04-15",
          "2021-04-16",
          "2021-04-17",
          "2021-04-18",
          "2021-04-19",
          "2021-04-20",
          "2021-04-21",
          "2021-04-22",
          "2021-04-23",
          "2021-04-24",
          "2021-04-25",
          "2021-04-26",
          "2021-04-27",
          "2021-04-28",
          "2021-04-29",
          "2021-04-30",
          "2021-05-01",
          "2021-05-02",
          "2021-05-03",
          "2021-05-04",
          "2021-05-05",
          "2021-05-06",
          "2021-05-07",
          "2021-05-08",
          "2021-05-09",
          "2021-05-10",
          "2021-05-11",
          "2021-05-12",
          "2021-05-13",
          "2021-05-14",
          "2021-05-15",
          "2021-05-16",
          "2021-05-17",
          "2021-05-18",
          "2021-05-19",
          "2021-05-20",
          "2021-05-21",
          "2021-05-22",
          "2021-05-23",
          "2021-05-24",
          "2021-05-25",
          "2021-05-26",
          "2021-05-27",
          "2021-05-28",
          "2021-05-29",
          "2021-05-30",
          "2021-05-31",
          "2021-06-01",
          "2021-06-02",
          "2021-06-03",
          "2021-06-04",
          "2021-06-05",
          "2021-06-06",
          "2021-06-07",
          "2021-06-08",
          "2021-06-09",
          "2021-06-10",
          "2021-06-11",
          "2021-06-12",
          "2021-06-13",
          "2021-06-14",
          "2021-06-15",
          "2021-06-16",
          "2021-06-17",
          "2021-06-18",
          "2021-06-19",
          "2021-06-20",
          "2021-06-21",
          "2021-06-22",
          "2021-06-23",
          "2021-06-24",
          "2021-06-25",
          "2021-06-26",
          "2021-06-27",
          "2021-06-28",
          "2021-06-29",
          "2021-06-30",
          "2021-07-01",
          "2021-07-02",
          "2021-07-03",
          "2021-07-04",
          "2021-07-05",
          "2021-07-06",
          "2021-07-07",
          "2021-07-08",
          "2021-07-09",
          "2021-07-10",
          "2021-07-11",
          "2021-07-12",
          "2021-07-13",
          "2021-07-14",
          "2021-07-15",
          "2021-07-16",
          "2021-07-17",
          "2021-07-18",
          "2021-07-19",
          "2021-07-20",
          "2021-07-21",
          "2021-07-22",
          "2021-07-23",
          "2021-07-24",
          "2021-07-25",
          "2021-07-26",
          "2021-07-27",
          "2021-07-28",
          "2021-07-29",
          "2021-07-30",
          "2021-07-31",
          "2021-08-01",
          "2021-08-02",
          "2021-08-03",
          "2021-08-04",
          "2021-08-05",
          "2021-08-06",
          "2021-08-07",
          "2021-08-08",
          "2021-08-09",
          "2021-08-10",
          "2021-08-11",
          "2021-08-12",
          "2021-08-13",
          "2021-08-14",
          "2021-08-15",
          "2021-08-16",
          "2021-08-17",
          "2021-08-18",
          "2021-08-19",
          "2021-08-20",
          "2021-08-21",
          "2021-08-22",
          "2021-08-23",
          "2021-08-24",
          "2021-08-25",
          "2021-08-26",
          "2021-08-27",
          "2021-08-28",
          "2021-08-29",
          "2021-08-30",
          "2021-08-31",
          "2021-09-01",
          "2021-09-02",
          "2021-09-03",
          "2021-09-04",
          "2021-09-05",
          "2021-09-06",
          "2021-09-07",
          "2021-09-08",
          "2021-09-09",
          "2021-09-10",
          "2021-09-11",
          "2021-09-12",
          "2021-09-13",
          "2021-09-14",
          "2021-09-15",
          "2021-09-16",
          "2021-09-17",
          "2021-09-18",
          "2021-09-19",
          "2021-09-20",
          "2021-09-21",
          "2021-09-22",
          "2021-09-23",
          "2021-09-24",
          "2021-09-25",
          "2021-09-26",
          "2021-09-27",
          "2021-09-28",
          "2021-09-29",
          "2021-09-30",
          "2021-10-01",
          "2021-10-02",
          "2021-10-03",
          "2021-10-04",
          "2021-10-05",
          "2021-10-06",
          "2021-10-07",
          "2021-10-08",
          "2021-10-09",
          "2021-10-10",
          "2021-10-11",
          "2021-10-12",
          "2021-10-13",
          "2021-10-14",
          "2021-10-15",
          "2021-10-16",
          "2021-10-17",
          "2021-10-18",
          "2021-10-19",
          "2021-10-20",
          "2021-10-21",
          "2021-10-22",
          "2021-10-23",
          "2021-10-24",
          "2021-10-25",
          "2021-10-26",
          "2021-10-27",
          "2021-10-28",
          "2021-10-29",
          "2021-10-30",
          "2021-10-31",
          "2021-11-01",
          "2021-11-02",
          "2021-11-03",
          "2021-11-04",
          "2021-11-05",
          "2021-11-06",
          "2021-11-07",
          "2021-11-08",
          "2021-11-09",
          "2021-11-10",
          "2021-11-11",
          "2021-11-12",
          "2021-11-13",
          "2021-11-14",
          "2021-11-15",
          "2021-11-16",
          "2021-11-17",
          "2021-11-18",
          "2021-11-19",
          "2021-11-20",
          "2021-11-21",
          "2021-11-22",
          "2021-11-23",
          "2021-11-24",
          "2021-11-25",
          "2021-11-26",
          "2021-11-27",
          "2021-11-28",
          "2021-11-29",
          "2021-11-30",
          "2021-12-01",
          "2021-12-02",
          "2021-12-03",
          "2021-12-04",
          "2021-12-05",
          "2021-12-06",
          "2021-12-07",
          "2021-12-08",
          "2021-12-09",
          "2021-12-10",
          "2021-12-11",
          "2021-12-12",
          "2021-12-13",
          "2021-12-14",
          "2021-12-15",
          "2021-12-16",
          "2021-12-17",
          "2021-12-18",
          "2021-12-19",
          "2021-12-20",
          "2021-12-21",
          "2021-12-22",
          "2021-12-23",
          "2021-12-24",
          "2021-12-25",
          "2021-12-26",
          "2021-12-27",
          "2021-12-28",
          "2021-12-29",
          "2021-12-30",
          "2021-12-31",
          "2022-01-01",
          "2022-01-02",
          "2022-01-03",
          "2022-01-04",
          "2022-01-05",
          "2022-01-06",
          "2022-01-07",
          "2022-01-08",
          "2022-01-09",
          "2022-01-10",
          "2022-01-11",
          "2022-01-12",
          "2022-01-13",
          "2022-01-14",
          "2022-01-15",
          "2022-01-16",
          "2022-01-17",
          "2022-01-18",
          "2022-01-19",
          "2022-01-20",
          "2022-01-21",
          "2022-01-22",
          "2022-01-23",
          "2022-01-24",
          "2022-01-25",
          "2022-01-26",
          "2022-01-27",
          "2022-01-28",
          "2022-01-29",
          "2022-01-30",
          "2022-01-31",
          "2022-02-01",
          "2022-02-02",
          "2022-02-03",
          "2022-02-04",
          "2022-02-05",
          "2022-02-06",
          "2022-02-07",
          "2022-02-08",
          "2022-02-09",
          "2022-02-10",
          "2022-02-11",
          "2022-02-12",
          "2022-02-13",
          "2022-02-14",
          "2022-02-15",
          "2022-02-16",
          "2022-02-17",
          "2022-02-18",
          "2022-02-19",
          "2022-02-20",
          "2022-02-21",
          "2022-02-22",
          "2022-02-23",
          "2022-02-24",
          "2022-02-25",
          "2022-02-26",
          "2022-02-27",
          "2022-02-28",
          "2022-03-01",
          "2022-03-02",
          "2022-03-03",
          "2022-03-04",
          "2022-03-05",
          "2022-03-06",
          "2022-03-07",
          "2022-03-08",
          "2022-03-09",
          "2022-03-10",
          "2022-03-11",
          "2022-03-12",
          "2022-03-13",
          "2022-03-14",
          "2022-03-15",
          "2022-03-16",
          "2022-03-17",
          "2022-03-18",
          "2022-03-19",
          "2022-03-20",
          "2022-03-21",
          "2022-03-22",
          "2022-03-23",
          "2022-03-24",
          "2022-03-25",
          "2022-03-26",
          "2022-03-27",
          "2022-03-28",
          "2022-03-29",
          "2022-03-30",
          "2022-03-31"
         ],
         "y": [
          56,
          35,
          17,
          56,
          51,
          58,
          38,
          36,
          32,
          27,
          17,
          39,
          46,
          30,
          61,
          15,
          31,
          46,
          28,
          50,
          38,
          32,
          41,
          55,
          92,
          53,
          38,
          50,
          42,
          34,
          28,
          31,
          48,
          34,
          31,
          35,
          34,
          42,
          304,
          55,
          39,
          30,
          40,
          32,
          36,
          46,
          43,
          29,
          32,
          20,
          25,
          47,
          26,
          29,
          57,
          21,
          14,
          26,
          26,
          31,
          37,
          25,
          43,
          19,
          38,
          18,
          36,
          43,
          37,
          37,
          30,
          42,
          29,
          44,
          102,
          137,
          65,
          46,
          25,
          25,
          24,
          18,
          25,
          37,
          41,
          44,
          24,
          15,
          48,
          35,
          34,
          33,
          26,
          29,
          26,
          28,
          20,
          26,
          41,
          46,
          26,
          46,
          91,
          31,
          36,
          102,
          27,
          21,
          43,
          28,
          16,
          34,
          52,
          39,
          34,
          40,
          45,
          43,
          28,
          13,
          26,
          22,
          32,
          35,
          40,
          44,
          86,
          49,
          23,
          30,
          45,
          45,
          47,
          53,
          69,
          24,
          29,
          35,
          44,
          21,
          33,
          31,
          27,
          25,
          34,
          28,
          48,
          40,
          10,
          11,
          17,
          17,
          22,
          18,
          13,
          8,
          20,
          36,
          24,
          37,
          43,
          20,
          23,
          36,
          64,
          42,
          44,
          54,
          37,
          35,
          37,
          56,
          54,
          94,
          40,
          34,
          37,
          22,
          22,
          21,
          21,
          22,
          15,
          28,
          23,
          15,
          37,
          25,
          32,
          38,
          35,
          39,
          57,
          78,
          47,
          19,
          39,
          29,
          24,
          15,
          22,
          47,
          61,
          55,
          44,
          25,
          42,
          46,
          28,
          16,
          10,
          35,
          29,
          29,
          33,
          23,
          30,
          41,
          38,
          25,
          18,
          19,
          17,
          32,
          27,
          19,
          22,
          25,
          40,
          36,
          50,
          46,
          41,
          32,
          41,
          38,
          42,
          48,
          39,
          29,
          34,
          55,
          16,
          21,
          21,
          16,
          9,
          24,
          31,
          27,
          25,
          16,
          54,
          49,
          58,
          56,
          77,
          76,
          64,
          109,
          66,
          49,
          64,
          69,
          58,
          51,
          53,
          40,
          27,
          32,
          45,
          29,
          42,
          30,
          14,
          29,
          590,
          96,
          52,
          59,
          64,
          36,
          44,
          63,
          39,
          58,
          34,
          30,
          17,
          27,
          32,
          45,
          32,
          71,
          85,
          24,
          15,
          34,
          50,
          33,
          52,
          40,
          27,
          21,
          22,
          27,
          25,
          26,
          22,
          58,
          44,
          23,
          53,
          45,
          45,
          40,
          39,
          36,
          40,
          50,
          50,
          37,
          54,
          28,
          47,
          34,
          35,
          38,
          69,
          56,
          64,
          30,
          51,
          88,
          46,
          43,
          36,
          34,
          21,
          32,
          41,
          63,
          109,
          97,
          59,
          54,
          58,
          61,
          57,
          41,
          50,
          36,
          24,
          45,
          45,
          37,
          34,
          28,
          17,
          36,
          40,
          28,
          17,
          38,
          46,
          28,
          52,
          16,
          27,
          24,
          20,
          30,
          30,
          106,
          40,
          37,
          37,
          49,
          12,
          49,
          47,
          39,
          58,
          43,
          64,
          40,
          15,
          33,
          15,
          22,
          47,
          9,
          50,
          43,
          34,
          35,
          33,
          18,
          12,
          22,
          40,
          33,
          40,
          28,
          31,
          19,
          13,
          27,
          21,
          29,
          19,
          13,
          75,
          25,
          24,
          17,
          12,
          23,
          51,
          46,
          59,
          35,
          22,
          25,
          25,
          15,
          19,
          40,
          38,
          40,
          34,
          32,
          37,
          19,
          20,
          43,
          28,
          49,
          35,
          32,
          32,
          28,
          27,
          22,
          44,
          61,
          67,
          74,
          67,
          45,
          34,
          199,
          42,
          61,
          75
         ]
        },
        {
         "connectgaps": true,
         "line": {
          "color": "green",
          "shape": "linear"
         },
         "mode": "markers+lines",
         "name": "tweet_id",
         "type": "scatter",
         "x": [
          "2021-01-01",
          "2021-01-02",
          "2021-01-03",
          "2021-01-04",
          "2021-01-05",
          "2021-01-06",
          "2021-01-07",
          "2021-01-08",
          "2021-01-09",
          "2021-01-10",
          "2021-01-11",
          "2021-01-12",
          "2021-01-13",
          "2021-01-14",
          "2021-01-15",
          "2021-01-16",
          "2021-01-17",
          "2021-01-18",
          "2021-01-19",
          "2021-01-20",
          "2021-01-21",
          "2021-01-22",
          "2021-01-23",
          "2021-01-24",
          "2021-01-25",
          "2021-01-26",
          "2021-01-27",
          "2021-01-28",
          "2021-01-29",
          "2021-01-30",
          "2021-01-31",
          "2021-02-01",
          "2021-02-02",
          "2021-02-03",
          "2021-02-04",
          "2021-02-05",
          "2021-02-06",
          "2021-02-07",
          "2021-02-08",
          "2021-02-09",
          "2021-02-10",
          "2021-02-11",
          "2021-02-12",
          "2021-02-13",
          "2021-02-14",
          "2021-02-15",
          "2021-02-16",
          "2021-02-17",
          "2021-02-18",
          "2021-02-19",
          "2021-02-20",
          "2021-02-21",
          "2021-02-22",
          "2021-02-23",
          "2021-02-24",
          "2021-02-25",
          "2021-02-26",
          "2021-02-27",
          "2021-02-28",
          "2021-03-01",
          "2021-03-02",
          "2021-03-03",
          "2021-03-04",
          "2021-03-05",
          "2021-03-06",
          "2021-03-07",
          "2021-03-08",
          "2021-03-09",
          "2021-03-10",
          "2021-03-11",
          "2021-03-12",
          "2021-03-13",
          "2021-03-14",
          "2021-03-15",
          "2021-03-16",
          "2021-03-17",
          "2021-03-18",
          "2021-03-19",
          "2021-03-20",
          "2021-03-21",
          "2021-03-22",
          "2021-03-23",
          "2021-03-24",
          "2021-03-25",
          "2021-03-26",
          "2021-03-27",
          "2021-03-28",
          "2021-03-29",
          "2021-03-30",
          "2021-03-31",
          "2021-04-01",
          "2021-04-02",
          "2021-04-03",
          "2021-04-04",
          "2021-04-05",
          "2021-04-06",
          "2021-04-07",
          "2021-04-08",
          "2021-04-09",
          "2021-04-10",
          "2021-04-11",
          "2021-04-12",
          "2021-04-13",
          "2021-04-14",
          "2021-04-15",
          "2021-04-16",
          "2021-04-17",
          "2021-04-18",
          "2021-04-19",
          "2021-04-20",
          "2021-04-21",
          "2021-04-22",
          "2021-04-23",
          "2021-04-24",
          "2021-04-25",
          "2021-04-26",
          "2021-04-27",
          "2021-04-28",
          "2021-04-29",
          "2021-04-30",
          "2021-05-01",
          "2021-05-02",
          "2021-05-03",
          "2021-05-04",
          "2021-05-05",
          "2021-05-06",
          "2021-05-07",
          "2021-05-08",
          "2021-05-09",
          "2021-05-10",
          "2021-05-11",
          "2021-05-12",
          "2021-05-13",
          "2021-05-14",
          "2021-05-15",
          "2021-05-16",
          "2021-05-17",
          "2021-05-18",
          "2021-05-19",
          "2021-05-20",
          "2021-05-21",
          "2021-05-22",
          "2021-05-23",
          "2021-05-24",
          "2021-05-25",
          "2021-05-26",
          "2021-05-27",
          "2021-05-28",
          "2021-05-29",
          "2021-05-30",
          "2021-05-31",
          "2021-06-01",
          "2021-06-02",
          "2021-06-03",
          "2021-06-04",
          "2021-06-05",
          "2021-06-06",
          "2021-06-07",
          "2021-06-08",
          "2021-06-09",
          "2021-06-10",
          "2021-06-11",
          "2021-06-12",
          "2021-06-13",
          "2021-06-14",
          "2021-06-15",
          "2021-06-16",
          "2021-06-17",
          "2021-06-18",
          "2021-06-19",
          "2021-06-20",
          "2021-06-21",
          "2021-06-22",
          "2021-06-23",
          "2021-06-24",
          "2021-06-25",
          "2021-06-26",
          "2021-06-27",
          "2021-06-28",
          "2021-06-29",
          "2021-06-30",
          "2021-07-01",
          "2021-07-02",
          "2021-07-03",
          "2021-07-04",
          "2021-07-05",
          "2021-07-06",
          "2021-07-07",
          "2021-07-08",
          "2021-07-09",
          "2021-07-10",
          "2021-07-11",
          "2021-07-12",
          "2021-07-13",
          "2021-07-14",
          "2021-07-15",
          "2021-07-16",
          "2021-07-17",
          "2021-07-18",
          "2021-07-19",
          "2021-07-20",
          "2021-07-21",
          "2021-07-22",
          "2021-07-23",
          "2021-07-24",
          "2021-07-25",
          "2021-07-26",
          "2021-07-27",
          "2021-07-28",
          "2021-07-29",
          "2021-07-30",
          "2021-07-31",
          "2021-08-01",
          "2021-08-02",
          "2021-08-03",
          "2021-08-04",
          "2021-08-05",
          "2021-08-06",
          "2021-08-07",
          "2021-08-08",
          "2021-08-09",
          "2021-08-10",
          "2021-08-11",
          "2021-08-12",
          "2021-08-13",
          "2021-08-14",
          "2021-08-15",
          "2021-08-16",
          "2021-08-17",
          "2021-08-18",
          "2021-08-19",
          "2021-08-20",
          "2021-08-21",
          "2021-08-22",
          "2021-08-23",
          "2021-08-24",
          "2021-08-25",
          "2021-08-26",
          "2021-08-27",
          "2021-08-28",
          "2021-08-29",
          "2021-08-30",
          "2021-08-31",
          "2021-09-01",
          "2021-09-02",
          "2021-09-03",
          "2021-09-04",
          "2021-09-05",
          "2021-09-06",
          "2021-09-07",
          "2021-09-08",
          "2021-09-09",
          "2021-09-10",
          "2021-09-11",
          "2021-09-12",
          "2021-09-13",
          "2021-09-14",
          "2021-09-15",
          "2021-09-16",
          "2021-09-17",
          "2021-09-18",
          "2021-09-19",
          "2021-09-20",
          "2021-09-21",
          "2021-09-22",
          "2021-09-23",
          "2021-09-24",
          "2021-09-25",
          "2021-09-26",
          "2021-09-27",
          "2021-09-28",
          "2021-09-29",
          "2021-09-30",
          "2021-10-01",
          "2021-10-02",
          "2021-10-03",
          "2021-10-04",
          "2021-10-05",
          "2021-10-06",
          "2021-10-07",
          "2021-10-08",
          "2021-10-09",
          "2021-10-10",
          "2021-10-11",
          "2021-10-12",
          "2021-10-13",
          "2021-10-14",
          "2021-10-15",
          "2021-10-16",
          "2021-10-17",
          "2021-10-18",
          "2021-10-19",
          "2021-10-20",
          "2021-10-21",
          "2021-10-22",
          "2021-10-23",
          "2021-10-24",
          "2021-10-25",
          "2021-10-26",
          "2021-10-27",
          "2021-10-28",
          "2021-10-29",
          "2021-10-30",
          "2021-10-31",
          "2021-11-01",
          "2021-11-02",
          "2021-11-03",
          "2021-11-04",
          "2021-11-05",
          "2021-11-06",
          "2021-11-07",
          "2021-11-08",
          "2021-11-09",
          "2021-11-10",
          "2021-11-11",
          "2021-11-12",
          "2021-11-13",
          "2021-11-14",
          "2021-11-15",
          "2021-11-16",
          "2021-11-17",
          "2021-11-18",
          "2021-11-19",
          "2021-11-20",
          "2021-11-21",
          "2021-11-22",
          "2021-11-23",
          "2021-11-24",
          "2021-11-25",
          "2021-11-26",
          "2021-11-27",
          "2021-11-28",
          "2021-11-29",
          "2021-11-30",
          "2021-12-01",
          "2021-12-02",
          "2021-12-03",
          "2021-12-04",
          "2021-12-05",
          "2021-12-06",
          "2021-12-07",
          "2021-12-08",
          "2021-12-09",
          "2021-12-10",
          "2021-12-11",
          "2021-12-12",
          "2021-12-13",
          "2021-12-14",
          "2021-12-15",
          "2021-12-16",
          "2021-12-17",
          "2021-12-18",
          "2021-12-19",
          "2021-12-20",
          "2021-12-21",
          "2021-12-22",
          "2021-12-23",
          "2021-12-24",
          "2021-12-25",
          "2021-12-26",
          "2021-12-27",
          "2021-12-28",
          "2021-12-29",
          "2021-12-30",
          "2021-12-31",
          "2022-01-01",
          "2022-01-02",
          "2022-01-03",
          "2022-01-04",
          "2022-01-05",
          "2022-01-06",
          "2022-01-07",
          "2022-01-08",
          "2022-01-09",
          "2022-01-10",
          "2022-01-11",
          "2022-01-12",
          "2022-01-13",
          "2022-01-14",
          "2022-01-15",
          "2022-01-16",
          "2022-01-17",
          "2022-01-18",
          "2022-01-19",
          "2022-01-20",
          "2022-01-21",
          "2022-01-22",
          "2022-01-23",
          "2022-01-24",
          "2022-01-25",
          "2022-01-26",
          "2022-01-27",
          "2022-01-28",
          "2022-01-29",
          "2022-01-30",
          "2022-01-31",
          "2022-02-01",
          "2022-02-02",
          "2022-02-03",
          "2022-02-04",
          "2022-02-05",
          "2022-02-06",
          "2022-02-07",
          "2022-02-08",
          "2022-02-09",
          "2022-02-10",
          "2022-02-11",
          "2022-02-12",
          "2022-02-13",
          "2022-02-14",
          "2022-02-15",
          "2022-02-16",
          "2022-02-17",
          "2022-02-18",
          "2022-02-19",
          "2022-02-20",
          "2022-02-21",
          "2022-02-22",
          "2022-02-23",
          "2022-02-24",
          "2022-02-25",
          "2022-02-26",
          "2022-02-27",
          "2022-02-28",
          "2022-03-01",
          "2022-03-02",
          "2022-03-03",
          "2022-03-04",
          "2022-03-05",
          "2022-03-06",
          "2022-03-07",
          "2022-03-08",
          "2022-03-09",
          "2022-03-10",
          "2022-03-11",
          "2022-03-12",
          "2022-03-13",
          "2022-03-14",
          "2022-03-15",
          "2022-03-16",
          "2022-03-17",
          "2022-03-18",
          "2022-03-19",
          "2022-03-20",
          "2022-03-21",
          "2022-03-22",
          "2022-03-23",
          "2022-03-24",
          "2022-03-25",
          "2022-03-26",
          "2022-03-27",
          "2022-03-28",
          "2022-03-29",
          "2022-03-30",
          "2022-03-31"
         ],
         "y": [
          56,
          35,
          17,
          56,
          51,
          58,
          38,
          36,
          32,
          27,
          17,
          39,
          46,
          30,
          61,
          15,
          31,
          46,
          28,
          50,
          38,
          32,
          41,
          55,
          92,
          53,
          38,
          50,
          42,
          34,
          28,
          31,
          48,
          34,
          31,
          35,
          34,
          42,
          304,
          55,
          39,
          30,
          40,
          32,
          36,
          46,
          43,
          29,
          32,
          20,
          25,
          47,
          26,
          29,
          57,
          21,
          14,
          26,
          26,
          31,
          37,
          25,
          43,
          19,
          38,
          18,
          36,
          43,
          37,
          37,
          30,
          42,
          29,
          44,
          102,
          137,
          65,
          46,
          25,
          25,
          24,
          18,
          25,
          37,
          41,
          44,
          24,
          15,
          48,
          35,
          34,
          33,
          26,
          29,
          26,
          28,
          20,
          26,
          41,
          46,
          26,
          46,
          91,
          31,
          36,
          102,
          27,
          21,
          43,
          28,
          16,
          34,
          52,
          39,
          34,
          40,
          45,
          43,
          28,
          13,
          26,
          22,
          32,
          35,
          40,
          44,
          86,
          49,
          23,
          30,
          45,
          45,
          47,
          53,
          69,
          24,
          29,
          35,
          44,
          21,
          33,
          31,
          27,
          25,
          34,
          28,
          48,
          40,
          10,
          11,
          17,
          17,
          22,
          18,
          13,
          8,
          20,
          36,
          24,
          37,
          43,
          20,
          23,
          36,
          64,
          42,
          44,
          54,
          37,
          35,
          37,
          56,
          54,
          94,
          40,
          34,
          37,
          22,
          22,
          21,
          21,
          22,
          15,
          28,
          23,
          15,
          37,
          25,
          32,
          38,
          35,
          39,
          57,
          78,
          47,
          19,
          39,
          29,
          24,
          15,
          22,
          47,
          61,
          55,
          44,
          25,
          42,
          46,
          28,
          16,
          10,
          35,
          29,
          29,
          33,
          23,
          30,
          41,
          38,
          25,
          18,
          19,
          17,
          32,
          27,
          19,
          22,
          25,
          40,
          36,
          50,
          46,
          41,
          32,
          41,
          38,
          42,
          48,
          39,
          29,
          34,
          55,
          16,
          21,
          21,
          16,
          9,
          24,
          31,
          27,
          25,
          16,
          54,
          49,
          58,
          56,
          77,
          76,
          64,
          109,
          66,
          49,
          64,
          69,
          58,
          51,
          53,
          40,
          27,
          32,
          45,
          29,
          42,
          30,
          14,
          29,
          590,
          96,
          52,
          59,
          64,
          36,
          44,
          63,
          39,
          58,
          34,
          30,
          17,
          27,
          32,
          45,
          32,
          71,
          85,
          24,
          15,
          34,
          50,
          33,
          52,
          40,
          27,
          21,
          22,
          27,
          25,
          26,
          22,
          58,
          44,
          23,
          53,
          45,
          45,
          40,
          39,
          36,
          40,
          50,
          50,
          37,
          54,
          28,
          47,
          34,
          35,
          38,
          69,
          56,
          64,
          30,
          51,
          88,
          46,
          43,
          36,
          34,
          21,
          32,
          41,
          63,
          109,
          97,
          59,
          54,
          58,
          61,
          57,
          41,
          50,
          36,
          24,
          45,
          45,
          37,
          34,
          28,
          17,
          36,
          40,
          28,
          17,
          38,
          46,
          28,
          52,
          16,
          27,
          24,
          20,
          30,
          30,
          106,
          40,
          37,
          37,
          49,
          12,
          49,
          47,
          39,
          58,
          43,
          64,
          40,
          15,
          33,
          15,
          22,
          47,
          9,
          50,
          43,
          34,
          35,
          33,
          18,
          12,
          22,
          40,
          33,
          40,
          28,
          31,
          19,
          13,
          27,
          21,
          29,
          19,
          13,
          75,
          25,
          24,
          17,
          12,
          23,
          51,
          46,
          59,
          35,
          22,
          25,
          25,
          15,
          19,
          40,
          38,
          40,
          34,
          32,
          37,
          19,
          20,
          43,
          28,
          49,
          35,
          32,
          32,
          28,
          27,
          22,
          44,
          61,
          67,
          74,
          67,
          45,
          34,
          199,
          42,
          61,
          75
         ]
        },
        {
         "connectgaps": true,
         "line": {
          "color": "red",
          "shape": "linear"
         },
         "mode": "markers+lines",
         "name": "created_at",
         "type": "scatter",
         "x": [
          "2021-01-01",
          "2021-01-02",
          "2021-01-03",
          "2021-01-04",
          "2021-01-05",
          "2021-01-06",
          "2021-01-07",
          "2021-01-08",
          "2021-01-09",
          "2021-01-10",
          "2021-01-11",
          "2021-01-12",
          "2021-01-13",
          "2021-01-14",
          "2021-01-15",
          "2021-01-16",
          "2021-01-17",
          "2021-01-18",
          "2021-01-19",
          "2021-01-20",
          "2021-01-21",
          "2021-01-22",
          "2021-01-23",
          "2021-01-24",
          "2021-01-25",
          "2021-01-26",
          "2021-01-27",
          "2021-01-28",
          "2021-01-29",
          "2021-01-30",
          "2021-01-31",
          "2021-02-01",
          "2021-02-02",
          "2021-02-03",
          "2021-02-04",
          "2021-02-05",
          "2021-02-06",
          "2021-02-07",
          "2021-02-08",
          "2021-02-09",
          "2021-02-10",
          "2021-02-11",
          "2021-02-12",
          "2021-02-13",
          "2021-02-14",
          "2021-02-15",
          "2021-02-16",
          "2021-02-17",
          "2021-02-18",
          "2021-02-19",
          "2021-02-20",
          "2021-02-21",
          "2021-02-22",
          "2021-02-23",
          "2021-02-24",
          "2021-02-25",
          "2021-02-26",
          "2021-02-27",
          "2021-02-28",
          "2021-03-01",
          "2021-03-02",
          "2021-03-03",
          "2021-03-04",
          "2021-03-05",
          "2021-03-06",
          "2021-03-07",
          "2021-03-08",
          "2021-03-09",
          "2021-03-10",
          "2021-03-11",
          "2021-03-12",
          "2021-03-13",
          "2021-03-14",
          "2021-03-15",
          "2021-03-16",
          "2021-03-17",
          "2021-03-18",
          "2021-03-19",
          "2021-03-20",
          "2021-03-21",
          "2021-03-22",
          "2021-03-23",
          "2021-03-24",
          "2021-03-25",
          "2021-03-26",
          "2021-03-27",
          "2021-03-28",
          "2021-03-29",
          "2021-03-30",
          "2021-03-31",
          "2021-04-01",
          "2021-04-02",
          "2021-04-03",
          "2021-04-04",
          "2021-04-05",
          "2021-04-06",
          "2021-04-07",
          "2021-04-08",
          "2021-04-09",
          "2021-04-10",
          "2021-04-11",
          "2021-04-12",
          "2021-04-13",
          "2021-04-14",
          "2021-04-15",
          "2021-04-16",
          "2021-04-17",
          "2021-04-18",
          "2021-04-19",
          "2021-04-20",
          "2021-04-21",
          "2021-04-22",
          "2021-04-23",
          "2021-04-24",
          "2021-04-25",
          "2021-04-26",
          "2021-04-27",
          "2021-04-28",
          "2021-04-29",
          "2021-04-30",
          "2021-05-01",
          "2021-05-02",
          "2021-05-03",
          "2021-05-04",
          "2021-05-05",
          "2021-05-06",
          "2021-05-07",
          "2021-05-08",
          "2021-05-09",
          "2021-05-10",
          "2021-05-11",
          "2021-05-12",
          "2021-05-13",
          "2021-05-14",
          "2021-05-15",
          "2021-05-16",
          "2021-05-17",
          "2021-05-18",
          "2021-05-19",
          "2021-05-20",
          "2021-05-21",
          "2021-05-22",
          "2021-05-23",
          "2021-05-24",
          "2021-05-25",
          "2021-05-26",
          "2021-05-27",
          "2021-05-28",
          "2021-05-29",
          "2021-05-30",
          "2021-05-31",
          "2021-06-01",
          "2021-06-02",
          "2021-06-03",
          "2021-06-04",
          "2021-06-05",
          "2021-06-06",
          "2021-06-07",
          "2021-06-08",
          "2021-06-09",
          "2021-06-10",
          "2021-06-11",
          "2021-06-12",
          "2021-06-13",
          "2021-06-14",
          "2021-06-15",
          "2021-06-16",
          "2021-06-17",
          "2021-06-18",
          "2021-06-19",
          "2021-06-20",
          "2021-06-21",
          "2021-06-22",
          "2021-06-23",
          "2021-06-24",
          "2021-06-25",
          "2021-06-26",
          "2021-06-27",
          "2021-06-28",
          "2021-06-29",
          "2021-06-30",
          "2021-07-01",
          "2021-07-02",
          "2021-07-03",
          "2021-07-04",
          "2021-07-05",
          "2021-07-06",
          "2021-07-07",
          "2021-07-08",
          "2021-07-09",
          "2021-07-10",
          "2021-07-11",
          "2021-07-12",
          "2021-07-13",
          "2021-07-14",
          "2021-07-15",
          "2021-07-16",
          "2021-07-17",
          "2021-07-18",
          "2021-07-20",
          "2021-07-21",
          "2021-07-22",
          "2021-07-23",
          "2021-07-24",
          "2021-07-25",
          "2021-07-26",
          "2021-07-27",
          "2021-07-28",
          "2021-07-29",
          "2021-07-30",
          "2021-07-31",
          "2021-08-01",
          "2021-08-02",
          "2021-08-03",
          "2021-08-04",
          "2021-08-05",
          "2021-08-06",
          "2021-08-07",
          "2021-08-08",
          "2021-08-09",
          "2021-08-10",
          "2021-08-11",
          "2021-08-12",
          "2021-08-13",
          "2021-08-14",
          "2021-08-15",
          "2021-08-16",
          "2021-08-17",
          "2021-08-18",
          "2021-08-19",
          "2021-08-20",
          "2021-08-21",
          "2021-08-22",
          "2021-08-23",
          "2021-08-24",
          "2021-08-25",
          "2021-08-26",
          "2021-08-27",
          "2021-08-28",
          "2021-08-29",
          "2021-08-30",
          "2021-08-31",
          "2021-09-01",
          "2021-09-02",
          "2021-09-03",
          "2021-09-04",
          "2021-09-05",
          "2021-09-06",
          "2021-09-07",
          "2021-09-08",
          "2021-09-09",
          "2021-09-10",
          "2021-09-11",
          "2021-09-12",
          "2021-09-13",
          "2021-09-14",
          "2021-09-15",
          "2021-09-16",
          "2021-09-17",
          "2021-09-18",
          "2021-09-19",
          "2021-09-20",
          "2021-09-21",
          "2021-09-22",
          "2021-09-23",
          "2021-09-24",
          "2021-09-25",
          "2021-09-26",
          "2021-09-27",
          "2021-09-28",
          "2021-09-29",
          "2021-09-30",
          "2021-10-01",
          "2021-10-02",
          "2021-10-03",
          "2021-10-04",
          "2021-10-05",
          "2021-10-06",
          "2021-10-07",
          "2021-10-08",
          "2021-10-09",
          "2021-10-10",
          "2021-10-11",
          "2021-10-12",
          "2021-10-13",
          "2021-10-14",
          "2021-10-15",
          "2021-10-16",
          "2021-10-17",
          "2021-10-18",
          "2021-10-19",
          "2021-10-20",
          "2021-10-21",
          "2021-10-22",
          "2021-10-23",
          "2021-10-24",
          "2021-10-25",
          "2021-10-26",
          "2021-10-27",
          "2021-10-28",
          "2021-10-29",
          "2021-10-30",
          "2021-10-31",
          "2021-11-01",
          "2021-11-02",
          "2021-11-03",
          "2021-11-04",
          "2021-11-05",
          "2021-11-06",
          "2021-11-07",
          "2021-11-08",
          "2021-11-09",
          "2021-11-10",
          "2021-11-11",
          "2021-11-12",
          "2021-11-14",
          "2021-11-15",
          "2021-11-16",
          "2021-11-17",
          "2021-11-18",
          "2021-11-19",
          "2021-11-20",
          "2021-11-21",
          "2021-11-22",
          "2021-11-23",
          "2021-11-24",
          "2021-11-25",
          "2021-11-26",
          "2021-11-27",
          "2021-11-28",
          "2021-11-29",
          "2021-11-30",
          "2021-12-01",
          "2021-12-02",
          "2021-12-03",
          "2021-12-04",
          "2021-12-05",
          "2021-12-06",
          "2021-12-07",
          "2021-12-08",
          "2021-12-09",
          "2021-12-10",
          "2021-12-11",
          "2021-12-12",
          "2021-12-13",
          "2021-12-14",
          "2021-12-15",
          "2021-12-16",
          "2021-12-17",
          "2021-12-18",
          "2021-12-19",
          "2021-12-20",
          "2021-12-21",
          "2021-12-22",
          "2021-12-23",
          "2021-12-24",
          "2021-12-25",
          "2021-12-26",
          "2021-12-27",
          "2021-12-28",
          "2021-12-29",
          "2021-12-30",
          "2021-12-31",
          "2022-01-01",
          "2022-01-02",
          "2022-01-03",
          "2022-01-04",
          "2022-01-05",
          "2022-01-06",
          "2022-01-07",
          "2022-01-08",
          "2022-01-09",
          "2022-01-10",
          "2022-01-11",
          "2022-01-12",
          "2022-01-13",
          "2022-01-14",
          "2022-01-15",
          "2022-01-16",
          "2022-01-17",
          "2022-01-18",
          "2022-01-19",
          "2022-01-20",
          "2022-01-21",
          "2022-01-22",
          "2022-01-23",
          "2022-01-24",
          "2022-01-25",
          "2022-01-26",
          "2022-01-27",
          "2022-01-28",
          "2022-01-29",
          "2022-01-30",
          "2022-01-31",
          "2022-02-01",
          "2022-02-02",
          "2022-02-03",
          "2022-02-04",
          "2022-02-05",
          "2022-02-06",
          "2022-02-07",
          "2022-02-08",
          "2022-02-09",
          "2022-02-10",
          "2022-02-11",
          "2022-02-12",
          "2022-02-13",
          "2022-02-14",
          "2022-02-15",
          "2022-02-16",
          "2022-02-17",
          "2022-02-18",
          "2022-02-19",
          "2022-02-20",
          "2022-02-21",
          "2022-02-22",
          "2022-02-23",
          "2022-02-24",
          "2022-02-25",
          "2022-02-26",
          "2022-02-27",
          "2022-02-28",
          "2022-03-01",
          "2022-03-02",
          "2022-03-03",
          "2022-03-04",
          "2022-03-05",
          "2022-03-06",
          "2022-03-07",
          "2022-03-08",
          "2022-03-09",
          "2022-03-10",
          "2022-03-11",
          "2022-03-12",
          "2022-03-13",
          "2022-03-14",
          "2022-03-15",
          "2022-03-16",
          "2022-03-17",
          "2022-03-18",
          "2022-03-19",
          "2022-03-20",
          "2022-03-21",
          "2022-03-22",
          "2022-03-23",
          "2022-03-24",
          "2022-03-25",
          "2022-03-26",
          "2022-03-27",
          "2022-03-28",
          "2022-03-29",
          "2022-03-30",
          "2022-03-31"
         ],
         "y": [
          12,
          14,
          12,
          16,
          16,
          20,
          28,
          8,
          14,
          7,
          12,
          15,
          6,
          15,
          18,
          10,
          4,
          12,
          7,
          7,
          12,
          7,
          10,
          18,
          33,
          14,
          15,
          3,
          11,
          14,
          11,
          9,
          10,
          6,
          19,
          10,
          21,
          8,
          83,
          11,
          12,
          6,
          9,
          8,
          7,
          17,
          25,
          12,
          25,
          8,
          10,
          12,
          15,
          21,
          17,
          8,
          10,
          12,
          19,
          13,
          14,
          12,
          33,
          8,
          14,
          8,
          20,
          20,
          16,
          3,
          9,
          10,
          5,
          14,
          32,
          52,
          10,
          14,
          10,
          7,
          6,
          3,
          25,
          18,
          16,
          10,
          5,
          18,
          13,
          10,
          8,
          19,
          20,
          5,
          19,
          20,
          25,
          13,
          15,
          27,
          16,
          31,
          24,
          24,
          5,
          18,
          8,
          2,
          8,
          21,
          7,
          8,
          17,
          23,
          13,
          16,
          12,
          7,
          22,
          72,
          40,
          20,
          11,
          11,
          12,
          12,
          33,
          13,
          17,
          10,
          13,
          21,
          11,
          27,
          25,
          25,
          9,
          13,
          34,
          10,
          4,
          9,
          8,
          12,
          11,
          17,
          15,
          13,
          13,
          10,
          8,
          9,
          15,
          25,
          10,
          7,
          4,
          11,
          12,
          5,
          7,
          5,
          7,
          9,
          5,
          10,
          8,
          19,
          11,
          13,
          6,
          19,
          16,
          43,
          23,
          7,
          9,
          4,
          8,
          7,
          5,
          11,
          10,
          8,
          7,
          4,
          10,
          23,
          12,
          9,
          5,
          17,
          13,
          12,
          6,
          3,
          6,
          6,
          3,
          3,
          13,
          8,
          11,
          6,
          7,
          9,
          8,
          8,
          8,
          8,
          4,
          6,
          13,
          14,
          47,
          26,
          12,
          18,
          8,
          10,
          4,
          8,
          18,
          16,
          8,
          9,
          9,
          13,
          10,
          20,
          21,
          25,
          7,
          11,
          17,
          18,
          17,
          26,
          22,
          14,
          15,
          7,
          18,
          7,
          6,
          11,
          21,
          21,
          23,
          16,
          10,
          19,
          18,
          10,
          15,
          24,
          25,
          22,
          16,
          17,
          3,
          9,
          4,
          10,
          7,
          14,
          3,
          2,
          10,
          7,
          9,
          12,
          10,
          2,
          3,
          168,
          15,
          8,
          16,
          17,
          8,
          5,
          10,
          7,
          10,
          11,
          11,
          4,
          7,
          5,
          7,
          12,
          14,
          25,
          4,
          5,
          9,
          8,
          7,
          10,
          10,
          10,
          5,
          6,
          6,
          4,
          8,
          8,
          13,
          10,
          5,
          12,
          28,
          5,
          7,
          4,
          4,
          11,
          18,
          7,
          22,
          1,
          3,
          22,
          28,
          11,
          16,
          16,
          12,
          14,
          38,
          49,
          14,
          40,
          18,
          22,
          19,
          27,
          35,
          30,
          81,
          71,
          26,
          32,
          35,
          35,
          20,
          21,
          21,
          13,
          22,
          24,
          31,
          21,
          20,
          12,
          14,
          21,
          16,
          12,
          11,
          16,
          11,
          12,
          27,
          13,
          19,
          3,
          7,
          11,
          8,
          15,
          10,
          12,
          16,
          25,
          17,
          31,
          15,
          28,
          14,
          15,
          8,
          19,
          5,
          15,
          8,
          13,
          23,
          8,
          9,
          12,
          18,
          12,
          13,
          8,
          13,
          23,
          38,
          27,
          26,
          16,
          18,
          11,
          15,
          18,
          19,
          27,
          12,
          15,
          61,
          10,
          23,
          11,
          7,
          10,
          15,
          15,
          20,
          8,
          7,
          11,
          9,
          10,
          28,
          25,
          12,
          29,
          40,
          27,
          35,
          32,
          25,
          25,
          13,
          18,
          19,
          12,
          23,
          16,
          25,
          41,
          52,
          33,
          28,
          12,
          19,
          14,
          14,
          188,
          74,
          20,
          19
         ]
        },
        {
         "connectgaps": true,
         "line": {
          "color": "red",
          "shape": "linear"
         },
         "mode": "markers+lines",
         "name": "tweet_id",
         "type": "scatter",
         "x": [
          "2021-01-01",
          "2021-01-02",
          "2021-01-03",
          "2021-01-04",
          "2021-01-05",
          "2021-01-06",
          "2021-01-07",
          "2021-01-08",
          "2021-01-09",
          "2021-01-10",
          "2021-01-11",
          "2021-01-12",
          "2021-01-13",
          "2021-01-14",
          "2021-01-15",
          "2021-01-16",
          "2021-01-17",
          "2021-01-18",
          "2021-01-19",
          "2021-01-20",
          "2021-01-21",
          "2021-01-22",
          "2021-01-23",
          "2021-01-24",
          "2021-01-25",
          "2021-01-26",
          "2021-01-27",
          "2021-01-28",
          "2021-01-29",
          "2021-01-30",
          "2021-01-31",
          "2021-02-01",
          "2021-02-02",
          "2021-02-03",
          "2021-02-04",
          "2021-02-05",
          "2021-02-06",
          "2021-02-07",
          "2021-02-08",
          "2021-02-09",
          "2021-02-10",
          "2021-02-11",
          "2021-02-12",
          "2021-02-13",
          "2021-02-14",
          "2021-02-15",
          "2021-02-16",
          "2021-02-17",
          "2021-02-18",
          "2021-02-19",
          "2021-02-20",
          "2021-02-21",
          "2021-02-22",
          "2021-02-23",
          "2021-02-24",
          "2021-02-25",
          "2021-02-26",
          "2021-02-27",
          "2021-02-28",
          "2021-03-01",
          "2021-03-02",
          "2021-03-03",
          "2021-03-04",
          "2021-03-05",
          "2021-03-06",
          "2021-03-07",
          "2021-03-08",
          "2021-03-09",
          "2021-03-10",
          "2021-03-11",
          "2021-03-12",
          "2021-03-13",
          "2021-03-14",
          "2021-03-15",
          "2021-03-16",
          "2021-03-17",
          "2021-03-18",
          "2021-03-19",
          "2021-03-20",
          "2021-03-21",
          "2021-03-22",
          "2021-03-23",
          "2021-03-24",
          "2021-03-25",
          "2021-03-26",
          "2021-03-27",
          "2021-03-28",
          "2021-03-29",
          "2021-03-30",
          "2021-03-31",
          "2021-04-01",
          "2021-04-02",
          "2021-04-03",
          "2021-04-04",
          "2021-04-05",
          "2021-04-06",
          "2021-04-07",
          "2021-04-08",
          "2021-04-09",
          "2021-04-10",
          "2021-04-11",
          "2021-04-12",
          "2021-04-13",
          "2021-04-14",
          "2021-04-15",
          "2021-04-16",
          "2021-04-17",
          "2021-04-18",
          "2021-04-19",
          "2021-04-20",
          "2021-04-21",
          "2021-04-22",
          "2021-04-23",
          "2021-04-24",
          "2021-04-25",
          "2021-04-26",
          "2021-04-27",
          "2021-04-28",
          "2021-04-29",
          "2021-04-30",
          "2021-05-01",
          "2021-05-02",
          "2021-05-03",
          "2021-05-04",
          "2021-05-05",
          "2021-05-06",
          "2021-05-07",
          "2021-05-08",
          "2021-05-09",
          "2021-05-10",
          "2021-05-11",
          "2021-05-12",
          "2021-05-13",
          "2021-05-14",
          "2021-05-15",
          "2021-05-16",
          "2021-05-17",
          "2021-05-18",
          "2021-05-19",
          "2021-05-20",
          "2021-05-21",
          "2021-05-22",
          "2021-05-23",
          "2021-05-24",
          "2021-05-25",
          "2021-05-26",
          "2021-05-27",
          "2021-05-28",
          "2021-05-29",
          "2021-05-30",
          "2021-05-31",
          "2021-06-01",
          "2021-06-02",
          "2021-06-03",
          "2021-06-04",
          "2021-06-05",
          "2021-06-06",
          "2021-06-07",
          "2021-06-08",
          "2021-06-09",
          "2021-06-10",
          "2021-06-11",
          "2021-06-12",
          "2021-06-13",
          "2021-06-14",
          "2021-06-15",
          "2021-06-16",
          "2021-06-17",
          "2021-06-18",
          "2021-06-19",
          "2021-06-20",
          "2021-06-21",
          "2021-06-22",
          "2021-06-23",
          "2021-06-24",
          "2021-06-25",
          "2021-06-26",
          "2021-06-27",
          "2021-06-28",
          "2021-06-29",
          "2021-06-30",
          "2021-07-01",
          "2021-07-02",
          "2021-07-03",
          "2021-07-04",
          "2021-07-05",
          "2021-07-06",
          "2021-07-07",
          "2021-07-08",
          "2021-07-09",
          "2021-07-10",
          "2021-07-11",
          "2021-07-12",
          "2021-07-13",
          "2021-07-14",
          "2021-07-15",
          "2021-07-16",
          "2021-07-17",
          "2021-07-18",
          "2021-07-20",
          "2021-07-21",
          "2021-07-22",
          "2021-07-23",
          "2021-07-24",
          "2021-07-25",
          "2021-07-26",
          "2021-07-27",
          "2021-07-28",
          "2021-07-29",
          "2021-07-30",
          "2021-07-31",
          "2021-08-01",
          "2021-08-02",
          "2021-08-03",
          "2021-08-04",
          "2021-08-05",
          "2021-08-06",
          "2021-08-07",
          "2021-08-08",
          "2021-08-09",
          "2021-08-10",
          "2021-08-11",
          "2021-08-12",
          "2021-08-13",
          "2021-08-14",
          "2021-08-15",
          "2021-08-16",
          "2021-08-17",
          "2021-08-18",
          "2021-08-19",
          "2021-08-20",
          "2021-08-21",
          "2021-08-22",
          "2021-08-23",
          "2021-08-24",
          "2021-08-25",
          "2021-08-26",
          "2021-08-27",
          "2021-08-28",
          "2021-08-29",
          "2021-08-30",
          "2021-08-31",
          "2021-09-01",
          "2021-09-02",
          "2021-09-03",
          "2021-09-04",
          "2021-09-05",
          "2021-09-06",
          "2021-09-07",
          "2021-09-08",
          "2021-09-09",
          "2021-09-10",
          "2021-09-11",
          "2021-09-12",
          "2021-09-13",
          "2021-09-14",
          "2021-09-15",
          "2021-09-16",
          "2021-09-17",
          "2021-09-18",
          "2021-09-19",
          "2021-09-20",
          "2021-09-21",
          "2021-09-22",
          "2021-09-23",
          "2021-09-24",
          "2021-09-25",
          "2021-09-26",
          "2021-09-27",
          "2021-09-28",
          "2021-09-29",
          "2021-09-30",
          "2021-10-01",
          "2021-10-02",
          "2021-10-03",
          "2021-10-04",
          "2021-10-05",
          "2021-10-06",
          "2021-10-07",
          "2021-10-08",
          "2021-10-09",
          "2021-10-10",
          "2021-10-11",
          "2021-10-12",
          "2021-10-13",
          "2021-10-14",
          "2021-10-15",
          "2021-10-16",
          "2021-10-17",
          "2021-10-18",
          "2021-10-19",
          "2021-10-20",
          "2021-10-21",
          "2021-10-22",
          "2021-10-23",
          "2021-10-24",
          "2021-10-25",
          "2021-10-26",
          "2021-10-27",
          "2021-10-28",
          "2021-10-29",
          "2021-10-30",
          "2021-10-31",
          "2021-11-01",
          "2021-11-02",
          "2021-11-03",
          "2021-11-04",
          "2021-11-05",
          "2021-11-06",
          "2021-11-07",
          "2021-11-08",
          "2021-11-09",
          "2021-11-10",
          "2021-11-11",
          "2021-11-12",
          "2021-11-14",
          "2021-11-15",
          "2021-11-16",
          "2021-11-17",
          "2021-11-18",
          "2021-11-19",
          "2021-11-20",
          "2021-11-21",
          "2021-11-22",
          "2021-11-23",
          "2021-11-24",
          "2021-11-25",
          "2021-11-26",
          "2021-11-27",
          "2021-11-28",
          "2021-11-29",
          "2021-11-30",
          "2021-12-01",
          "2021-12-02",
          "2021-12-03",
          "2021-12-04",
          "2021-12-05",
          "2021-12-06",
          "2021-12-07",
          "2021-12-08",
          "2021-12-09",
          "2021-12-10",
          "2021-12-11",
          "2021-12-12",
          "2021-12-13",
          "2021-12-14",
          "2021-12-15",
          "2021-12-16",
          "2021-12-17",
          "2021-12-18",
          "2021-12-19",
          "2021-12-20",
          "2021-12-21",
          "2021-12-22",
          "2021-12-23",
          "2021-12-24",
          "2021-12-25",
          "2021-12-26",
          "2021-12-27",
          "2021-12-28",
          "2021-12-29",
          "2021-12-30",
          "2021-12-31",
          "2022-01-01",
          "2022-01-02",
          "2022-01-03",
          "2022-01-04",
          "2022-01-05",
          "2022-01-06",
          "2022-01-07",
          "2022-01-08",
          "2022-01-09",
          "2022-01-10",
          "2022-01-11",
          "2022-01-12",
          "2022-01-13",
          "2022-01-14",
          "2022-01-15",
          "2022-01-16",
          "2022-01-17",
          "2022-01-18",
          "2022-01-19",
          "2022-01-20",
          "2022-01-21",
          "2022-01-22",
          "2022-01-23",
          "2022-01-24",
          "2022-01-25",
          "2022-01-26",
          "2022-01-27",
          "2022-01-28",
          "2022-01-29",
          "2022-01-30",
          "2022-01-31",
          "2022-02-01",
          "2022-02-02",
          "2022-02-03",
          "2022-02-04",
          "2022-02-05",
          "2022-02-06",
          "2022-02-07",
          "2022-02-08",
          "2022-02-09",
          "2022-02-10",
          "2022-02-11",
          "2022-02-12",
          "2022-02-13",
          "2022-02-14",
          "2022-02-15",
          "2022-02-16",
          "2022-02-17",
          "2022-02-18",
          "2022-02-19",
          "2022-02-20",
          "2022-02-21",
          "2022-02-22",
          "2022-02-23",
          "2022-02-24",
          "2022-02-25",
          "2022-02-26",
          "2022-02-27",
          "2022-02-28",
          "2022-03-01",
          "2022-03-02",
          "2022-03-03",
          "2022-03-04",
          "2022-03-05",
          "2022-03-06",
          "2022-03-07",
          "2022-03-08",
          "2022-03-09",
          "2022-03-10",
          "2022-03-11",
          "2022-03-12",
          "2022-03-13",
          "2022-03-14",
          "2022-03-15",
          "2022-03-16",
          "2022-03-17",
          "2022-03-18",
          "2022-03-19",
          "2022-03-20",
          "2022-03-21",
          "2022-03-22",
          "2022-03-23",
          "2022-03-24",
          "2022-03-25",
          "2022-03-26",
          "2022-03-27",
          "2022-03-28",
          "2022-03-29",
          "2022-03-30",
          "2022-03-31"
         ],
         "y": [
          12,
          14,
          12,
          16,
          16,
          20,
          28,
          8,
          14,
          7,
          12,
          15,
          6,
          15,
          18,
          10,
          4,
          12,
          7,
          7,
          12,
          7,
          10,
          18,
          33,
          14,
          15,
          3,
          11,
          14,
          11,
          9,
          10,
          6,
          19,
          10,
          21,
          8,
          83,
          11,
          12,
          6,
          9,
          8,
          7,
          17,
          25,
          12,
          25,
          8,
          10,
          12,
          15,
          21,
          17,
          8,
          10,
          12,
          19,
          13,
          14,
          12,
          33,
          8,
          14,
          8,
          20,
          20,
          16,
          3,
          9,
          10,
          5,
          14,
          32,
          52,
          10,
          14,
          10,
          7,
          6,
          3,
          25,
          18,
          16,
          10,
          5,
          18,
          13,
          10,
          8,
          19,
          20,
          5,
          19,
          20,
          25,
          13,
          15,
          27,
          16,
          31,
          24,
          24,
          5,
          18,
          8,
          2,
          8,
          21,
          7,
          8,
          17,
          23,
          13,
          16,
          12,
          7,
          22,
          72,
          40,
          20,
          11,
          11,
          12,
          12,
          33,
          13,
          17,
          10,
          13,
          21,
          11,
          27,
          25,
          25,
          9,
          13,
          34,
          10,
          4,
          9,
          8,
          12,
          11,
          17,
          15,
          13,
          13,
          10,
          8,
          9,
          15,
          25,
          10,
          7,
          4,
          11,
          12,
          5,
          7,
          5,
          7,
          9,
          5,
          10,
          8,
          19,
          11,
          13,
          6,
          19,
          16,
          43,
          23,
          7,
          9,
          4,
          8,
          7,
          5,
          11,
          10,
          8,
          7,
          4,
          10,
          23,
          12,
          9,
          5,
          17,
          13,
          12,
          6,
          3,
          6,
          6,
          3,
          3,
          13,
          8,
          11,
          6,
          7,
          9,
          8,
          8,
          8,
          8,
          4,
          6,
          13,
          14,
          47,
          26,
          12,
          18,
          8,
          10,
          4,
          8,
          18,
          16,
          8,
          9,
          9,
          13,
          10,
          20,
          21,
          25,
          7,
          11,
          17,
          18,
          17,
          26,
          22,
          14,
          15,
          7,
          18,
          7,
          6,
          11,
          21,
          21,
          23,
          16,
          10,
          19,
          18,
          10,
          15,
          24,
          25,
          22,
          16,
          17,
          3,
          9,
          4,
          10,
          7,
          14,
          3,
          2,
          10,
          7,
          9,
          12,
          10,
          2,
          3,
          168,
          15,
          8,
          16,
          17,
          8,
          5,
          10,
          7,
          10,
          11,
          11,
          4,
          7,
          5,
          7,
          12,
          14,
          25,
          4,
          5,
          9,
          8,
          7,
          10,
          10,
          10,
          5,
          6,
          6,
          4,
          8,
          8,
          13,
          10,
          5,
          12,
          28,
          5,
          7,
          4,
          4,
          11,
          18,
          7,
          22,
          1,
          3,
          22,
          28,
          11,
          16,
          16,
          12,
          14,
          38,
          49,
          14,
          40,
          18,
          22,
          19,
          27,
          35,
          30,
          81,
          71,
          26,
          32,
          35,
          35,
          20,
          21,
          21,
          13,
          22,
          24,
          31,
          21,
          20,
          12,
          14,
          21,
          16,
          12,
          11,
          16,
          11,
          12,
          27,
          13,
          19,
          3,
          7,
          11,
          8,
          15,
          10,
          12,
          16,
          25,
          17,
          31,
          15,
          28,
          14,
          15,
          8,
          19,
          5,
          15,
          8,
          13,
          23,
          8,
          9,
          12,
          18,
          12,
          13,
          8,
          13,
          23,
          38,
          27,
          26,
          16,
          18,
          11,
          15,
          18,
          19,
          27,
          12,
          15,
          61,
          10,
          23,
          11,
          7,
          10,
          15,
          15,
          20,
          8,
          7,
          11,
          9,
          10,
          28,
          25,
          12,
          29,
          40,
          27,
          35,
          32,
          25,
          25,
          13,
          18,
          19,
          12,
          23,
          16,
          25,
          41,
          52,
          33,
          28,
          12,
          19,
          14,
          14,
          188,
          74,
          20,
          19
         ]
        }
       ],
       "layout": {
        "template": {
         "data": {
          "bar": [
           {
            "error_x": {
             "color": "#2a3f5f"
            },
            "error_y": {
             "color": "#2a3f5f"
            },
            "marker": {
             "line": {
              "color": "#E5ECF6",
              "width": 0.5
             },
             "pattern": {
              "fillmode": "overlay",
              "size": 10,
              "solidity": 0.2
             }
            },
            "type": "bar"
           }
          ],
          "barpolar": [
           {
            "marker": {
             "line": {
              "color": "#E5ECF6",
              "width": 0.5
             },
             "pattern": {
              "fillmode": "overlay",
              "size": 10,
              "solidity": 0.2
             }
            },
            "type": "barpolar"
           }
          ],
          "carpet": [
           {
            "aaxis": {
             "endlinecolor": "#2a3f5f",
             "gridcolor": "white",
             "linecolor": "white",
             "minorgridcolor": "white",
             "startlinecolor": "#2a3f5f"
            },
            "baxis": {
             "endlinecolor": "#2a3f5f",
             "gridcolor": "white",
             "linecolor": "white",
             "minorgridcolor": "white",
             "startlinecolor": "#2a3f5f"
            },
            "type": "carpet"
           }
          ],
          "choropleth": [
           {
            "colorbar": {
             "outlinewidth": 0,
             "ticks": ""
            },
            "type": "choropleth"
           }
          ],
          "contour": [
           {
            "colorbar": {
             "outlinewidth": 0,
             "ticks": ""
            },
            "colorscale": [
             [
              0,
              "#0d0887"
             ],
             [
              0.1111111111111111,
              "#46039f"
             ],
             [
              0.2222222222222222,
              "#7201a8"
             ],
             [
              0.3333333333333333,
              "#9c179e"
             ],
             [
              0.4444444444444444,
              "#bd3786"
             ],
             [
              0.5555555555555556,
              "#d8576b"
             ],
             [
              0.6666666666666666,
              "#ed7953"
             ],
             [
              0.7777777777777778,
              "#fb9f3a"
             ],
             [
              0.8888888888888888,
              "#fdca26"
             ],
             [
              1,
              "#f0f921"
             ]
            ],
            "type": "contour"
           }
          ],
          "contourcarpet": [
           {
            "colorbar": {
             "outlinewidth": 0,
             "ticks": ""
            },
            "type": "contourcarpet"
           }
          ],
          "heatmap": [
           {
            "colorbar": {
             "outlinewidth": 0,
             "ticks": ""
            },
            "colorscale": [
             [
              0,
              "#0d0887"
             ],
             [
              0.1111111111111111,
              "#46039f"
             ],
             [
              0.2222222222222222,
              "#7201a8"
             ],
             [
              0.3333333333333333,
              "#9c179e"
             ],
             [
              0.4444444444444444,
              "#bd3786"
             ],
             [
              0.5555555555555556,
              "#d8576b"
             ],
             [
              0.6666666666666666,
              "#ed7953"
             ],
             [
              0.7777777777777778,
              "#fb9f3a"
             ],
             [
              0.8888888888888888,
              "#fdca26"
             ],
             [
              1,
              "#f0f921"
             ]
            ],
            "type": "heatmap"
           }
          ],
          "heatmapgl": [
           {
            "colorbar": {
             "outlinewidth": 0,
             "ticks": ""
            },
            "colorscale": [
             [
              0,
              "#0d0887"
             ],
             [
              0.1111111111111111,
              "#46039f"
             ],
             [
              0.2222222222222222,
              "#7201a8"
             ],
             [
              0.3333333333333333,
              "#9c179e"
             ],
             [
              0.4444444444444444,
              "#bd3786"
             ],
             [
              0.5555555555555556,
              "#d8576b"
             ],
             [
              0.6666666666666666,
              "#ed7953"
             ],
             [
              0.7777777777777778,
              "#fb9f3a"
             ],
             [
              0.8888888888888888,
              "#fdca26"
             ],
             [
              1,
              "#f0f921"
             ]
            ],
            "type": "heatmapgl"
           }
          ],
          "histogram": [
           {
            "marker": {
             "pattern": {
              "fillmode": "overlay",
              "size": 10,
              "solidity": 0.2
             }
            },
            "type": "histogram"
           }
          ],
          "histogram2d": [
           {
            "colorbar": {
             "outlinewidth": 0,
             "ticks": ""
            },
            "colorscale": [
             [
              0,
              "#0d0887"
             ],
             [
              0.1111111111111111,
              "#46039f"
             ],
             [
              0.2222222222222222,
              "#7201a8"
             ],
             [
              0.3333333333333333,
              "#9c179e"
             ],
             [
              0.4444444444444444,
              "#bd3786"
             ],
             [
              0.5555555555555556,
              "#d8576b"
             ],
             [
              0.6666666666666666,
              "#ed7953"
             ],
             [
              0.7777777777777778,
              "#fb9f3a"
             ],
             [
              0.8888888888888888,
              "#fdca26"
             ],
             [
              1,
              "#f0f921"
             ]
            ],
            "type": "histogram2d"
           }
          ],
          "histogram2dcontour": [
           {
            "colorbar": {
             "outlinewidth": 0,
             "ticks": ""
            },
            "colorscale": [
             [
              0,
              "#0d0887"
             ],
             [
              0.1111111111111111,
              "#46039f"
             ],
             [
              0.2222222222222222,
              "#7201a8"
             ],
             [
              0.3333333333333333,
              "#9c179e"
             ],
             [
              0.4444444444444444,
              "#bd3786"
             ],
             [
              0.5555555555555556,
              "#d8576b"
             ],
             [
              0.6666666666666666,
              "#ed7953"
             ],
             [
              0.7777777777777778,
              "#fb9f3a"
             ],
             [
              0.8888888888888888,
              "#fdca26"
             ],
             [
              1,
              "#f0f921"
             ]
            ],
            "type": "histogram2dcontour"
           }
          ],
          "mesh3d": [
           {
            "colorbar": {
             "outlinewidth": 0,
             "ticks": ""
            },
            "type": "mesh3d"
           }
          ],
          "parcoords": [
           {
            "line": {
             "colorbar": {
              "outlinewidth": 0,
              "ticks": ""
             }
            },
            "type": "parcoords"
           }
          ],
          "pie": [
           {
            "automargin": true,
            "type": "pie"
           }
          ],
          "scatter": [
           {
            "marker": {
             "colorbar": {
              "outlinewidth": 0,
              "ticks": ""
             }
            },
            "type": "scatter"
           }
          ],
          "scatter3d": [
           {
            "line": {
             "colorbar": {
              "outlinewidth": 0,
              "ticks": ""
             }
            },
            "marker": {
             "colorbar": {
              "outlinewidth": 0,
              "ticks": ""
             }
            },
            "type": "scatter3d"
           }
          ],
          "scattercarpet": [
           {
            "marker": {
             "colorbar": {
              "outlinewidth": 0,
              "ticks": ""
             }
            },
            "type": "scattercarpet"
           }
          ],
          "scattergeo": [
           {
            "marker": {
             "colorbar": {
              "outlinewidth": 0,
              "ticks": ""
             }
            },
            "type": "scattergeo"
           }
          ],
          "scattergl": [
           {
            "marker": {
             "colorbar": {
              "outlinewidth": 0,
              "ticks": ""
             }
            },
            "type": "scattergl"
           }
          ],
          "scattermapbox": [
           {
            "marker": {
             "colorbar": {
              "outlinewidth": 0,
              "ticks": ""
             }
            },
            "type": "scattermapbox"
           }
          ],
          "scatterpolar": [
           {
            "marker": {
             "colorbar": {
              "outlinewidth": 0,
              "ticks": ""
             }
            },
            "type": "scatterpolar"
           }
          ],
          "scatterpolargl": [
           {
            "marker": {
             "colorbar": {
              "outlinewidth": 0,
              "ticks": ""
             }
            },
            "type": "scatterpolargl"
           }
          ],
          "scatterternary": [
           {
            "marker": {
             "colorbar": {
              "outlinewidth": 0,
              "ticks": ""
             }
            },
            "type": "scatterternary"
           }
          ],
          "surface": [
           {
            "colorbar": {
             "outlinewidth": 0,
             "ticks": ""
            },
            "colorscale": [
             [
              0,
              "#0d0887"
             ],
             [
              0.1111111111111111,
              "#46039f"
             ],
             [
              0.2222222222222222,
              "#7201a8"
             ],
             [
              0.3333333333333333,
              "#9c179e"
             ],
             [
              0.4444444444444444,
              "#bd3786"
             ],
             [
              0.5555555555555556,
              "#d8576b"
             ],
             [
              0.6666666666666666,
              "#ed7953"
             ],
             [
              0.7777777777777778,
              "#fb9f3a"
             ],
             [
              0.8888888888888888,
              "#fdca26"
             ],
             [
              1,
              "#f0f921"
             ]
            ],
            "type": "surface"
           }
          ],
          "table": [
           {
            "cells": {
             "fill": {
              "color": "#EBF0F8"
             },
             "line": {
              "color": "white"
             }
            },
            "header": {
             "fill": {
              "color": "#C8D4E3"
             },
             "line": {
              "color": "white"
             }
            },
            "type": "table"
           }
          ]
         },
         "layout": {
          "annotationdefaults": {
           "arrowcolor": "#2a3f5f",
           "arrowhead": 0,
           "arrowwidth": 1
          },
          "autotypenumbers": "strict",
          "coloraxis": {
           "colorbar": {
            "outlinewidth": 0,
            "ticks": ""
           }
          },
          "colorscale": {
           "diverging": [
            [
             0,
             "#8e0152"
            ],
            [
             0.1,
             "#c51b7d"
            ],
            [
             0.2,
             "#de77ae"
            ],
            [
             0.3,
             "#f1b6da"
            ],
            [
             0.4,
             "#fde0ef"
            ],
            [
             0.5,
             "#f7f7f7"
            ],
            [
             0.6,
             "#e6f5d0"
            ],
            [
             0.7,
             "#b8e186"
            ],
            [
             0.8,
             "#7fbc41"
            ],
            [
             0.9,
             "#4d9221"
            ],
            [
             1,
             "#276419"
            ]
           ],
           "sequential": [
            [
             0,
             "#0d0887"
            ],
            [
             0.1111111111111111,
             "#46039f"
            ],
            [
             0.2222222222222222,
             "#7201a8"
            ],
            [
             0.3333333333333333,
             "#9c179e"
            ],
            [
             0.4444444444444444,
             "#bd3786"
            ],
            [
             0.5555555555555556,
             "#d8576b"
            ],
            [
             0.6666666666666666,
             "#ed7953"
            ],
            [
             0.7777777777777778,
             "#fb9f3a"
            ],
            [
             0.8888888888888888,
             "#fdca26"
            ],
            [
             1,
             "#f0f921"
            ]
           ],
           "sequentialminus": [
            [
             0,
             "#0d0887"
            ],
            [
             0.1111111111111111,
             "#46039f"
            ],
            [
             0.2222222222222222,
             "#7201a8"
            ],
            [
             0.3333333333333333,
             "#9c179e"
            ],
            [
             0.4444444444444444,
             "#bd3786"
            ],
            [
             0.5555555555555556,
             "#d8576b"
            ],
            [
             0.6666666666666666,
             "#ed7953"
            ],
            [
             0.7777777777777778,
             "#fb9f3a"
            ],
            [
             0.8888888888888888,
             "#fdca26"
            ],
            [
             1,
             "#f0f921"
            ]
           ]
          },
          "colorway": [
           "#636efa",
           "#EF553B",
           "#00cc96",
           "#ab63fa",
           "#FFA15A",
           "#19d3f3",
           "#FF6692",
           "#B6E880",
           "#FF97FF",
           "#FECB52"
          ],
          "font": {
           "color": "#2a3f5f"
          },
          "geo": {
           "bgcolor": "white",
           "lakecolor": "white",
           "landcolor": "#E5ECF6",
           "showlakes": true,
           "showland": true,
           "subunitcolor": "white"
          },
          "hoverlabel": {
           "align": "left"
          },
          "hovermode": "closest",
          "mapbox": {
           "style": "light"
          },
          "paper_bgcolor": "white",
          "plot_bgcolor": "#E5ECF6",
          "polar": {
           "angularaxis": {
            "gridcolor": "white",
            "linecolor": "white",
            "ticks": ""
           },
           "bgcolor": "#E5ECF6",
           "radialaxis": {
            "gridcolor": "white",
            "linecolor": "white",
            "ticks": ""
           }
          },
          "scene": {
           "xaxis": {
            "backgroundcolor": "#E5ECF6",
            "gridcolor": "white",
            "gridwidth": 2,
            "linecolor": "white",
            "showbackground": true,
            "ticks": "",
            "zerolinecolor": "white"
           },
           "yaxis": {
            "backgroundcolor": "#E5ECF6",
            "gridcolor": "white",
            "gridwidth": 2,
            "linecolor": "white",
            "showbackground": true,
            "ticks": "",
            "zerolinecolor": "white"
           },
           "zaxis": {
            "backgroundcolor": "#E5ECF6",
            "gridcolor": "white",
            "gridwidth": 2,
            "linecolor": "white",
            "showbackground": true,
            "ticks": "",
            "zerolinecolor": "white"
           }
          },
          "shapedefaults": {
           "line": {
            "color": "#2a3f5f"
           }
          },
          "ternary": {
           "aaxis": {
            "gridcolor": "white",
            "linecolor": "white",
            "ticks": ""
           },
           "baxis": {
            "gridcolor": "white",
            "linecolor": "white",
            "ticks": ""
           },
           "bgcolor": "#E5ECF6",
           "caxis": {
            "gridcolor": "white",
            "linecolor": "white",
            "ticks": ""
           }
          },
          "title": {
           "x": 0.05
          },
          "xaxis": {
           "automargin": true,
           "gridcolor": "white",
           "linecolor": "white",
           "ticks": "",
           "title": {
            "standoff": 15
           },
           "zerolinecolor": "white",
           "zerolinewidth": 2
          },
          "yaxis": {
           "automargin": true,
           "gridcolor": "white",
           "linecolor": "white",
           "ticks": "",
           "title": {
            "standoff": 15
           },
           "zerolinecolor": "white",
           "zerolinewidth": 2
          }
         }
        }
       }
      },
      "text/html": [
       "<div>                            <div id=\"f20a2ce4-dd15-40bf-85dc-c6df15bf9d31\" class=\"plotly-graph-div\" style=\"height:525px; width:100%;\"></div>            <script type=\"text/javascript\">                require([\"plotly\"], function(Plotly) {                    window.PLOTLYENV=window.PLOTLYENV || {};                                    if (document.getElementById(\"f20a2ce4-dd15-40bf-85dc-c6df15bf9d31\")) {                    Plotly.newPlot(                        \"f20a2ce4-dd15-40bf-85dc-c6df15bf9d31\",                        [{\"connectgaps\":true,\"line\":{\"color\":\"green\",\"shape\":\"linear\"},\"mode\":\"markers+lines\",\"name\":\"created_at\",\"type\":\"scatter\",\"x\":[\"2021-01-01\",\"2021-01-02\",\"2021-01-03\",\"2021-01-04\",\"2021-01-05\",\"2021-01-06\",\"2021-01-07\",\"2021-01-08\",\"2021-01-09\",\"2021-01-10\",\"2021-01-11\",\"2021-01-12\",\"2021-01-13\",\"2021-01-14\",\"2021-01-15\",\"2021-01-16\",\"2021-01-17\",\"2021-01-18\",\"2021-01-19\",\"2021-01-20\",\"2021-01-21\",\"2021-01-22\",\"2021-01-23\",\"2021-01-24\",\"2021-01-25\",\"2021-01-26\",\"2021-01-27\",\"2021-01-28\",\"2021-01-29\",\"2021-01-30\",\"2021-01-31\",\"2021-02-01\",\"2021-02-02\",\"2021-02-03\",\"2021-02-04\",\"2021-02-05\",\"2021-02-06\",\"2021-02-07\",\"2021-02-08\",\"2021-02-09\",\"2021-02-10\",\"2021-02-11\",\"2021-02-12\",\"2021-02-13\",\"2021-02-14\",\"2021-02-15\",\"2021-02-16\",\"2021-02-17\",\"2021-02-18\",\"2021-02-19\",\"2021-02-20\",\"2021-02-21\",\"2021-02-22\",\"2021-02-23\",\"2021-02-24\",\"2021-02-25\",\"2021-02-26\",\"2021-02-27\",\"2021-02-28\",\"2021-03-01\",\"2021-03-02\",\"2021-03-03\",\"2021-03-04\",\"2021-03-05\",\"2021-03-06\",\"2021-03-07\",\"2021-03-08\",\"2021-03-09\",\"2021-03-10\",\"2021-03-11\",\"2021-03-12\",\"2021-03-13\",\"2021-03-14\",\"2021-03-15\",\"2021-03-16\",\"2021-03-17\",\"2021-03-18\",\"2021-03-19\",\"2021-03-20\",\"2021-03-21\",\"2021-03-22\",\"2021-03-23\",\"2021-03-24\",\"2021-03-25\",\"2021-03-26\",\"2021-03-27\",\"2021-03-28\",\"2021-03-29\",\"2021-03-30\",\"2021-03-31\",\"2021-04-01\",\"2021-04-02\",\"2021-04-03\",\"2021-04-04\",\"2021-04-05\",\"2021-04-06\",\"2021-04-07\",\"2021-04-08\",\"2021-04-09\",\"2021-04-10\",\"2021-04-11\",\"2021-04-12\",\"2021-04-13\",\"2021-04-14\",\"2021-04-15\",\"2021-04-16\",\"2021-04-17\",\"2021-04-18\",\"2021-04-19\",\"2021-04-20\",\"2021-04-21\",\"2021-04-22\",\"2021-04-23\",\"2021-04-24\",\"2021-04-25\",\"2021-04-26\",\"2021-04-27\",\"2021-04-28\",\"2021-04-29\",\"2021-04-30\",\"2021-05-01\",\"2021-05-02\",\"2021-05-03\",\"2021-05-04\",\"2021-05-05\",\"2021-05-06\",\"2021-05-07\",\"2021-05-08\",\"2021-05-09\",\"2021-05-10\",\"2021-05-11\",\"2021-05-12\",\"2021-05-13\",\"2021-05-14\",\"2021-05-15\",\"2021-05-16\",\"2021-05-17\",\"2021-05-18\",\"2021-05-19\",\"2021-05-20\",\"2021-05-21\",\"2021-05-22\",\"2021-05-23\",\"2021-05-24\",\"2021-05-25\",\"2021-05-26\",\"2021-05-27\",\"2021-05-28\",\"2021-05-29\",\"2021-05-30\",\"2021-05-31\",\"2021-06-01\",\"2021-06-02\",\"2021-06-03\",\"2021-06-04\",\"2021-06-05\",\"2021-06-06\",\"2021-06-07\",\"2021-06-08\",\"2021-06-09\",\"2021-06-10\",\"2021-06-11\",\"2021-06-12\",\"2021-06-13\",\"2021-06-14\",\"2021-06-15\",\"2021-06-16\",\"2021-06-17\",\"2021-06-18\",\"2021-06-19\",\"2021-06-20\",\"2021-06-21\",\"2021-06-22\",\"2021-06-23\",\"2021-06-24\",\"2021-06-25\",\"2021-06-26\",\"2021-06-27\",\"2021-06-28\",\"2021-06-29\",\"2021-06-30\",\"2021-07-01\",\"2021-07-02\",\"2021-07-03\",\"2021-07-04\",\"2021-07-05\",\"2021-07-06\",\"2021-07-07\",\"2021-07-08\",\"2021-07-09\",\"2021-07-10\",\"2021-07-11\",\"2021-07-12\",\"2021-07-13\",\"2021-07-14\",\"2021-07-15\",\"2021-07-16\",\"2021-07-17\",\"2021-07-18\",\"2021-07-19\",\"2021-07-20\",\"2021-07-21\",\"2021-07-22\",\"2021-07-23\",\"2021-07-24\",\"2021-07-25\",\"2021-07-26\",\"2021-07-27\",\"2021-07-28\",\"2021-07-29\",\"2021-07-30\",\"2021-07-31\",\"2021-08-01\",\"2021-08-02\",\"2021-08-03\",\"2021-08-04\",\"2021-08-05\",\"2021-08-06\",\"2021-08-07\",\"2021-08-08\",\"2021-08-09\",\"2021-08-10\",\"2021-08-11\",\"2021-08-12\",\"2021-08-13\",\"2021-08-14\",\"2021-08-15\",\"2021-08-16\",\"2021-08-17\",\"2021-08-18\",\"2021-08-19\",\"2021-08-20\",\"2021-08-21\",\"2021-08-22\",\"2021-08-23\",\"2021-08-24\",\"2021-08-25\",\"2021-08-26\",\"2021-08-27\",\"2021-08-28\",\"2021-08-29\",\"2021-08-30\",\"2021-08-31\",\"2021-09-01\",\"2021-09-02\",\"2021-09-03\",\"2021-09-04\",\"2021-09-05\",\"2021-09-06\",\"2021-09-07\",\"2021-09-08\",\"2021-09-09\",\"2021-09-10\",\"2021-09-11\",\"2021-09-12\",\"2021-09-13\",\"2021-09-14\",\"2021-09-15\",\"2021-09-16\",\"2021-09-17\",\"2021-09-18\",\"2021-09-19\",\"2021-09-20\",\"2021-09-21\",\"2021-09-22\",\"2021-09-23\",\"2021-09-24\",\"2021-09-25\",\"2021-09-26\",\"2021-09-27\",\"2021-09-28\",\"2021-09-29\",\"2021-09-30\",\"2021-10-01\",\"2021-10-02\",\"2021-10-03\",\"2021-10-04\",\"2021-10-05\",\"2021-10-06\",\"2021-10-07\",\"2021-10-08\",\"2021-10-09\",\"2021-10-10\",\"2021-10-11\",\"2021-10-12\",\"2021-10-13\",\"2021-10-14\",\"2021-10-15\",\"2021-10-16\",\"2021-10-17\",\"2021-10-18\",\"2021-10-19\",\"2021-10-20\",\"2021-10-21\",\"2021-10-22\",\"2021-10-23\",\"2021-10-24\",\"2021-10-25\",\"2021-10-26\",\"2021-10-27\",\"2021-10-28\",\"2021-10-29\",\"2021-10-30\",\"2021-10-31\",\"2021-11-01\",\"2021-11-02\",\"2021-11-03\",\"2021-11-04\",\"2021-11-05\",\"2021-11-06\",\"2021-11-07\",\"2021-11-08\",\"2021-11-09\",\"2021-11-10\",\"2021-11-11\",\"2021-11-12\",\"2021-11-13\",\"2021-11-14\",\"2021-11-15\",\"2021-11-16\",\"2021-11-17\",\"2021-11-18\",\"2021-11-19\",\"2021-11-20\",\"2021-11-21\",\"2021-11-22\",\"2021-11-23\",\"2021-11-24\",\"2021-11-25\",\"2021-11-26\",\"2021-11-27\",\"2021-11-28\",\"2021-11-29\",\"2021-11-30\",\"2021-12-01\",\"2021-12-02\",\"2021-12-03\",\"2021-12-04\",\"2021-12-05\",\"2021-12-06\",\"2021-12-07\",\"2021-12-08\",\"2021-12-09\",\"2021-12-10\",\"2021-12-11\",\"2021-12-12\",\"2021-12-13\",\"2021-12-14\",\"2021-12-15\",\"2021-12-16\",\"2021-12-17\",\"2021-12-18\",\"2021-12-19\",\"2021-12-20\",\"2021-12-21\",\"2021-12-22\",\"2021-12-23\",\"2021-12-24\",\"2021-12-25\",\"2021-12-26\",\"2021-12-27\",\"2021-12-28\",\"2021-12-29\",\"2021-12-30\",\"2021-12-31\",\"2022-01-01\",\"2022-01-02\",\"2022-01-03\",\"2022-01-04\",\"2022-01-05\",\"2022-01-06\",\"2022-01-07\",\"2022-01-08\",\"2022-01-09\",\"2022-01-10\",\"2022-01-11\",\"2022-01-12\",\"2022-01-13\",\"2022-01-14\",\"2022-01-15\",\"2022-01-16\",\"2022-01-17\",\"2022-01-18\",\"2022-01-19\",\"2022-01-20\",\"2022-01-21\",\"2022-01-22\",\"2022-01-23\",\"2022-01-24\",\"2022-01-25\",\"2022-01-26\",\"2022-01-27\",\"2022-01-28\",\"2022-01-29\",\"2022-01-30\",\"2022-01-31\",\"2022-02-01\",\"2022-02-02\",\"2022-02-03\",\"2022-02-04\",\"2022-02-05\",\"2022-02-06\",\"2022-02-07\",\"2022-02-08\",\"2022-02-09\",\"2022-02-10\",\"2022-02-11\",\"2022-02-12\",\"2022-02-13\",\"2022-02-14\",\"2022-02-15\",\"2022-02-16\",\"2022-02-17\",\"2022-02-18\",\"2022-02-19\",\"2022-02-20\",\"2022-02-21\",\"2022-02-22\",\"2022-02-23\",\"2022-02-24\",\"2022-02-25\",\"2022-02-26\",\"2022-02-27\",\"2022-02-28\",\"2022-03-01\",\"2022-03-02\",\"2022-03-03\",\"2022-03-04\",\"2022-03-05\",\"2022-03-06\",\"2022-03-07\",\"2022-03-08\",\"2022-03-09\",\"2022-03-10\",\"2022-03-11\",\"2022-03-12\",\"2022-03-13\",\"2022-03-14\",\"2022-03-15\",\"2022-03-16\",\"2022-03-17\",\"2022-03-18\",\"2022-03-19\",\"2022-03-20\",\"2022-03-21\",\"2022-03-22\",\"2022-03-23\",\"2022-03-24\",\"2022-03-25\",\"2022-03-26\",\"2022-03-27\",\"2022-03-28\",\"2022-03-29\",\"2022-03-30\",\"2022-03-31\"],\"y\":[56,35,17,56,51,58,38,36,32,27,17,39,46,30,61,15,31,46,28,50,38,32,41,55,92,53,38,50,42,34,28,31,48,34,31,35,34,42,304,55,39,30,40,32,36,46,43,29,32,20,25,47,26,29,57,21,14,26,26,31,37,25,43,19,38,18,36,43,37,37,30,42,29,44,102,137,65,46,25,25,24,18,25,37,41,44,24,15,48,35,34,33,26,29,26,28,20,26,41,46,26,46,91,31,36,102,27,21,43,28,16,34,52,39,34,40,45,43,28,13,26,22,32,35,40,44,86,49,23,30,45,45,47,53,69,24,29,35,44,21,33,31,27,25,34,28,48,40,10,11,17,17,22,18,13,8,20,36,24,37,43,20,23,36,64,42,44,54,37,35,37,56,54,94,40,34,37,22,22,21,21,22,15,28,23,15,37,25,32,38,35,39,57,78,47,19,39,29,24,15,22,47,61,55,44,25,42,46,28,16,10,35,29,29,33,23,30,41,38,25,18,19,17,32,27,19,22,25,40,36,50,46,41,32,41,38,42,48,39,29,34,55,16,21,21,16,9,24,31,27,25,16,54,49,58,56,77,76,64,109,66,49,64,69,58,51,53,40,27,32,45,29,42,30,14,29,590,96,52,59,64,36,44,63,39,58,34,30,17,27,32,45,32,71,85,24,15,34,50,33,52,40,27,21,22,27,25,26,22,58,44,23,53,45,45,40,39,36,40,50,50,37,54,28,47,34,35,38,69,56,64,30,51,88,46,43,36,34,21,32,41,63,109,97,59,54,58,61,57,41,50,36,24,45,45,37,34,28,17,36,40,28,17,38,46,28,52,16,27,24,20,30,30,106,40,37,37,49,12,49,47,39,58,43,64,40,15,33,15,22,47,9,50,43,34,35,33,18,12,22,40,33,40,28,31,19,13,27,21,29,19,13,75,25,24,17,12,23,51,46,59,35,22,25,25,15,19,40,38,40,34,32,37,19,20,43,28,49,35,32,32,28,27,22,44,61,67,74,67,45,34,199,42,61,75]},{\"connectgaps\":true,\"line\":{\"color\":\"green\",\"shape\":\"linear\"},\"mode\":\"markers+lines\",\"name\":\"tweet_id\",\"type\":\"scatter\",\"x\":[\"2021-01-01\",\"2021-01-02\",\"2021-01-03\",\"2021-01-04\",\"2021-01-05\",\"2021-01-06\",\"2021-01-07\",\"2021-01-08\",\"2021-01-09\",\"2021-01-10\",\"2021-01-11\",\"2021-01-12\",\"2021-01-13\",\"2021-01-14\",\"2021-01-15\",\"2021-01-16\",\"2021-01-17\",\"2021-01-18\",\"2021-01-19\",\"2021-01-20\",\"2021-01-21\",\"2021-01-22\",\"2021-01-23\",\"2021-01-24\",\"2021-01-25\",\"2021-01-26\",\"2021-01-27\",\"2021-01-28\",\"2021-01-29\",\"2021-01-30\",\"2021-01-31\",\"2021-02-01\",\"2021-02-02\",\"2021-02-03\",\"2021-02-04\",\"2021-02-05\",\"2021-02-06\",\"2021-02-07\",\"2021-02-08\",\"2021-02-09\",\"2021-02-10\",\"2021-02-11\",\"2021-02-12\",\"2021-02-13\",\"2021-02-14\",\"2021-02-15\",\"2021-02-16\",\"2021-02-17\",\"2021-02-18\",\"2021-02-19\",\"2021-02-20\",\"2021-02-21\",\"2021-02-22\",\"2021-02-23\",\"2021-02-24\",\"2021-02-25\",\"2021-02-26\",\"2021-02-27\",\"2021-02-28\",\"2021-03-01\",\"2021-03-02\",\"2021-03-03\",\"2021-03-04\",\"2021-03-05\",\"2021-03-06\",\"2021-03-07\",\"2021-03-08\",\"2021-03-09\",\"2021-03-10\",\"2021-03-11\",\"2021-03-12\",\"2021-03-13\",\"2021-03-14\",\"2021-03-15\",\"2021-03-16\",\"2021-03-17\",\"2021-03-18\",\"2021-03-19\",\"2021-03-20\",\"2021-03-21\",\"2021-03-22\",\"2021-03-23\",\"2021-03-24\",\"2021-03-25\",\"2021-03-26\",\"2021-03-27\",\"2021-03-28\",\"2021-03-29\",\"2021-03-30\",\"2021-03-31\",\"2021-04-01\",\"2021-04-02\",\"2021-04-03\",\"2021-04-04\",\"2021-04-05\",\"2021-04-06\",\"2021-04-07\",\"2021-04-08\",\"2021-04-09\",\"2021-04-10\",\"2021-04-11\",\"2021-04-12\",\"2021-04-13\",\"2021-04-14\",\"2021-04-15\",\"2021-04-16\",\"2021-04-17\",\"2021-04-18\",\"2021-04-19\",\"2021-04-20\",\"2021-04-21\",\"2021-04-22\",\"2021-04-23\",\"2021-04-24\",\"2021-04-25\",\"2021-04-26\",\"2021-04-27\",\"2021-04-28\",\"2021-04-29\",\"2021-04-30\",\"2021-05-01\",\"2021-05-02\",\"2021-05-03\",\"2021-05-04\",\"2021-05-05\",\"2021-05-06\",\"2021-05-07\",\"2021-05-08\",\"2021-05-09\",\"2021-05-10\",\"2021-05-11\",\"2021-05-12\",\"2021-05-13\",\"2021-05-14\",\"2021-05-15\",\"2021-05-16\",\"2021-05-17\",\"2021-05-18\",\"2021-05-19\",\"2021-05-20\",\"2021-05-21\",\"2021-05-22\",\"2021-05-23\",\"2021-05-24\",\"2021-05-25\",\"2021-05-26\",\"2021-05-27\",\"2021-05-28\",\"2021-05-29\",\"2021-05-30\",\"2021-05-31\",\"2021-06-01\",\"2021-06-02\",\"2021-06-03\",\"2021-06-04\",\"2021-06-05\",\"2021-06-06\",\"2021-06-07\",\"2021-06-08\",\"2021-06-09\",\"2021-06-10\",\"2021-06-11\",\"2021-06-12\",\"2021-06-13\",\"2021-06-14\",\"2021-06-15\",\"2021-06-16\",\"2021-06-17\",\"2021-06-18\",\"2021-06-19\",\"2021-06-20\",\"2021-06-21\",\"2021-06-22\",\"2021-06-23\",\"2021-06-24\",\"2021-06-25\",\"2021-06-26\",\"2021-06-27\",\"2021-06-28\",\"2021-06-29\",\"2021-06-30\",\"2021-07-01\",\"2021-07-02\",\"2021-07-03\",\"2021-07-04\",\"2021-07-05\",\"2021-07-06\",\"2021-07-07\",\"2021-07-08\",\"2021-07-09\",\"2021-07-10\",\"2021-07-11\",\"2021-07-12\",\"2021-07-13\",\"2021-07-14\",\"2021-07-15\",\"2021-07-16\",\"2021-07-17\",\"2021-07-18\",\"2021-07-19\",\"2021-07-20\",\"2021-07-21\",\"2021-07-22\",\"2021-07-23\",\"2021-07-24\",\"2021-07-25\",\"2021-07-26\",\"2021-07-27\",\"2021-07-28\",\"2021-07-29\",\"2021-07-30\",\"2021-07-31\",\"2021-08-01\",\"2021-08-02\",\"2021-08-03\",\"2021-08-04\",\"2021-08-05\",\"2021-08-06\",\"2021-08-07\",\"2021-08-08\",\"2021-08-09\",\"2021-08-10\",\"2021-08-11\",\"2021-08-12\",\"2021-08-13\",\"2021-08-14\",\"2021-08-15\",\"2021-08-16\",\"2021-08-17\",\"2021-08-18\",\"2021-08-19\",\"2021-08-20\",\"2021-08-21\",\"2021-08-22\",\"2021-08-23\",\"2021-08-24\",\"2021-08-25\",\"2021-08-26\",\"2021-08-27\",\"2021-08-28\",\"2021-08-29\",\"2021-08-30\",\"2021-08-31\",\"2021-09-01\",\"2021-09-02\",\"2021-09-03\",\"2021-09-04\",\"2021-09-05\",\"2021-09-06\",\"2021-09-07\",\"2021-09-08\",\"2021-09-09\",\"2021-09-10\",\"2021-09-11\",\"2021-09-12\",\"2021-09-13\",\"2021-09-14\",\"2021-09-15\",\"2021-09-16\",\"2021-09-17\",\"2021-09-18\",\"2021-09-19\",\"2021-09-20\",\"2021-09-21\",\"2021-09-22\",\"2021-09-23\",\"2021-09-24\",\"2021-09-25\",\"2021-09-26\",\"2021-09-27\",\"2021-09-28\",\"2021-09-29\",\"2021-09-30\",\"2021-10-01\",\"2021-10-02\",\"2021-10-03\",\"2021-10-04\",\"2021-10-05\",\"2021-10-06\",\"2021-10-07\",\"2021-10-08\",\"2021-10-09\",\"2021-10-10\",\"2021-10-11\",\"2021-10-12\",\"2021-10-13\",\"2021-10-14\",\"2021-10-15\",\"2021-10-16\",\"2021-10-17\",\"2021-10-18\",\"2021-10-19\",\"2021-10-20\",\"2021-10-21\",\"2021-10-22\",\"2021-10-23\",\"2021-10-24\",\"2021-10-25\",\"2021-10-26\",\"2021-10-27\",\"2021-10-28\",\"2021-10-29\",\"2021-10-30\",\"2021-10-31\",\"2021-11-01\",\"2021-11-02\",\"2021-11-03\",\"2021-11-04\",\"2021-11-05\",\"2021-11-06\",\"2021-11-07\",\"2021-11-08\",\"2021-11-09\",\"2021-11-10\",\"2021-11-11\",\"2021-11-12\",\"2021-11-13\",\"2021-11-14\",\"2021-11-15\",\"2021-11-16\",\"2021-11-17\",\"2021-11-18\",\"2021-11-19\",\"2021-11-20\",\"2021-11-21\",\"2021-11-22\",\"2021-11-23\",\"2021-11-24\",\"2021-11-25\",\"2021-11-26\",\"2021-11-27\",\"2021-11-28\",\"2021-11-29\",\"2021-11-30\",\"2021-12-01\",\"2021-12-02\",\"2021-12-03\",\"2021-12-04\",\"2021-12-05\",\"2021-12-06\",\"2021-12-07\",\"2021-12-08\",\"2021-12-09\",\"2021-12-10\",\"2021-12-11\",\"2021-12-12\",\"2021-12-13\",\"2021-12-14\",\"2021-12-15\",\"2021-12-16\",\"2021-12-17\",\"2021-12-18\",\"2021-12-19\",\"2021-12-20\",\"2021-12-21\",\"2021-12-22\",\"2021-12-23\",\"2021-12-24\",\"2021-12-25\",\"2021-12-26\",\"2021-12-27\",\"2021-12-28\",\"2021-12-29\",\"2021-12-30\",\"2021-12-31\",\"2022-01-01\",\"2022-01-02\",\"2022-01-03\",\"2022-01-04\",\"2022-01-05\",\"2022-01-06\",\"2022-01-07\",\"2022-01-08\",\"2022-01-09\",\"2022-01-10\",\"2022-01-11\",\"2022-01-12\",\"2022-01-13\",\"2022-01-14\",\"2022-01-15\",\"2022-01-16\",\"2022-01-17\",\"2022-01-18\",\"2022-01-19\",\"2022-01-20\",\"2022-01-21\",\"2022-01-22\",\"2022-01-23\",\"2022-01-24\",\"2022-01-25\",\"2022-01-26\",\"2022-01-27\",\"2022-01-28\",\"2022-01-29\",\"2022-01-30\",\"2022-01-31\",\"2022-02-01\",\"2022-02-02\",\"2022-02-03\",\"2022-02-04\",\"2022-02-05\",\"2022-02-06\",\"2022-02-07\",\"2022-02-08\",\"2022-02-09\",\"2022-02-10\",\"2022-02-11\",\"2022-02-12\",\"2022-02-13\",\"2022-02-14\",\"2022-02-15\",\"2022-02-16\",\"2022-02-17\",\"2022-02-18\",\"2022-02-19\",\"2022-02-20\",\"2022-02-21\",\"2022-02-22\",\"2022-02-23\",\"2022-02-24\",\"2022-02-25\",\"2022-02-26\",\"2022-02-27\",\"2022-02-28\",\"2022-03-01\",\"2022-03-02\",\"2022-03-03\",\"2022-03-04\",\"2022-03-05\",\"2022-03-06\",\"2022-03-07\",\"2022-03-08\",\"2022-03-09\",\"2022-03-10\",\"2022-03-11\",\"2022-03-12\",\"2022-03-13\",\"2022-03-14\",\"2022-03-15\",\"2022-03-16\",\"2022-03-17\",\"2022-03-18\",\"2022-03-19\",\"2022-03-20\",\"2022-03-21\",\"2022-03-22\",\"2022-03-23\",\"2022-03-24\",\"2022-03-25\",\"2022-03-26\",\"2022-03-27\",\"2022-03-28\",\"2022-03-29\",\"2022-03-30\",\"2022-03-31\"],\"y\":[56,35,17,56,51,58,38,36,32,27,17,39,46,30,61,15,31,46,28,50,38,32,41,55,92,53,38,50,42,34,28,31,48,34,31,35,34,42,304,55,39,30,40,32,36,46,43,29,32,20,25,47,26,29,57,21,14,26,26,31,37,25,43,19,38,18,36,43,37,37,30,42,29,44,102,137,65,46,25,25,24,18,25,37,41,44,24,15,48,35,34,33,26,29,26,28,20,26,41,46,26,46,91,31,36,102,27,21,43,28,16,34,52,39,34,40,45,43,28,13,26,22,32,35,40,44,86,49,23,30,45,45,47,53,69,24,29,35,44,21,33,31,27,25,34,28,48,40,10,11,17,17,22,18,13,8,20,36,24,37,43,20,23,36,64,42,44,54,37,35,37,56,54,94,40,34,37,22,22,21,21,22,15,28,23,15,37,25,32,38,35,39,57,78,47,19,39,29,24,15,22,47,61,55,44,25,42,46,28,16,10,35,29,29,33,23,30,41,38,25,18,19,17,32,27,19,22,25,40,36,50,46,41,32,41,38,42,48,39,29,34,55,16,21,21,16,9,24,31,27,25,16,54,49,58,56,77,76,64,109,66,49,64,69,58,51,53,40,27,32,45,29,42,30,14,29,590,96,52,59,64,36,44,63,39,58,34,30,17,27,32,45,32,71,85,24,15,34,50,33,52,40,27,21,22,27,25,26,22,58,44,23,53,45,45,40,39,36,40,50,50,37,54,28,47,34,35,38,69,56,64,30,51,88,46,43,36,34,21,32,41,63,109,97,59,54,58,61,57,41,50,36,24,45,45,37,34,28,17,36,40,28,17,38,46,28,52,16,27,24,20,30,30,106,40,37,37,49,12,49,47,39,58,43,64,40,15,33,15,22,47,9,50,43,34,35,33,18,12,22,40,33,40,28,31,19,13,27,21,29,19,13,75,25,24,17,12,23,51,46,59,35,22,25,25,15,19,40,38,40,34,32,37,19,20,43,28,49,35,32,32,28,27,22,44,61,67,74,67,45,34,199,42,61,75]},{\"connectgaps\":true,\"line\":{\"color\":\"red\",\"shape\":\"linear\"},\"mode\":\"markers+lines\",\"name\":\"created_at\",\"type\":\"scatter\",\"x\":[\"2021-01-01\",\"2021-01-02\",\"2021-01-03\",\"2021-01-04\",\"2021-01-05\",\"2021-01-06\",\"2021-01-07\",\"2021-01-08\",\"2021-01-09\",\"2021-01-10\",\"2021-01-11\",\"2021-01-12\",\"2021-01-13\",\"2021-01-14\",\"2021-01-15\",\"2021-01-16\",\"2021-01-17\",\"2021-01-18\",\"2021-01-19\",\"2021-01-20\",\"2021-01-21\",\"2021-01-22\",\"2021-01-23\",\"2021-01-24\",\"2021-01-25\",\"2021-01-26\",\"2021-01-27\",\"2021-01-28\",\"2021-01-29\",\"2021-01-30\",\"2021-01-31\",\"2021-02-01\",\"2021-02-02\",\"2021-02-03\",\"2021-02-04\",\"2021-02-05\",\"2021-02-06\",\"2021-02-07\",\"2021-02-08\",\"2021-02-09\",\"2021-02-10\",\"2021-02-11\",\"2021-02-12\",\"2021-02-13\",\"2021-02-14\",\"2021-02-15\",\"2021-02-16\",\"2021-02-17\",\"2021-02-18\",\"2021-02-19\",\"2021-02-20\",\"2021-02-21\",\"2021-02-22\",\"2021-02-23\",\"2021-02-24\",\"2021-02-25\",\"2021-02-26\",\"2021-02-27\",\"2021-02-28\",\"2021-03-01\",\"2021-03-02\",\"2021-03-03\",\"2021-03-04\",\"2021-03-05\",\"2021-03-06\",\"2021-03-07\",\"2021-03-08\",\"2021-03-09\",\"2021-03-10\",\"2021-03-11\",\"2021-03-12\",\"2021-03-13\",\"2021-03-14\",\"2021-03-15\",\"2021-03-16\",\"2021-03-17\",\"2021-03-18\",\"2021-03-19\",\"2021-03-20\",\"2021-03-21\",\"2021-03-22\",\"2021-03-23\",\"2021-03-24\",\"2021-03-25\",\"2021-03-26\",\"2021-03-27\",\"2021-03-28\",\"2021-03-29\",\"2021-03-30\",\"2021-03-31\",\"2021-04-01\",\"2021-04-02\",\"2021-04-03\",\"2021-04-04\",\"2021-04-05\",\"2021-04-06\",\"2021-04-07\",\"2021-04-08\",\"2021-04-09\",\"2021-04-10\",\"2021-04-11\",\"2021-04-12\",\"2021-04-13\",\"2021-04-14\",\"2021-04-15\",\"2021-04-16\",\"2021-04-17\",\"2021-04-18\",\"2021-04-19\",\"2021-04-20\",\"2021-04-21\",\"2021-04-22\",\"2021-04-23\",\"2021-04-24\",\"2021-04-25\",\"2021-04-26\",\"2021-04-27\",\"2021-04-28\",\"2021-04-29\",\"2021-04-30\",\"2021-05-01\",\"2021-05-02\",\"2021-05-03\",\"2021-05-04\",\"2021-05-05\",\"2021-05-06\",\"2021-05-07\",\"2021-05-08\",\"2021-05-09\",\"2021-05-10\",\"2021-05-11\",\"2021-05-12\",\"2021-05-13\",\"2021-05-14\",\"2021-05-15\",\"2021-05-16\",\"2021-05-17\",\"2021-05-18\",\"2021-05-19\",\"2021-05-20\",\"2021-05-21\",\"2021-05-22\",\"2021-05-23\",\"2021-05-24\",\"2021-05-25\",\"2021-05-26\",\"2021-05-27\",\"2021-05-28\",\"2021-05-29\",\"2021-05-30\",\"2021-05-31\",\"2021-06-01\",\"2021-06-02\",\"2021-06-03\",\"2021-06-04\",\"2021-06-05\",\"2021-06-06\",\"2021-06-07\",\"2021-06-08\",\"2021-06-09\",\"2021-06-10\",\"2021-06-11\",\"2021-06-12\",\"2021-06-13\",\"2021-06-14\",\"2021-06-15\",\"2021-06-16\",\"2021-06-17\",\"2021-06-18\",\"2021-06-19\",\"2021-06-20\",\"2021-06-21\",\"2021-06-22\",\"2021-06-23\",\"2021-06-24\",\"2021-06-25\",\"2021-06-26\",\"2021-06-27\",\"2021-06-28\",\"2021-06-29\",\"2021-06-30\",\"2021-07-01\",\"2021-07-02\",\"2021-07-03\",\"2021-07-04\",\"2021-07-05\",\"2021-07-06\",\"2021-07-07\",\"2021-07-08\",\"2021-07-09\",\"2021-07-10\",\"2021-07-11\",\"2021-07-12\",\"2021-07-13\",\"2021-07-14\",\"2021-07-15\",\"2021-07-16\",\"2021-07-17\",\"2021-07-18\",\"2021-07-20\",\"2021-07-21\",\"2021-07-22\",\"2021-07-23\",\"2021-07-24\",\"2021-07-25\",\"2021-07-26\",\"2021-07-27\",\"2021-07-28\",\"2021-07-29\",\"2021-07-30\",\"2021-07-31\",\"2021-08-01\",\"2021-08-02\",\"2021-08-03\",\"2021-08-04\",\"2021-08-05\",\"2021-08-06\",\"2021-08-07\",\"2021-08-08\",\"2021-08-09\",\"2021-08-10\",\"2021-08-11\",\"2021-08-12\",\"2021-08-13\",\"2021-08-14\",\"2021-08-15\",\"2021-08-16\",\"2021-08-17\",\"2021-08-18\",\"2021-08-19\",\"2021-08-20\",\"2021-08-21\",\"2021-08-22\",\"2021-08-23\",\"2021-08-24\",\"2021-08-25\",\"2021-08-26\",\"2021-08-27\",\"2021-08-28\",\"2021-08-29\",\"2021-08-30\",\"2021-08-31\",\"2021-09-01\",\"2021-09-02\",\"2021-09-03\",\"2021-09-04\",\"2021-09-05\",\"2021-09-06\",\"2021-09-07\",\"2021-09-08\",\"2021-09-09\",\"2021-09-10\",\"2021-09-11\",\"2021-09-12\",\"2021-09-13\",\"2021-09-14\",\"2021-09-15\",\"2021-09-16\",\"2021-09-17\",\"2021-09-18\",\"2021-09-19\",\"2021-09-20\",\"2021-09-21\",\"2021-09-22\",\"2021-09-23\",\"2021-09-24\",\"2021-09-25\",\"2021-09-26\",\"2021-09-27\",\"2021-09-28\",\"2021-09-29\",\"2021-09-30\",\"2021-10-01\",\"2021-10-02\",\"2021-10-03\",\"2021-10-04\",\"2021-10-05\",\"2021-10-06\",\"2021-10-07\",\"2021-10-08\",\"2021-10-09\",\"2021-10-10\",\"2021-10-11\",\"2021-10-12\",\"2021-10-13\",\"2021-10-14\",\"2021-10-15\",\"2021-10-16\",\"2021-10-17\",\"2021-10-18\",\"2021-10-19\",\"2021-10-20\",\"2021-10-21\",\"2021-10-22\",\"2021-10-23\",\"2021-10-24\",\"2021-10-25\",\"2021-10-26\",\"2021-10-27\",\"2021-10-28\",\"2021-10-29\",\"2021-10-30\",\"2021-10-31\",\"2021-11-01\",\"2021-11-02\",\"2021-11-03\",\"2021-11-04\",\"2021-11-05\",\"2021-11-06\",\"2021-11-07\",\"2021-11-08\",\"2021-11-09\",\"2021-11-10\",\"2021-11-11\",\"2021-11-12\",\"2021-11-14\",\"2021-11-15\",\"2021-11-16\",\"2021-11-17\",\"2021-11-18\",\"2021-11-19\",\"2021-11-20\",\"2021-11-21\",\"2021-11-22\",\"2021-11-23\",\"2021-11-24\",\"2021-11-25\",\"2021-11-26\",\"2021-11-27\",\"2021-11-28\",\"2021-11-29\",\"2021-11-30\",\"2021-12-01\",\"2021-12-02\",\"2021-12-03\",\"2021-12-04\",\"2021-12-05\",\"2021-12-06\",\"2021-12-07\",\"2021-12-08\",\"2021-12-09\",\"2021-12-10\",\"2021-12-11\",\"2021-12-12\",\"2021-12-13\",\"2021-12-14\",\"2021-12-15\",\"2021-12-16\",\"2021-12-17\",\"2021-12-18\",\"2021-12-19\",\"2021-12-20\",\"2021-12-21\",\"2021-12-22\",\"2021-12-23\",\"2021-12-24\",\"2021-12-25\",\"2021-12-26\",\"2021-12-27\",\"2021-12-28\",\"2021-12-29\",\"2021-12-30\",\"2021-12-31\",\"2022-01-01\",\"2022-01-02\",\"2022-01-03\",\"2022-01-04\",\"2022-01-05\",\"2022-01-06\",\"2022-01-07\",\"2022-01-08\",\"2022-01-09\",\"2022-01-10\",\"2022-01-11\",\"2022-01-12\",\"2022-01-13\",\"2022-01-14\",\"2022-01-15\",\"2022-01-16\",\"2022-01-17\",\"2022-01-18\",\"2022-01-19\",\"2022-01-20\",\"2022-01-21\",\"2022-01-22\",\"2022-01-23\",\"2022-01-24\",\"2022-01-25\",\"2022-01-26\",\"2022-01-27\",\"2022-01-28\",\"2022-01-29\",\"2022-01-30\",\"2022-01-31\",\"2022-02-01\",\"2022-02-02\",\"2022-02-03\",\"2022-02-04\",\"2022-02-05\",\"2022-02-06\",\"2022-02-07\",\"2022-02-08\",\"2022-02-09\",\"2022-02-10\",\"2022-02-11\",\"2022-02-12\",\"2022-02-13\",\"2022-02-14\",\"2022-02-15\",\"2022-02-16\",\"2022-02-17\",\"2022-02-18\",\"2022-02-19\",\"2022-02-20\",\"2022-02-21\",\"2022-02-22\",\"2022-02-23\",\"2022-02-24\",\"2022-02-25\",\"2022-02-26\",\"2022-02-27\",\"2022-02-28\",\"2022-03-01\",\"2022-03-02\",\"2022-03-03\",\"2022-03-04\",\"2022-03-05\",\"2022-03-06\",\"2022-03-07\",\"2022-03-08\",\"2022-03-09\",\"2022-03-10\",\"2022-03-11\",\"2022-03-12\",\"2022-03-13\",\"2022-03-14\",\"2022-03-15\",\"2022-03-16\",\"2022-03-17\",\"2022-03-18\",\"2022-03-19\",\"2022-03-20\",\"2022-03-21\",\"2022-03-22\",\"2022-03-23\",\"2022-03-24\",\"2022-03-25\",\"2022-03-26\",\"2022-03-27\",\"2022-03-28\",\"2022-03-29\",\"2022-03-30\",\"2022-03-31\"],\"y\":[12,14,12,16,16,20,28,8,14,7,12,15,6,15,18,10,4,12,7,7,12,7,10,18,33,14,15,3,11,14,11,9,10,6,19,10,21,8,83,11,12,6,9,8,7,17,25,12,25,8,10,12,15,21,17,8,10,12,19,13,14,12,33,8,14,8,20,20,16,3,9,10,5,14,32,52,10,14,10,7,6,3,25,18,16,10,5,18,13,10,8,19,20,5,19,20,25,13,15,27,16,31,24,24,5,18,8,2,8,21,7,8,17,23,13,16,12,7,22,72,40,20,11,11,12,12,33,13,17,10,13,21,11,27,25,25,9,13,34,10,4,9,8,12,11,17,15,13,13,10,8,9,15,25,10,7,4,11,12,5,7,5,7,9,5,10,8,19,11,13,6,19,16,43,23,7,9,4,8,7,5,11,10,8,7,4,10,23,12,9,5,17,13,12,6,3,6,6,3,3,13,8,11,6,7,9,8,8,8,8,4,6,13,14,47,26,12,18,8,10,4,8,18,16,8,9,9,13,10,20,21,25,7,11,17,18,17,26,22,14,15,7,18,7,6,11,21,21,23,16,10,19,18,10,15,24,25,22,16,17,3,9,4,10,7,14,3,2,10,7,9,12,10,2,3,168,15,8,16,17,8,5,10,7,10,11,11,4,7,5,7,12,14,25,4,5,9,8,7,10,10,10,5,6,6,4,8,8,13,10,5,12,28,5,7,4,4,11,18,7,22,1,3,22,28,11,16,16,12,14,38,49,14,40,18,22,19,27,35,30,81,71,26,32,35,35,20,21,21,13,22,24,31,21,20,12,14,21,16,12,11,16,11,12,27,13,19,3,7,11,8,15,10,12,16,25,17,31,15,28,14,15,8,19,5,15,8,13,23,8,9,12,18,12,13,8,13,23,38,27,26,16,18,11,15,18,19,27,12,15,61,10,23,11,7,10,15,15,20,8,7,11,9,10,28,25,12,29,40,27,35,32,25,25,13,18,19,12,23,16,25,41,52,33,28,12,19,14,14,188,74,20,19]},{\"connectgaps\":true,\"line\":{\"color\":\"red\",\"shape\":\"linear\"},\"mode\":\"markers+lines\",\"name\":\"tweet_id\",\"type\":\"scatter\",\"x\":[\"2021-01-01\",\"2021-01-02\",\"2021-01-03\",\"2021-01-04\",\"2021-01-05\",\"2021-01-06\",\"2021-01-07\",\"2021-01-08\",\"2021-01-09\",\"2021-01-10\",\"2021-01-11\",\"2021-01-12\",\"2021-01-13\",\"2021-01-14\",\"2021-01-15\",\"2021-01-16\",\"2021-01-17\",\"2021-01-18\",\"2021-01-19\",\"2021-01-20\",\"2021-01-21\",\"2021-01-22\",\"2021-01-23\",\"2021-01-24\",\"2021-01-25\",\"2021-01-26\",\"2021-01-27\",\"2021-01-28\",\"2021-01-29\",\"2021-01-30\",\"2021-01-31\",\"2021-02-01\",\"2021-02-02\",\"2021-02-03\",\"2021-02-04\",\"2021-02-05\",\"2021-02-06\",\"2021-02-07\",\"2021-02-08\",\"2021-02-09\",\"2021-02-10\",\"2021-02-11\",\"2021-02-12\",\"2021-02-13\",\"2021-02-14\",\"2021-02-15\",\"2021-02-16\",\"2021-02-17\",\"2021-02-18\",\"2021-02-19\",\"2021-02-20\",\"2021-02-21\",\"2021-02-22\",\"2021-02-23\",\"2021-02-24\",\"2021-02-25\",\"2021-02-26\",\"2021-02-27\",\"2021-02-28\",\"2021-03-01\",\"2021-03-02\",\"2021-03-03\",\"2021-03-04\",\"2021-03-05\",\"2021-03-06\",\"2021-03-07\",\"2021-03-08\",\"2021-03-09\",\"2021-03-10\",\"2021-03-11\",\"2021-03-12\",\"2021-03-13\",\"2021-03-14\",\"2021-03-15\",\"2021-03-16\",\"2021-03-17\",\"2021-03-18\",\"2021-03-19\",\"2021-03-20\",\"2021-03-21\",\"2021-03-22\",\"2021-03-23\",\"2021-03-24\",\"2021-03-25\",\"2021-03-26\",\"2021-03-27\",\"2021-03-28\",\"2021-03-29\",\"2021-03-30\",\"2021-03-31\",\"2021-04-01\",\"2021-04-02\",\"2021-04-03\",\"2021-04-04\",\"2021-04-05\",\"2021-04-06\",\"2021-04-07\",\"2021-04-08\",\"2021-04-09\",\"2021-04-10\",\"2021-04-11\",\"2021-04-12\",\"2021-04-13\",\"2021-04-14\",\"2021-04-15\",\"2021-04-16\",\"2021-04-17\",\"2021-04-18\",\"2021-04-19\",\"2021-04-20\",\"2021-04-21\",\"2021-04-22\",\"2021-04-23\",\"2021-04-24\",\"2021-04-25\",\"2021-04-26\",\"2021-04-27\",\"2021-04-28\",\"2021-04-29\",\"2021-04-30\",\"2021-05-01\",\"2021-05-02\",\"2021-05-03\",\"2021-05-04\",\"2021-05-05\",\"2021-05-06\",\"2021-05-07\",\"2021-05-08\",\"2021-05-09\",\"2021-05-10\",\"2021-05-11\",\"2021-05-12\",\"2021-05-13\",\"2021-05-14\",\"2021-05-15\",\"2021-05-16\",\"2021-05-17\",\"2021-05-18\",\"2021-05-19\",\"2021-05-20\",\"2021-05-21\",\"2021-05-22\",\"2021-05-23\",\"2021-05-24\",\"2021-05-25\",\"2021-05-26\",\"2021-05-27\",\"2021-05-28\",\"2021-05-29\",\"2021-05-30\",\"2021-05-31\",\"2021-06-01\",\"2021-06-02\",\"2021-06-03\",\"2021-06-04\",\"2021-06-05\",\"2021-06-06\",\"2021-06-07\",\"2021-06-08\",\"2021-06-09\",\"2021-06-10\",\"2021-06-11\",\"2021-06-12\",\"2021-06-13\",\"2021-06-14\",\"2021-06-15\",\"2021-06-16\",\"2021-06-17\",\"2021-06-18\",\"2021-06-19\",\"2021-06-20\",\"2021-06-21\",\"2021-06-22\",\"2021-06-23\",\"2021-06-24\",\"2021-06-25\",\"2021-06-26\",\"2021-06-27\",\"2021-06-28\",\"2021-06-29\",\"2021-06-30\",\"2021-07-01\",\"2021-07-02\",\"2021-07-03\",\"2021-07-04\",\"2021-07-05\",\"2021-07-06\",\"2021-07-07\",\"2021-07-08\",\"2021-07-09\",\"2021-07-10\",\"2021-07-11\",\"2021-07-12\",\"2021-07-13\",\"2021-07-14\",\"2021-07-15\",\"2021-07-16\",\"2021-07-17\",\"2021-07-18\",\"2021-07-20\",\"2021-07-21\",\"2021-07-22\",\"2021-07-23\",\"2021-07-24\",\"2021-07-25\",\"2021-07-26\",\"2021-07-27\",\"2021-07-28\",\"2021-07-29\",\"2021-07-30\",\"2021-07-31\",\"2021-08-01\",\"2021-08-02\",\"2021-08-03\",\"2021-08-04\",\"2021-08-05\",\"2021-08-06\",\"2021-08-07\",\"2021-08-08\",\"2021-08-09\",\"2021-08-10\",\"2021-08-11\",\"2021-08-12\",\"2021-08-13\",\"2021-08-14\",\"2021-08-15\",\"2021-08-16\",\"2021-08-17\",\"2021-08-18\",\"2021-08-19\",\"2021-08-20\",\"2021-08-21\",\"2021-08-22\",\"2021-08-23\",\"2021-08-24\",\"2021-08-25\",\"2021-08-26\",\"2021-08-27\",\"2021-08-28\",\"2021-08-29\",\"2021-08-30\",\"2021-08-31\",\"2021-09-01\",\"2021-09-02\",\"2021-09-03\",\"2021-09-04\",\"2021-09-05\",\"2021-09-06\",\"2021-09-07\",\"2021-09-08\",\"2021-09-09\",\"2021-09-10\",\"2021-09-11\",\"2021-09-12\",\"2021-09-13\",\"2021-09-14\",\"2021-09-15\",\"2021-09-16\",\"2021-09-17\",\"2021-09-18\",\"2021-09-19\",\"2021-09-20\",\"2021-09-21\",\"2021-09-22\",\"2021-09-23\",\"2021-09-24\",\"2021-09-25\",\"2021-09-26\",\"2021-09-27\",\"2021-09-28\",\"2021-09-29\",\"2021-09-30\",\"2021-10-01\",\"2021-10-02\",\"2021-10-03\",\"2021-10-04\",\"2021-10-05\",\"2021-10-06\",\"2021-10-07\",\"2021-10-08\",\"2021-10-09\",\"2021-10-10\",\"2021-10-11\",\"2021-10-12\",\"2021-10-13\",\"2021-10-14\",\"2021-10-15\",\"2021-10-16\",\"2021-10-17\",\"2021-10-18\",\"2021-10-19\",\"2021-10-20\",\"2021-10-21\",\"2021-10-22\",\"2021-10-23\",\"2021-10-24\",\"2021-10-25\",\"2021-10-26\",\"2021-10-27\",\"2021-10-28\",\"2021-10-29\",\"2021-10-30\",\"2021-10-31\",\"2021-11-01\",\"2021-11-02\",\"2021-11-03\",\"2021-11-04\",\"2021-11-05\",\"2021-11-06\",\"2021-11-07\",\"2021-11-08\",\"2021-11-09\",\"2021-11-10\",\"2021-11-11\",\"2021-11-12\",\"2021-11-14\",\"2021-11-15\",\"2021-11-16\",\"2021-11-17\",\"2021-11-18\",\"2021-11-19\",\"2021-11-20\",\"2021-11-21\",\"2021-11-22\",\"2021-11-23\",\"2021-11-24\",\"2021-11-25\",\"2021-11-26\",\"2021-11-27\",\"2021-11-28\",\"2021-11-29\",\"2021-11-30\",\"2021-12-01\",\"2021-12-02\",\"2021-12-03\",\"2021-12-04\",\"2021-12-05\",\"2021-12-06\",\"2021-12-07\",\"2021-12-08\",\"2021-12-09\",\"2021-12-10\",\"2021-12-11\",\"2021-12-12\",\"2021-12-13\",\"2021-12-14\",\"2021-12-15\",\"2021-12-16\",\"2021-12-17\",\"2021-12-18\",\"2021-12-19\",\"2021-12-20\",\"2021-12-21\",\"2021-12-22\",\"2021-12-23\",\"2021-12-24\",\"2021-12-25\",\"2021-12-26\",\"2021-12-27\",\"2021-12-28\",\"2021-12-29\",\"2021-12-30\",\"2021-12-31\",\"2022-01-01\",\"2022-01-02\",\"2022-01-03\",\"2022-01-04\",\"2022-01-05\",\"2022-01-06\",\"2022-01-07\",\"2022-01-08\",\"2022-01-09\",\"2022-01-10\",\"2022-01-11\",\"2022-01-12\",\"2022-01-13\",\"2022-01-14\",\"2022-01-15\",\"2022-01-16\",\"2022-01-17\",\"2022-01-18\",\"2022-01-19\",\"2022-01-20\",\"2022-01-21\",\"2022-01-22\",\"2022-01-23\",\"2022-01-24\",\"2022-01-25\",\"2022-01-26\",\"2022-01-27\",\"2022-01-28\",\"2022-01-29\",\"2022-01-30\",\"2022-01-31\",\"2022-02-01\",\"2022-02-02\",\"2022-02-03\",\"2022-02-04\",\"2022-02-05\",\"2022-02-06\",\"2022-02-07\",\"2022-02-08\",\"2022-02-09\",\"2022-02-10\",\"2022-02-11\",\"2022-02-12\",\"2022-02-13\",\"2022-02-14\",\"2022-02-15\",\"2022-02-16\",\"2022-02-17\",\"2022-02-18\",\"2022-02-19\",\"2022-02-20\",\"2022-02-21\",\"2022-02-22\",\"2022-02-23\",\"2022-02-24\",\"2022-02-25\",\"2022-02-26\",\"2022-02-27\",\"2022-02-28\",\"2022-03-01\",\"2022-03-02\",\"2022-03-03\",\"2022-03-04\",\"2022-03-05\",\"2022-03-06\",\"2022-03-07\",\"2022-03-08\",\"2022-03-09\",\"2022-03-10\",\"2022-03-11\",\"2022-03-12\",\"2022-03-13\",\"2022-03-14\",\"2022-03-15\",\"2022-03-16\",\"2022-03-17\",\"2022-03-18\",\"2022-03-19\",\"2022-03-20\",\"2022-03-21\",\"2022-03-22\",\"2022-03-23\",\"2022-03-24\",\"2022-03-25\",\"2022-03-26\",\"2022-03-27\",\"2022-03-28\",\"2022-03-29\",\"2022-03-30\",\"2022-03-31\"],\"y\":[12,14,12,16,16,20,28,8,14,7,12,15,6,15,18,10,4,12,7,7,12,7,10,18,33,14,15,3,11,14,11,9,10,6,19,10,21,8,83,11,12,6,9,8,7,17,25,12,25,8,10,12,15,21,17,8,10,12,19,13,14,12,33,8,14,8,20,20,16,3,9,10,5,14,32,52,10,14,10,7,6,3,25,18,16,10,5,18,13,10,8,19,20,5,19,20,25,13,15,27,16,31,24,24,5,18,8,2,8,21,7,8,17,23,13,16,12,7,22,72,40,20,11,11,12,12,33,13,17,10,13,21,11,27,25,25,9,13,34,10,4,9,8,12,11,17,15,13,13,10,8,9,15,25,10,7,4,11,12,5,7,5,7,9,5,10,8,19,11,13,6,19,16,43,23,7,9,4,8,7,5,11,10,8,7,4,10,23,12,9,5,17,13,12,6,3,6,6,3,3,13,8,11,6,7,9,8,8,8,8,4,6,13,14,47,26,12,18,8,10,4,8,18,16,8,9,9,13,10,20,21,25,7,11,17,18,17,26,22,14,15,7,18,7,6,11,21,21,23,16,10,19,18,10,15,24,25,22,16,17,3,9,4,10,7,14,3,2,10,7,9,12,10,2,3,168,15,8,16,17,8,5,10,7,10,11,11,4,7,5,7,12,14,25,4,5,9,8,7,10,10,10,5,6,6,4,8,8,13,10,5,12,28,5,7,4,4,11,18,7,22,1,3,22,28,11,16,16,12,14,38,49,14,40,18,22,19,27,35,30,81,71,26,32,35,35,20,21,21,13,22,24,31,21,20,12,14,21,16,12,11,16,11,12,27,13,19,3,7,11,8,15,10,12,16,25,17,31,15,28,14,15,8,19,5,15,8,13,23,8,9,12,18,12,13,8,13,23,38,27,26,16,18,11,15,18,19,27,12,15,61,10,23,11,7,10,15,15,20,8,7,11,9,10,28,25,12,29,40,27,35,32,25,25,13,18,19,12,23,16,25,41,52,33,28,12,19,14,14,188,74,20,19]}],                        {\"template\":{\"data\":{\"bar\":[{\"error_x\":{\"color\":\"#2a3f5f\"},\"error_y\":{\"color\":\"#2a3f5f\"},\"marker\":{\"line\":{\"color\":\"#E5ECF6\",\"width\":0.5},\"pattern\":{\"fillmode\":\"overlay\",\"size\":10,\"solidity\":0.2}},\"type\":\"bar\"}],\"barpolar\":[{\"marker\":{\"line\":{\"color\":\"#E5ECF6\",\"width\":0.5},\"pattern\":{\"fillmode\":\"overlay\",\"size\":10,\"solidity\":0.2}},\"type\":\"barpolar\"}],\"carpet\":[{\"aaxis\":{\"endlinecolor\":\"#2a3f5f\",\"gridcolor\":\"white\",\"linecolor\":\"white\",\"minorgridcolor\":\"white\",\"startlinecolor\":\"#2a3f5f\"},\"baxis\":{\"endlinecolor\":\"#2a3f5f\",\"gridcolor\":\"white\",\"linecolor\":\"white\",\"minorgridcolor\":\"white\",\"startlinecolor\":\"#2a3f5f\"},\"type\":\"carpet\"}],\"choropleth\":[{\"colorbar\":{\"outlinewidth\":0,\"ticks\":\"\"},\"type\":\"choropleth\"}],\"contour\":[{\"colorbar\":{\"outlinewidth\":0,\"ticks\":\"\"},\"colorscale\":[[0.0,\"#0d0887\"],[0.1111111111111111,\"#46039f\"],[0.2222222222222222,\"#7201a8\"],[0.3333333333333333,\"#9c179e\"],[0.4444444444444444,\"#bd3786\"],[0.5555555555555556,\"#d8576b\"],[0.6666666666666666,\"#ed7953\"],[0.7777777777777778,\"#fb9f3a\"],[0.8888888888888888,\"#fdca26\"],[1.0,\"#f0f921\"]],\"type\":\"contour\"}],\"contourcarpet\":[{\"colorbar\":{\"outlinewidth\":0,\"ticks\":\"\"},\"type\":\"contourcarpet\"}],\"heatmap\":[{\"colorbar\":{\"outlinewidth\":0,\"ticks\":\"\"},\"colorscale\":[[0.0,\"#0d0887\"],[0.1111111111111111,\"#46039f\"],[0.2222222222222222,\"#7201a8\"],[0.3333333333333333,\"#9c179e\"],[0.4444444444444444,\"#bd3786\"],[0.5555555555555556,\"#d8576b\"],[0.6666666666666666,\"#ed7953\"],[0.7777777777777778,\"#fb9f3a\"],[0.8888888888888888,\"#fdca26\"],[1.0,\"#f0f921\"]],\"type\":\"heatmap\"}],\"heatmapgl\":[{\"colorbar\":{\"outlinewidth\":0,\"ticks\":\"\"},\"colorscale\":[[0.0,\"#0d0887\"],[0.1111111111111111,\"#46039f\"],[0.2222222222222222,\"#7201a8\"],[0.3333333333333333,\"#9c179e\"],[0.4444444444444444,\"#bd3786\"],[0.5555555555555556,\"#d8576b\"],[0.6666666666666666,\"#ed7953\"],[0.7777777777777778,\"#fb9f3a\"],[0.8888888888888888,\"#fdca26\"],[1.0,\"#f0f921\"]],\"type\":\"heatmapgl\"}],\"histogram\":[{\"marker\":{\"pattern\":{\"fillmode\":\"overlay\",\"size\":10,\"solidity\":0.2}},\"type\":\"histogram\"}],\"histogram2d\":[{\"colorbar\":{\"outlinewidth\":0,\"ticks\":\"\"},\"colorscale\":[[0.0,\"#0d0887\"],[0.1111111111111111,\"#46039f\"],[0.2222222222222222,\"#7201a8\"],[0.3333333333333333,\"#9c179e\"],[0.4444444444444444,\"#bd3786\"],[0.5555555555555556,\"#d8576b\"],[0.6666666666666666,\"#ed7953\"],[0.7777777777777778,\"#fb9f3a\"],[0.8888888888888888,\"#fdca26\"],[1.0,\"#f0f921\"]],\"type\":\"histogram2d\"}],\"histogram2dcontour\":[{\"colorbar\":{\"outlinewidth\":0,\"ticks\":\"\"},\"colorscale\":[[0.0,\"#0d0887\"],[0.1111111111111111,\"#46039f\"],[0.2222222222222222,\"#7201a8\"],[0.3333333333333333,\"#9c179e\"],[0.4444444444444444,\"#bd3786\"],[0.5555555555555556,\"#d8576b\"],[0.6666666666666666,\"#ed7953\"],[0.7777777777777778,\"#fb9f3a\"],[0.8888888888888888,\"#fdca26\"],[1.0,\"#f0f921\"]],\"type\":\"histogram2dcontour\"}],\"mesh3d\":[{\"colorbar\":{\"outlinewidth\":0,\"ticks\":\"\"},\"type\":\"mesh3d\"}],\"parcoords\":[{\"line\":{\"colorbar\":{\"outlinewidth\":0,\"ticks\":\"\"}},\"type\":\"parcoords\"}],\"pie\":[{\"automargin\":true,\"type\":\"pie\"}],\"scatter\":[{\"marker\":{\"colorbar\":{\"outlinewidth\":0,\"ticks\":\"\"}},\"type\":\"scatter\"}],\"scatter3d\":[{\"line\":{\"colorbar\":{\"outlinewidth\":0,\"ticks\":\"\"}},\"marker\":{\"colorbar\":{\"outlinewidth\":0,\"ticks\":\"\"}},\"type\":\"scatter3d\"}],\"scattercarpet\":[{\"marker\":{\"colorbar\":{\"outlinewidth\":0,\"ticks\":\"\"}},\"type\":\"scattercarpet\"}],\"scattergeo\":[{\"marker\":{\"colorbar\":{\"outlinewidth\":0,\"ticks\":\"\"}},\"type\":\"scattergeo\"}],\"scattergl\":[{\"marker\":{\"colorbar\":{\"outlinewidth\":0,\"ticks\":\"\"}},\"type\":\"scattergl\"}],\"scattermapbox\":[{\"marker\":{\"colorbar\":{\"outlinewidth\":0,\"ticks\":\"\"}},\"type\":\"scattermapbox\"}],\"scatterpolar\":[{\"marker\":{\"colorbar\":{\"outlinewidth\":0,\"ticks\":\"\"}},\"type\":\"scatterpolar\"}],\"scatterpolargl\":[{\"marker\":{\"colorbar\":{\"outlinewidth\":0,\"ticks\":\"\"}},\"type\":\"scatterpolargl\"}],\"scatterternary\":[{\"marker\":{\"colorbar\":{\"outlinewidth\":0,\"ticks\":\"\"}},\"type\":\"scatterternary\"}],\"surface\":[{\"colorbar\":{\"outlinewidth\":0,\"ticks\":\"\"},\"colorscale\":[[0.0,\"#0d0887\"],[0.1111111111111111,\"#46039f\"],[0.2222222222222222,\"#7201a8\"],[0.3333333333333333,\"#9c179e\"],[0.4444444444444444,\"#bd3786\"],[0.5555555555555556,\"#d8576b\"],[0.6666666666666666,\"#ed7953\"],[0.7777777777777778,\"#fb9f3a\"],[0.8888888888888888,\"#fdca26\"],[1.0,\"#f0f921\"]],\"type\":\"surface\"}],\"table\":[{\"cells\":{\"fill\":{\"color\":\"#EBF0F8\"},\"line\":{\"color\":\"white\"}},\"header\":{\"fill\":{\"color\":\"#C8D4E3\"},\"line\":{\"color\":\"white\"}},\"type\":\"table\"}]},\"layout\":{\"annotationdefaults\":{\"arrowcolor\":\"#2a3f5f\",\"arrowhead\":0,\"arrowwidth\":1},\"autotypenumbers\":\"strict\",\"coloraxis\":{\"colorbar\":{\"outlinewidth\":0,\"ticks\":\"\"}},\"colorscale\":{\"diverging\":[[0,\"#8e0152\"],[0.1,\"#c51b7d\"],[0.2,\"#de77ae\"],[0.3,\"#f1b6da\"],[0.4,\"#fde0ef\"],[0.5,\"#f7f7f7\"],[0.6,\"#e6f5d0\"],[0.7,\"#b8e186\"],[0.8,\"#7fbc41\"],[0.9,\"#4d9221\"],[1,\"#276419\"]],\"sequential\":[[0.0,\"#0d0887\"],[0.1111111111111111,\"#46039f\"],[0.2222222222222222,\"#7201a8\"],[0.3333333333333333,\"#9c179e\"],[0.4444444444444444,\"#bd3786\"],[0.5555555555555556,\"#d8576b\"],[0.6666666666666666,\"#ed7953\"],[0.7777777777777778,\"#fb9f3a\"],[0.8888888888888888,\"#fdca26\"],[1.0,\"#f0f921\"]],\"sequentialminus\":[[0.0,\"#0d0887\"],[0.1111111111111111,\"#46039f\"],[0.2222222222222222,\"#7201a8\"],[0.3333333333333333,\"#9c179e\"],[0.4444444444444444,\"#bd3786\"],[0.5555555555555556,\"#d8576b\"],[0.6666666666666666,\"#ed7953\"],[0.7777777777777778,\"#fb9f3a\"],[0.8888888888888888,\"#fdca26\"],[1.0,\"#f0f921\"]]},\"colorway\":[\"#636efa\",\"#EF553B\",\"#00cc96\",\"#ab63fa\",\"#FFA15A\",\"#19d3f3\",\"#FF6692\",\"#B6E880\",\"#FF97FF\",\"#FECB52\"],\"font\":{\"color\":\"#2a3f5f\"},\"geo\":{\"bgcolor\":\"white\",\"lakecolor\":\"white\",\"landcolor\":\"#E5ECF6\",\"showlakes\":true,\"showland\":true,\"subunitcolor\":\"white\"},\"hoverlabel\":{\"align\":\"left\"},\"hovermode\":\"closest\",\"mapbox\":{\"style\":\"light\"},\"paper_bgcolor\":\"white\",\"plot_bgcolor\":\"#E5ECF6\",\"polar\":{\"angularaxis\":{\"gridcolor\":\"white\",\"linecolor\":\"white\",\"ticks\":\"\"},\"bgcolor\":\"#E5ECF6\",\"radialaxis\":{\"gridcolor\":\"white\",\"linecolor\":\"white\",\"ticks\":\"\"}},\"scene\":{\"xaxis\":{\"backgroundcolor\":\"#E5ECF6\",\"gridcolor\":\"white\",\"gridwidth\":2,\"linecolor\":\"white\",\"showbackground\":true,\"ticks\":\"\",\"zerolinecolor\":\"white\"},\"yaxis\":{\"backgroundcolor\":\"#E5ECF6\",\"gridcolor\":\"white\",\"gridwidth\":2,\"linecolor\":\"white\",\"showbackground\":true,\"ticks\":\"\",\"zerolinecolor\":\"white\"},\"zaxis\":{\"backgroundcolor\":\"#E5ECF6\",\"gridcolor\":\"white\",\"gridwidth\":2,\"linecolor\":\"white\",\"showbackground\":true,\"ticks\":\"\",\"zerolinecolor\":\"white\"}},\"shapedefaults\":{\"line\":{\"color\":\"#2a3f5f\"}},\"ternary\":{\"aaxis\":{\"gridcolor\":\"white\",\"linecolor\":\"white\",\"ticks\":\"\"},\"baxis\":{\"gridcolor\":\"white\",\"linecolor\":\"white\",\"ticks\":\"\"},\"bgcolor\":\"#E5ECF6\",\"caxis\":{\"gridcolor\":\"white\",\"linecolor\":\"white\",\"ticks\":\"\"}},\"title\":{\"x\":0.05},\"xaxis\":{\"automargin\":true,\"gridcolor\":\"white\",\"linecolor\":\"white\",\"ticks\":\"\",\"title\":{\"standoff\":15},\"zerolinecolor\":\"white\",\"zerolinewidth\":2},\"yaxis\":{\"automargin\":true,\"gridcolor\":\"white\",\"linecolor\":\"white\",\"ticks\":\"\",\"title\":{\"standoff\":15},\"zerolinecolor\":\"white\",\"zerolinewidth\":2}}}},                        {\"responsive\": true}                    ).then(function(){\n",
       "                            \n",
       "var gd = document.getElementById('f20a2ce4-dd15-40bf-85dc-c6df15bf9d31');\n",
       "var x = new MutationObserver(function (mutations, observer) {{\n",
       "        var display = window.getComputedStyle(gd).display;\n",
       "        if (!display || display === 'none') {{\n",
       "            console.log([gd, 'removed!']);\n",
       "            Plotly.purge(gd);\n",
       "            observer.disconnect();\n",
       "        }}\n",
       "}});\n",
       "\n",
       "// Listen for the removal of the full notebook cells\n",
       "var notebookContainer = gd.closest('#notebook-container');\n",
       "if (notebookContainer) {{\n",
       "    x.observe(notebookContainer, {childList: true});\n",
       "}}\n",
       "\n",
       "// Listen for the clearing of the current output cell\n",
       "var outputEl = gd.closest('.output');\n",
       "if (outputEl) {{\n",
       "    x.observe(outputEl, {childList: true});\n",
       "}}\n",
       "\n",
       "                        })                };                });            </script>        </div>"
      ]
     },
     "metadata": {},
     "output_type": "display_data"
    }
   ],
   "source": [
    "import plotly.graph_objs as go\n",
    "fig = go.Figure()\n",
    "for col in pos.columns:\n",
    "    fig.add_trace(go.Scatter(x=pos['created_at'], y=pos['tweet_id'],\n",
    "                             name = col,\n",
    "                             mode = 'markers+lines',\n",
    "                             line=dict(shape='linear'),\n",
    "                             connectgaps=True,\n",
    "                             line_color='green'\n",
    "                             )\n",
    "                 )\n",
    "for col in neg.columns:\n",
    "    fig.add_trace(go.Scatter(x=neg['created_at'], y=neg['tweet_id'],\n",
    "                             name = col,\n",
    "                             mode = 'markers+lines',\n",
    "                             line=dict(shape='linear'),\n",
    "                             connectgaps=True,\n",
    "                             line_color='red'\n",
    "                             )\n",
    "                 )\n",
    "fig.show()"
   ]
  },
  {
   "cell_type": "code",
   "execution_count": 71,
   "id": "d4ba1b49",
   "metadata": {},
   "outputs": [],
   "source": [
    "# filter the df to only capture Tweets from the start of mid sept to end of oct\n",
    "newdf = df[(df['created_at']>='2021-10-01') & (df['created_at']<='2021-10-10')]\n",
    "neg = newdf[newdf['sentiment_category']=='negative']\n",
    "neg = neg.groupby(['created_at'],as_index=False).count()\n",
    "pos = newdf[newdf['sentiment_category']=='positive']\n",
    "pos = pos.groupby(['created_at'],as_index=False).count()\n",
    "\n",
    "pos = pos[['created_at','tweet_id']]\n",
    "neg = neg[['created_at','tweet_id']]"
   ]
  },
  {
   "cell_type": "code",
   "execution_count": 72,
   "id": "52f39b06",
   "metadata": {},
   "outputs": [
    {
     "data": {
      "application/vnd.plotly.v1+json": {
       "config": {
        "plotlyServerURL": "https://plot.ly"
       },
       "data": [
        {
         "connectgaps": true,
         "line": {
          "color": "green",
          "shape": "linear"
         },
         "mode": "markers+lines",
         "name": "created_at",
         "type": "scatter",
         "x": [
          "2021-10-01",
          "2021-10-02",
          "2021-10-03",
          "2021-10-04",
          "2021-10-05",
          "2021-10-06",
          "2021-10-07",
          "2021-10-08",
          "2021-10-09",
          "2021-10-10"
         ],
         "y": [
          30,
          14,
          29,
          590,
          96,
          52,
          59,
          64,
          36,
          44
         ]
        },
        {
         "connectgaps": true,
         "line": {
          "color": "green",
          "shape": "linear"
         },
         "mode": "markers+lines",
         "name": "tweet_id",
         "type": "scatter",
         "x": [
          "2021-10-01",
          "2021-10-02",
          "2021-10-03",
          "2021-10-04",
          "2021-10-05",
          "2021-10-06",
          "2021-10-07",
          "2021-10-08",
          "2021-10-09",
          "2021-10-10"
         ],
         "y": [
          30,
          14,
          29,
          590,
          96,
          52,
          59,
          64,
          36,
          44
         ]
        },
        {
         "connectgaps": true,
         "line": {
          "color": "red",
          "shape": "linear"
         },
         "mode": "markers+lines",
         "name": "created_at",
         "type": "scatter",
         "x": [
          "2021-10-01",
          "2021-10-02",
          "2021-10-03",
          "2021-10-04",
          "2021-10-05",
          "2021-10-06",
          "2021-10-07",
          "2021-10-08",
          "2021-10-09",
          "2021-10-10"
         ],
         "y": [
          10,
          2,
          3,
          168,
          15,
          8,
          16,
          17,
          8,
          5
         ]
        },
        {
         "connectgaps": true,
         "line": {
          "color": "red",
          "shape": "linear"
         },
         "mode": "markers+lines",
         "name": "tweet_id",
         "type": "scatter",
         "x": [
          "2021-10-01",
          "2021-10-02",
          "2021-10-03",
          "2021-10-04",
          "2021-10-05",
          "2021-10-06",
          "2021-10-07",
          "2021-10-08",
          "2021-10-09",
          "2021-10-10"
         ],
         "y": [
          10,
          2,
          3,
          168,
          15,
          8,
          16,
          17,
          8,
          5
         ]
        }
       ],
       "layout": {
        "template": {
         "data": {
          "bar": [
           {
            "error_x": {
             "color": "#2a3f5f"
            },
            "error_y": {
             "color": "#2a3f5f"
            },
            "marker": {
             "line": {
              "color": "#E5ECF6",
              "width": 0.5
             },
             "pattern": {
              "fillmode": "overlay",
              "size": 10,
              "solidity": 0.2
             }
            },
            "type": "bar"
           }
          ],
          "barpolar": [
           {
            "marker": {
             "line": {
              "color": "#E5ECF6",
              "width": 0.5
             },
             "pattern": {
              "fillmode": "overlay",
              "size": 10,
              "solidity": 0.2
             }
            },
            "type": "barpolar"
           }
          ],
          "carpet": [
           {
            "aaxis": {
             "endlinecolor": "#2a3f5f",
             "gridcolor": "white",
             "linecolor": "white",
             "minorgridcolor": "white",
             "startlinecolor": "#2a3f5f"
            },
            "baxis": {
             "endlinecolor": "#2a3f5f",
             "gridcolor": "white",
             "linecolor": "white",
             "minorgridcolor": "white",
             "startlinecolor": "#2a3f5f"
            },
            "type": "carpet"
           }
          ],
          "choropleth": [
           {
            "colorbar": {
             "outlinewidth": 0,
             "ticks": ""
            },
            "type": "choropleth"
           }
          ],
          "contour": [
           {
            "colorbar": {
             "outlinewidth": 0,
             "ticks": ""
            },
            "colorscale": [
             [
              0,
              "#0d0887"
             ],
             [
              0.1111111111111111,
              "#46039f"
             ],
             [
              0.2222222222222222,
              "#7201a8"
             ],
             [
              0.3333333333333333,
              "#9c179e"
             ],
             [
              0.4444444444444444,
              "#bd3786"
             ],
             [
              0.5555555555555556,
              "#d8576b"
             ],
             [
              0.6666666666666666,
              "#ed7953"
             ],
             [
              0.7777777777777778,
              "#fb9f3a"
             ],
             [
              0.8888888888888888,
              "#fdca26"
             ],
             [
              1,
              "#f0f921"
             ]
            ],
            "type": "contour"
           }
          ],
          "contourcarpet": [
           {
            "colorbar": {
             "outlinewidth": 0,
             "ticks": ""
            },
            "type": "contourcarpet"
           }
          ],
          "heatmap": [
           {
            "colorbar": {
             "outlinewidth": 0,
             "ticks": ""
            },
            "colorscale": [
             [
              0,
              "#0d0887"
             ],
             [
              0.1111111111111111,
              "#46039f"
             ],
             [
              0.2222222222222222,
              "#7201a8"
             ],
             [
              0.3333333333333333,
              "#9c179e"
             ],
             [
              0.4444444444444444,
              "#bd3786"
             ],
             [
              0.5555555555555556,
              "#d8576b"
             ],
             [
              0.6666666666666666,
              "#ed7953"
             ],
             [
              0.7777777777777778,
              "#fb9f3a"
             ],
             [
              0.8888888888888888,
              "#fdca26"
             ],
             [
              1,
              "#f0f921"
             ]
            ],
            "type": "heatmap"
           }
          ],
          "heatmapgl": [
           {
            "colorbar": {
             "outlinewidth": 0,
             "ticks": ""
            },
            "colorscale": [
             [
              0,
              "#0d0887"
             ],
             [
              0.1111111111111111,
              "#46039f"
             ],
             [
              0.2222222222222222,
              "#7201a8"
             ],
             [
              0.3333333333333333,
              "#9c179e"
             ],
             [
              0.4444444444444444,
              "#bd3786"
             ],
             [
              0.5555555555555556,
              "#d8576b"
             ],
             [
              0.6666666666666666,
              "#ed7953"
             ],
             [
              0.7777777777777778,
              "#fb9f3a"
             ],
             [
              0.8888888888888888,
              "#fdca26"
             ],
             [
              1,
              "#f0f921"
             ]
            ],
            "type": "heatmapgl"
           }
          ],
          "histogram": [
           {
            "marker": {
             "pattern": {
              "fillmode": "overlay",
              "size": 10,
              "solidity": 0.2
             }
            },
            "type": "histogram"
           }
          ],
          "histogram2d": [
           {
            "colorbar": {
             "outlinewidth": 0,
             "ticks": ""
            },
            "colorscale": [
             [
              0,
              "#0d0887"
             ],
             [
              0.1111111111111111,
              "#46039f"
             ],
             [
              0.2222222222222222,
              "#7201a8"
             ],
             [
              0.3333333333333333,
              "#9c179e"
             ],
             [
              0.4444444444444444,
              "#bd3786"
             ],
             [
              0.5555555555555556,
              "#d8576b"
             ],
             [
              0.6666666666666666,
              "#ed7953"
             ],
             [
              0.7777777777777778,
              "#fb9f3a"
             ],
             [
              0.8888888888888888,
              "#fdca26"
             ],
             [
              1,
              "#f0f921"
             ]
            ],
            "type": "histogram2d"
           }
          ],
          "histogram2dcontour": [
           {
            "colorbar": {
             "outlinewidth": 0,
             "ticks": ""
            },
            "colorscale": [
             [
              0,
              "#0d0887"
             ],
             [
              0.1111111111111111,
              "#46039f"
             ],
             [
              0.2222222222222222,
              "#7201a8"
             ],
             [
              0.3333333333333333,
              "#9c179e"
             ],
             [
              0.4444444444444444,
              "#bd3786"
             ],
             [
              0.5555555555555556,
              "#d8576b"
             ],
             [
              0.6666666666666666,
              "#ed7953"
             ],
             [
              0.7777777777777778,
              "#fb9f3a"
             ],
             [
              0.8888888888888888,
              "#fdca26"
             ],
             [
              1,
              "#f0f921"
             ]
            ],
            "type": "histogram2dcontour"
           }
          ],
          "mesh3d": [
           {
            "colorbar": {
             "outlinewidth": 0,
             "ticks": ""
            },
            "type": "mesh3d"
           }
          ],
          "parcoords": [
           {
            "line": {
             "colorbar": {
              "outlinewidth": 0,
              "ticks": ""
             }
            },
            "type": "parcoords"
           }
          ],
          "pie": [
           {
            "automargin": true,
            "type": "pie"
           }
          ],
          "scatter": [
           {
            "marker": {
             "colorbar": {
              "outlinewidth": 0,
              "ticks": ""
             }
            },
            "type": "scatter"
           }
          ],
          "scatter3d": [
           {
            "line": {
             "colorbar": {
              "outlinewidth": 0,
              "ticks": ""
             }
            },
            "marker": {
             "colorbar": {
              "outlinewidth": 0,
              "ticks": ""
             }
            },
            "type": "scatter3d"
           }
          ],
          "scattercarpet": [
           {
            "marker": {
             "colorbar": {
              "outlinewidth": 0,
              "ticks": ""
             }
            },
            "type": "scattercarpet"
           }
          ],
          "scattergeo": [
           {
            "marker": {
             "colorbar": {
              "outlinewidth": 0,
              "ticks": ""
             }
            },
            "type": "scattergeo"
           }
          ],
          "scattergl": [
           {
            "marker": {
             "colorbar": {
              "outlinewidth": 0,
              "ticks": ""
             }
            },
            "type": "scattergl"
           }
          ],
          "scattermapbox": [
           {
            "marker": {
             "colorbar": {
              "outlinewidth": 0,
              "ticks": ""
             }
            },
            "type": "scattermapbox"
           }
          ],
          "scatterpolar": [
           {
            "marker": {
             "colorbar": {
              "outlinewidth": 0,
              "ticks": ""
             }
            },
            "type": "scatterpolar"
           }
          ],
          "scatterpolargl": [
           {
            "marker": {
             "colorbar": {
              "outlinewidth": 0,
              "ticks": ""
             }
            },
            "type": "scatterpolargl"
           }
          ],
          "scatterternary": [
           {
            "marker": {
             "colorbar": {
              "outlinewidth": 0,
              "ticks": ""
             }
            },
            "type": "scatterternary"
           }
          ],
          "surface": [
           {
            "colorbar": {
             "outlinewidth": 0,
             "ticks": ""
            },
            "colorscale": [
             [
              0,
              "#0d0887"
             ],
             [
              0.1111111111111111,
              "#46039f"
             ],
             [
              0.2222222222222222,
              "#7201a8"
             ],
             [
              0.3333333333333333,
              "#9c179e"
             ],
             [
              0.4444444444444444,
              "#bd3786"
             ],
             [
              0.5555555555555556,
              "#d8576b"
             ],
             [
              0.6666666666666666,
              "#ed7953"
             ],
             [
              0.7777777777777778,
              "#fb9f3a"
             ],
             [
              0.8888888888888888,
              "#fdca26"
             ],
             [
              1,
              "#f0f921"
             ]
            ],
            "type": "surface"
           }
          ],
          "table": [
           {
            "cells": {
             "fill": {
              "color": "#EBF0F8"
             },
             "line": {
              "color": "white"
             }
            },
            "header": {
             "fill": {
              "color": "#C8D4E3"
             },
             "line": {
              "color": "white"
             }
            },
            "type": "table"
           }
          ]
         },
         "layout": {
          "annotationdefaults": {
           "arrowcolor": "#2a3f5f",
           "arrowhead": 0,
           "arrowwidth": 1
          },
          "autotypenumbers": "strict",
          "coloraxis": {
           "colorbar": {
            "outlinewidth": 0,
            "ticks": ""
           }
          },
          "colorscale": {
           "diverging": [
            [
             0,
             "#8e0152"
            ],
            [
             0.1,
             "#c51b7d"
            ],
            [
             0.2,
             "#de77ae"
            ],
            [
             0.3,
             "#f1b6da"
            ],
            [
             0.4,
             "#fde0ef"
            ],
            [
             0.5,
             "#f7f7f7"
            ],
            [
             0.6,
             "#e6f5d0"
            ],
            [
             0.7,
             "#b8e186"
            ],
            [
             0.8,
             "#7fbc41"
            ],
            [
             0.9,
             "#4d9221"
            ],
            [
             1,
             "#276419"
            ]
           ],
           "sequential": [
            [
             0,
             "#0d0887"
            ],
            [
             0.1111111111111111,
             "#46039f"
            ],
            [
             0.2222222222222222,
             "#7201a8"
            ],
            [
             0.3333333333333333,
             "#9c179e"
            ],
            [
             0.4444444444444444,
             "#bd3786"
            ],
            [
             0.5555555555555556,
             "#d8576b"
            ],
            [
             0.6666666666666666,
             "#ed7953"
            ],
            [
             0.7777777777777778,
             "#fb9f3a"
            ],
            [
             0.8888888888888888,
             "#fdca26"
            ],
            [
             1,
             "#f0f921"
            ]
           ],
           "sequentialminus": [
            [
             0,
             "#0d0887"
            ],
            [
             0.1111111111111111,
             "#46039f"
            ],
            [
             0.2222222222222222,
             "#7201a8"
            ],
            [
             0.3333333333333333,
             "#9c179e"
            ],
            [
             0.4444444444444444,
             "#bd3786"
            ],
            [
             0.5555555555555556,
             "#d8576b"
            ],
            [
             0.6666666666666666,
             "#ed7953"
            ],
            [
             0.7777777777777778,
             "#fb9f3a"
            ],
            [
             0.8888888888888888,
             "#fdca26"
            ],
            [
             1,
             "#f0f921"
            ]
           ]
          },
          "colorway": [
           "#636efa",
           "#EF553B",
           "#00cc96",
           "#ab63fa",
           "#FFA15A",
           "#19d3f3",
           "#FF6692",
           "#B6E880",
           "#FF97FF",
           "#FECB52"
          ],
          "font": {
           "color": "#2a3f5f"
          },
          "geo": {
           "bgcolor": "white",
           "lakecolor": "white",
           "landcolor": "#E5ECF6",
           "showlakes": true,
           "showland": true,
           "subunitcolor": "white"
          },
          "hoverlabel": {
           "align": "left"
          },
          "hovermode": "closest",
          "mapbox": {
           "style": "light"
          },
          "paper_bgcolor": "white",
          "plot_bgcolor": "#E5ECF6",
          "polar": {
           "angularaxis": {
            "gridcolor": "white",
            "linecolor": "white",
            "ticks": ""
           },
           "bgcolor": "#E5ECF6",
           "radialaxis": {
            "gridcolor": "white",
            "linecolor": "white",
            "ticks": ""
           }
          },
          "scene": {
           "xaxis": {
            "backgroundcolor": "#E5ECF6",
            "gridcolor": "white",
            "gridwidth": 2,
            "linecolor": "white",
            "showbackground": true,
            "ticks": "",
            "zerolinecolor": "white"
           },
           "yaxis": {
            "backgroundcolor": "#E5ECF6",
            "gridcolor": "white",
            "gridwidth": 2,
            "linecolor": "white",
            "showbackground": true,
            "ticks": "",
            "zerolinecolor": "white"
           },
           "zaxis": {
            "backgroundcolor": "#E5ECF6",
            "gridcolor": "white",
            "gridwidth": 2,
            "linecolor": "white",
            "showbackground": true,
            "ticks": "",
            "zerolinecolor": "white"
           }
          },
          "shapedefaults": {
           "line": {
            "color": "#2a3f5f"
           }
          },
          "ternary": {
           "aaxis": {
            "gridcolor": "white",
            "linecolor": "white",
            "ticks": ""
           },
           "baxis": {
            "gridcolor": "white",
            "linecolor": "white",
            "ticks": ""
           },
           "bgcolor": "#E5ECF6",
           "caxis": {
            "gridcolor": "white",
            "linecolor": "white",
            "ticks": ""
           }
          },
          "title": {
           "x": 0.05
          },
          "xaxis": {
           "automargin": true,
           "gridcolor": "white",
           "linecolor": "white",
           "ticks": "",
           "title": {
            "standoff": 15
           },
           "zerolinecolor": "white",
           "zerolinewidth": 2
          },
          "yaxis": {
           "automargin": true,
           "gridcolor": "white",
           "linecolor": "white",
           "ticks": "",
           "title": {
            "standoff": 15
           },
           "zerolinecolor": "white",
           "zerolinewidth": 2
          }
         }
        }
       }
      },
      "text/html": [
       "<div>                            <div id=\"cb60f23a-ba1d-4a6b-90ec-d97e58b37216\" class=\"plotly-graph-div\" style=\"height:525px; width:100%;\"></div>            <script type=\"text/javascript\">                require([\"plotly\"], function(Plotly) {                    window.PLOTLYENV=window.PLOTLYENV || {};                                    if (document.getElementById(\"cb60f23a-ba1d-4a6b-90ec-d97e58b37216\")) {                    Plotly.newPlot(                        \"cb60f23a-ba1d-4a6b-90ec-d97e58b37216\",                        [{\"connectgaps\":true,\"line\":{\"color\":\"green\",\"shape\":\"linear\"},\"mode\":\"markers+lines\",\"name\":\"created_at\",\"type\":\"scatter\",\"x\":[\"2021-10-01\",\"2021-10-02\",\"2021-10-03\",\"2021-10-04\",\"2021-10-05\",\"2021-10-06\",\"2021-10-07\",\"2021-10-08\",\"2021-10-09\",\"2021-10-10\"],\"y\":[30,14,29,590,96,52,59,64,36,44]},{\"connectgaps\":true,\"line\":{\"color\":\"green\",\"shape\":\"linear\"},\"mode\":\"markers+lines\",\"name\":\"tweet_id\",\"type\":\"scatter\",\"x\":[\"2021-10-01\",\"2021-10-02\",\"2021-10-03\",\"2021-10-04\",\"2021-10-05\",\"2021-10-06\",\"2021-10-07\",\"2021-10-08\",\"2021-10-09\",\"2021-10-10\"],\"y\":[30,14,29,590,96,52,59,64,36,44]},{\"connectgaps\":true,\"line\":{\"color\":\"red\",\"shape\":\"linear\"},\"mode\":\"markers+lines\",\"name\":\"created_at\",\"type\":\"scatter\",\"x\":[\"2021-10-01\",\"2021-10-02\",\"2021-10-03\",\"2021-10-04\",\"2021-10-05\",\"2021-10-06\",\"2021-10-07\",\"2021-10-08\",\"2021-10-09\",\"2021-10-10\"],\"y\":[10,2,3,168,15,8,16,17,8,5]},{\"connectgaps\":true,\"line\":{\"color\":\"red\",\"shape\":\"linear\"},\"mode\":\"markers+lines\",\"name\":\"tweet_id\",\"type\":\"scatter\",\"x\":[\"2021-10-01\",\"2021-10-02\",\"2021-10-03\",\"2021-10-04\",\"2021-10-05\",\"2021-10-06\",\"2021-10-07\",\"2021-10-08\",\"2021-10-09\",\"2021-10-10\"],\"y\":[10,2,3,168,15,8,16,17,8,5]}],                        {\"template\":{\"data\":{\"bar\":[{\"error_x\":{\"color\":\"#2a3f5f\"},\"error_y\":{\"color\":\"#2a3f5f\"},\"marker\":{\"line\":{\"color\":\"#E5ECF6\",\"width\":0.5},\"pattern\":{\"fillmode\":\"overlay\",\"size\":10,\"solidity\":0.2}},\"type\":\"bar\"}],\"barpolar\":[{\"marker\":{\"line\":{\"color\":\"#E5ECF6\",\"width\":0.5},\"pattern\":{\"fillmode\":\"overlay\",\"size\":10,\"solidity\":0.2}},\"type\":\"barpolar\"}],\"carpet\":[{\"aaxis\":{\"endlinecolor\":\"#2a3f5f\",\"gridcolor\":\"white\",\"linecolor\":\"white\",\"minorgridcolor\":\"white\",\"startlinecolor\":\"#2a3f5f\"},\"baxis\":{\"endlinecolor\":\"#2a3f5f\",\"gridcolor\":\"white\",\"linecolor\":\"white\",\"minorgridcolor\":\"white\",\"startlinecolor\":\"#2a3f5f\"},\"type\":\"carpet\"}],\"choropleth\":[{\"colorbar\":{\"outlinewidth\":0,\"ticks\":\"\"},\"type\":\"choropleth\"}],\"contour\":[{\"colorbar\":{\"outlinewidth\":0,\"ticks\":\"\"},\"colorscale\":[[0.0,\"#0d0887\"],[0.1111111111111111,\"#46039f\"],[0.2222222222222222,\"#7201a8\"],[0.3333333333333333,\"#9c179e\"],[0.4444444444444444,\"#bd3786\"],[0.5555555555555556,\"#d8576b\"],[0.6666666666666666,\"#ed7953\"],[0.7777777777777778,\"#fb9f3a\"],[0.8888888888888888,\"#fdca26\"],[1.0,\"#f0f921\"]],\"type\":\"contour\"}],\"contourcarpet\":[{\"colorbar\":{\"outlinewidth\":0,\"ticks\":\"\"},\"type\":\"contourcarpet\"}],\"heatmap\":[{\"colorbar\":{\"outlinewidth\":0,\"ticks\":\"\"},\"colorscale\":[[0.0,\"#0d0887\"],[0.1111111111111111,\"#46039f\"],[0.2222222222222222,\"#7201a8\"],[0.3333333333333333,\"#9c179e\"],[0.4444444444444444,\"#bd3786\"],[0.5555555555555556,\"#d8576b\"],[0.6666666666666666,\"#ed7953\"],[0.7777777777777778,\"#fb9f3a\"],[0.8888888888888888,\"#fdca26\"],[1.0,\"#f0f921\"]],\"type\":\"heatmap\"}],\"heatmapgl\":[{\"colorbar\":{\"outlinewidth\":0,\"ticks\":\"\"},\"colorscale\":[[0.0,\"#0d0887\"],[0.1111111111111111,\"#46039f\"],[0.2222222222222222,\"#7201a8\"],[0.3333333333333333,\"#9c179e\"],[0.4444444444444444,\"#bd3786\"],[0.5555555555555556,\"#d8576b\"],[0.6666666666666666,\"#ed7953\"],[0.7777777777777778,\"#fb9f3a\"],[0.8888888888888888,\"#fdca26\"],[1.0,\"#f0f921\"]],\"type\":\"heatmapgl\"}],\"histogram\":[{\"marker\":{\"pattern\":{\"fillmode\":\"overlay\",\"size\":10,\"solidity\":0.2}},\"type\":\"histogram\"}],\"histogram2d\":[{\"colorbar\":{\"outlinewidth\":0,\"ticks\":\"\"},\"colorscale\":[[0.0,\"#0d0887\"],[0.1111111111111111,\"#46039f\"],[0.2222222222222222,\"#7201a8\"],[0.3333333333333333,\"#9c179e\"],[0.4444444444444444,\"#bd3786\"],[0.5555555555555556,\"#d8576b\"],[0.6666666666666666,\"#ed7953\"],[0.7777777777777778,\"#fb9f3a\"],[0.8888888888888888,\"#fdca26\"],[1.0,\"#f0f921\"]],\"type\":\"histogram2d\"}],\"histogram2dcontour\":[{\"colorbar\":{\"outlinewidth\":0,\"ticks\":\"\"},\"colorscale\":[[0.0,\"#0d0887\"],[0.1111111111111111,\"#46039f\"],[0.2222222222222222,\"#7201a8\"],[0.3333333333333333,\"#9c179e\"],[0.4444444444444444,\"#bd3786\"],[0.5555555555555556,\"#d8576b\"],[0.6666666666666666,\"#ed7953\"],[0.7777777777777778,\"#fb9f3a\"],[0.8888888888888888,\"#fdca26\"],[1.0,\"#f0f921\"]],\"type\":\"histogram2dcontour\"}],\"mesh3d\":[{\"colorbar\":{\"outlinewidth\":0,\"ticks\":\"\"},\"type\":\"mesh3d\"}],\"parcoords\":[{\"line\":{\"colorbar\":{\"outlinewidth\":0,\"ticks\":\"\"}},\"type\":\"parcoords\"}],\"pie\":[{\"automargin\":true,\"type\":\"pie\"}],\"scatter\":[{\"marker\":{\"colorbar\":{\"outlinewidth\":0,\"ticks\":\"\"}},\"type\":\"scatter\"}],\"scatter3d\":[{\"line\":{\"colorbar\":{\"outlinewidth\":0,\"ticks\":\"\"}},\"marker\":{\"colorbar\":{\"outlinewidth\":0,\"ticks\":\"\"}},\"type\":\"scatter3d\"}],\"scattercarpet\":[{\"marker\":{\"colorbar\":{\"outlinewidth\":0,\"ticks\":\"\"}},\"type\":\"scattercarpet\"}],\"scattergeo\":[{\"marker\":{\"colorbar\":{\"outlinewidth\":0,\"ticks\":\"\"}},\"type\":\"scattergeo\"}],\"scattergl\":[{\"marker\":{\"colorbar\":{\"outlinewidth\":0,\"ticks\":\"\"}},\"type\":\"scattergl\"}],\"scattermapbox\":[{\"marker\":{\"colorbar\":{\"outlinewidth\":0,\"ticks\":\"\"}},\"type\":\"scattermapbox\"}],\"scatterpolar\":[{\"marker\":{\"colorbar\":{\"outlinewidth\":0,\"ticks\":\"\"}},\"type\":\"scatterpolar\"}],\"scatterpolargl\":[{\"marker\":{\"colorbar\":{\"outlinewidth\":0,\"ticks\":\"\"}},\"type\":\"scatterpolargl\"}],\"scatterternary\":[{\"marker\":{\"colorbar\":{\"outlinewidth\":0,\"ticks\":\"\"}},\"type\":\"scatterternary\"}],\"surface\":[{\"colorbar\":{\"outlinewidth\":0,\"ticks\":\"\"},\"colorscale\":[[0.0,\"#0d0887\"],[0.1111111111111111,\"#46039f\"],[0.2222222222222222,\"#7201a8\"],[0.3333333333333333,\"#9c179e\"],[0.4444444444444444,\"#bd3786\"],[0.5555555555555556,\"#d8576b\"],[0.6666666666666666,\"#ed7953\"],[0.7777777777777778,\"#fb9f3a\"],[0.8888888888888888,\"#fdca26\"],[1.0,\"#f0f921\"]],\"type\":\"surface\"}],\"table\":[{\"cells\":{\"fill\":{\"color\":\"#EBF0F8\"},\"line\":{\"color\":\"white\"}},\"header\":{\"fill\":{\"color\":\"#C8D4E3\"},\"line\":{\"color\":\"white\"}},\"type\":\"table\"}]},\"layout\":{\"annotationdefaults\":{\"arrowcolor\":\"#2a3f5f\",\"arrowhead\":0,\"arrowwidth\":1},\"autotypenumbers\":\"strict\",\"coloraxis\":{\"colorbar\":{\"outlinewidth\":0,\"ticks\":\"\"}},\"colorscale\":{\"diverging\":[[0,\"#8e0152\"],[0.1,\"#c51b7d\"],[0.2,\"#de77ae\"],[0.3,\"#f1b6da\"],[0.4,\"#fde0ef\"],[0.5,\"#f7f7f7\"],[0.6,\"#e6f5d0\"],[0.7,\"#b8e186\"],[0.8,\"#7fbc41\"],[0.9,\"#4d9221\"],[1,\"#276419\"]],\"sequential\":[[0.0,\"#0d0887\"],[0.1111111111111111,\"#46039f\"],[0.2222222222222222,\"#7201a8\"],[0.3333333333333333,\"#9c179e\"],[0.4444444444444444,\"#bd3786\"],[0.5555555555555556,\"#d8576b\"],[0.6666666666666666,\"#ed7953\"],[0.7777777777777778,\"#fb9f3a\"],[0.8888888888888888,\"#fdca26\"],[1.0,\"#f0f921\"]],\"sequentialminus\":[[0.0,\"#0d0887\"],[0.1111111111111111,\"#46039f\"],[0.2222222222222222,\"#7201a8\"],[0.3333333333333333,\"#9c179e\"],[0.4444444444444444,\"#bd3786\"],[0.5555555555555556,\"#d8576b\"],[0.6666666666666666,\"#ed7953\"],[0.7777777777777778,\"#fb9f3a\"],[0.8888888888888888,\"#fdca26\"],[1.0,\"#f0f921\"]]},\"colorway\":[\"#636efa\",\"#EF553B\",\"#00cc96\",\"#ab63fa\",\"#FFA15A\",\"#19d3f3\",\"#FF6692\",\"#B6E880\",\"#FF97FF\",\"#FECB52\"],\"font\":{\"color\":\"#2a3f5f\"},\"geo\":{\"bgcolor\":\"white\",\"lakecolor\":\"white\",\"landcolor\":\"#E5ECF6\",\"showlakes\":true,\"showland\":true,\"subunitcolor\":\"white\"},\"hoverlabel\":{\"align\":\"left\"},\"hovermode\":\"closest\",\"mapbox\":{\"style\":\"light\"},\"paper_bgcolor\":\"white\",\"plot_bgcolor\":\"#E5ECF6\",\"polar\":{\"angularaxis\":{\"gridcolor\":\"white\",\"linecolor\":\"white\",\"ticks\":\"\"},\"bgcolor\":\"#E5ECF6\",\"radialaxis\":{\"gridcolor\":\"white\",\"linecolor\":\"white\",\"ticks\":\"\"}},\"scene\":{\"xaxis\":{\"backgroundcolor\":\"#E5ECF6\",\"gridcolor\":\"white\",\"gridwidth\":2,\"linecolor\":\"white\",\"showbackground\":true,\"ticks\":\"\",\"zerolinecolor\":\"white\"},\"yaxis\":{\"backgroundcolor\":\"#E5ECF6\",\"gridcolor\":\"white\",\"gridwidth\":2,\"linecolor\":\"white\",\"showbackground\":true,\"ticks\":\"\",\"zerolinecolor\":\"white\"},\"zaxis\":{\"backgroundcolor\":\"#E5ECF6\",\"gridcolor\":\"white\",\"gridwidth\":2,\"linecolor\":\"white\",\"showbackground\":true,\"ticks\":\"\",\"zerolinecolor\":\"white\"}},\"shapedefaults\":{\"line\":{\"color\":\"#2a3f5f\"}},\"ternary\":{\"aaxis\":{\"gridcolor\":\"white\",\"linecolor\":\"white\",\"ticks\":\"\"},\"baxis\":{\"gridcolor\":\"white\",\"linecolor\":\"white\",\"ticks\":\"\"},\"bgcolor\":\"#E5ECF6\",\"caxis\":{\"gridcolor\":\"white\",\"linecolor\":\"white\",\"ticks\":\"\"}},\"title\":{\"x\":0.05},\"xaxis\":{\"automargin\":true,\"gridcolor\":\"white\",\"linecolor\":\"white\",\"ticks\":\"\",\"title\":{\"standoff\":15},\"zerolinecolor\":\"white\",\"zerolinewidth\":2},\"yaxis\":{\"automargin\":true,\"gridcolor\":\"white\",\"linecolor\":\"white\",\"ticks\":\"\",\"title\":{\"standoff\":15},\"zerolinecolor\":\"white\",\"zerolinewidth\":2}}}},                        {\"responsive\": true}                    ).then(function(){\n",
       "                            \n",
       "var gd = document.getElementById('cb60f23a-ba1d-4a6b-90ec-d97e58b37216');\n",
       "var x = new MutationObserver(function (mutations, observer) {{\n",
       "        var display = window.getComputedStyle(gd).display;\n",
       "        if (!display || display === 'none') {{\n",
       "            console.log([gd, 'removed!']);\n",
       "            Plotly.purge(gd);\n",
       "            observer.disconnect();\n",
       "        }}\n",
       "}});\n",
       "\n",
       "// Listen for the removal of the full notebook cells\n",
       "var notebookContainer = gd.closest('#notebook-container');\n",
       "if (notebookContainer) {{\n",
       "    x.observe(notebookContainer, {childList: true});\n",
       "}}\n",
       "\n",
       "// Listen for the clearing of the current output cell\n",
       "var outputEl = gd.closest('.output');\n",
       "if (outputEl) {{\n",
       "    x.observe(outputEl, {childList: true});\n",
       "}}\n",
       "\n",
       "                        })                };                });            </script>        </div>"
      ]
     },
     "metadata": {},
     "output_type": "display_data"
    }
   ],
   "source": [
    "import plotly.graph_objs as go\n",
    "fig = go.Figure()\n",
    "for col in pos.columns:\n",
    "    fig.add_trace(go.Scatter(x=pos['created_at'], y=pos['tweet_id'],\n",
    "                             name = col,\n",
    "                             mode = 'markers+lines',\n",
    "                             line=dict(shape='linear'),\n",
    "                             connectgaps=True,\n",
    "                             line_color='green'\n",
    "                             )\n",
    "                 )\n",
    "for col in neg.columns:\n",
    "    fig.add_trace(go.Scatter(x=neg['created_at'], y=neg['tweet_id'],\n",
    "                             name = col,\n",
    "                             mode = 'markers+lines',\n",
    "                             line=dict(shape='linear'),\n",
    "                             connectgaps=True,\n",
    "                             line_color='red'\n",
    "                             )\n",
    "                 )\n",
    "fig.show()"
   ]
  },
  {
   "cell_type": "code",
   "execution_count": 73,
   "id": "1fb9b9ae",
   "metadata": {},
   "outputs": [],
   "source": [
    "oct4_df = df[(df['created_at'] > '2021-10-03') & (df['created_at'] < '2021-10-05')]\n",
    "oct4_df_pos = oct4_df[oct4_df['sentiment_category']=='positive']\n",
    "oct4_df_neg = oct4_df[oct4_df['sentiment_category']=='negative']"
   ]
  },
  {
   "cell_type": "code",
   "execution_count": 74,
   "id": "7ca40606",
   "metadata": {},
   "outputs": [
    {
     "data": {
      "application/vnd.plotly.v1+json": {
       "config": {
        "plotlyServerURL": "https://plot.ly"
       },
       "data": [
        {
         "connectgaps": true,
         "line": {
          "color": "green",
          "shape": "linear"
         },
         "mode": "markers+lines",
         "name": "created_at",
         "type": "scatter",
         "x": [
          "2022-03-25",
          "2022-03-26",
          "2022-03-27",
          "2022-03-28",
          "2022-03-29",
          "2022-03-30",
          "2022-03-31"
         ],
         "y": [
          67,
          45,
          34,
          199,
          42,
          61,
          75
         ]
        },
        {
         "connectgaps": true,
         "line": {
          "color": "green",
          "shape": "linear"
         },
         "mode": "markers+lines",
         "name": "tweet_id",
         "type": "scatter",
         "x": [
          "2022-03-25",
          "2022-03-26",
          "2022-03-27",
          "2022-03-28",
          "2022-03-29",
          "2022-03-30",
          "2022-03-31"
         ],
         "y": [
          67,
          45,
          34,
          199,
          42,
          61,
          75
         ]
        },
        {
         "connectgaps": true,
         "line": {
          "color": "red",
          "shape": "linear"
         },
         "mode": "markers+lines",
         "name": "created_at",
         "type": "scatter",
         "x": [
          "2022-03-25",
          "2022-03-26",
          "2022-03-27",
          "2022-03-28",
          "2022-03-29",
          "2022-03-30",
          "2022-03-31"
         ],
         "y": [
          19,
          14,
          14,
          188,
          74,
          20,
          19
         ]
        },
        {
         "connectgaps": true,
         "line": {
          "color": "red",
          "shape": "linear"
         },
         "mode": "markers+lines",
         "name": "tweet_id",
         "type": "scatter",
         "x": [
          "2022-03-25",
          "2022-03-26",
          "2022-03-27",
          "2022-03-28",
          "2022-03-29",
          "2022-03-30",
          "2022-03-31"
         ],
         "y": [
          19,
          14,
          14,
          188,
          74,
          20,
          19
         ]
        }
       ],
       "layout": {
        "template": {
         "data": {
          "bar": [
           {
            "error_x": {
             "color": "#2a3f5f"
            },
            "error_y": {
             "color": "#2a3f5f"
            },
            "marker": {
             "line": {
              "color": "#E5ECF6",
              "width": 0.5
             },
             "pattern": {
              "fillmode": "overlay",
              "size": 10,
              "solidity": 0.2
             }
            },
            "type": "bar"
           }
          ],
          "barpolar": [
           {
            "marker": {
             "line": {
              "color": "#E5ECF6",
              "width": 0.5
             },
             "pattern": {
              "fillmode": "overlay",
              "size": 10,
              "solidity": 0.2
             }
            },
            "type": "barpolar"
           }
          ],
          "carpet": [
           {
            "aaxis": {
             "endlinecolor": "#2a3f5f",
             "gridcolor": "white",
             "linecolor": "white",
             "minorgridcolor": "white",
             "startlinecolor": "#2a3f5f"
            },
            "baxis": {
             "endlinecolor": "#2a3f5f",
             "gridcolor": "white",
             "linecolor": "white",
             "minorgridcolor": "white",
             "startlinecolor": "#2a3f5f"
            },
            "type": "carpet"
           }
          ],
          "choropleth": [
           {
            "colorbar": {
             "outlinewidth": 0,
             "ticks": ""
            },
            "type": "choropleth"
           }
          ],
          "contour": [
           {
            "colorbar": {
             "outlinewidth": 0,
             "ticks": ""
            },
            "colorscale": [
             [
              0,
              "#0d0887"
             ],
             [
              0.1111111111111111,
              "#46039f"
             ],
             [
              0.2222222222222222,
              "#7201a8"
             ],
             [
              0.3333333333333333,
              "#9c179e"
             ],
             [
              0.4444444444444444,
              "#bd3786"
             ],
             [
              0.5555555555555556,
              "#d8576b"
             ],
             [
              0.6666666666666666,
              "#ed7953"
             ],
             [
              0.7777777777777778,
              "#fb9f3a"
             ],
             [
              0.8888888888888888,
              "#fdca26"
             ],
             [
              1,
              "#f0f921"
             ]
            ],
            "type": "contour"
           }
          ],
          "contourcarpet": [
           {
            "colorbar": {
             "outlinewidth": 0,
             "ticks": ""
            },
            "type": "contourcarpet"
           }
          ],
          "heatmap": [
           {
            "colorbar": {
             "outlinewidth": 0,
             "ticks": ""
            },
            "colorscale": [
             [
              0,
              "#0d0887"
             ],
             [
              0.1111111111111111,
              "#46039f"
             ],
             [
              0.2222222222222222,
              "#7201a8"
             ],
             [
              0.3333333333333333,
              "#9c179e"
             ],
             [
              0.4444444444444444,
              "#bd3786"
             ],
             [
              0.5555555555555556,
              "#d8576b"
             ],
             [
              0.6666666666666666,
              "#ed7953"
             ],
             [
              0.7777777777777778,
              "#fb9f3a"
             ],
             [
              0.8888888888888888,
              "#fdca26"
             ],
             [
              1,
              "#f0f921"
             ]
            ],
            "type": "heatmap"
           }
          ],
          "heatmapgl": [
           {
            "colorbar": {
             "outlinewidth": 0,
             "ticks": ""
            },
            "colorscale": [
             [
              0,
              "#0d0887"
             ],
             [
              0.1111111111111111,
              "#46039f"
             ],
             [
              0.2222222222222222,
              "#7201a8"
             ],
             [
              0.3333333333333333,
              "#9c179e"
             ],
             [
              0.4444444444444444,
              "#bd3786"
             ],
             [
              0.5555555555555556,
              "#d8576b"
             ],
             [
              0.6666666666666666,
              "#ed7953"
             ],
             [
              0.7777777777777778,
              "#fb9f3a"
             ],
             [
              0.8888888888888888,
              "#fdca26"
             ],
             [
              1,
              "#f0f921"
             ]
            ],
            "type": "heatmapgl"
           }
          ],
          "histogram": [
           {
            "marker": {
             "pattern": {
              "fillmode": "overlay",
              "size": 10,
              "solidity": 0.2
             }
            },
            "type": "histogram"
           }
          ],
          "histogram2d": [
           {
            "colorbar": {
             "outlinewidth": 0,
             "ticks": ""
            },
            "colorscale": [
             [
              0,
              "#0d0887"
             ],
             [
              0.1111111111111111,
              "#46039f"
             ],
             [
              0.2222222222222222,
              "#7201a8"
             ],
             [
              0.3333333333333333,
              "#9c179e"
             ],
             [
              0.4444444444444444,
              "#bd3786"
             ],
             [
              0.5555555555555556,
              "#d8576b"
             ],
             [
              0.6666666666666666,
              "#ed7953"
             ],
             [
              0.7777777777777778,
              "#fb9f3a"
             ],
             [
              0.8888888888888888,
              "#fdca26"
             ],
             [
              1,
              "#f0f921"
             ]
            ],
            "type": "histogram2d"
           }
          ],
          "histogram2dcontour": [
           {
            "colorbar": {
             "outlinewidth": 0,
             "ticks": ""
            },
            "colorscale": [
             [
              0,
              "#0d0887"
             ],
             [
              0.1111111111111111,
              "#46039f"
             ],
             [
              0.2222222222222222,
              "#7201a8"
             ],
             [
              0.3333333333333333,
              "#9c179e"
             ],
             [
              0.4444444444444444,
              "#bd3786"
             ],
             [
              0.5555555555555556,
              "#d8576b"
             ],
             [
              0.6666666666666666,
              "#ed7953"
             ],
             [
              0.7777777777777778,
              "#fb9f3a"
             ],
             [
              0.8888888888888888,
              "#fdca26"
             ],
             [
              1,
              "#f0f921"
             ]
            ],
            "type": "histogram2dcontour"
           }
          ],
          "mesh3d": [
           {
            "colorbar": {
             "outlinewidth": 0,
             "ticks": ""
            },
            "type": "mesh3d"
           }
          ],
          "parcoords": [
           {
            "line": {
             "colorbar": {
              "outlinewidth": 0,
              "ticks": ""
             }
            },
            "type": "parcoords"
           }
          ],
          "pie": [
           {
            "automargin": true,
            "type": "pie"
           }
          ],
          "scatter": [
           {
            "marker": {
             "colorbar": {
              "outlinewidth": 0,
              "ticks": ""
             }
            },
            "type": "scatter"
           }
          ],
          "scatter3d": [
           {
            "line": {
             "colorbar": {
              "outlinewidth": 0,
              "ticks": ""
             }
            },
            "marker": {
             "colorbar": {
              "outlinewidth": 0,
              "ticks": ""
             }
            },
            "type": "scatter3d"
           }
          ],
          "scattercarpet": [
           {
            "marker": {
             "colorbar": {
              "outlinewidth": 0,
              "ticks": ""
             }
            },
            "type": "scattercarpet"
           }
          ],
          "scattergeo": [
           {
            "marker": {
             "colorbar": {
              "outlinewidth": 0,
              "ticks": ""
             }
            },
            "type": "scattergeo"
           }
          ],
          "scattergl": [
           {
            "marker": {
             "colorbar": {
              "outlinewidth": 0,
              "ticks": ""
             }
            },
            "type": "scattergl"
           }
          ],
          "scattermapbox": [
           {
            "marker": {
             "colorbar": {
              "outlinewidth": 0,
              "ticks": ""
             }
            },
            "type": "scattermapbox"
           }
          ],
          "scatterpolar": [
           {
            "marker": {
             "colorbar": {
              "outlinewidth": 0,
              "ticks": ""
             }
            },
            "type": "scatterpolar"
           }
          ],
          "scatterpolargl": [
           {
            "marker": {
             "colorbar": {
              "outlinewidth": 0,
              "ticks": ""
             }
            },
            "type": "scatterpolargl"
           }
          ],
          "scatterternary": [
           {
            "marker": {
             "colorbar": {
              "outlinewidth": 0,
              "ticks": ""
             }
            },
            "type": "scatterternary"
           }
          ],
          "surface": [
           {
            "colorbar": {
             "outlinewidth": 0,
             "ticks": ""
            },
            "colorscale": [
             [
              0,
              "#0d0887"
             ],
             [
              0.1111111111111111,
              "#46039f"
             ],
             [
              0.2222222222222222,
              "#7201a8"
             ],
             [
              0.3333333333333333,
              "#9c179e"
             ],
             [
              0.4444444444444444,
              "#bd3786"
             ],
             [
              0.5555555555555556,
              "#d8576b"
             ],
             [
              0.6666666666666666,
              "#ed7953"
             ],
             [
              0.7777777777777778,
              "#fb9f3a"
             ],
             [
              0.8888888888888888,
              "#fdca26"
             ],
             [
              1,
              "#f0f921"
             ]
            ],
            "type": "surface"
           }
          ],
          "table": [
           {
            "cells": {
             "fill": {
              "color": "#EBF0F8"
             },
             "line": {
              "color": "white"
             }
            },
            "header": {
             "fill": {
              "color": "#C8D4E3"
             },
             "line": {
              "color": "white"
             }
            },
            "type": "table"
           }
          ]
         },
         "layout": {
          "annotationdefaults": {
           "arrowcolor": "#2a3f5f",
           "arrowhead": 0,
           "arrowwidth": 1
          },
          "autotypenumbers": "strict",
          "coloraxis": {
           "colorbar": {
            "outlinewidth": 0,
            "ticks": ""
           }
          },
          "colorscale": {
           "diverging": [
            [
             0,
             "#8e0152"
            ],
            [
             0.1,
             "#c51b7d"
            ],
            [
             0.2,
             "#de77ae"
            ],
            [
             0.3,
             "#f1b6da"
            ],
            [
             0.4,
             "#fde0ef"
            ],
            [
             0.5,
             "#f7f7f7"
            ],
            [
             0.6,
             "#e6f5d0"
            ],
            [
             0.7,
             "#b8e186"
            ],
            [
             0.8,
             "#7fbc41"
            ],
            [
             0.9,
             "#4d9221"
            ],
            [
             1,
             "#276419"
            ]
           ],
           "sequential": [
            [
             0,
             "#0d0887"
            ],
            [
             0.1111111111111111,
             "#46039f"
            ],
            [
             0.2222222222222222,
             "#7201a8"
            ],
            [
             0.3333333333333333,
             "#9c179e"
            ],
            [
             0.4444444444444444,
             "#bd3786"
            ],
            [
             0.5555555555555556,
             "#d8576b"
            ],
            [
             0.6666666666666666,
             "#ed7953"
            ],
            [
             0.7777777777777778,
             "#fb9f3a"
            ],
            [
             0.8888888888888888,
             "#fdca26"
            ],
            [
             1,
             "#f0f921"
            ]
           ],
           "sequentialminus": [
            [
             0,
             "#0d0887"
            ],
            [
             0.1111111111111111,
             "#46039f"
            ],
            [
             0.2222222222222222,
             "#7201a8"
            ],
            [
             0.3333333333333333,
             "#9c179e"
            ],
            [
             0.4444444444444444,
             "#bd3786"
            ],
            [
             0.5555555555555556,
             "#d8576b"
            ],
            [
             0.6666666666666666,
             "#ed7953"
            ],
            [
             0.7777777777777778,
             "#fb9f3a"
            ],
            [
             0.8888888888888888,
             "#fdca26"
            ],
            [
             1,
             "#f0f921"
            ]
           ]
          },
          "colorway": [
           "#636efa",
           "#EF553B",
           "#00cc96",
           "#ab63fa",
           "#FFA15A",
           "#19d3f3",
           "#FF6692",
           "#B6E880",
           "#FF97FF",
           "#FECB52"
          ],
          "font": {
           "color": "#2a3f5f"
          },
          "geo": {
           "bgcolor": "white",
           "lakecolor": "white",
           "landcolor": "#E5ECF6",
           "showlakes": true,
           "showland": true,
           "subunitcolor": "white"
          },
          "hoverlabel": {
           "align": "left"
          },
          "hovermode": "closest",
          "mapbox": {
           "style": "light"
          },
          "paper_bgcolor": "white",
          "plot_bgcolor": "#E5ECF6",
          "polar": {
           "angularaxis": {
            "gridcolor": "white",
            "linecolor": "white",
            "ticks": ""
           },
           "bgcolor": "#E5ECF6",
           "radialaxis": {
            "gridcolor": "white",
            "linecolor": "white",
            "ticks": ""
           }
          },
          "scene": {
           "xaxis": {
            "backgroundcolor": "#E5ECF6",
            "gridcolor": "white",
            "gridwidth": 2,
            "linecolor": "white",
            "showbackground": true,
            "ticks": "",
            "zerolinecolor": "white"
           },
           "yaxis": {
            "backgroundcolor": "#E5ECF6",
            "gridcolor": "white",
            "gridwidth": 2,
            "linecolor": "white",
            "showbackground": true,
            "ticks": "",
            "zerolinecolor": "white"
           },
           "zaxis": {
            "backgroundcolor": "#E5ECF6",
            "gridcolor": "white",
            "gridwidth": 2,
            "linecolor": "white",
            "showbackground": true,
            "ticks": "",
            "zerolinecolor": "white"
           }
          },
          "shapedefaults": {
           "line": {
            "color": "#2a3f5f"
           }
          },
          "ternary": {
           "aaxis": {
            "gridcolor": "white",
            "linecolor": "white",
            "ticks": ""
           },
           "baxis": {
            "gridcolor": "white",
            "linecolor": "white",
            "ticks": ""
           },
           "bgcolor": "#E5ECF6",
           "caxis": {
            "gridcolor": "white",
            "linecolor": "white",
            "ticks": ""
           }
          },
          "title": {
           "x": 0.05
          },
          "xaxis": {
           "automargin": true,
           "gridcolor": "white",
           "linecolor": "white",
           "ticks": "",
           "title": {
            "standoff": 15
           },
           "zerolinecolor": "white",
           "zerolinewidth": 2
          },
          "yaxis": {
           "automargin": true,
           "gridcolor": "white",
           "linecolor": "white",
           "ticks": "",
           "title": {
            "standoff": 15
           },
           "zerolinecolor": "white",
           "zerolinewidth": 2
          }
         }
        }
       }
      },
      "text/html": [
       "<div>                            <div id=\"5d5e436d-50fd-4233-af63-62f6e27ba71d\" class=\"plotly-graph-div\" style=\"height:525px; width:100%;\"></div>            <script type=\"text/javascript\">                require([\"plotly\"], function(Plotly) {                    window.PLOTLYENV=window.PLOTLYENV || {};                                    if (document.getElementById(\"5d5e436d-50fd-4233-af63-62f6e27ba71d\")) {                    Plotly.newPlot(                        \"5d5e436d-50fd-4233-af63-62f6e27ba71d\",                        [{\"connectgaps\":true,\"line\":{\"color\":\"green\",\"shape\":\"linear\"},\"mode\":\"markers+lines\",\"name\":\"created_at\",\"type\":\"scatter\",\"x\":[\"2022-03-25\",\"2022-03-26\",\"2022-03-27\",\"2022-03-28\",\"2022-03-29\",\"2022-03-30\",\"2022-03-31\"],\"y\":[67,45,34,199,42,61,75]},{\"connectgaps\":true,\"line\":{\"color\":\"green\",\"shape\":\"linear\"},\"mode\":\"markers+lines\",\"name\":\"tweet_id\",\"type\":\"scatter\",\"x\":[\"2022-03-25\",\"2022-03-26\",\"2022-03-27\",\"2022-03-28\",\"2022-03-29\",\"2022-03-30\",\"2022-03-31\"],\"y\":[67,45,34,199,42,61,75]},{\"connectgaps\":true,\"line\":{\"color\":\"red\",\"shape\":\"linear\"},\"mode\":\"markers+lines\",\"name\":\"created_at\",\"type\":\"scatter\",\"x\":[\"2022-03-25\",\"2022-03-26\",\"2022-03-27\",\"2022-03-28\",\"2022-03-29\",\"2022-03-30\",\"2022-03-31\"],\"y\":[19,14,14,188,74,20,19]},{\"connectgaps\":true,\"line\":{\"color\":\"red\",\"shape\":\"linear\"},\"mode\":\"markers+lines\",\"name\":\"tweet_id\",\"type\":\"scatter\",\"x\":[\"2022-03-25\",\"2022-03-26\",\"2022-03-27\",\"2022-03-28\",\"2022-03-29\",\"2022-03-30\",\"2022-03-31\"],\"y\":[19,14,14,188,74,20,19]}],                        {\"template\":{\"data\":{\"bar\":[{\"error_x\":{\"color\":\"#2a3f5f\"},\"error_y\":{\"color\":\"#2a3f5f\"},\"marker\":{\"line\":{\"color\":\"#E5ECF6\",\"width\":0.5},\"pattern\":{\"fillmode\":\"overlay\",\"size\":10,\"solidity\":0.2}},\"type\":\"bar\"}],\"barpolar\":[{\"marker\":{\"line\":{\"color\":\"#E5ECF6\",\"width\":0.5},\"pattern\":{\"fillmode\":\"overlay\",\"size\":10,\"solidity\":0.2}},\"type\":\"barpolar\"}],\"carpet\":[{\"aaxis\":{\"endlinecolor\":\"#2a3f5f\",\"gridcolor\":\"white\",\"linecolor\":\"white\",\"minorgridcolor\":\"white\",\"startlinecolor\":\"#2a3f5f\"},\"baxis\":{\"endlinecolor\":\"#2a3f5f\",\"gridcolor\":\"white\",\"linecolor\":\"white\",\"minorgridcolor\":\"white\",\"startlinecolor\":\"#2a3f5f\"},\"type\":\"carpet\"}],\"choropleth\":[{\"colorbar\":{\"outlinewidth\":0,\"ticks\":\"\"},\"type\":\"choropleth\"}],\"contour\":[{\"colorbar\":{\"outlinewidth\":0,\"ticks\":\"\"},\"colorscale\":[[0.0,\"#0d0887\"],[0.1111111111111111,\"#46039f\"],[0.2222222222222222,\"#7201a8\"],[0.3333333333333333,\"#9c179e\"],[0.4444444444444444,\"#bd3786\"],[0.5555555555555556,\"#d8576b\"],[0.6666666666666666,\"#ed7953\"],[0.7777777777777778,\"#fb9f3a\"],[0.8888888888888888,\"#fdca26\"],[1.0,\"#f0f921\"]],\"type\":\"contour\"}],\"contourcarpet\":[{\"colorbar\":{\"outlinewidth\":0,\"ticks\":\"\"},\"type\":\"contourcarpet\"}],\"heatmap\":[{\"colorbar\":{\"outlinewidth\":0,\"ticks\":\"\"},\"colorscale\":[[0.0,\"#0d0887\"],[0.1111111111111111,\"#46039f\"],[0.2222222222222222,\"#7201a8\"],[0.3333333333333333,\"#9c179e\"],[0.4444444444444444,\"#bd3786\"],[0.5555555555555556,\"#d8576b\"],[0.6666666666666666,\"#ed7953\"],[0.7777777777777778,\"#fb9f3a\"],[0.8888888888888888,\"#fdca26\"],[1.0,\"#f0f921\"]],\"type\":\"heatmap\"}],\"heatmapgl\":[{\"colorbar\":{\"outlinewidth\":0,\"ticks\":\"\"},\"colorscale\":[[0.0,\"#0d0887\"],[0.1111111111111111,\"#46039f\"],[0.2222222222222222,\"#7201a8\"],[0.3333333333333333,\"#9c179e\"],[0.4444444444444444,\"#bd3786\"],[0.5555555555555556,\"#d8576b\"],[0.6666666666666666,\"#ed7953\"],[0.7777777777777778,\"#fb9f3a\"],[0.8888888888888888,\"#fdca26\"],[1.0,\"#f0f921\"]],\"type\":\"heatmapgl\"}],\"histogram\":[{\"marker\":{\"pattern\":{\"fillmode\":\"overlay\",\"size\":10,\"solidity\":0.2}},\"type\":\"histogram\"}],\"histogram2d\":[{\"colorbar\":{\"outlinewidth\":0,\"ticks\":\"\"},\"colorscale\":[[0.0,\"#0d0887\"],[0.1111111111111111,\"#46039f\"],[0.2222222222222222,\"#7201a8\"],[0.3333333333333333,\"#9c179e\"],[0.4444444444444444,\"#bd3786\"],[0.5555555555555556,\"#d8576b\"],[0.6666666666666666,\"#ed7953\"],[0.7777777777777778,\"#fb9f3a\"],[0.8888888888888888,\"#fdca26\"],[1.0,\"#f0f921\"]],\"type\":\"histogram2d\"}],\"histogram2dcontour\":[{\"colorbar\":{\"outlinewidth\":0,\"ticks\":\"\"},\"colorscale\":[[0.0,\"#0d0887\"],[0.1111111111111111,\"#46039f\"],[0.2222222222222222,\"#7201a8\"],[0.3333333333333333,\"#9c179e\"],[0.4444444444444444,\"#bd3786\"],[0.5555555555555556,\"#d8576b\"],[0.6666666666666666,\"#ed7953\"],[0.7777777777777778,\"#fb9f3a\"],[0.8888888888888888,\"#fdca26\"],[1.0,\"#f0f921\"]],\"type\":\"histogram2dcontour\"}],\"mesh3d\":[{\"colorbar\":{\"outlinewidth\":0,\"ticks\":\"\"},\"type\":\"mesh3d\"}],\"parcoords\":[{\"line\":{\"colorbar\":{\"outlinewidth\":0,\"ticks\":\"\"}},\"type\":\"parcoords\"}],\"pie\":[{\"automargin\":true,\"type\":\"pie\"}],\"scatter\":[{\"marker\":{\"colorbar\":{\"outlinewidth\":0,\"ticks\":\"\"}},\"type\":\"scatter\"}],\"scatter3d\":[{\"line\":{\"colorbar\":{\"outlinewidth\":0,\"ticks\":\"\"}},\"marker\":{\"colorbar\":{\"outlinewidth\":0,\"ticks\":\"\"}},\"type\":\"scatter3d\"}],\"scattercarpet\":[{\"marker\":{\"colorbar\":{\"outlinewidth\":0,\"ticks\":\"\"}},\"type\":\"scattercarpet\"}],\"scattergeo\":[{\"marker\":{\"colorbar\":{\"outlinewidth\":0,\"ticks\":\"\"}},\"type\":\"scattergeo\"}],\"scattergl\":[{\"marker\":{\"colorbar\":{\"outlinewidth\":0,\"ticks\":\"\"}},\"type\":\"scattergl\"}],\"scattermapbox\":[{\"marker\":{\"colorbar\":{\"outlinewidth\":0,\"ticks\":\"\"}},\"type\":\"scattermapbox\"}],\"scatterpolar\":[{\"marker\":{\"colorbar\":{\"outlinewidth\":0,\"ticks\":\"\"}},\"type\":\"scatterpolar\"}],\"scatterpolargl\":[{\"marker\":{\"colorbar\":{\"outlinewidth\":0,\"ticks\":\"\"}},\"type\":\"scatterpolargl\"}],\"scatterternary\":[{\"marker\":{\"colorbar\":{\"outlinewidth\":0,\"ticks\":\"\"}},\"type\":\"scatterternary\"}],\"surface\":[{\"colorbar\":{\"outlinewidth\":0,\"ticks\":\"\"},\"colorscale\":[[0.0,\"#0d0887\"],[0.1111111111111111,\"#46039f\"],[0.2222222222222222,\"#7201a8\"],[0.3333333333333333,\"#9c179e\"],[0.4444444444444444,\"#bd3786\"],[0.5555555555555556,\"#d8576b\"],[0.6666666666666666,\"#ed7953\"],[0.7777777777777778,\"#fb9f3a\"],[0.8888888888888888,\"#fdca26\"],[1.0,\"#f0f921\"]],\"type\":\"surface\"}],\"table\":[{\"cells\":{\"fill\":{\"color\":\"#EBF0F8\"},\"line\":{\"color\":\"white\"}},\"header\":{\"fill\":{\"color\":\"#C8D4E3\"},\"line\":{\"color\":\"white\"}},\"type\":\"table\"}]},\"layout\":{\"annotationdefaults\":{\"arrowcolor\":\"#2a3f5f\",\"arrowhead\":0,\"arrowwidth\":1},\"autotypenumbers\":\"strict\",\"coloraxis\":{\"colorbar\":{\"outlinewidth\":0,\"ticks\":\"\"}},\"colorscale\":{\"diverging\":[[0,\"#8e0152\"],[0.1,\"#c51b7d\"],[0.2,\"#de77ae\"],[0.3,\"#f1b6da\"],[0.4,\"#fde0ef\"],[0.5,\"#f7f7f7\"],[0.6,\"#e6f5d0\"],[0.7,\"#b8e186\"],[0.8,\"#7fbc41\"],[0.9,\"#4d9221\"],[1,\"#276419\"]],\"sequential\":[[0.0,\"#0d0887\"],[0.1111111111111111,\"#46039f\"],[0.2222222222222222,\"#7201a8\"],[0.3333333333333333,\"#9c179e\"],[0.4444444444444444,\"#bd3786\"],[0.5555555555555556,\"#d8576b\"],[0.6666666666666666,\"#ed7953\"],[0.7777777777777778,\"#fb9f3a\"],[0.8888888888888888,\"#fdca26\"],[1.0,\"#f0f921\"]],\"sequentialminus\":[[0.0,\"#0d0887\"],[0.1111111111111111,\"#46039f\"],[0.2222222222222222,\"#7201a8\"],[0.3333333333333333,\"#9c179e\"],[0.4444444444444444,\"#bd3786\"],[0.5555555555555556,\"#d8576b\"],[0.6666666666666666,\"#ed7953\"],[0.7777777777777778,\"#fb9f3a\"],[0.8888888888888888,\"#fdca26\"],[1.0,\"#f0f921\"]]},\"colorway\":[\"#636efa\",\"#EF553B\",\"#00cc96\",\"#ab63fa\",\"#FFA15A\",\"#19d3f3\",\"#FF6692\",\"#B6E880\",\"#FF97FF\",\"#FECB52\"],\"font\":{\"color\":\"#2a3f5f\"},\"geo\":{\"bgcolor\":\"white\",\"lakecolor\":\"white\",\"landcolor\":\"#E5ECF6\",\"showlakes\":true,\"showland\":true,\"subunitcolor\":\"white\"},\"hoverlabel\":{\"align\":\"left\"},\"hovermode\":\"closest\",\"mapbox\":{\"style\":\"light\"},\"paper_bgcolor\":\"white\",\"plot_bgcolor\":\"#E5ECF6\",\"polar\":{\"angularaxis\":{\"gridcolor\":\"white\",\"linecolor\":\"white\",\"ticks\":\"\"},\"bgcolor\":\"#E5ECF6\",\"radialaxis\":{\"gridcolor\":\"white\",\"linecolor\":\"white\",\"ticks\":\"\"}},\"scene\":{\"xaxis\":{\"backgroundcolor\":\"#E5ECF6\",\"gridcolor\":\"white\",\"gridwidth\":2,\"linecolor\":\"white\",\"showbackground\":true,\"ticks\":\"\",\"zerolinecolor\":\"white\"},\"yaxis\":{\"backgroundcolor\":\"#E5ECF6\",\"gridcolor\":\"white\",\"gridwidth\":2,\"linecolor\":\"white\",\"showbackground\":true,\"ticks\":\"\",\"zerolinecolor\":\"white\"},\"zaxis\":{\"backgroundcolor\":\"#E5ECF6\",\"gridcolor\":\"white\",\"gridwidth\":2,\"linecolor\":\"white\",\"showbackground\":true,\"ticks\":\"\",\"zerolinecolor\":\"white\"}},\"shapedefaults\":{\"line\":{\"color\":\"#2a3f5f\"}},\"ternary\":{\"aaxis\":{\"gridcolor\":\"white\",\"linecolor\":\"white\",\"ticks\":\"\"},\"baxis\":{\"gridcolor\":\"white\",\"linecolor\":\"white\",\"ticks\":\"\"},\"bgcolor\":\"#E5ECF6\",\"caxis\":{\"gridcolor\":\"white\",\"linecolor\":\"white\",\"ticks\":\"\"}},\"title\":{\"x\":0.05},\"xaxis\":{\"automargin\":true,\"gridcolor\":\"white\",\"linecolor\":\"white\",\"ticks\":\"\",\"title\":{\"standoff\":15},\"zerolinecolor\":\"white\",\"zerolinewidth\":2},\"yaxis\":{\"automargin\":true,\"gridcolor\":\"white\",\"linecolor\":\"white\",\"ticks\":\"\",\"title\":{\"standoff\":15},\"zerolinecolor\":\"white\",\"zerolinewidth\":2}}}},                        {\"responsive\": true}                    ).then(function(){\n",
       "                            \n",
       "var gd = document.getElementById('5d5e436d-50fd-4233-af63-62f6e27ba71d');\n",
       "var x = new MutationObserver(function (mutations, observer) {{\n",
       "        var display = window.getComputedStyle(gd).display;\n",
       "        if (!display || display === 'none') {{\n",
       "            console.log([gd, 'removed!']);\n",
       "            Plotly.purge(gd);\n",
       "            observer.disconnect();\n",
       "        }}\n",
       "}});\n",
       "\n",
       "// Listen for the removal of the full notebook cells\n",
       "var notebookContainer = gd.closest('#notebook-container');\n",
       "if (notebookContainer) {{\n",
       "    x.observe(notebookContainer, {childList: true});\n",
       "}}\n",
       "\n",
       "// Listen for the clearing of the current output cell\n",
       "var outputEl = gd.closest('.output');\n",
       "if (outputEl) {{\n",
       "    x.observe(outputEl, {childList: true});\n",
       "}}\n",
       "\n",
       "                        })                };                });            </script>        </div>"
      ]
     },
     "metadata": {},
     "output_type": "display_data"
    }
   ],
   "source": [
    "# filter the df to only capture Tweets from the start to end of the second peak in march 2022\n",
    "newdf = df[(df['created_at']>='2022-03-25') & (df['created_at']<='2022-03-31')]\n",
    "neg = newdf[newdf['sentiment_category']=='negative']\n",
    "neg = neg.groupby(['created_at'],as_index=False).count()\n",
    "pos = newdf[newdf['sentiment_category']=='positive']\n",
    "pos = pos.groupby(['created_at'],as_index=False).count()\n",
    "\n",
    "pos = pos[['created_at','tweet_id']]\n",
    "neg = neg[['created_at','tweet_id']]\n",
    "\n",
    "import plotly.graph_objs as go\n",
    "fig = go.Figure()\n",
    "for col in pos.columns:\n",
    "    fig.add_trace(go.Scatter(x=pos['created_at'], y=pos['tweet_id'],\n",
    "                             name = col,\n",
    "                             mode = 'markers+lines',\n",
    "                             line=dict(shape='linear'),\n",
    "                             connectgaps=True,\n",
    "                             line_color='green'\n",
    "                             )\n",
    "                 )\n",
    "for col in neg.columns:\n",
    "    fig.add_trace(go.Scatter(x=neg['created_at'], y=neg['tweet_id'],\n",
    "                             name = col,\n",
    "                             mode = 'markers+lines',\n",
    "                             line=dict(shape='linear'),\n",
    "                             connectgaps=True,\n",
    "                             line_color='red'\n",
    "                             )\n",
    "                 )\n",
    "fig.show()"
   ]
  },
  {
   "cell_type": "code",
   "execution_count": 75,
   "id": "57cf41c9",
   "metadata": {},
   "outputs": [],
   "source": [
    "mar28_df = df[(df['created_at']>='2022-03-27') & (df['created_at']<='2022-03-29')]\n",
    "mar28_df_pos = mar28_df[mar28_df['sentiment_category']=='positive']\n",
    "mar28_df_neg = mar28_df[mar28_df['sentiment_category']=='negative']"
   ]
  },
  {
   "cell_type": "code",
   "execution_count": 76,
   "id": "2986f820",
   "metadata": {},
   "outputs": [
    {
     "data": {
      "application/vnd.plotly.v1+json": {
       "config": {
        "plotlyServerURL": "https://plot.ly"
       },
       "data": [
        {
         "connectgaps": true,
         "line": {
          "color": "green",
          "shape": "linear"
         },
         "mode": "markers+lines",
         "name": "created_at",
         "type": "scatter",
         "x": [
          "2021-02-06",
          "2021-02-07",
          "2021-02-08",
          "2021-02-09",
          "2021-02-10"
         ],
         "y": [
          34,
          42,
          304,
          55,
          39
         ]
        },
        {
         "connectgaps": true,
         "line": {
          "color": "green",
          "shape": "linear"
         },
         "mode": "markers+lines",
         "name": "tweet_id",
         "type": "scatter",
         "x": [
          "2021-02-06",
          "2021-02-07",
          "2021-02-08",
          "2021-02-09",
          "2021-02-10"
         ],
         "y": [
          34,
          42,
          304,
          55,
          39
         ]
        },
        {
         "connectgaps": true,
         "line": {
          "color": "red",
          "shape": "linear"
         },
         "mode": "markers+lines",
         "name": "created_at",
         "type": "scatter",
         "x": [
          "2021-02-06",
          "2021-02-07",
          "2021-02-08",
          "2021-02-09",
          "2021-02-10"
         ],
         "y": [
          21,
          8,
          83,
          11,
          12
         ]
        },
        {
         "connectgaps": true,
         "line": {
          "color": "red",
          "shape": "linear"
         },
         "mode": "markers+lines",
         "name": "tweet_id",
         "type": "scatter",
         "x": [
          "2021-02-06",
          "2021-02-07",
          "2021-02-08",
          "2021-02-09",
          "2021-02-10"
         ],
         "y": [
          21,
          8,
          83,
          11,
          12
         ]
        }
       ],
       "layout": {
        "template": {
         "data": {
          "bar": [
           {
            "error_x": {
             "color": "#2a3f5f"
            },
            "error_y": {
             "color": "#2a3f5f"
            },
            "marker": {
             "line": {
              "color": "#E5ECF6",
              "width": 0.5
             },
             "pattern": {
              "fillmode": "overlay",
              "size": 10,
              "solidity": 0.2
             }
            },
            "type": "bar"
           }
          ],
          "barpolar": [
           {
            "marker": {
             "line": {
              "color": "#E5ECF6",
              "width": 0.5
             },
             "pattern": {
              "fillmode": "overlay",
              "size": 10,
              "solidity": 0.2
             }
            },
            "type": "barpolar"
           }
          ],
          "carpet": [
           {
            "aaxis": {
             "endlinecolor": "#2a3f5f",
             "gridcolor": "white",
             "linecolor": "white",
             "minorgridcolor": "white",
             "startlinecolor": "#2a3f5f"
            },
            "baxis": {
             "endlinecolor": "#2a3f5f",
             "gridcolor": "white",
             "linecolor": "white",
             "minorgridcolor": "white",
             "startlinecolor": "#2a3f5f"
            },
            "type": "carpet"
           }
          ],
          "choropleth": [
           {
            "colorbar": {
             "outlinewidth": 0,
             "ticks": ""
            },
            "type": "choropleth"
           }
          ],
          "contour": [
           {
            "colorbar": {
             "outlinewidth": 0,
             "ticks": ""
            },
            "colorscale": [
             [
              0,
              "#0d0887"
             ],
             [
              0.1111111111111111,
              "#46039f"
             ],
             [
              0.2222222222222222,
              "#7201a8"
             ],
             [
              0.3333333333333333,
              "#9c179e"
             ],
             [
              0.4444444444444444,
              "#bd3786"
             ],
             [
              0.5555555555555556,
              "#d8576b"
             ],
             [
              0.6666666666666666,
              "#ed7953"
             ],
             [
              0.7777777777777778,
              "#fb9f3a"
             ],
             [
              0.8888888888888888,
              "#fdca26"
             ],
             [
              1,
              "#f0f921"
             ]
            ],
            "type": "contour"
           }
          ],
          "contourcarpet": [
           {
            "colorbar": {
             "outlinewidth": 0,
             "ticks": ""
            },
            "type": "contourcarpet"
           }
          ],
          "heatmap": [
           {
            "colorbar": {
             "outlinewidth": 0,
             "ticks": ""
            },
            "colorscale": [
             [
              0,
              "#0d0887"
             ],
             [
              0.1111111111111111,
              "#46039f"
             ],
             [
              0.2222222222222222,
              "#7201a8"
             ],
             [
              0.3333333333333333,
              "#9c179e"
             ],
             [
              0.4444444444444444,
              "#bd3786"
             ],
             [
              0.5555555555555556,
              "#d8576b"
             ],
             [
              0.6666666666666666,
              "#ed7953"
             ],
             [
              0.7777777777777778,
              "#fb9f3a"
             ],
             [
              0.8888888888888888,
              "#fdca26"
             ],
             [
              1,
              "#f0f921"
             ]
            ],
            "type": "heatmap"
           }
          ],
          "heatmapgl": [
           {
            "colorbar": {
             "outlinewidth": 0,
             "ticks": ""
            },
            "colorscale": [
             [
              0,
              "#0d0887"
             ],
             [
              0.1111111111111111,
              "#46039f"
             ],
             [
              0.2222222222222222,
              "#7201a8"
             ],
             [
              0.3333333333333333,
              "#9c179e"
             ],
             [
              0.4444444444444444,
              "#bd3786"
             ],
             [
              0.5555555555555556,
              "#d8576b"
             ],
             [
              0.6666666666666666,
              "#ed7953"
             ],
             [
              0.7777777777777778,
              "#fb9f3a"
             ],
             [
              0.8888888888888888,
              "#fdca26"
             ],
             [
              1,
              "#f0f921"
             ]
            ],
            "type": "heatmapgl"
           }
          ],
          "histogram": [
           {
            "marker": {
             "pattern": {
              "fillmode": "overlay",
              "size": 10,
              "solidity": 0.2
             }
            },
            "type": "histogram"
           }
          ],
          "histogram2d": [
           {
            "colorbar": {
             "outlinewidth": 0,
             "ticks": ""
            },
            "colorscale": [
             [
              0,
              "#0d0887"
             ],
             [
              0.1111111111111111,
              "#46039f"
             ],
             [
              0.2222222222222222,
              "#7201a8"
             ],
             [
              0.3333333333333333,
              "#9c179e"
             ],
             [
              0.4444444444444444,
              "#bd3786"
             ],
             [
              0.5555555555555556,
              "#d8576b"
             ],
             [
              0.6666666666666666,
              "#ed7953"
             ],
             [
              0.7777777777777778,
              "#fb9f3a"
             ],
             [
              0.8888888888888888,
              "#fdca26"
             ],
             [
              1,
              "#f0f921"
             ]
            ],
            "type": "histogram2d"
           }
          ],
          "histogram2dcontour": [
           {
            "colorbar": {
             "outlinewidth": 0,
             "ticks": ""
            },
            "colorscale": [
             [
              0,
              "#0d0887"
             ],
             [
              0.1111111111111111,
              "#46039f"
             ],
             [
              0.2222222222222222,
              "#7201a8"
             ],
             [
              0.3333333333333333,
              "#9c179e"
             ],
             [
              0.4444444444444444,
              "#bd3786"
             ],
             [
              0.5555555555555556,
              "#d8576b"
             ],
             [
              0.6666666666666666,
              "#ed7953"
             ],
             [
              0.7777777777777778,
              "#fb9f3a"
             ],
             [
              0.8888888888888888,
              "#fdca26"
             ],
             [
              1,
              "#f0f921"
             ]
            ],
            "type": "histogram2dcontour"
           }
          ],
          "mesh3d": [
           {
            "colorbar": {
             "outlinewidth": 0,
             "ticks": ""
            },
            "type": "mesh3d"
           }
          ],
          "parcoords": [
           {
            "line": {
             "colorbar": {
              "outlinewidth": 0,
              "ticks": ""
             }
            },
            "type": "parcoords"
           }
          ],
          "pie": [
           {
            "automargin": true,
            "type": "pie"
           }
          ],
          "scatter": [
           {
            "marker": {
             "colorbar": {
              "outlinewidth": 0,
              "ticks": ""
             }
            },
            "type": "scatter"
           }
          ],
          "scatter3d": [
           {
            "line": {
             "colorbar": {
              "outlinewidth": 0,
              "ticks": ""
             }
            },
            "marker": {
             "colorbar": {
              "outlinewidth": 0,
              "ticks": ""
             }
            },
            "type": "scatter3d"
           }
          ],
          "scattercarpet": [
           {
            "marker": {
             "colorbar": {
              "outlinewidth": 0,
              "ticks": ""
             }
            },
            "type": "scattercarpet"
           }
          ],
          "scattergeo": [
           {
            "marker": {
             "colorbar": {
              "outlinewidth": 0,
              "ticks": ""
             }
            },
            "type": "scattergeo"
           }
          ],
          "scattergl": [
           {
            "marker": {
             "colorbar": {
              "outlinewidth": 0,
              "ticks": ""
             }
            },
            "type": "scattergl"
           }
          ],
          "scattermapbox": [
           {
            "marker": {
             "colorbar": {
              "outlinewidth": 0,
              "ticks": ""
             }
            },
            "type": "scattermapbox"
           }
          ],
          "scatterpolar": [
           {
            "marker": {
             "colorbar": {
              "outlinewidth": 0,
              "ticks": ""
             }
            },
            "type": "scatterpolar"
           }
          ],
          "scatterpolargl": [
           {
            "marker": {
             "colorbar": {
              "outlinewidth": 0,
              "ticks": ""
             }
            },
            "type": "scatterpolargl"
           }
          ],
          "scatterternary": [
           {
            "marker": {
             "colorbar": {
              "outlinewidth": 0,
              "ticks": ""
             }
            },
            "type": "scatterternary"
           }
          ],
          "surface": [
           {
            "colorbar": {
             "outlinewidth": 0,
             "ticks": ""
            },
            "colorscale": [
             [
              0,
              "#0d0887"
             ],
             [
              0.1111111111111111,
              "#46039f"
             ],
             [
              0.2222222222222222,
              "#7201a8"
             ],
             [
              0.3333333333333333,
              "#9c179e"
             ],
             [
              0.4444444444444444,
              "#bd3786"
             ],
             [
              0.5555555555555556,
              "#d8576b"
             ],
             [
              0.6666666666666666,
              "#ed7953"
             ],
             [
              0.7777777777777778,
              "#fb9f3a"
             ],
             [
              0.8888888888888888,
              "#fdca26"
             ],
             [
              1,
              "#f0f921"
             ]
            ],
            "type": "surface"
           }
          ],
          "table": [
           {
            "cells": {
             "fill": {
              "color": "#EBF0F8"
             },
             "line": {
              "color": "white"
             }
            },
            "header": {
             "fill": {
              "color": "#C8D4E3"
             },
             "line": {
              "color": "white"
             }
            },
            "type": "table"
           }
          ]
         },
         "layout": {
          "annotationdefaults": {
           "arrowcolor": "#2a3f5f",
           "arrowhead": 0,
           "arrowwidth": 1
          },
          "autotypenumbers": "strict",
          "coloraxis": {
           "colorbar": {
            "outlinewidth": 0,
            "ticks": ""
           }
          },
          "colorscale": {
           "diverging": [
            [
             0,
             "#8e0152"
            ],
            [
             0.1,
             "#c51b7d"
            ],
            [
             0.2,
             "#de77ae"
            ],
            [
             0.3,
             "#f1b6da"
            ],
            [
             0.4,
             "#fde0ef"
            ],
            [
             0.5,
             "#f7f7f7"
            ],
            [
             0.6,
             "#e6f5d0"
            ],
            [
             0.7,
             "#b8e186"
            ],
            [
             0.8,
             "#7fbc41"
            ],
            [
             0.9,
             "#4d9221"
            ],
            [
             1,
             "#276419"
            ]
           ],
           "sequential": [
            [
             0,
             "#0d0887"
            ],
            [
             0.1111111111111111,
             "#46039f"
            ],
            [
             0.2222222222222222,
             "#7201a8"
            ],
            [
             0.3333333333333333,
             "#9c179e"
            ],
            [
             0.4444444444444444,
             "#bd3786"
            ],
            [
             0.5555555555555556,
             "#d8576b"
            ],
            [
             0.6666666666666666,
             "#ed7953"
            ],
            [
             0.7777777777777778,
             "#fb9f3a"
            ],
            [
             0.8888888888888888,
             "#fdca26"
            ],
            [
             1,
             "#f0f921"
            ]
           ],
           "sequentialminus": [
            [
             0,
             "#0d0887"
            ],
            [
             0.1111111111111111,
             "#46039f"
            ],
            [
             0.2222222222222222,
             "#7201a8"
            ],
            [
             0.3333333333333333,
             "#9c179e"
            ],
            [
             0.4444444444444444,
             "#bd3786"
            ],
            [
             0.5555555555555556,
             "#d8576b"
            ],
            [
             0.6666666666666666,
             "#ed7953"
            ],
            [
             0.7777777777777778,
             "#fb9f3a"
            ],
            [
             0.8888888888888888,
             "#fdca26"
            ],
            [
             1,
             "#f0f921"
            ]
           ]
          },
          "colorway": [
           "#636efa",
           "#EF553B",
           "#00cc96",
           "#ab63fa",
           "#FFA15A",
           "#19d3f3",
           "#FF6692",
           "#B6E880",
           "#FF97FF",
           "#FECB52"
          ],
          "font": {
           "color": "#2a3f5f"
          },
          "geo": {
           "bgcolor": "white",
           "lakecolor": "white",
           "landcolor": "#E5ECF6",
           "showlakes": true,
           "showland": true,
           "subunitcolor": "white"
          },
          "hoverlabel": {
           "align": "left"
          },
          "hovermode": "closest",
          "mapbox": {
           "style": "light"
          },
          "paper_bgcolor": "white",
          "plot_bgcolor": "#E5ECF6",
          "polar": {
           "angularaxis": {
            "gridcolor": "white",
            "linecolor": "white",
            "ticks": ""
           },
           "bgcolor": "#E5ECF6",
           "radialaxis": {
            "gridcolor": "white",
            "linecolor": "white",
            "ticks": ""
           }
          },
          "scene": {
           "xaxis": {
            "backgroundcolor": "#E5ECF6",
            "gridcolor": "white",
            "gridwidth": 2,
            "linecolor": "white",
            "showbackground": true,
            "ticks": "",
            "zerolinecolor": "white"
           },
           "yaxis": {
            "backgroundcolor": "#E5ECF6",
            "gridcolor": "white",
            "gridwidth": 2,
            "linecolor": "white",
            "showbackground": true,
            "ticks": "",
            "zerolinecolor": "white"
           },
           "zaxis": {
            "backgroundcolor": "#E5ECF6",
            "gridcolor": "white",
            "gridwidth": 2,
            "linecolor": "white",
            "showbackground": true,
            "ticks": "",
            "zerolinecolor": "white"
           }
          },
          "shapedefaults": {
           "line": {
            "color": "#2a3f5f"
           }
          },
          "ternary": {
           "aaxis": {
            "gridcolor": "white",
            "linecolor": "white",
            "ticks": ""
           },
           "baxis": {
            "gridcolor": "white",
            "linecolor": "white",
            "ticks": ""
           },
           "bgcolor": "#E5ECF6",
           "caxis": {
            "gridcolor": "white",
            "linecolor": "white",
            "ticks": ""
           }
          },
          "title": {
           "x": 0.05
          },
          "xaxis": {
           "automargin": true,
           "gridcolor": "white",
           "linecolor": "white",
           "ticks": "",
           "title": {
            "standoff": 15
           },
           "zerolinecolor": "white",
           "zerolinewidth": 2
          },
          "yaxis": {
           "automargin": true,
           "gridcolor": "white",
           "linecolor": "white",
           "ticks": "",
           "title": {
            "standoff": 15
           },
           "zerolinecolor": "white",
           "zerolinewidth": 2
          }
         }
        }
       }
      },
      "text/html": [
       "<div>                            <div id=\"6f68a036-67a8-4b37-b9b9-72776f6ea1d6\" class=\"plotly-graph-div\" style=\"height:525px; width:100%;\"></div>            <script type=\"text/javascript\">                require([\"plotly\"], function(Plotly) {                    window.PLOTLYENV=window.PLOTLYENV || {};                                    if (document.getElementById(\"6f68a036-67a8-4b37-b9b9-72776f6ea1d6\")) {                    Plotly.newPlot(                        \"6f68a036-67a8-4b37-b9b9-72776f6ea1d6\",                        [{\"connectgaps\":true,\"line\":{\"color\":\"green\",\"shape\":\"linear\"},\"mode\":\"markers+lines\",\"name\":\"created_at\",\"type\":\"scatter\",\"x\":[\"2021-02-06\",\"2021-02-07\",\"2021-02-08\",\"2021-02-09\",\"2021-02-10\"],\"y\":[34,42,304,55,39]},{\"connectgaps\":true,\"line\":{\"color\":\"green\",\"shape\":\"linear\"},\"mode\":\"markers+lines\",\"name\":\"tweet_id\",\"type\":\"scatter\",\"x\":[\"2021-02-06\",\"2021-02-07\",\"2021-02-08\",\"2021-02-09\",\"2021-02-10\"],\"y\":[34,42,304,55,39]},{\"connectgaps\":true,\"line\":{\"color\":\"red\",\"shape\":\"linear\"},\"mode\":\"markers+lines\",\"name\":\"created_at\",\"type\":\"scatter\",\"x\":[\"2021-02-06\",\"2021-02-07\",\"2021-02-08\",\"2021-02-09\",\"2021-02-10\"],\"y\":[21,8,83,11,12]},{\"connectgaps\":true,\"line\":{\"color\":\"red\",\"shape\":\"linear\"},\"mode\":\"markers+lines\",\"name\":\"tweet_id\",\"type\":\"scatter\",\"x\":[\"2021-02-06\",\"2021-02-07\",\"2021-02-08\",\"2021-02-09\",\"2021-02-10\"],\"y\":[21,8,83,11,12]}],                        {\"template\":{\"data\":{\"bar\":[{\"error_x\":{\"color\":\"#2a3f5f\"},\"error_y\":{\"color\":\"#2a3f5f\"},\"marker\":{\"line\":{\"color\":\"#E5ECF6\",\"width\":0.5},\"pattern\":{\"fillmode\":\"overlay\",\"size\":10,\"solidity\":0.2}},\"type\":\"bar\"}],\"barpolar\":[{\"marker\":{\"line\":{\"color\":\"#E5ECF6\",\"width\":0.5},\"pattern\":{\"fillmode\":\"overlay\",\"size\":10,\"solidity\":0.2}},\"type\":\"barpolar\"}],\"carpet\":[{\"aaxis\":{\"endlinecolor\":\"#2a3f5f\",\"gridcolor\":\"white\",\"linecolor\":\"white\",\"minorgridcolor\":\"white\",\"startlinecolor\":\"#2a3f5f\"},\"baxis\":{\"endlinecolor\":\"#2a3f5f\",\"gridcolor\":\"white\",\"linecolor\":\"white\",\"minorgridcolor\":\"white\",\"startlinecolor\":\"#2a3f5f\"},\"type\":\"carpet\"}],\"choropleth\":[{\"colorbar\":{\"outlinewidth\":0,\"ticks\":\"\"},\"type\":\"choropleth\"}],\"contour\":[{\"colorbar\":{\"outlinewidth\":0,\"ticks\":\"\"},\"colorscale\":[[0.0,\"#0d0887\"],[0.1111111111111111,\"#46039f\"],[0.2222222222222222,\"#7201a8\"],[0.3333333333333333,\"#9c179e\"],[0.4444444444444444,\"#bd3786\"],[0.5555555555555556,\"#d8576b\"],[0.6666666666666666,\"#ed7953\"],[0.7777777777777778,\"#fb9f3a\"],[0.8888888888888888,\"#fdca26\"],[1.0,\"#f0f921\"]],\"type\":\"contour\"}],\"contourcarpet\":[{\"colorbar\":{\"outlinewidth\":0,\"ticks\":\"\"},\"type\":\"contourcarpet\"}],\"heatmap\":[{\"colorbar\":{\"outlinewidth\":0,\"ticks\":\"\"},\"colorscale\":[[0.0,\"#0d0887\"],[0.1111111111111111,\"#46039f\"],[0.2222222222222222,\"#7201a8\"],[0.3333333333333333,\"#9c179e\"],[0.4444444444444444,\"#bd3786\"],[0.5555555555555556,\"#d8576b\"],[0.6666666666666666,\"#ed7953\"],[0.7777777777777778,\"#fb9f3a\"],[0.8888888888888888,\"#fdca26\"],[1.0,\"#f0f921\"]],\"type\":\"heatmap\"}],\"heatmapgl\":[{\"colorbar\":{\"outlinewidth\":0,\"ticks\":\"\"},\"colorscale\":[[0.0,\"#0d0887\"],[0.1111111111111111,\"#46039f\"],[0.2222222222222222,\"#7201a8\"],[0.3333333333333333,\"#9c179e\"],[0.4444444444444444,\"#bd3786\"],[0.5555555555555556,\"#d8576b\"],[0.6666666666666666,\"#ed7953\"],[0.7777777777777778,\"#fb9f3a\"],[0.8888888888888888,\"#fdca26\"],[1.0,\"#f0f921\"]],\"type\":\"heatmapgl\"}],\"histogram\":[{\"marker\":{\"pattern\":{\"fillmode\":\"overlay\",\"size\":10,\"solidity\":0.2}},\"type\":\"histogram\"}],\"histogram2d\":[{\"colorbar\":{\"outlinewidth\":0,\"ticks\":\"\"},\"colorscale\":[[0.0,\"#0d0887\"],[0.1111111111111111,\"#46039f\"],[0.2222222222222222,\"#7201a8\"],[0.3333333333333333,\"#9c179e\"],[0.4444444444444444,\"#bd3786\"],[0.5555555555555556,\"#d8576b\"],[0.6666666666666666,\"#ed7953\"],[0.7777777777777778,\"#fb9f3a\"],[0.8888888888888888,\"#fdca26\"],[1.0,\"#f0f921\"]],\"type\":\"histogram2d\"}],\"histogram2dcontour\":[{\"colorbar\":{\"outlinewidth\":0,\"ticks\":\"\"},\"colorscale\":[[0.0,\"#0d0887\"],[0.1111111111111111,\"#46039f\"],[0.2222222222222222,\"#7201a8\"],[0.3333333333333333,\"#9c179e\"],[0.4444444444444444,\"#bd3786\"],[0.5555555555555556,\"#d8576b\"],[0.6666666666666666,\"#ed7953\"],[0.7777777777777778,\"#fb9f3a\"],[0.8888888888888888,\"#fdca26\"],[1.0,\"#f0f921\"]],\"type\":\"histogram2dcontour\"}],\"mesh3d\":[{\"colorbar\":{\"outlinewidth\":0,\"ticks\":\"\"},\"type\":\"mesh3d\"}],\"parcoords\":[{\"line\":{\"colorbar\":{\"outlinewidth\":0,\"ticks\":\"\"}},\"type\":\"parcoords\"}],\"pie\":[{\"automargin\":true,\"type\":\"pie\"}],\"scatter\":[{\"marker\":{\"colorbar\":{\"outlinewidth\":0,\"ticks\":\"\"}},\"type\":\"scatter\"}],\"scatter3d\":[{\"line\":{\"colorbar\":{\"outlinewidth\":0,\"ticks\":\"\"}},\"marker\":{\"colorbar\":{\"outlinewidth\":0,\"ticks\":\"\"}},\"type\":\"scatter3d\"}],\"scattercarpet\":[{\"marker\":{\"colorbar\":{\"outlinewidth\":0,\"ticks\":\"\"}},\"type\":\"scattercarpet\"}],\"scattergeo\":[{\"marker\":{\"colorbar\":{\"outlinewidth\":0,\"ticks\":\"\"}},\"type\":\"scattergeo\"}],\"scattergl\":[{\"marker\":{\"colorbar\":{\"outlinewidth\":0,\"ticks\":\"\"}},\"type\":\"scattergl\"}],\"scattermapbox\":[{\"marker\":{\"colorbar\":{\"outlinewidth\":0,\"ticks\":\"\"}},\"type\":\"scattermapbox\"}],\"scatterpolar\":[{\"marker\":{\"colorbar\":{\"outlinewidth\":0,\"ticks\":\"\"}},\"type\":\"scatterpolar\"}],\"scatterpolargl\":[{\"marker\":{\"colorbar\":{\"outlinewidth\":0,\"ticks\":\"\"}},\"type\":\"scatterpolargl\"}],\"scatterternary\":[{\"marker\":{\"colorbar\":{\"outlinewidth\":0,\"ticks\":\"\"}},\"type\":\"scatterternary\"}],\"surface\":[{\"colorbar\":{\"outlinewidth\":0,\"ticks\":\"\"},\"colorscale\":[[0.0,\"#0d0887\"],[0.1111111111111111,\"#46039f\"],[0.2222222222222222,\"#7201a8\"],[0.3333333333333333,\"#9c179e\"],[0.4444444444444444,\"#bd3786\"],[0.5555555555555556,\"#d8576b\"],[0.6666666666666666,\"#ed7953\"],[0.7777777777777778,\"#fb9f3a\"],[0.8888888888888888,\"#fdca26\"],[1.0,\"#f0f921\"]],\"type\":\"surface\"}],\"table\":[{\"cells\":{\"fill\":{\"color\":\"#EBF0F8\"},\"line\":{\"color\":\"white\"}},\"header\":{\"fill\":{\"color\":\"#C8D4E3\"},\"line\":{\"color\":\"white\"}},\"type\":\"table\"}]},\"layout\":{\"annotationdefaults\":{\"arrowcolor\":\"#2a3f5f\",\"arrowhead\":0,\"arrowwidth\":1},\"autotypenumbers\":\"strict\",\"coloraxis\":{\"colorbar\":{\"outlinewidth\":0,\"ticks\":\"\"}},\"colorscale\":{\"diverging\":[[0,\"#8e0152\"],[0.1,\"#c51b7d\"],[0.2,\"#de77ae\"],[0.3,\"#f1b6da\"],[0.4,\"#fde0ef\"],[0.5,\"#f7f7f7\"],[0.6,\"#e6f5d0\"],[0.7,\"#b8e186\"],[0.8,\"#7fbc41\"],[0.9,\"#4d9221\"],[1,\"#276419\"]],\"sequential\":[[0.0,\"#0d0887\"],[0.1111111111111111,\"#46039f\"],[0.2222222222222222,\"#7201a8\"],[0.3333333333333333,\"#9c179e\"],[0.4444444444444444,\"#bd3786\"],[0.5555555555555556,\"#d8576b\"],[0.6666666666666666,\"#ed7953\"],[0.7777777777777778,\"#fb9f3a\"],[0.8888888888888888,\"#fdca26\"],[1.0,\"#f0f921\"]],\"sequentialminus\":[[0.0,\"#0d0887\"],[0.1111111111111111,\"#46039f\"],[0.2222222222222222,\"#7201a8\"],[0.3333333333333333,\"#9c179e\"],[0.4444444444444444,\"#bd3786\"],[0.5555555555555556,\"#d8576b\"],[0.6666666666666666,\"#ed7953\"],[0.7777777777777778,\"#fb9f3a\"],[0.8888888888888888,\"#fdca26\"],[1.0,\"#f0f921\"]]},\"colorway\":[\"#636efa\",\"#EF553B\",\"#00cc96\",\"#ab63fa\",\"#FFA15A\",\"#19d3f3\",\"#FF6692\",\"#B6E880\",\"#FF97FF\",\"#FECB52\"],\"font\":{\"color\":\"#2a3f5f\"},\"geo\":{\"bgcolor\":\"white\",\"lakecolor\":\"white\",\"landcolor\":\"#E5ECF6\",\"showlakes\":true,\"showland\":true,\"subunitcolor\":\"white\"},\"hoverlabel\":{\"align\":\"left\"},\"hovermode\":\"closest\",\"mapbox\":{\"style\":\"light\"},\"paper_bgcolor\":\"white\",\"plot_bgcolor\":\"#E5ECF6\",\"polar\":{\"angularaxis\":{\"gridcolor\":\"white\",\"linecolor\":\"white\",\"ticks\":\"\"},\"bgcolor\":\"#E5ECF6\",\"radialaxis\":{\"gridcolor\":\"white\",\"linecolor\":\"white\",\"ticks\":\"\"}},\"scene\":{\"xaxis\":{\"backgroundcolor\":\"#E5ECF6\",\"gridcolor\":\"white\",\"gridwidth\":2,\"linecolor\":\"white\",\"showbackground\":true,\"ticks\":\"\",\"zerolinecolor\":\"white\"},\"yaxis\":{\"backgroundcolor\":\"#E5ECF6\",\"gridcolor\":\"white\",\"gridwidth\":2,\"linecolor\":\"white\",\"showbackground\":true,\"ticks\":\"\",\"zerolinecolor\":\"white\"},\"zaxis\":{\"backgroundcolor\":\"#E5ECF6\",\"gridcolor\":\"white\",\"gridwidth\":2,\"linecolor\":\"white\",\"showbackground\":true,\"ticks\":\"\",\"zerolinecolor\":\"white\"}},\"shapedefaults\":{\"line\":{\"color\":\"#2a3f5f\"}},\"ternary\":{\"aaxis\":{\"gridcolor\":\"white\",\"linecolor\":\"white\",\"ticks\":\"\"},\"baxis\":{\"gridcolor\":\"white\",\"linecolor\":\"white\",\"ticks\":\"\"},\"bgcolor\":\"#E5ECF6\",\"caxis\":{\"gridcolor\":\"white\",\"linecolor\":\"white\",\"ticks\":\"\"}},\"title\":{\"x\":0.05},\"xaxis\":{\"automargin\":true,\"gridcolor\":\"white\",\"linecolor\":\"white\",\"ticks\":\"\",\"title\":{\"standoff\":15},\"zerolinecolor\":\"white\",\"zerolinewidth\":2},\"yaxis\":{\"automargin\":true,\"gridcolor\":\"white\",\"linecolor\":\"white\",\"ticks\":\"\",\"title\":{\"standoff\":15},\"zerolinecolor\":\"white\",\"zerolinewidth\":2}}}},                        {\"responsive\": true}                    ).then(function(){\n",
       "                            \n",
       "var gd = document.getElementById('6f68a036-67a8-4b37-b9b9-72776f6ea1d6');\n",
       "var x = new MutationObserver(function (mutations, observer) {{\n",
       "        var display = window.getComputedStyle(gd).display;\n",
       "        if (!display || display === 'none') {{\n",
       "            console.log([gd, 'removed!']);\n",
       "            Plotly.purge(gd);\n",
       "            observer.disconnect();\n",
       "        }}\n",
       "}});\n",
       "\n",
       "// Listen for the removal of the full notebook cells\n",
       "var notebookContainer = gd.closest('#notebook-container');\n",
       "if (notebookContainer) {{\n",
       "    x.observe(notebookContainer, {childList: true});\n",
       "}}\n",
       "\n",
       "// Listen for the clearing of the current output cell\n",
       "var outputEl = gd.closest('.output');\n",
       "if (outputEl) {{\n",
       "    x.observe(outputEl, {childList: true});\n",
       "}}\n",
       "\n",
       "                        })                };                });            </script>        </div>"
      ]
     },
     "metadata": {},
     "output_type": "display_data"
    }
   ],
   "source": [
    "# filter the df to only capture Tweets from the start to end of the second peak in march 2022\n",
    "newdf = df[(df['created_at']>='2021-02-06') & (df['created_at']<='2021-02-10')]\n",
    "neg = newdf[newdf['sentiment_category']=='negative']\n",
    "neg = neg.groupby(['created_at'],as_index=False).count()\n",
    "pos = newdf[newdf['sentiment_category']=='positive']\n",
    "pos = pos.groupby(['created_at'],as_index=False).count()\n",
    "\n",
    "pos = pos[['created_at','tweet_id']]\n",
    "neg = neg[['created_at','tweet_id']]\n",
    "\n",
    "import plotly.graph_objs as go\n",
    "fig = go.Figure()\n",
    "for col in pos.columns:\n",
    "    fig.add_trace(go.Scatter(x=pos['created_at'], y=pos['tweet_id'],\n",
    "                             name = col,\n",
    "                             mode = 'markers+lines',\n",
    "                             line=dict(shape='linear'),\n",
    "                             connectgaps=True,\n",
    "                             line_color='green'\n",
    "                             )\n",
    "                 )\n",
    "for col in neg.columns:\n",
    "    fig.add_trace(go.Scatter(x=neg['created_at'], y=neg['tweet_id'],\n",
    "                             name = col,\n",
    "                             mode = 'markers+lines',\n",
    "                             line=dict(shape='linear'),\n",
    "                             connectgaps=True,\n",
    "                             line_color='red'\n",
    "                             )\n",
    "                 )\n",
    "fig.show()"
   ]
  },
  {
   "cell_type": "code",
   "execution_count": 77,
   "id": "af7659a4",
   "metadata": {},
   "outputs": [],
   "source": [
    "feb8_df = df[(df['created_at']>='2021-02-07') & (df['created_at']<='2021-02-09')]\n",
    "feb8_df_pos = feb8_df[feb8_df['sentiment_category']=='positive']\n",
    "feb8_df_neg = feb8_df[feb8_df['sentiment_category']=='negative']"
   ]
  },
  {
   "cell_type": "markdown",
   "id": "7fc8e90c",
   "metadata": {},
   "source": [
    "## Explore sentiment peaks\n",
    "Sentiment peaks found: Feb 8, 2021; Oct 4, 2021; Mar 28, 2022\n",
    "\n",
    "Events correlated with sentiment peaks:\n",
    "- Feb 8, 2021 : Super Bowl Sunday (https://www.foxsports.com/nfl/super-bowl)\n",
    "- Oct 4, 2021 : Facebook Outage (https://www.theverge.com/2021/10/4/22709654/instagram-facebook-outage-whatsapp-oculus)\n",
    "- Mar 28, 2022 : Oscars - Will Smith Slap (https://www.latimes.com/entertainment-arts/movies/story/2022-03-29/will-smith-slaps-chris-rock-at-oscars-2022-aftermath)"
   ]
  },
  {
   "cell_type": "code",
   "execution_count": 85,
   "id": "207a8861",
   "metadata": {},
   "outputs": [],
   "source": [
    "from wordcloud import WordCloud, STOPWORDS, ImageColorGenerator\n",
    "import numpy as np\n",
    "import matplotlib.pyplot as plt\n",
    "\n",
    "stopwords = set(STOPWORDS)\n",
    "stopwords.update([\"y'all\", \"s\", \"u\", \"y\", \"t\", \"y ' all\",\"FashionNova\", \"FashionNovaHelp\", \"Fashion nova\", \"Fashion Nova\", \"Fashion\", \"Nova\"])"
   ]
  },
  {
   "cell_type": "markdown",
   "id": "6fc22dd9",
   "metadata": {},
   "source": [
    "### Explore Feb 8, 2021 peak"
   ]
  },
  {
   "cell_type": "markdown",
   "id": "8ec9cee2",
   "metadata": {},
   "source": [
    "#### Positive"
   ]
  },
  {
   "cell_type": "code",
   "execution_count": 86,
   "id": "d9fc5135",
   "metadata": {},
   "outputs": [
    {
     "data": {
      "text/plain": [
       "'Nice !!! You and ur damn fashion nova my lady Which is your attitude , when you want your way ? 1 , 2 or 3 @ , I see why Name of this particular address ???? When I go to the site I want to get straight on it . Thank you ! an oversized tee is always a great idea You are trying to seem like you \\' re educated { comma } but your grammar is atrocious you sound like someone with a third grade education you don \\' t put at the end of your only someone with a lack of education does that you are so ghetto That team you have like you just up a bunch of your home and and told them let \\' s do a show , none of them are educated and they are just making you look like a total incompetent real talk I will All night and a new wig . Like ( pronounced ‘ mischief ’) is an creative collective known for its viral . This time , the collective you to become an anti - influencer by like , and . 🤳 DAMN these ! I am broke man leave me alone let me place this last order though Take my card 🥴 I went crazy today My roommate is the !!! Shout out to she my gift !! My favorite bikini ❄️ just make it happen she \\' d love that 2021 be like : \" God woman . Mother of 12 . Entrepreneur / Brand Ambassador for No . Link on . no wonder single ?! 🤣 When that Fashion Nova fit ! fashion style Over here in my feeling cute , comfy and warm ! me twice for a purchase of about $ 200 and these been with my refund . ITS BEEN TWO , GIVE ME MY MONEY !!! Not a bad way to go my goddess . I am glad u accepted your fate Ladies , just a up that is 50 % off everything today . WORD ...? Party ...? In a panoramic ?? . Nova what are you bout ? And i ❤️ u I can \\' t wait ! Giveaway and the  Both !!  I wish I may , I wish I might !! ❤️ It will be a miracle to win something from my brand please please pick me Y ’ all ! I literally spent all last trying !! This is my year !! Please fashion nova the super bowl is on Please please it will be a miracle to win something from my brand it is my birthday next week Please please please Thank u  Thanks Ai not it though ! But we ( my town ! ) have TWO tonight !! PICK . ME I am for both and Love both . I think will win . ❤️ & 1 . The Weekend 2 . The Routing for City . They \\' re win !  [ Hi , HELP ME , TO START : MY COMPANY . ILL TRY TO HELP IN INCOME % WHEN MY ARE ON , I DESIGN : , , , SPORTS , , , , , , , MEDIA , MARKETING ! TELL / / / / ! ] Pick ME !!! My !!!!!! Yes please SCORE UR ENTIRE CART ? We are a $ 500 during the 1st QUARTER ! 1 . Follow 2 . LIKE & This Post 3 . Post a of your in the w / & GOOD LUCK & STAY TUNED Definitely ready !!! I just need some jeans . Size 11 . My ass need more space cause yeah . 🤧 Let is do it Ready !! 🥰 Let \\' s goo !!! I need everything Thank u I will pay for the covered . I need some more clothes I already bought something for the wife today . 🤦\\u200d♂️ I did :) it is getting full !!!! 🤞🤞🤞🤞🤞 these !!! his new song Blinding Blinding !!! Bright 🤩🤩 Blinding remix Blinding Thanks boo A girl is going to have a bless the Star Boy and Blinding . Blinding !!! & Something for my sister , me , , s / o ! This is my song of his ! He will not perform it though I do not think :( I would love to hear more of his stuff from trilogy but I doubt he will play much of his old stuff y ’ all said $ 500 so go big or go home Save Your or Call Out My Name please pick me \\u200d♀️\\u200d♀️\\u200d♀️\\u200d♀️\\u200d♀️ Blinding save your Ready !! Blinding Next Week let is go 9 : 30 seen that one right away !!!! it Hope I am lucky tonight 🤞🤞 hopefully i get blessed with something I \\' been needing some new 🥺🤍 Living for during between 10 & 11 Hopeful it would make my birthday which to be tomorrow 🥺🥺🤞🤞🤞 Bus n yeah let is go crossed .. still shopping and cart more .. wow !!! Sexy ass Y ’ all tweet so fast Love !!! I love Fashion Nova . Shopping always at Fashion Nova !!!!!! In her latest video , is wearing the Romper in Red from ( out of stock ). 10 🤦\\u200d♀️ ! I am so jelly to them 🥳 My twin thanks to 🤎 !! and BLINDING , SAVE YOUR  Hell yea Yes please All of it and Because your jeans are the only jeans I will wear !! 🥰 Of course !! The best !!  please i need new clothes is with me today it !! last one I just my point to be clear !.. ALL from : This is my JAM and \\' over here ! Queen B without a doubt The show not good at all . I know its lit when hubby the out during nursery rhyme time spend money to make money DARLING Oh , He rich rich 🤑 Still Not watching Yes please !!! ! Now I am a The Weekend fan ! Delicious !!! when ?? * me patiently waiting for another giveaway cause I late * Please please can I please win y ’ all giveaway for my birthday gift please Let \\' s go Prince He should have saved it . Who else ??? Nauseous . good but the motion and stuff made me sick Thanks for the chance ! & Must thanks to the & Thanks for the opportunity . Some for me , my sis , and s / o :)  exactly ! Love is in the air ... and it like coffee ...☕ . The perfect Coffee Date Outfit ! Sweater and Heart Hat . Pink bell . Distracted Coffee date Finger crossed needing some clothes I have been living in my Part of my shopping cart w / fashion nova . and pick me  I love !!!! I could get much with that amount ! please help a girl out Disappointed 🤞 🤞 Pick me ... pick me ... I love everything !! Really disappointed w / the half time show CROSSING MY 🥺🥺🥺 The giveaway my heart at the moment 🥴 and his beloved But what is good with the gift Yeah the game is over ... but the good and made it worth it * Quickly to cart * Almost 750 !!!! 250 to go !!!! * Quickly to cart * & i am ready me everything to my cart Go ! I have been of finally from Fashion Nova so this would be AMAZING to win . Good Luck Everyone I \\' m keeping my Here is some of what in my cart in my face once again and gave me a discount code that I wont be ... Its Cs225 if anybody it really trying to change people \\' s 2021 with these huh 🤩 Why ? Just a question because I do not know ... other artist spent money in the past ? Love ❤️❤️❤️ clothes and . This would be the best gift on a Super Bowl 🤎🤎. I have been working so much all week 🥺🥺🥺. Please notice me and my . Please pick , I am like y ’ all is 1 they been losing my other from and other 8 : 30pm my time ☺️ yes we do please i am turning 20 in a couple 🤍 Yes please Yes we do Yes Please 🤞🤞🤞 I mean I would spend it with y ’ all so sure 🤷\\u200d♀️ do you even have to ask ?  !!! Please just buy my cart it is under $ 500 🤣 it is already filled Yep yep . Send it over !  already filled Who \\' t I do ! Please and thank you ! & , but where my Um yes $ Yeth Yes we do This is so awesome ! Yes please ! Was ??? yes yes yes Oh yes !! I would love to but I never win anything . crossed Could not forget my baby girl !!!! She needs to match mommy ❤️ Loving it !! SCORE UR ENTIRE CART ? We are a $ 1000 during the 1st QUARTER ! 1 . Follow 2 . LIKE & This Post 3 . Post a of your in the w / & GOOD LUCK & STAY TUNED score $ 750 Does a dog want a bone ? IN THIS ECONOMY ? before and after ! this little girl taking all my money Heck yes ! $ 1000 would pay ! & GOOD LUCK to me : Me : \\u200d♀️ ☘️ , this would be a DREAM COME TRUE and thanks for making this fun ! I will be making a purchase after the game ! ❤️ 🥺🥺🥺 + Trying my luck for my wife who is with fashion nova . sure her cart is already full 🤞 yes ??? Thank you for all of the discount ! You really do hook up ! I \\' m still waiting on a refund please please please !!!!!!!!!!!!! Nova bowl Myself and my Daughter :) I mean .... Yes ? lovely ! Must be an amazing feeling ♥️ So many cute jeans and !!!! & You girl is coming up few and this would be an early present Sure do , when are you sending it ? LEAVE ME ALONE I it was 1k and added more ! My daughter and myself . :) .... where the clothes ? get my daughter new for her next home - her teacher said she got All As and She A LEADER in all her classes I could really use this , just had a baby and weight , would love to update my wardrobe Whoop whoop Ready .... This would be amazing !!! Please pick me ! I have been wanting to get new to audition for and singing ! I am READY !!! stop me i get it y ’ all got a sale Who \\' t ? This is such an AMAZING Giveaway . It would absolutely make my year if I won this Giveaway Thank you much It won \\' t let me apply the coupon code if I add anything else to my cart :( clothes / for me , clothes for my husband , & clothes for my son Good Luck Everyone ! This Giveaway is AMAZING Thank you much for doing this Giveaway I forgot the : 3 ! \\' t give anything away , they don \\' t even refund money for NEVER SENDING .. they definitely steal from ( I know they \\' stolen way over $ 1000 from me ).. guarantee , is give the money to themselves loll Pick me I had to repost this like 3x cause my dense self could not remember to add Well . Yes ! 9 here in City freezing my ass off 🥶 but is a 1 day sale so I will not be totally disappointed today This will make my day 🥺🤞🤞 would love to share this with my Yes thank you not knowing what to choose but did my best add to cart please and thank you ! 🥰 Thick and sexy baby , Cant wait to use this code Trying to for 15 now . . Oh please dude i did not read the last part and i sent this to my man  Grown @ , On it ✅ Agree I NEED IT a great sale going on . Go shop ladies  🥳🥳 ! Best commercial ! Absolutely !!! Why is the not working and everything I have is full priced please \\u200d♀️\\u200d♀️\\u200d♀️\\u200d♀️\\u200d♀️\\u200d♀️🥺 I DONT WANT TO BUY TODAY ! ready to send out that Bay 50 % off code yea ? No my is 🥴🥴 do not waste no time ! NONE ! I model for 🥺 That would be a huge blessing My friend still not received a refund from you and she is made multiple and tried to call THE BABY Yes it would help me get through another semester of college is not taking no for an answer how much did ya pay this person < don \\' t >? And when u give me some money \\' s to do a crazy job ? Do you know how long it would take me to fill $ 1000 cart I \\' t ever THOUGHT about on that much Yes indeed Very much yes . Yes please can you please make this dress . Pretty please I sure do ! < 3 Yeah yes hoe Yes !!! Yes I also want my refund Who would not ? :) they wit me like they my or sum I don \\' t want it but i may need it now I am pretty sure they never gave anybody the Ps5 or also I . . More from my Old LA Zoo shoot ! I this outfit ! . . . photography ... and more clothes 🤩 I am yes how YES AND Yes please It \\' s been a rough year ! Hell yeah CAN WE HAVE A BIG YES ? Good look ! Beauty is not in the perfection , rather it is the perfection in the . Hell yeah I do ! I \\' been wanting to place my first order from you but this pandemic my money shut down ! Absolutely ! CUSTOMER SERVICE IS HORRIBLE , I have been calling for over a week and NO RESPONSE Yes please so I can shop my ass off At off One word to describe this ... Is not this set so cute ! 🥰 Need to start taking more to brand myself .. keep my hair and done .. I want to be apart of , .. some of my Manifest Yes it so cute I hope you have good day ! ☺️ My baby still FINE \\' s account is temporarily unavailable because it the Twitter Media Policy . Learn more . PLEASE I NEED SOME CLOTHES I HAVE NOTHING !!!! I ordered my stuff from yesterday and it shipped out today that is what i am talking about . now all my better be right Thanks sir awesomeness stop my phone . I am broke . Damn . have the worst costumer service in the ! To get my car back from someone who stole it and will not bring it back Your skin is beautiful . I wish I had clear skin . Repost from repost now - I put you in a Win Win situation and you still LOST 🥴 ✨ Fit ( use my discount code for 10 % OFF ) ✨ Purse ( at , )... Who this I can not stop shopping !! I have an addiction anyways the stuff I have gotten from & is just to good Faith hire me as a stylist 🥺 these are together on these do not look good ! I \\' made 10 in the last 2 ... I need I am with Straight gorgeous Happy ! I am wearing the ‘ Butterfly Haven Bandeau Top ’ 🦋 @ Las , BETTER NOT SEND ME NO MORE Cat fur forever on my clothes sweater ! @ , Da GHETTO BAD 🤑 Outfit : : Wig Build / Install : explore boss hustle repost subscribe Check ur on :) is literally when trying to track a lost package or even get a refund . Thanks for the help your customer service . Change of , I am not fair \\u200d♀️ - Dress ( ) ( ) ✨ All Me ♾ All the Time ✨ Unedited : : Outfit : @ , How long does the extended sale last ? Y \\' all please don \\' t send me no more 40 - 80 % .. I \\' m so tired of y \\' all taking my money with all this cute !!! Yes please please ! I just ordered super cute jeans off of and they better fit . Can you do another giveaway ?🥺 On god , you look good !!!! Nobody : 11 yr old niece : they be on w | no fashion ! must do not want my can I get help with an order ? No one to my . Got my order and y ’ all sent me the wrong item and just checked the for the right one and now it is sold out .. I will need a refund . please check ! You so sexy ma 🥰 What I do ? 🤔 • Swimsuit @ Beach  what “ i am just be in my room ” :)) Sure Exotic 🦹 Not me Chile my birthday is and I am suppose to wear this dress for and it came looking like this 🥴🥴🥴🥴 follow me on : Whenever a 50 % off sale , I am like , “ , just take my whole .” !!!!!  always through with that cute but comfy for work Love me some !!❤❤ Sweet .. The latest The Daily ! Thanks to love happy was supposed to deliver my package on the 6th , on the 6th my package was in jersey , TODAY there are no .... Model dress from beauty whitewall redhead hi I for express shipping on and my parcel not been picked up yet ? I extra and because I this for and was on your . have said you have not even instructed them to collect it yet ?? it is so sexy Who won ? Hey There , We \\' re sorry for the issue you \\' re ! If you would like to reach us by phone , please contact our Customer Care department at : 1 - 800 - 866 - 0286 . Thanks for your patience . Talk to me nice or do not talk at all ! em Confused 🧐 Do not do it your me I was literally out and the discount . please is a complete joke . should revamp these for the men collection ::: MOTIVATION :::☀️✨ She !!! Gown Photographer Fashion Style Same . No reason not to ♥️♥️♥️\\u200d♀️\\u200d♀️ legit the worst customer service EVER !!! After everything I have I will never spend my $$ with them again this fit was from too What \\' s the lipstick , you look mind blowing . ! why y ’ all never restock that sell out ?? Fashion nova is hanging up on us All I ask is will I receive my order I ordered it in time for next day it said I would receive my order today it not shipped I understand you are busy but up There is not any ??? help Order68439777 Does the come with the suit or do we have to buy it separately ? where is my order ⛳️ The cart girl just up , what are you for ? how cute is this outfit from I know I am late to the game ..... but damn these active are amazing 🤤 did they respond to you ? how you me yesterday to tell me my order is ready to ship you ai not shipped it yet ?'"
      ]
     },
     "execution_count": 86,
     "metadata": {},
     "output_type": "execute_result"
    }
   ],
   "source": [
    "text = feb8_df_pos['tweet_clean'].str.cat(sep=' ')\n",
    "text"
   ]
  },
  {
   "cell_type": "code",
   "execution_count": 87,
   "id": "dd00f643",
   "metadata": {},
   "outputs": [
    {
     "data": {
      "image/png": "[encoded data removed]",
      "text/plain": [
       "<Figure size 432x288 with 1 Axes>"
      ]
     },
     "metadata": {
      "needs_background": "light"
     },
     "output_type": "display_data"
    }
   ],
   "source": [
    "wordcloud = WordCloud(max_font_size=50, max_words=50, background_color=\"white\", stopwords=stopwords).generate(str(text))\n",
    "plt.figure()\n",
    "plt.imshow(wordcloud, interpolation=\"bilinear\")\n",
    "plt.axis(\"off\")\n",
    "plt.show()"
   ]
  },
  {
   "cell_type": "markdown",
   "id": "b87cddd7",
   "metadata": {},
   "source": [
    "#### Negative"
   ]
  },
  {
   "cell_type": "code",
   "execution_count": 88,
   "id": "e81f6e9d",
   "metadata": {},
   "outputs": [
    {
     "data": {
      "text/plain": [
       "'is becoming more and more of a disappointment . I just want to say that looking at your show you look like a damn fool . You \\' re ignorant , your crew is ignorant , you are on national television in the midst of you need to stop it you look like a damn fool where my package hoe these are all beautiful and accentuate her body so well !! Man chill 50 % off ???🥺 Thank you I think I \\' m in love 🥰 for sure City Baby !!! Knock knock Never to late for the party . Gorgeous Save Your , Blinding , Star Boy 5 o \\' clock  it needs to be PERFECT ITS THE better under than over right ? this needs a jean upgrade something fierce & Huh ? $ 7 mill on what ? Somebody walking around $ 6 , 999 , 999 in their pocket 🤷\\u200d♀️ Please please please make my come true As a fan this game ai not it I saw laura wearing it & now i need it 🥺 birthday in a few 🥰 Me \\u200d♀️\\u200d♀️ Love ❤️ clothing and . This would be so amazing to have . I have had such a busy week 🥺🥺🥺. I have so many already in my list so that 🥰 : giveaway Me : \\u200d♀️ ☘️ Yes always \\u200d♀️ Yes Shopping spree ! Yes Hell yeah i want you to pick ME Just and my closet could use some ! This is my highlight of the night ! Yes Yes ME Of course , but to pay and buy food .  Yes , and ill spend every penny on your 🥴🥴🥴 ready Would be nice to have . After losing over 100 I could definitely use a new wardrobe Do really give away anything or do you only do this to get people to & follow Yes I do . My credit score will go up 🥺🥺 Yes girl I \\' m homeless Pretty please I am feeling pink so everything in my cart is pink  & Thank you so much ❤ we need \\u200d♀️ ALL JEANS because your jeans and the only jeans I will wear I want to get all of these for my girl ! Please ! This would be the best birthday gift ever !! please let me win Yes Would I actually get it , tho ? 🤪 I never win .  i am so confused yeah but hey maybe next year 🥴 The are not working !!! Of course Valentine is Day out 🤍🤍 Thanks does this mean we get some clothing ?? The are not working Yes nova babe Damn aint more of , need it heck yes ! Hey Beautiful , I love hanging out with you . 🥰 . . Bra Suit @ South yes please ! How you feel , after going his phone 🥴🥴 My cart is ready \\u200d♀️ yes 1000 % yes . It would truly help tremendously Free $ 100 Fashion Nova Gift Card Code Just Click Here -> Follow Step By Step & Enjoy $ 100 Quote Tweet It is jelly not jam swimsuit black mesh togs @ , New South You your number 1 customer in here < 3 Yes please Of course Who \\' t She all around awesome Hi beautiful lady I am still waiting for a response on my order that was sent 3 mo ago with 80 % defective Just feel .. Just you ... Yes I need new jeans tuned like Remove the tattoo off ya head please Your will be so 🤨 Free free free !!!!!! Get win a 200 $ gift card for free ... Only for , , Canada , & just enjoy hope you like it Click here : Heck ’ on yeah !!! I am still sitting with $ 1000 in my cart . hi can I be a partner 🤓 getting all my money is 🥰🥰 I mean it is cute at least Sure why not ! Your customer service is awful . I bought from your twice and had BOTH times . Each time , customer service was of no help whatsoever !! During this time ?! YES PLEASE 🥺🥺🥺🥺🥺❤️❤️❤️❤️❤️ Trying not to get on for this 50 % off sale but I am fold 🤦\\u200d♀️ Why would I not . You \\' re sexy and you look stunning Hope my clothes arrive before I leave on my What do we have to do to get it ? Girl i no what u mean That is so cute . That would look go for a back to school out . I be like \" Miss me \". I love it'"
      ]
     },
     "execution_count": 88,
     "metadata": {},
     "output_type": "execute_result"
    }
   ],
   "source": [
    "text = feb8_df_neg['tweet_clean'].str.cat(sep=' ')\n",
    "text"
   ]
  },
  {
   "cell_type": "code",
   "execution_count": 89,
   "id": "96ddeb8b",
   "metadata": {},
   "outputs": [
    {
     "data": {
      "image/png": "[encoded data removed]",
      "text/plain": [
       "<Figure size 432x288 with 1 Axes>"
      ]
     },
     "metadata": {
      "needs_background": "light"
     },
     "output_type": "display_data"
    }
   ],
   "source": [
    "wordcloud = WordCloud(max_font_size=50, max_words=50, background_color=\"white\", stopwords=stopwords).generate(str(text))\n",
    "plt.figure()\n",
    "plt.imshow(wordcloud, interpolation=\"bilinear\")\n",
    "plt.axis(\"off\")\n",
    "plt.show()"
   ]
  },
  {
   "cell_type": "markdown",
   "id": "cd22d764",
   "metadata": {},
   "source": [
    "### Explore Oct 4, 2021 peak"
   ]
  },
  {
   "cell_type": "markdown",
   "id": "5cb88a94",
   "metadata": {},
   "source": [
    "#### Positive"
   ]
  },
  {
   "cell_type": "code",
   "execution_count": 90,
   "id": "faf20f26",
   "metadata": {},
   "outputs": [
    {
     "name": "stdout",
     "output_type": "stream",
     "text": [
      "Am I ? Wow you look great my dear . Is it a V shape hair style ? You have prefect length for it . How do you deal with boredom in this quarantine ? i need a piece of advice Hello , chat ? people are getting breast .. cut it with the childish boob sizes 🤞 Damn girl so sexy So sexy please help ?!? My order should of come today ?!? How are you beautiful Ordered my baby shower dress from this express shipping better work y ’ all customer support line trash my order got the wrong state on it and it is no where to reach anybody or anything so crazy when you spend so much money you would think actual people would be helping you not a with automatic help How can i get in touch ?? I been reaching out & nobody . literally gotten one response Make a rip - off version 🤣 definitely gone @ until they message me back Did you try writing When I had a problem with mine it took them a day to write me back & fix mine catch them before they send it out . i ordered two days ago i hope they write me back i need them clothes thank u 🤍🤍🤍 I am just saying always coming in clutch with the clothes , bathing ! ☀️ Definitely saving this one for next year Not sure what V shape is , but this is just how my hair naturally . Thank you !! why do not u give people their money back after confirming you received $ 150 worth of clothes back ?? 19 … NO MONEY BACK black ruffle dress ! Cute & Comfortable . See ! really be lying about they shopping days I am Where are my ?! Got my ! Too excited , I ' m be looking cute at my son ' s Football game this weekend Send it back for a replacement . It like the the garter in the wrong place Dress by it run a big sale for us Go on Twitter The world will be a better place if it stays down . It is literally non existent WILD WEST HUH WELL MAY BE NEED TO TAME U Call my Go add stuff to my cart on The coolness is over 9000 ! He saying I fell off but could not get on to begin with 🥴 Dress : The code is saying 15 % but not giving me 15 % off , it is less that 10 % Best of luck Oh hello The Customer service at Fashion Nova is A1 . I extra for rush delivery and literally my package was shipped 3 after paying for my Order . I legit ordered over $ 600 worth of stuff Since to act up ! I will post this gem on here first ✨ How are you so gorgeous in EVERYTHING you wear ?? Why have not my order been shipped yet ? I ordered rush ?? Fashion Nova said down but y ’ all can still catch this sale alright better have a huge sale “ coming back sale ” give away some to a loyal customer and text marketing on BLAST I Returned 2 That To Y ’ all Facility August 6th And I Have Yet To Receive My E Gift Card ! Where is My Credit ? do not miss oh 🥰 pick me for a brand ambassador , My whole entire wardrobe is 🥰🥰 Even if its free clothes . I ' m cool with it . My why do y ’ all do this You bitch you but does N O T play 🤣 stays on it !  , who is the of Marketing at because this is getting out of hand is chaotic the marketing for is great Mane so quick with it … said down the only thing up is our site Marketing Team Be On It 🤣❤️ never , thanks for the text that is down , shall I go to your ? Is Quick That is How You Market Your Business ‼️ wasted no time Fashion nova is petty . They have a sale for EVERYTHING 🤣. From “ Stimulus sale ” to “ down sale ” Why are y ’ all like this ? whoever is on the marketing / team needs a raise immediately marketing team is on top of it , give ‘ em a raise ! Now y ’ all have to be stopped . PLEASE ! going to get their regardless … GO SHOP THEIR MERCH !!!! - One Thing About They Get Their ‼️  does not waste time fast marketing team is top tier Pray the me with a gift card to go shopping please must be loving this social media crash . Now everyone so their shopping . That goes for too !!!!! no chill “ have some sympathy , I just lost the love of my life ”. know they be on it not and poking fun too 🤣 never The devil works hard but works harder This is not the time never to come through with a discount for EVERY occasion . No One : Fashion Nova : Down !!! Only Thing Working Right Now Is Our !! could not wait … we are not dark so toxic really just be on top of it do not miss a beat The devil works hard but works harder sis what is this 🤣🤣🤣🤣🤣🤣🤣🤣🤣🤣 do not be 🤣🤣 they do not miss a beat Chile Just Snapped y ’ all need to be stopped Hey haven ' t from you in awhile . remember me ? What post is you stuck on ? just buy this set Never Chilling leave it to to find any opportunity to mention their sale God works hard but works harder Who works harder than the marketing team ? marketing team do not play ! literally never 🤣🤣🤣🤣 with the marketing plan 🤣🤣🤣 they never miss a beat . my order !! ' s account is temporarily unavailable because it the Twitter Media Policy . Learn more . Once again ! the pettiness award ! 🤣 “ Fashion Nova : ⚠️ Down !!! Only Thing Working Right Now Is Our ... GO GO GO ‼️ 30 - 70 % OFF Code ! → was not you buy something The jewelry people hit me wit the same Not me to shop on their because down . I just bought 4 pair of pants anyways . TO QUICK HELP Now why the hell did message me about some damn is down but our not you right fill up my cart 🥰 If does nothing else , they gone come quick with the marketing They just in time 🤣🤣 now is not the time It is taking advantage of “ down time ” we have for me 🤣 Leave it to to send this out is a ! Talking about is down but our is up . They ate that ‼️ Not with the marketing text It is Genius .. ai not got else to do but spend money wasted no time 🤣❤️ Oh wow and are down , look who is still working 🤣🤣 this better and better girl stop my phone ! Whoever is on team does not miss . Literally . Now do not text , , or me again unless y ’ all got a 99 % off code . 🤣 does not miss a beat with these we need 80 percent off it is been a day Nobody : down but we are still up 30 - 70 % off ! we are sad ! Have some respect ! y ’ all funny as hell for this down too the be reading y ’ all . But y ’ all marketing ai not nothing to play with . The devil works hard but works harder 🥴 PETTY ☠️☠️ please , we are in the middle of a crisis ! know they do not miss a beat does not waste ! 🤣 They have a sale for everything ! gone market to a at all times 🤣🤣🤣 Fashion Nova dont miss like we are ! Not worried about clothes do not miss a beat You appreciate their drive though with the quickness they do not miss a beat ! …. This is not the time to send out give it a rest Fashion Nova always shooting their shot ! tho on something else 🤣☠️ Now we are in distress right now . Leave us alone not that y ’ all sent me a text down 🤣‼️ !! Now is not the time Why y ’ all coming to Twitter still working head over there never an opportunity This ai not the time to be making shady but fill my cart up GET look at 🤣🤣🤣 TOO FUNNY The devil works hard but works harder Whose on marketing team ? They do not miss an opportunity to capitalize , I swear wasted no time DON ’ T MISS 🤣‼️ let you know they still up If there is one thing is do , it is capitalize off of a situation . talking bout down but our still up 🤣 whoever on they promotional team need a raise cause they don ' t miss  Not trying to lure every drag queen to their site knowing is down If one thing gone do they gone market off everything Hey ugly , I never got a text . What is that about ? with the down got it talking about “ down , only thing working is our site 30 - 70 % off “ BYE do not play no Who is responsible for the text I just got from if they do not do NOTHING they go take advantage It is marketing team for me Even what is up relax with the text Marketing team just woke up Cash in 🤣🤣🤣 : with the down got it Yes please ! ai not wasting NO time 🤣🤣 they said the are due NOW not y ’ all funny Yo really ?? 🤣🤣 ai not Do not NOBODY move faster than ai not taking no L is with being down crossed 🤞🧿🤍 y ’ all funny 🤷‍♂️ said don ' t let the outage get you down , go to the site Whew i hope i win i need some new Call me a marketing , but I love how all these other are sending to increase their engagement while is down well & have a good night Would love , to win !! I WANT TO WIN I ALWAYS BUY CLOTHES FROM FASHION NOVA Done Y ’ all got me with this one Now that is hot really out here making a point you can still get those killer with or without y ’ all crazy as hell the devil works hard but works harder be on it they 🤣🤣 have a good night Not Fashion Nova tho they gon get the bag regardless 🤣🤣 Yuh add me to the list of out here trying to get me to spend money ya be thirsty at “ down ” sale they so funny this ✨ out here & is shut down for . I LOVE IT The devil works hard but works harder me screaming TOP TIER MARKETING AWARD GOES TO 🤣🤣🤣🤣🤣 marketing gon take every opportunity understood the assignment  really went there One thing about they are going to monetize off a situation … boom here is a discount code thank . God for with the coupon code i really to buy something the other day . i some coupon & none of them worked . really do not waste any time is quick with it 🤣 They always on they bully 🤣🤣🤣🤣 got a sale for everything Now y ’ all dead wrong & petty for this now God works hard but works harder marketing is A1 . you full of this ai not the time y ’ all annoying as hell You can always count on marketing team Y ’ all do not play 🤣 I love it .. let me go get my purse One thing about it is going to use every opportunity to have a sale . is the people ever not a single cadence One thing going to do is use EVERYTHING for a purpose do not miss a damn beat 🤣🤣🤣 NO CHILL always the moment to put out a sale or .. related to what is going on in the world Not get their coin by any necessary marketing be on point Meanwhile no time 🤣 respect great marketing rest it is if do not do nothing else they gon send you a text and give you a discount whatever occasion . offering a sale cause down  BITCH !! do not miss a beat 🤣🤣🤣 get off my damn line Nasty behavior do not miss a beat the devil works hard but works harder Fashion Nova DONT MISS A BEAT !!!! They text and said is down but we NOT , SHOP SHOP SHOP Swear ! the devil works hard but works harder marketing is hilarious Why not nothing else to do 🤣🤣 Who is your marketing team quick to jump on every opportunity I know lying 🤣🤣 Y ’ all know do not ever miss out on an opportunity to pull your attention over with a sale Here comes me with they . They use every opportunity for a sale . never an opportunity not , y ’ all better Go Go y ’ all hell will hold a damn apocalypse sale when the world I swear One thing about they gone promote they no what I need . I got wrong sizes in my last haul I bought . text are undefeated now !! Nobody : ⚠️ Down !!! Only Thing Working Right Now Is Our ... GO GO GO ‼️ 30 - 70 % OFF Code ! → No you are pocket for this Just love marketing ! is so damn funny they be so quick but I for sure went shopping today if was TRULY about that life , they would be selling the Squid Game green One thing about 1 . They gone get the Not . Not . No the did not Hope it is me The devil works hard but is marketing team works harder Oh needs some new clothes Nobody works harder than use ANYTHING to sell clothes ! Look at this text I just got from them Literally . said “ the only thing working right now is our ” 🤣 Yes me ☺️☺️ .. I ai not just cause down do not mean nun y ’ all have NO CHILL ! One thing about , they never miss an opportunity 🤓 You love y ’ all shout out know they petty cause what is Man is funny 🤣🤣 Yes !!! let us know Yes y ’ all are hilarious Let is I am never mad , . play entirely too much . Talking about “ is down the only thing working is our so go shop ”! Not takin full advantage of this marketing & Not today I just lost the love of my life 🥲🥺 sis I just need Marketing department to give a worship on marketing cause …… HONEY . They are immaculate ! Give me I know it is been so long since I have I just normally lurk my and get off y ’ all do not count your days Fashion Nova marketing team remains undefeated !!! if “ I am taking advantage of every opportunity to get this money ” was a person  marking team is undefeated ❤️ had some sexy I got mine from fashion nova too They so annoying 🤣 The Devil works hard , but >>>> Y ’ all waste no time 🤣🤣🤣 Y ’ all are sick 🤣 Man y ’ all funny They do not miss a BEAT you hear me !! is so quick with it Yes please ❤️ is the prime example of and PETTY . You are no good for me .  How awesome They quick Anyone got that text from marketing team needs an award . They be on it Thanks for the chance this would be awesome G gone market off EVERYTHING ... do you hear me 70 % off you say Why is built different You know what One thing about , they gon send you about real quick not even gon hold you I am see what is to the message 🧎‍♀️ Aye now is not the time for ur is r e l e n t l e s s up on a DIME 🤣🤣 Yes nova ❤️ never see an opportunity & take advantage every time y ’ all funny as hell 🤣 but I support the business move . You get it how you can Who is on the team ?🤣 Give them a raise .  Said “ The Only Thing Working Is Our ” 🤣 I am Crine ! The devil works hard but works harder Like they could wait to send this out Wait I it go join the does not play !!!🤣🤣🤣🤣🤣🤣 y ’ all hell for this I know that is right  Damn ai not waste no time with these huh ? I am dead get them you all are a mess ! twitter an opportunist do not miss a beat 🤣 annoying gone text me “ Down !!! Only Thing Working Right Now Is Our ” Yes let it be me please need that new new no time 🤣🤣🤣 They running out !! Not sending me text talking about is down what a time to shop y ’ all better go on 🤣 This is amazing ! 🤩 Yes please ! I spend so much on clothes it would be nice to buy some with your gift card . Hubby put me on a budget Then it is with the ghetto 🥴 Y ’ all ghetto as hell Not as a I said now they wild when 3 days of bass music is not enough There goes with the outage ! 🤣🤦‍♀️ is hilarious It is for me talking about since their is the only thing working30 - 70 % off Not telling me down . They waste NO time Whew does not rest . NO TIME !!! do not miss 🤣 Here come anything for marketing talking about “ DOWN !! Only thing working is they ” like fine is undefeated with the 🤣🤣🤣 & here comes : “⚠️ Down !!! Only Thing Working Right Now Is Our ” man I am depressed I would not be too far behind with their text ! ! I was !!!! So Sexy taking full advantage of being down . it is the opportunity for me do not you start ! some “ Fashion Nova : ⚠️ Down !!! Only Thing Working Right Now Is Our ... GO GO GO ‼️ 30 - 70 % OFF Code !” One thing about they gone send out a blast saying what is on sale in crisis talking bout some Fashion Nova : ⚠️ Down !!! Only Thing Working Right Now Is Our ... GO GO GO ‼️ 30 - 70 % OFF Code ! Really Never It ' s An and they talking bout our site is working Savage 🤣 Not sending text to go shopping cause down . I ' m done 🤣🤣🤣 is I almost they ass back When will you let us rest ? be on it always coming with a sale . The marketing team is one of the best . Can y ’ all do a 50 % off sale ??????? Not right now y ’ all so damn ghetto 🤣 ion have no damn money ! stop me . Never ! I just got this text too Why text be messy 🤣🤣🤣 Mad fast marketing department does not rest 🤣 Not with the down text message sale are out 🤣🤣 their team is air tight I I knew this shutdown would bless me with something is down and is working harder than anyone petty 🤣🤣🤣 One thing is sure . is get that text out WITH the link . Might as well shop If nobody else gone get to they and sell they stuff They never miss a time to advertise could not help huh WASTED NO TIME 🤣 Here go 🤦‍♀️ no time 🤣🤣 It is with the discount code since down for me . !!! Toxic ! One damn for certain gone throw a sale !!!!! y ’ all are HILARIOUS : I better win this giveaway If dont crossing my for some positive ✨🤑🤑 say their up y ’ all be on ya A game at all times always on it the devil works hard , but works harder When I say does not skip a beat It is “⚠️ Down !!” and something about 30 - 70 % off Not catching cruise love the The funky ass love trying to have a sale ! y ’ all ai not right Nobody : : at least something good is coming from today 🤦 Y ’ all get on my 🤣🤣🤣🤦‍♀️ always coming through no matter what is happening My girl is this what it is come to ? 🤣 The devil works hard but works harder . WHAT IS said a global outage , come spend ya while you can 🤣🤣🤣🤣🤣🤣🤣🤣🤣 I have been waiting 4 to get a response from you . I never received my package even though it said . And the company you use said they do not know where they it to . But I still have not gotten my $ 200 from anyone . Not fair at all .. If one thing gone do it is get a bag y ’ all text be crazy petty is hell 🤣🤣🤣🤣 be stopped y ’ all get on my  Not now I am grieving 🤣 Done 🥰 needs to stop be on it y ’ all are funny is petty 🤣🤣 dont miss a beat The devil works hard but works HARDER ! Fashion Nova wasted NO TIME is UP !! ⚠️ GO SHOP NOW ⚠️🤣  Here go one thing about , they gon get in where they fit in 🤣 sent this to my sister they do not stop I really hate y ’ all . I will shoot my shot for a good BOGO sale ! 🤞 You are sick gon get that money ‼️ 🤣 The motivation of Shutdown is : it ' s time to relax on  Damn y ’ all do not miss huh is quick with it I am still here . win . If I win …. post all my . I will be a brand ambassador for free …. stop being a simp for … … I am still here ❤️❤️❤️❤️ is ruthless never miss i got this too ... they r so sick !!! I can ' t I am here … in these win this giveaway me please I ' t got no money for their ass neither dont miss a chance huh ? funny 🤣🤣🤣 may be down , but works overtime petty always ready They ! The devil work hard but works harder . marketing >>> can i win for my birthday 🥺 i want some birthday 🤞🥺❤️❤️❤️❤️❤️ Not sending a text saying down but they are site not and to go shop These do not miss !! marketing team needs a raise 🤣🤣🤣🤣 be on it ✅ If it is one thing do is a at any given opportunity If it is one thing maximize every opportunity marketing A1 . ! Never miss a beat ME be ON IT y ’ all petty 🤣🤣🤣 y ’ all ai not 🤣 I am go order my costume ‼️ Even got Fashion Nova lose all 28 of my … but if I win , it will be so worth it is seriously all about the bag 🤣🤣 NOT RIGHT NOW is wrong with Who is behind the marketing team ?! Not me up with the “ down , only thing working is our ” text The team no time . A sale and a diss do not give a DAMN I did that at first but somehow my bank and got it reversed . Even though they to contact me at the time . But I my 6 of evidence and a complaint with the . Then all of a sudden I got a message saying sorry and a refund . 🤷‍♀️ on it petty !! 🤣🤣 really sick of these folk man … how i get on their list in the first place ? always line 🥴 there is a sale for everything I need those good ass clothes for my birthday ONE THING ABOUT THEY ’ RE CAPITALIZE ON EVERYTHING I am still here … y ’ all might as well mute me for the next hour or two think they will not capitalize on something be One thing going to do is capitalize . 🤣🤣🤣 I can not with this . is down wilding My are getting numb … but I will not quit . Hey … at this point I am determined .   Whoever out text need a raise because that was a good one So just picked someone else and it was not me so now there is only 3 more … I am not a quitter …. I am in this for the long haul I know you see me working hard over here . 🤑🤑🤑🤑🤑🤑🤑🤑 I mean can I get in one of the ? I am ready to be a winner 🤑🤑 I am about to start posting interesting because I just do not know how I did not get picked yet The devil works hard … but marketing team works harder I got give it to for their marketing …” is down so spend your money on our ” 🤞✨ It is A & Sale Already For Me , are It ' s this message from for me 🤣🤣 I will be sure to take y ' all when I wear my I am willing to work overtime . I just win 🤑🤑🤑 Interesting fact 1 : More human are being born now than ever before . Fashion Nova never I feel the same my 2 Interesting fact 2 : The word with the most is \" set .\" It can go from to mathematics to proper 🤑 Set can mean a lot … just over here passing knowledge & win with ai not got no chill Hell . Hell is hot . I have some in my cart 🤞 here I am !!! Back again with Fact 3 : The wedding veil was the same length as 63 . 5 football . Maria …. I have so many … who was holding it ? How long did it take her to walk down the aisle ? Who made this ? …. ! “ fan girl scream ” I LOVE YOU FASHION NOVA Fact 4 ?: The unicorn is the national animal of . … I did not even know they were real but can I get a slot ??? who is running this T - mobile and a few did similar . They on it . If do not do nothing else , they gon you when some going on in the world ' t make a 50 % off code for .... patiently waiting the devil works hard but works harder do not miss opportunity with the text 🤣🤣 Girl I get more from them I swear and today been especially bad I am still here in these trying to fit in one of the 3 … help me show people hard work off FACT 6 : ' t actually potato chips . Apparently it is not on the . MIND BLOWN 🤯 🤯🤯🤯🤯🤯🤯 not talking bout down only thing working is our boy y ’ all gone promote and sale huh either way Girl never 🤣 Fashion Nova got the nerve to text \" down only thing working is our \" go to hell 🤣🤣🤣🤣 * as i place my order * 🤦‍♀️🤣 I am text stop if they do not stop me y ’ all be in it Whom ever for needs a every month ! They never miss 🤣 Look , I found this amazing shirt Store link : Fact 8 : Nutmeg can be fatally poisonous . Proof too much of anything can kill you ….. but like ….. I mean …. I thought we were Not on and Nobody : who do not miss a beat : who do ya marketing because they are HILARIOUS Still at it …. Still win … Fact 10 : \" New car smell \" is the scent of of . One of my favorite … got my car at 25 mi and sitting in it never I love a good business strategy . y ’ all advertising department is top tier I mean it from the bottom of my heart … I hate these Hell ! They was on it 🤣 always be quick with it Aint never Clout Too 🤣🤣🤣🤣🤣🤣 Bout “ Cant Relate “ 🤣🤣🤣🤣🤣 Everyone : Why y ' all being weird ? : Why y ' all being weird to me ? 2 left ! well on to Fact 13 : A shrimp is heart is in its head . … I think ours is secretly in our too …. But ?? it is literally not the time 🤣 It was a literal matter of time I want to get a better marketing team . . Ai not nobody working harder than . ! Just over here get to notice me … but fact 16 : In 2016 , sold more than . 🤯🤯🤯🤯🤯 Not me still refreshing my .. I be w whoever these Not a down sale 🤣🤣 they be stopped Fact 18 : ( I am fun at this point ): The are the only team to neither play in or host a Super Bowl . if you are a fan , you are doing it for the fun of it …. Just like me and this giveaway They just really think you should know about their 30 - 70 % off sale . No code . praying i get chosen to win !! 🥺🤞🤞🤞 Been following ... LOVE Who ' t ? 🤷‍♂️ we hit fact 20 : are NOT , but actually are ! 🤯🤯🤯 This is blowing my mind . Like how . Just like it is blowing my mind that I have not gotten a mention from Me next Let is count your days !!!!!! Fact 21 : have 12 , count ‘ em , 12 ! na … I am away from them . But I am not away from They will do this but will not find a legitimate shipping company who does not steal ….. I see you Do you see me 🥺 this will be me with that gift card Pick me !!! They are super annoying Fact 22 : and I lost count on what number tweet this is In , you can not feed garbage to without getting a permit . I just know who is taking the time to go and get to feed . I am still here . win . did you enter this one ? Nope , they were not ! Fact 23 ?: A camel can drink up to 40 of water in one go . That is seriously impressive ! & here I am struggling to drink a bottle of water at one time … hey I am here . Still in work So because went down , to fling me 30 % sale . I swear they the LOVE ❤️❤️❤️❤️❤️ The devil works hard . But , marketing during chaos works harder all I am say is that I am a new job and it would be nice to have cute to get myself a sugar daddy at work to get spoiled Nope ...❤️ I am now though ! My sunshine always looking out for me . ❤️ stop and multiple times . I saw the first message and did not spend Fact 24 : & the 1000th time I tried to get to notice me Vending kill 4 times as many people as per year . this would be an awesome gift But did y ’ all get the text 🤣🤣🤣 they said their still working 🥴 Fact 25 : in a 2008 survey , 58 % of thought Sherlock was a real guy , while 20 % thought was not . … I thought they were both real too 🤷‍♀️🤷‍♀️ you know what is real ? My love for my brother just got a job with you . Guess I ' start your men ' s wear . Do you ship to the East Coast ? I can always count on and even during a social media shutdown 🤣🤣🤣🤣 they are the real !!! This would be amazing ! I would give this to my boss who !!! Fact 26 : I am over here working overtime The symbol is technically an . Did anyone else know that ? Not me . Know what I do know ? My hurt . But giving up .\n"
     ]
    }
   ],
   "source": [
    "text = oct4_df_pos['tweet_clean'].str.cat(sep=' ')\n",
    "print(text)"
   ]
  },
  {
   "cell_type": "code",
   "execution_count": 91,
   "id": "1a7b8a57",
   "metadata": {},
   "outputs": [
    {
     "data": {
      "image/png": "[encoded data removed]",
      "text/plain": [
       "<Figure size 432x288 with 1 Axes>"
      ]
     },
     "metadata": {
      "needs_background": "light"
     },
     "output_type": "display_data"
    }
   ],
   "source": [
    "wordcloud = WordCloud(max_font_size=50, max_words=50, background_color=\"white\", stopwords=stopwords).generate(str(text))\n",
    "plt.figure()\n",
    "plt.imshow(wordcloud, interpolation=\"bilinear\")\n",
    "plt.axis(\"off\")\n",
    "plt.show()"
   ]
  },
  {
   "cell_type": "markdown",
   "id": "e91da934",
   "metadata": {},
   "source": [
    "#### Negative"
   ]
  },
  {
   "cell_type": "code",
   "execution_count": 92,
   "id": "e11d313b",
   "metadata": {},
   "outputs": [
    {
     "data": {
      "text/plain": [
       "\"answer my ! I y ’ all so many times . I need to change the date of my shipping or just cancel my order . Y ’ all pocket not only is my delivery late . You sent me some else order . the worse customer service process in the world how could somebody that people to promote them not have a department for it is ridiculous . Now I understand why getting more business find you on the preorder list plus size Rate my scandalous | Fashion nova haul 2021 | life of h | When is ur baby shower ? where is my baby ? this NOT like Nice needs to run a sale for being down are final sale though so I am going to message them Please keep that like 20 % off . We got bigger you have 24hrs to respond 🤣 When your to be cute and buy you a cute dress from and they will not even answer their support . Not being shady today “ down only thing working is their ” If does nothing else , they will find a reason to promote 🤣 Honestly , is the holy grail of marketing . I see y ’ all 🤣🤣. with the clutch message 🤣🤣 Meanwhile 🤣🤣🤣🤣🤣 for the with the text caption From : Fashion Nova : ⚠️ Down !!! Only Thing Working Right Now Is Our ... GO GO GO ‼️ 30 - 70 % OFF Code ! → 🤣🤣🤣 girl all the been doing it ! Now fast with the go shop message waisted no time to their marketing department for their is down only thing working now is our They are so QUICK Ion think anyone works than them at 🤣🤣 do not even start that me ! I am get my to work marketing team >>>> somebody me they like they send . They do not care if the world ending , have a outfit to go with it It is me about is down & the only thing working is their 🤣🤣🤣🤣 not today girl y ’ all are funny for this hell but see what y ' all got going on be quick i know got a sale but damn got us hurting . is super quick with it do not miss a beat always gone step 🤣🤣🤣 My cart is beautiful 🥰 do not play …  you are a MENACE !! Damn on this quick as hell Loving this would be grateful to get some cute clothes from 🤑 not with the “ down , the only thing working is our ” text Did just really text me talking about the only working is fashion nova Now y ’ all be too quick with it ! And here comes right on cue The bag for no one ! y ’ all do not quit huh going on in the world !! They sending out that text to shop Whoever behind text they do not miss a beat they do annoying Girl yes .. 🤣🤦\\u200d♀️ They are so quick always advantage of a sake promotion opportunity y ’ all wilding  some clever with the text Enough is enough Give media rep a raise Here go in the text line really be on it ! y ’ all are so disrespectful They do not miss a beat Here I am 🤞 Not sending out a text saying that down but there is not who is behind the marketing . The devil works hard but Fashion Nova works a harder I need a team like because they be on it . Hey confirmed that they this outage . does not miss a beat They funny The devil works hard but works harder !!!! I can not with you should see my cart 🥺 Here go ass with the y ’ all marketing team do not off just do not miss a beat 🤣 text me more than my own Me get out my face be on it how to capitalize and market off of every opportunity Why funny got me up ! 🤣 get your together ! got make some no matter what If , do not nothing else they going to capitalize on the time . This is next level marketing this is not the time is still up ! the New and . will do and say anything to get ya money not taking advantage of and being down too Cause girl they be so quick with it The devil works hard but works harder I swear But since on , I am thinking I may do a mask with a cute shirt & a bloody knife on whichever day I do not wear the costume … whoever is in your marketing department … KEEP THEM they never miss !  Why at 🤣🤣 down and \\U0001f972 I am oh it is coming ! They already did y ’ all are hilarious Somebody come get I ' m screaming Whoever run Marketing the Highest pay rate said down come spend money with them 🤣🤣 I need to like them !! is Savage . . really 🥴 well I might as well shop 🤣 ghetto really on my nerve ! Now why would y ’ all ? Thanks for the giveaway ! I can not with y ’ all out here being petty ! there is working I ai not got time to play with y ’ all right na gone on na Fashion Nova is .. like who is behind it ? I am screaming y ’ all so ghetto for this by any necessary bitch i got the same text i was like they cant b serious NOW KNOW BETTER 🤣 who is responsible ?? are y ’ all alright ? marketing team do not miss they quick with it baby ! Pick me !!!!! YOU KNOW WHAT SICK OF always working 🤣🤣 I need a 2nd job They said the devil works hard but works harder I was just bout to look for your They trying to get they coin ! they for real It is sending out is down but our is not why are y ’ all like this 🤣 said what they said !! Exactly !!🤣🤣 Definitely do cause they sure text would me Go to hell Leave it up to to have a sale is down girl bye IS ALWAYS READY   Chile and here come with the sale 🤦\\u200d♀️ love it please stop me 🤣🤣🤣🤣 If there is one thing gone do is have a reason to have a sale who is in charge of marketing ? Cause this make no sense Dang is quick with it Like damn Over here my cart just in case I win the giveaway 🤷\\u200d♀️ 🤍🤍🤑🤑🤑🤑🤷\\u200d♀️ My are the for not leaving me in my time of annoyance … I just need to see how much I love them too . They capitalize every situation One thing about they gone have a sale for any and everything Hustle is unmatched Well done ☺️☺️ y ’ all play to much Live action GIF of me refreshing my … looking for … just need to be tanner .. with and longer hair and instead of Carl marketing is untouchable ! to be stopped ☠️ Whoever on they marketing team funny g ☠️☠️ Not taking advantage of being down by their 🤣 Get To The Business need to chill w / the text 🤣🤣 said run it up They be on timing they gon find a way to promote no matter what just text me and said down but their not & made sure their not down If it is one thing that is going to happen for sure . always find a way to turn anything into marketing The shade is real . and are just throwing mad shade . Out of 44 quote … 26 are mine .. I know you see this work I am in but let is move on to Fact 9 : in 1896 , The first person of speeding was going eight . like what ??? How ?? What the heck was the speed limit 🤣🤣🤣 never by any necessary Please check I been waiting on my package for over two week one thing about they gon send a ghetto ass text know they don ' t be missing a opportunity for their .... Fact 15 : Most department tend to play music , in order to slow down and keep them shopping longer . The opposite is true for . I have honestly never this but I am definitely check it out 🧐 … I am here . I am still here . well it is fact 19 ?: you are helping spread knowledge : Stomach acid is strong enough to dissolve metal .\""
      ]
     },
     "execution_count": 92,
     "metadata": {},
     "output_type": "execute_result"
    }
   ],
   "source": [
    "text = oct4_df_neg['tweet_clean'].str.cat(sep=' ')\n",
    "text"
   ]
  },
  {
   "cell_type": "code",
   "execution_count": 93,
   "id": "eb6d5605",
   "metadata": {},
   "outputs": [
    {
     "data": {
      "image/png": "[encoded data removed]",
      "text/plain": [
       "<Figure size 432x288 with 1 Axes>"
      ]
     },
     "metadata": {
      "needs_background": "light"
     },
     "output_type": "display_data"
    }
   ],
   "source": [
    "wordcloud = WordCloud(max_font_size=50, max_words=50, background_color=\"white\", stopwords=stopwords).generate(str(text))\n",
    "plt.figure()\n",
    "plt.imshow(wordcloud, interpolation=\"bilinear\")\n",
    "plt.axis(\"off\")\n",
    "plt.show()"
   ]
  },
  {
   "cell_type": "markdown",
   "id": "dab3b100",
   "metadata": {},
   "source": [
    "### Explore March 28, 2022 peak"
   ]
  },
  {
   "cell_type": "markdown",
   "id": "f03c1d17",
   "metadata": {},
   "source": [
    "#### Positive"
   ]
  },
  {
   "cell_type": "code",
   "execution_count": 94,
   "id": "c66cbd0e",
   "metadata": {},
   "outputs": [
    {
     "data": {
      "text/plain": [
       "'I do not have to cut because my fit do it for me Search : “ Cutting Legging Set ” ad ✨ and it \\' t help that won \\' t even refund me they keep sending me a gift card so this stupid process can keep itself ! Express shipping do not mean to them Thank you Bill !! It \\' s not far you beautiful ladies and yet so far away for all \\u200d Next day shipping from is a joke . It is been two days and still have not received anything . Ready again for a white night … ❤️ wearing for tonight emerald “ Ready for a Party Rhinestone Dress Set ” by with green satin / iridium rhinestone “ - 06R ” Bordello by stillsexyat45 ❤️ Yes an agent out and said give them 24 to 48 , to research . It 48 and I do not have any . needs to cancel , they will cause you to lose great . are you be this soon ? i wear it to an event next month Have my 🤤 incredibly gorgeous do you offer pickup Can pick from you ? And local thrift Hi how long does it take for to deliver to . In of days and . Thanks those pants ! !!! And the material of the show like swimsuit and comfy to walk in love a good review and a who ai not stingy ☺️🤍 Never judge a book by its cover I need to sponsor or donate to this 🤞 I love it !! ❤️ Chain * I assume . Thanks . We at Tu Tu Tango . Where you at ? Looking sexy where the hell is my package ? That brunch outfit gat you like dessert I can only wear jeans i spent almost 500 $ on march 12th & i still have not received my order or i do not have any to where my order is . this is ridiculous . i have always gotten my within a week but now it is like my package fell off the face of the earth . where my at ? Dirty mirror , Clean fit . : . Jacket : ( I think ) . : b23 beauty Brunch day look Stunning lady ! Shining ! Enjoy ur day . Thanks for blessing us Shaken , not by in and My style style Very flattering and amazing on you ! It also super comfortable . be like Keep our name out yo Fu *** n mouth ! 50 % OFF ALL AND CODE : FREE SHIPPING ON ALL $ 50 OR MORE I hate return policy like why do I have to pay to send this back My : Order 30754959 • $ 77 . 36 • ( Mar 27 / 2019 ) and Order 30755064 • $ 69 . 98 • ( Mar 27 / 2019 ) have not me . I want my money back . After 3 you still haven \\' t returned it , I don \\' t even have my credit card . I need my money . No , she turned me down . Are you lonely in this quarantine ? I am trying to use my gift card from my return and my code is not working I meant to leave a comment when I first saw the picture ! This color and the fit is ! I love it ! Please ANSWER my is . I am STILL waiting on a response !! get my guy a opportunity to earn a sponsorship there a reason I had to wait 25 days for my order ? Be the last 500 you get out of me This is probably my last time from ! The live chat service is an inconvenience especially when nobody . Ready when you are 🤎 I ordered from almost a month ago and still have not received my package You as well . I bought jeans anyways do not fail me sis . I am really sitting here thinking ….. almost ruined ANOTHER trip . I said it before , but I mean it this time . They will not get another penny out of me . please explain to me why y ’ all do not have a customer service line where people can actually TALK with someone ? y ’ all got people money on the line to not even have an actual phone line Ca not wait to see what about Will Smith in those promotional text I am still waiting for to drop that text like WILL you ROCK this bikini this summer ? Text ‘ SLAP ’ for 40 % off ! SHOP NOW ! Seriously . now I am out $ 100 for a dress I no longer need and have not yet received and they only do store credit !! Ugh . My . 🥰 Oh , . Well , I can \\' t wait to see tha 1st 1 ( even tho I can \\' t see tha I don \\' t do OF honestly ). I ordered some frim your site about a month ago and still haven \\' t received my .... is going on wear something from but I am an and from a small town . i really hope my package comes to me Happy beautiful 🤩❤️ I for extra for faster shipping , my order better get here before 🤣 Deep in thought Photographer . boudoir Lingerie I the today ; it is time to get rid of that toxic relationship 🥴 toxicity about to be like … Slap 30 % off your order with code “ Will ” SOMEONE COME GET THIS IS WILD Why does play so damn much ? This is comical y ’ all think everything is funny do not you Now know they did not have to be this problematic ! No I did not just get this text from … swear I hate the way the world works now petty for this !!! Oscars2022 petty we are sick of your Now why y \\' all do this ??! GO . TO . HELL . IN . A . . AND . said they 40 % off the entire site just messy They are so quick with it too I am crying y ’ all stop ! 🤣🤣🤣 got I might have to check this sale out just cause I appreciate the effort . Fashion Nova : We 40 % Off the ENTIRE Site ! It \\' s Time To ROCK New Spring Only → y ’ all just do not quit huh y ’ all wild so damn petty you doing too much Count y ’ all days y ’ all going to H3LL ! GO TO Damn slipping where the slap text message Powerful Nobody : : We 40 % of the entire site . Enough is e - damn - ! Just plain tacky the assignment 🤣🤣 y ’ all always be cracking every time something goes on in the world 🤣 who is behind it all ?? No one works harder than the creative marketing team 🥴 I really was done with this subject matter … and then … y ’ all pocket Fashion Nova will never miss do you hear me slap where my package at fool .. been 3 And I know better get off my phone with me ! One thing about they gone market off anything “ We ” y \\' all got Now You Just Wait One Got Damn min Now know messy for that one ! Oscars2022 The devil works hard but works harder , have some decorum . PLEASE 🤚 even in on the will and marketing team no . Really ai not !!!🤣🤣🤣🤣🤣 I am crying ! 🤣🤣 really how to seal the deal with these 🤣 I am screaming who is responsible for this 🤣 so unprofessional WHY You can always count on to seize the opportunity 🤣 y ’ all do not miss a beat it is always chill 🤣 need to stop !! 🤣 They just sent this message There is a spot in hell for y ’ all childish for this … y ’ all literally woke up & chose violence always following It will always be marketing for me 🤭… I am weak !! really Not y ’ all too 🤦\\u200d♀️ Bare Wickedness Really ? must be stopped . ARE Now even is team is even milking the also moment for its 40 % off sale . ?!? If do not go to hell for this . messy ! 🤷\\u200d♀️ must be stopped they real messy When you trying to live right but then do this . 🤦\\u200d♀️🤦\\u200d♀️ 🤣 my order will he here or do not miss ! g I am sick of them y ’ all are chaotic Y ’ all was way too wild with the sale text Ion like right now IN How do I join marketing team ! I will be a great asset ! Really 🤣 I hate so bad is Petty 🤣🤣🤣 SAVAGE know they dead wrong for that text “ We 40 % off the entire site “ like what Can u stop for just 1 day , i just need a break from meeting me at ya door with 1 lash on and crooked for this fly ass dress bout to Deliver to ya I am really this why I do not shop w / y ’ all because every time I do I have a problem or delay or some w / my order . I bet y ’ all ship them on time . y ’ all do not miss hunh ?! 🤦\\u200d♀️ y ’ all petty ! @ is hilarious they got a whole sale going on talking about we 40 % off 🥴🤦\\u200d♀️. always up to date bitch y ’ all GOT IT Aye . Y ’ all really need to be stopped One thing about is marketing team , they are not going to miss an opportunity to sell those clothes fashion nova undefeated I just sent this to Coco and them they are annoying ALWAYS With The Talking About “ 40 % Off The Entire Site ” please stop 🤦\\u200d♀️ y ’ all relax Nobody “ we 40 % OFF .” so ghetto wee 🤣🥴 I knew was ’ with the text 🤣 They do unnecessary Literally took my idea ! My damn did not go out yet and I am ! 🤨 do not MISS !! Oscars2022 , you are wild for this slap  why would y \\' all say \" \" the 40 % off the entire site !!! Y \\' all so petty so petty & I love it 🤣🤣 I am definitely digging whoever they have put over marketing , they just us to “ get our ass up & shop ” a couple ago petty LOOK AT FASHION NOVA Y ’ ALL Raise your hand if you just got this text ? Those two be cute but I am tired . 🤣🤣🤣 wasted time Come the on Seriously ???? y ’ all ai not Damn that is in really poor taste Y ’ all are sick . \\' t $! T For This Slap who is behind these .. ! i am begging I THEIR pocket 🤣🤣 put ur phone on my dresser . They did not waste y ’ all could not wait hug ? Count your days y ’ all messy too Please tell me y ’ all got that text pocket ‼️ who in the board room this message 🤣🤣 will make a sale over anything !!!!! slap back so we can get 40 % off tomorrow too !!! childish slap That is it … I am fed up with just messy 🤣🤣🤣 y ’ all know y ’ all wrong for this sale \\' from in 3 .... 2 ... do not give y ’ all , please it is WAY too soon ! y ’ all can not wait to send out them 🤣🤣🤣 ur foul These hell They do not miss an opportunity get on my ! got Oscars2022 slap Who black ass responsible for this ? I want to be on marketing team so bad . “ we 40 % off ” do y ’ all not have any shame the way people predict y ’ all ? got no chill messy too ! I ordered something an hour ago and I forgot to put my unit number on the delivery address help News : is marketing Nobody : : We 40 % off the entire site .. who does their marketing cause they be on ’ n Thanks to we got a sale today !!! got 🤣 at this point , I do not even order anything from y ’ all , cause how y ’ all do not got no number to contact y ’ all . I am done Wow what an ass I was laughing with you before I even saw it , , they do NOT care and I love it 🤣 they waste no time for being out of context , need to share the critical message everyone should be aware of before it \\' s too late ! Share with family & . 65 year man on a 30 , 000 ride to Save Soil ! Your beauty got me feeling like this ❤️ Let me go see what slapping 40 % off of ! for being out of context , need to share the critical message everyone should be aware of before it \\' s too late ! Share with family & . 65 year man on a 30 , 000 ride to Save Soil ! Whoever is on is marketing team better get employee of the year cause is NOT funny . Just to STOP to text !! I hate man I knew it was just a matter of time Not slapping 40 % off the entire site . 🤣 y ’ all wasted no time oscars2022 not sending an “ 40 % Off The Entire Site ” 🥴 is Curly temple ❤❤ line can you please help me with my order . It is been lost for over 2 now and I can not get a hold of anyone Now Nova aint text me this Marketing team is quick Oscars2022 same 🤣🤣 March 14 WHERE IS MY PACKAGE ?! Fall out still coming . Let it go , frozen ❤ if it \\' s petty or what but and play all day with these shipping . Find a new carrier and reimburse your for lost / missing . A one time courtesy replacement is not enough if the non delivery is due to the carrier . File a claim with your carrier and replace / refund $$$ to your . Now enough is enough it not even been 24 All does is make a mockery out of black culture and the be eating them up ! They need to be after the text they sent out today . WHERE ARE MY CLOTHES THAT I ORDERED AT THE BEGINNING OF THE MONTH ?! - y ’ all a mess . Fashion Nova : We 40 % Off the ENTIRE Site ! It \\' s Time To ROCK New Spring Only → How do you talk to a live person from Living the last of my 20s up ✨ are Really ?? Really ? Hello , ? Awesome ... Hey baby it \\' s your taurean white I love your twitter you are very beautiful and sexy in them jeans I ordered a package in it is the end of march where my at ?? Shout out to all involved in making this happen !!!!! Goodness ! - we have to give recognition where it is due . y ’ all marketing team is unmatched ! the WORST customer service . You got rid of support and it is 100 times WORSE !! All now I can not get any support as to where my package is ?!! Damn this tweet . Rock solid Will you ever make a men is line tho 🧐 You \\' re not funny that text ( swipe 1 - 3 ) * Come on Summer !! I can not wait to wear these colorful , stylish ! The are sturdy and therefore wearing easily ! ad @ 9 Received this text from yesterday . Maybe a good way to stay relevant , but I do not prefer to joke about violence . ( Especially when speaking for a brand ) , Do you think this is appropriate for a company ? marketing Advertising y ’ all was wild for this Where is my package && Where is my check ?! we gone try this again I got my used them and for EXPRESS SHIPPING !! It is saying so we will see !! Good Luck What is customer service number Just Enjoying Life As It Goes Dress : model photography beauty ordered an item still not shipped . Please cancel order . this dress was everything on my birthday weekend ! ❤️❤️❤️ I it ! I am over it for you . Is there a support group to join or something cause mine was at some random address with a picture of someone else is door and they straight up told me it is out of their and it is nothing they can do about it like …. T shirt I want a refund for my other order It was by 2 and I did not even wear the because my package did not come in time , I am over it . I will be y ’ all the the ! Second package to have this happen to me ! It is stressful !! Totally forgot to post this the other day Purple is a fashion fashion Decentralization beauty I need to hear from you . I can not believe that you don \\' t have a working customer service number that can be to resolve immediately . You took my $$ immediately w / o sending me an order confirmation ! Is this a scam ?? really Someone explain why we are not talking about and their with these ? piss me off . I want to like y ’ all , i really do … but i my order on march 10th , it is the 29th & there is still yet no ! So yea I am trust because when i reach out i get a generalized response days later . That is unacceptable !'"
      ]
     },
     "execution_count": 94,
     "metadata": {},
     "output_type": "execute_result"
    }
   ],
   "source": [
    "text = mar28_df_pos['tweet_clean'].str.cat(sep=' ')\n",
    "text"
   ]
  },
  {
   "cell_type": "code",
   "execution_count": 95,
   "id": "d84a4a97",
   "metadata": {},
   "outputs": [
    {
     "data": {
      "image/png": "[encoded data removed]",
      "text/plain": [
       "<Figure size 432x288 with 1 Axes>"
      ]
     },
     "metadata": {
      "needs_background": "light"
     },
     "output_type": "display_data"
    }
   ],
   "source": [
    "wordcloud = WordCloud(max_font_size=50, max_words=50, background_color=\"white\", stopwords=stopwords).generate(str(text))\n",
    "plt.figure()\n",
    "plt.imshow(wordcloud, interpolation=\"bilinear\")\n",
    "plt.axis(\"off\")\n",
    "plt.show()"
   ]
  },
  {
   "cell_type": "markdown",
   "id": "15f4869a",
   "metadata": {},
   "source": [
    "#### Negative"
   ]
  },
  {
   "cell_type": "code",
   "execution_count": 96,
   "id": "e6cb08bf",
   "metadata": {},
   "outputs": [
    {
     "data": {
      "text/plain": [
       "'so are you Gorgeous ❤️❤️❤️❤️❤️ from What we doing this ? ☺️ FOLLOW Looking mighty sexy my queen 🥰🥰🥰🥰 coming soon : Twas real fun animating the Butterfly 🦋, took long I love it Muse : ( I hope you love it ) Music : by Still the \" Island Days 3 Piece bikini set \" of by AJ2DWRLD Fireboy Thanks so much babe 🤎✨ Love it Cute Sis . How bout my Brunch Fit ? Ignore my hair , I tried my best with what I can do with it where is my clothes ?!??? Um add a chin to go with it Good girl if y ’ all push my order back one more damn time !!!! It is not no damn holiday . sponsor me 🥰 Beautiful bout to hit us with a “ we WILL SLAP the sale on our entire spring collection !” 🤣 Easy Breezy about to come through with a coupon code like “ Smack ”🤣🤣🤣 Humor Cool looking dress ❤️ Wonder what code or gone use about this slap I an order with last and they saying it \\' s not going to be til the 31st . It \\' s never taken this long to get an order from them . One gorgeous sexy looking hourglass right there ⏳ still waiting for a response from my and tweet regarding a missing item from my package You are exquisite , . Can \\' t wait to see wha \\' cha outfit like my . 🤞🤞🥂 Waiting on to slap a 50 % - 70 % off sale in our face I love they li after something go viral Went with brown / today warm ☺( and jeans are from and boots are from ) please not right now o y ’ all are going to Hell 🤣🤣🤣🤣 ….. ENOUGH y ’ all to hell is childish as “ we 40 % off ” 🤣 y ’ all kill with 🤣🤣🤣🤣🤣🤣🤣🤣🤣🤣🤣🤣🤣🤣🤣🤣🤣🤣🤣🤣🤣🤣🤣🤣🤣🤣 Just in from : Fashion Nova : We 40 % Off the ENTIRE Site ! It \\' s Time To ROCK New Spring wild for this one 🤣 y ’ all ‼️ we love it waste no time If it is one thing is going to do is try to make a profit honey !! I need my 10 % 🤣 I am fed up Not being petty with the situation too 🤣🤣🤣🤣 I just my phone cause I am so DONE Look at y ’ all no time so damn messy I love their marketing team ! Y ’ all petty for this is funny as Give it to to jump on a wave to sell their merch petty talking about “ We 40 % off the entire site ”🤣🤣 So got . is petty Oscars2022 No did not 🤣🤦\\u200d♀️ must be stopped @ this point i think y ’ all being petty talking bout y ’ all 40 % off the entire site 🤔🤦\\u200d♀️🤣 who did this ? 🤣🤣🤣🤣🤣🤣🤣🤣🤣🤣🤣 Rock better sue y ’ all petty as hell ! I guess everybody is take advantage of this situation very trashy !!!! Oscars2022 y ’ all do not miss a beat Even is going in on the joke is childish why so soon funny y ’ all look at they text today childish for this I an order on March 10th . It is now March 28th and I still have not received my . At this point , I do not even want the clothes . Just give me a refund i \\' m so tired did y ’ all get the text ? I \\' m unsubscribing for this .. ARE TO BE ASHAMED who this y ’ all funny 🤣 this is not the time 🤦\\u200d♀️ who is running the text message marketing for this store ?! Fashion Nova y ’ all be “ Fashion Nova : We 40 % Off the ENTIRE Site ” Now is this ?? The only clothing brand that I know that being messy whoa chile and had the audacity to bold cap . COUNT YOUR DAYS 🤣🤣🤣🤣🤣🤣🤣 wasted no time … Mane when I say EVERYBODY even so wrong for this … I \\' m going to need you all to do better . . y ’ all are wild for me a coupon that “ we 40 % off the entire site ” the are messy know y ’ all know y ’ all wrong . just could not help it . Not and rock both They be on it Childish i just said this 🤣🤣🤣🤣 🤦\\u200d♀️ in my text message I can not with y ’ all At least 70 to 80 % off y ’ all 🤣🤣🤣 TODAY y ’ all need to stop ! Y ’ all taking it too far Here go ass 🤧 Here come with these corny ass text to promote a sale let me go from this I am tired of them Not y ’ all is be on it every time huh 🤔 go to hell ! So being petty today I see yo stop my phone ! it is going on a month now and I STILL do not have my even on the slap round the world My exactly y ’ all low down 🤣🤣 need y ’ all to go STRAIGHT to hell ! But give the responsible for this a raise \\U0001fae0🥴 no chill they must be stopped 🤣🤣🤣 ASS ON Here go they never miss . Who let them send this ??? no chill whatsoever pocket Here come fashion nova on that what is wrong with y ’ all  don \\' t skip a beat text marketing be on point !!🤣 They trend with everything Taking Am I the only one who caught humor why are y ’ all like this ? petty I see what you did here !!!’ I hate these It is every damn day . y ’ all petty too 🤣🤣🤣🤣 chill out works faster than the devil ever could one thing about , they will always follow a trend Why so petty Y ’ all do something with 🤣🤦\\u200d♀️ now Nova .. Fashion Nova hilarious y ’ all ai not for this Oscars2022 funny This is so messy , tasteless , & unprofessional Ya Chill With Them sent this to the group chat y ’ all funny on it per usual . Who run their marketing ??? They need to host a creative workshop Girl they kill me I see what y ’ all did there why is like this Damn they move quickly ! Just got my text and they 40 % off so we can ROCK new 🤦\\u200d♀️ I am not even on this whole debacle , but needs to be stopped . Quick Mane after an event me dying 🤣🤣🤣 they slapping 40 % off so you can Rock new spring clothes Dear you have No Couth went crazy with this Now we love you for this One thing is going to do is use an opportunity for a sale 🤣🤣 Pay Him do not miss a BEAT do they ??? If \\' t pay this man , he needs to get his lawyer involved This is intellectual property theft by Fashion Nova fashion nova be funny with these .. BITCH WHERE IS MY I ORDERED ?! ai not !!!!  S / o to ! Whoever in marketing probably doing current in school . \" We 40 % off the entire site \" And they do not miss nothing play too much Talking about slap Will smith and rock night will be legendary ! I must say marketing is brilliant ! Whoever coming up with & sending out these discount text need a raise \\' t got no act right !!! !! Will slap y \\' all too 🤣 about my package where is it is EXTRA petty for this 40 % off promotional text . 🥊🤣 They stay on trash over And the Petty award goes to ... * We do not condone violence * The devil works fast but works faster funny for this Shut up Really ?? Oscars2022 Should have known was coming with the punch line . Let me see what got since they 40 % off of today . Why is like this Go straight to hell is the G . O . A . T . 🤣 Oscars2022 🤣 cut this man his check ‼️ EVER !! !!!! Why you so cozy and warm !!!🥰 and ! Fashion Nova !!!! 🤣 pay my y ’ all PETTY for this I can hear tomorrow ‘ OUCH that really hurt so we extended the punch , offer at MIDNIGHT !!! Why reach out to me as if they were trying to help …. Sent me 1 message . I and then nothing after that … you are getting ridiculously worse with customer service .. I guess with all the money coming in y ’ all for being out of context , need to share the critical message everyone should be aware of before it \\' s too late ! Share with family & . 65 year man on a 30 , 000 ride to Save Soil ! have no chill 🤣 did not pay me ( yet ) but got my back !! The best on the west coast ☀️ Y ’ all must be stopped !! When I get those add from I swear is like I am talking to a friend from . Their marketing is undefeated !!! They hit every time about to be like “ Slap 30 % off your next order with code “ WILL 🤦\\u200d♂️ Nobody : : wild for this one ! I got this text and was like Boy they quick is constantly my 10day on my LITERALLY MY BIRTHDAY NEVER SHOPPING WITH THEM AGAIN the customer service is TRASH for being out of context , need to share the critical message everyone should be aware of before it \\' s too late ! Share with family & . 65 year man on a 30 , 000 ride to Save Soil ! for being out of context , need to share the critical message everyone should be aware of before it \\' s too late ! Share with family & . 65 year man on a 30 , 000 ride to Save Soil ! for being out of context , need to share the critical message everyone should be aware of before it \\' s too late ! Share with family & . 65 year man on a 30 , 000 ride to Save Soil ! about to be like “ Slap 30 % off your next order with code “ WILL ”🤣🤣🤣 why y ’ all still shopping at anyways . Everything on their site can be found on for half the price . y ’ all just like getting 🤣🤦\\u200d♀️ The only “ I miss you ” I get are from That ass tho NEED A !!!! the It is been almost a month since I my order I know you be seeing my but you just like to scam people will NEVER miss an opportunity \\U0001fae2\\U0001fae2 is the Devil run this man his check !!!! Man petty talking about they 40 % off site wide done 40 % Off the ENTIRE Site just so we can ROCK the New Spring they got to offer . I am by this . Its true what they say that if there is a WILL , there is a way . Aye why play all damn day I am screaming !!! no chill with the 🤣🤣🤣🤣🤣 Like why are they like this ?! For real y ’ all never miss a perfect time to advertise your site Wow very nice immediately no . violence as a \" cute \" code to drive ?? Disgusting . I \\' never buy anything from fashion nova in the future . If Do not Leave Me Alone 🤦\\u200d♂️ “ 40 % Off The Entire Site ✋ LAST CALL !” 🤣 Aye , be on it man . Report them to the . I work in advertising and some have this as illegal 15th but yeah man 🤦\\u200d♀️ ! Never had this happen they talking about ai not Yep ! Two days after purchase i got a carrier delay . Nothing since No since the 14th for my order on 3 / 10 / 22 and multiple , and for help through support . If y ’ all can not manage your current you need to stop people place more . & their discount be me dead 🥴 they are hilarious ! Look at being PETTY , they 🤚 40 % off 🤣🤣🤣 and wit the hand 🤦\\u200d♀️ a mess They need to give you some Shame on you just could not resist ai not waste no time Oscar2022 I am angry is complete trash and I will never order from them again . These done took away their phone customer service to be completely yet they still do not respond . It no sense ! Sexy you know what you did 🤣 this is cringe someone tell me how to find my number without a conformation . Because I do not have an and it definitely my card \\U0001f972 they are RUTHLESS . Sweet like fruit • slapped40 Count your days 🤣🤣 Your simply stunning need to slap my package here !! I for express shipping and I am still Not me about slapping a 40 % off the entire site I see what you did .. the worst customer service know the wrong for the slap 40 % off and ROCK new shout out from are you erased from your back Do not be Twitter like but ur \\u200d Those two are nice . Thought I found my new spot . I will not order else from Wait wait wait who is in charge of those “ We 40 percent off the Entire Site “ the have they cut you a check yet !?! run this man his money !! I need an update on my order that I 3 / 13 . No one is to my . How do I even get an update if the are off ? ???? Literally dealing with the same thing !! I ordered on March 11 and I have not even received a valid number ! I just want a refund . why is my package not moving and then I call the shipment carrier and they are saying there is no clothes just a bag at their station 🤦\\u200d♀️ I think I need a Brownie really hoe me … like how do none of your customer support not working ??!!! WHERE IS MY PACKAGE really hoe me !!! Like why do not any of your customer support work !!! RUN ME MY PACKAGE Starting to hate why are y ’ all !! Ai not no way I still do not have my package Love this not a customer service Line is pathetic . Not only myself , but are terrible shipping in totally different . So what do we do ? Just receive the package after the date ? sense . is the WORST COMPANY TO DEAL WITH ! Their first language is not . You can barely understand what they are saying . You can not speak to a supervisor just ridiculous and LOW BUDGET !! step your game up !’ get your shipping together before lose a customer now I wait til for my order that I ordered the beginning of March Something needs to be done about shipping company One Of My Days Dress From Both From about to be like “ Slap 30 % off your next order with code “ WILL ” I never get on here but I had no choice when they were not to the like they said . I had to end up getting for my whole order and now everything I had ordered is out of stock !! so y ’ all lost my order and just not going to respond to me at all ??? thank you SO MUCH for the gift card in love with these especially the second one Ai not a better feeling then your package yeah I do not shop with them as much because I do not like and wondering if it is look like the picture . stressful . ME BACK ABOUT MY REFUND . PLEASE . and I am still waiting on a E - Gift Card iconic Dear PLEASE stop shipping with . Who just tried to buy $ 25 worth of my ? 🤣. S / o to fraud department for being on point I them and for a refund they sent a message they can assure me it will be here yesterday . Guess what … i STILL do not have my package \\' s shipping is FAST , my are already in and where is my package ? Still no shipping ... Fashion Nova , you HAVE to do better . It \\' t take a month for me to receive a package to my location in . I tell you what though I will not be another order with you . As long as you continue to use you will not be getting my money . Confidence level ⤴️ Fit : fashion style viral I would just dispute that with my bank baby and tell them you did not get your . but it like there needs to be a support group made . used to be so good shipping on point and all what Beautiful Still the most beautiful woman You are beautiful , You enchant me 🥰 Seriously , ! This is in poor taste and y ’ all know it Not Funny my package been missing since march 12th . You all me to fill out a form to reship and I am now not getting any response . I spent a lot of money on that package . I want either my money or my package . I sent the form 4 times .'"
      ]
     },
     "execution_count": 96,
     "metadata": {},
     "output_type": "execute_result"
    }
   ],
   "source": [
    "text = mar28_df_neg['tweet_clean'].str.cat(sep=' ')\n",
    "text"
   ]
  },
  {
   "cell_type": "code",
   "execution_count": 97,
   "id": "a75b3f38",
   "metadata": {},
   "outputs": [
    {
     "data": {
      "image/png": "[encoded data removed]",
      "text/plain": [
       "<Figure size 432x288 with 1 Axes>"
      ]
     },
     "metadata": {
      "needs_background": "light"
     },
     "output_type": "display_data"
    }
   ],
   "source": [
    "wordcloud = WordCloud(max_font_size=50, max_words=50, background_color=\"white\", stopwords=stopwords).generate(str(text))\n",
    "plt.figure()\n",
    "plt.imshow(wordcloud, interpolation=\"bilinear\")\n",
    "plt.axis(\"off\")\n",
    "plt.show()"
   ]
  },
  {
   "cell_type": "markdown",
   "id": "e4d6162a",
   "metadata": {},
   "source": [
    "### Explore peaks using TF-IDF vectorizer"
   ]
  },
  {
   "cell_type": "code",
   "execution_count": null,
   "id": "e0e52b23",
   "metadata": {},
   "outputs": [],
   "source": [
    "from sklearn.feature_extraction.text import TfidfVectorizer"
   ]
  },
  {
   "cell_type": "code",
   "execution_count": 48,
   "id": "c23c6a2c",
   "metadata": {},
   "outputs": [],
   "source": [
    "vectorizer = TfidfVectorizer(stop_words='english', ngram_range = (1,1), max_df = .6, min_df = .01)"
   ]
  },
  {
   "cell_type": "code",
   "execution_count": null,
   "id": "abdf61ab",
   "metadata": {},
   "outputs": [],
   "source": []
  }
 ],
 "metadata": {
  "kernelspec": {
   "display_name": "Python 3",
   "language": "python",
   "name": "python3"
  },
  "language_info": {
   "codemirror_mode": {
    "name": "ipython",
    "version": 3
   },
   "file_extension": ".py",
   "mimetype": "text/x-python",
   "name": "python",
   "nbconvert_exporter": "python",
   "pygments_lexer": "ipython3",
   "version": "3.8.8"
  }
 },
 "nbformat": 4,
 "nbformat_minor": 5
}
